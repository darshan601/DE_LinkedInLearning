{
  "nbformat": 4,
  "nbformat_minor": 0,
  "metadata": {
    "colab": {
      "provenance": [],
      "authorship_tag": "ABX9TyNu3TQjp+73dC9GydurTVG2",
      "include_colab_link": true
    },
    "kernelspec": {
      "name": "python3",
      "display_name": "Python 3"
    },
    "language_info": {
      "name": "python"
    }
  },
  "cells": [
    {
      "cell_type": "markdown",
      "metadata": {
        "id": "view-in-github",
        "colab_type": "text"
      },
      "source": [
        "<a href=\"https://colab.research.google.com/github/darshan601/DE_LinkedInLearning/blob/main/pyspark.ipynb\" target=\"_parent\"><img src=\"https://colab.research.google.com/assets/colab-badge.svg\" alt=\"Open In Colab\"/></a>"
      ]
    },
    {
      "cell_type": "code",
      "execution_count": null,
      "metadata": {
        "colab": {
          "base_uri": "https://localhost:8080/"
        },
        "id": "QLoQwQeEbPcU",
        "outputId": "63ce0eaa-3e8b-492b-9b6f-d932f0735e02"
      },
      "outputs": [
        {
          "output_type": "stream",
          "name": "stdout",
          "text": [
            "Collecting pyspark\n",
            "  Downloading pyspark-3.5.0.tar.gz (316.9 MB)\n",
            "\u001b[2K     \u001b[90m━━━━━━━━━━━━━━━━━━━━━━━━━━━━━━━━━━━━━━━\u001b[0m \u001b[32m316.9/316.9 MB\u001b[0m \u001b[31m2.3 MB/s\u001b[0m eta \u001b[36m0:00:00\u001b[0m\n",
            "\u001b[?25h  Preparing metadata (setup.py) ... \u001b[?25l\u001b[?25hdone\n",
            "Requirement already satisfied: py4j==0.10.9.7 in /usr/local/lib/python3.10/dist-packages (from pyspark) (0.10.9.7)\n",
            "Building wheels for collected packages: pyspark\n",
            "  Building wheel for pyspark (setup.py) ... \u001b[?25l\u001b[?25hdone\n",
            "  Created wheel for pyspark: filename=pyspark-3.5.0-py2.py3-none-any.whl size=317425344 sha256=d19d80e8b33a6a531d1e66616ccaf268ef4b5fbb20bdd45451251491ba9d70d9\n",
            "  Stored in directory: /root/.cache/pip/wheels/41/4e/10/c2cf2467f71c678cfc8a6b9ac9241e5e44a01940da8fbb17fc\n",
            "Successfully built pyspark\n",
            "Installing collected packages: pyspark\n",
            "Successfully installed pyspark-3.5.0\n"
          ]
        }
      ],
      "source": [
        "!pip install pyspark"
      ]
    },
    {
      "cell_type": "code",
      "source": [
        "!pip install findspark"
      ],
      "metadata": {
        "colab": {
          "base_uri": "https://localhost:8080/"
        },
        "id": "fc-_vAgxbTLZ",
        "outputId": "877605c4-6eda-4e7b-8eac-ac4871dd1a5b"
      },
      "execution_count": null,
      "outputs": [
        {
          "output_type": "stream",
          "name": "stdout",
          "text": [
            "Collecting findspark\n",
            "  Downloading findspark-2.0.1-py2.py3-none-any.whl (4.4 kB)\n",
            "Installing collected packages: findspark\n",
            "Successfully installed findspark-2.0.1\n"
          ]
        }
      ]
    },
    {
      "cell_type": "code",
      "source": [
        "import findspark\n",
        "\n",
        "findspark.init()\n",
        "\n",
        "from pyspark import SparkContext\n",
        "\n",
        "sc=SparkContext.getOrCreate()\n",
        "sc"
      ],
      "metadata": {
        "colab": {
          "base_uri": "https://localhost:8080/",
          "height": 197
        },
        "id": "GMOGt55nbgY5",
        "outputId": "5a1590aa-bc6b-4eba-da7b-8e8352a99f86"
      },
      "execution_count": null,
      "outputs": [
        {
          "output_type": "execute_result",
          "data": {
            "text/plain": [
              "<SparkContext master=local[*] appName=pyspark-shell>"
            ],
            "text/html": [
              "\n",
              "        <div>\n",
              "            <p><b>SparkContext</b></p>\n",
              "\n",
              "            <p><a href=\"http://f9921123ad32:4040\">Spark UI</a></p>\n",
              "\n",
              "            <dl>\n",
              "              <dt>Version</dt>\n",
              "                <dd><code>v3.5.0</code></dd>\n",
              "              <dt>Master</dt>\n",
              "                <dd><code>local[*]</code></dd>\n",
              "              <dt>AppName</dt>\n",
              "                <dd><code>pyspark-shell</code></dd>\n",
              "            </dl>\n",
              "        </div>\n",
              "        "
            ]
          },
          "metadata": {},
          "execution_count": 3
        }
      ]
    },
    {
      "cell_type": "code",
      "source": [
        "from pyspark.sql import SparkSession\n",
        "\n",
        "spark=SparkSession.builder.getOrCreate()\n",
        "\n",
        "spark"
      ],
      "metadata": {
        "colab": {
          "base_uri": "https://localhost:8080/",
          "height": 221
        },
        "id": "58ilrJiib5At",
        "outputId": "37116e23-79bd-4b05-af7b-3a30d39c7be3"
      },
      "execution_count": null,
      "outputs": [
        {
          "output_type": "execute_result",
          "data": {
            "text/plain": [
              "<pyspark.sql.session.SparkSession at 0x78afc53c23e0>"
            ],
            "text/html": [
              "\n",
              "            <div>\n",
              "                <p><b>SparkSession - in-memory</b></p>\n",
              "                \n",
              "        <div>\n",
              "            <p><b>SparkContext</b></p>\n",
              "\n",
              "            <p><a href=\"http://f9921123ad32:4040\">Spark UI</a></p>\n",
              "\n",
              "            <dl>\n",
              "              <dt>Version</dt>\n",
              "                <dd><code>v3.5.0</code></dd>\n",
              "              <dt>Master</dt>\n",
              "                <dd><code>local[*]</code></dd>\n",
              "              <dt>AppName</dt>\n",
              "                <dd><code>pyspark-shell</code></dd>\n",
              "            </dl>\n",
              "        </div>\n",
              "        \n",
              "            </div>\n",
              "        "
            ]
          },
          "metadata": {},
          "execution_count": 4
        }
      ]
    },
    {
      "cell_type": "markdown",
      "source": [
        "#Import dataset https://data.cityofchicago.org/api/views/ijzp-q8t2/rows.csv?accessType=DOWNLOAD"
      ],
      "metadata": {
        "id": "XtJ9xzbM_YJc"
      }
    },
    {
      "cell_type": "code",
      "source": [
        "!wget https://data.cityofchicago.org/api/views/ijzp-q8t2/rows.csv?accessType=DOWNLOAD"
      ],
      "metadata": {
        "id": "E8SUhqRDcTXS",
        "colab": {
          "base_uri": "https://localhost:8080/"
        },
        "outputId": "f492dbf1-161d-4e8e-92ac-05103db70f8e"
      },
      "execution_count": null,
      "outputs": [
        {
          "output_type": "stream",
          "name": "stdout",
          "text": [
            "--2023-09-30 03:39:15--  https://data.cityofchicago.org/api/views/ijzp-q8t2/rows.csv?accessType=DOWNLOAD\n",
            "Resolving data.cityofchicago.org (data.cityofchicago.org)... 52.206.140.205, 52.206.140.199, 52.206.68.26\n",
            "Connecting to data.cityofchicago.org (data.cityofchicago.org)|52.206.140.205|:443... connected.\n",
            "HTTP request sent, awaiting response... 200 OK\n",
            "Length: unspecified [text/csv]\n",
            "Saving to: ‘rows.csv?accessType=DOWNLOAD’\n",
            "\n",
            "rows.csv?accessType     [    <=>             ]   1.74G  3.01MB/s    in 10m 22s \n",
            "\n",
            "2023-09-30 03:49:37 (2.86 MB/s) - ‘rows.csv?accessType=DOWNLOAD’ saved [1865107243]\n",
            "\n"
          ]
        }
      ]
    },
    {
      "cell_type": "code",
      "source": [
        "!ls"
      ],
      "metadata": {
        "colab": {
          "base_uri": "https://localhost:8080/"
        },
        "id": "AcmGvTCpAEBR",
        "outputId": "4ae574ee-ae54-4412-cc45-6f99715da27c"
      },
      "execution_count": null,
      "outputs": [
        {
          "output_type": "stream",
          "name": "stdout",
          "text": [
            "'rows.csv?accessType=DOWNLOAD'\t sample_data\n"
          ]
        }
      ]
    },
    {
      "cell_type": "code",
      "source": [
        "!mv rows.csv\\?accessType\\=DOWNLOAD crimes.csv"
      ],
      "metadata": {
        "id": "TA--5cu6AFwg"
      },
      "execution_count": null,
      "outputs": []
    },
    {
      "cell_type": "code",
      "source": [
        "from pyspark.sql.functions import to_timestamp,col,lit\n",
        "\n",
        "rc=spark.read.csv('crimes.csv',header=True)\n",
        "rc.show(5)"
      ],
      "metadata": {
        "colab": {
          "base_uri": "https://localhost:8080/"
        },
        "id": "epQ-g-NzCPhz",
        "outputId": "51f560f4-35a1-4693-d8f3-7a7709260d12"
      },
      "execution_count": null,
      "outputs": [
        {
          "output_type": "stream",
          "name": "stdout",
          "text": [
            "+--------+-----------+--------------------+--------------------+----+--------------------+--------------------+--------------------+------+--------+----+--------+----+--------------+--------+------------+------------+----+--------------------+------------+-------------+--------------------+\n",
            "|      ID|Case Number|                Date|               Block|IUCR|        Primary Type|         Description|Location Description|Arrest|Domestic|Beat|District|Ward|Community Area|FBI Code|X Coordinate|Y Coordinate|Year|          Updated On|    Latitude|    Longitude|            Location|\n",
            "+--------+-----------+--------------------+--------------------+----+--------------------+--------------------+--------------------+------+--------+----+--------+----+--------------+--------+------------+------------+----+--------------------+------------+-------------+--------------------+\n",
            "| 5741943|   HN549294|08/25/2007 09:22:...|  074XX N ROGERS AVE|0560|             ASSAULT|              SIMPLE|               OTHER| false|   false|2422|     024|  49|             1|     08A|        NULL|        NULL|2007|08/17/2015 03:03:...|        NULL|         NULL|                NULL|\n",
            "| 1930689|   HH109118|01/05/2002 09:24:...|      007XX E 103 ST|0820|               THEFT|      $500 AND UNDER|         GAS STATION|  true|   false|0512|     005|NULL|          NULL|      06|        NULL|        NULL|2002|02/04/2016 06:33:...|        NULL|         NULL|                NULL|\n",
            "|13203321|   JG415333|09/06/2023 05:00:...|    002XX N Wells st|1320|     CRIMINAL DAMAGE|          TO VEHICLE|PARKING LOT / GAR...| false|   false|0122|     001|  42|            32|      14|        NULL|        NULL|2023|09/14/2023 03:43:...|        NULL|         NULL|                NULL|\n",
            "|13210088|   JG423627|08/31/2023 12:00:...|023XX W JACKSON BLVD|1153|  DECEPTIVE PRACTICE|FINANCIAL IDENTIT...|              STREET| false|   false|1225|     012|  27|            28|      11|     1160870|     1898642|2023|09/16/2023 03:41:...|41.877565108| -87.68479102|(41.877565108, -8...|\n",
            "|13210004|   JG422532|07/24/2023 09:45:...|073XX S JEFFERY BLVD|0281|CRIMINAL SEXUAL A...|      NON-AGGRAVATED|           APARTMENT| false|   false|0333|     003|   7|            43|      02|     1190812|     1856743|2023|09/16/2023 03:41:...|  41.7619185|-87.576209245|(41.7619185, -87....|\n",
            "+--------+-----------+--------------------+--------------------+----+--------------------+--------------------+--------------------+------+--------+----+--------+----+--------------+--------+------------+------------+----+--------------------+------------+-------------+--------------------+\n",
            "only showing top 5 rows\n",
            "\n"
          ]
        }
      ]
    },
    {
      "cell_type": "code",
      "source": [
        "rc.show(3)"
      ],
      "metadata": {
        "colab": {
          "base_uri": "https://localhost:8080/"
        },
        "id": "4laYpAZlC0qJ",
        "outputId": "a42ee884-a062-4ad3-a553-ae2a541a0c80"
      },
      "execution_count": null,
      "outputs": [
        {
          "output_type": "stream",
          "name": "stdout",
          "text": [
            "+--------+-----------+--------------------+------------------+----+---------------+--------------+--------------------+------+--------+----+--------+----+--------------+--------+------------+------------+----+--------------------+--------+---------+--------+\n",
            "|      ID|Case Number|                Date|             Block|IUCR|   Primary Type|   Description|Location Description|Arrest|Domestic|Beat|District|Ward|Community Area|FBI Code|X Coordinate|Y Coordinate|Year|          Updated On|Latitude|Longitude|Location|\n",
            "+--------+-----------+--------------------+------------------+----+---------------+--------------+--------------------+------+--------+----+--------+----+--------------+--------+------------+------------+----+--------------------+--------+---------+--------+\n",
            "| 5741943|   HN549294|08/25/2007 09:22:...|074XX N ROGERS AVE|0560|        ASSAULT|        SIMPLE|               OTHER| false|   false|2422|     024|  49|             1|     08A|        NULL|        NULL|2007|08/17/2015 03:03:...|    NULL|     NULL|    NULL|\n",
            "| 1930689|   HH109118|01/05/2002 09:24:...|    007XX E 103 ST|0820|          THEFT|$500 AND UNDER|         GAS STATION|  true|   false|0512|     005|NULL|          NULL|      06|        NULL|        NULL|2002|02/04/2016 06:33:...|    NULL|     NULL|    NULL|\n",
            "|13203321|   JG415333|09/06/2023 05:00:...|  002XX N Wells st|1320|CRIMINAL DAMAGE|    TO VEHICLE|PARKING LOT / GAR...| false|   false|0122|     001|  42|            32|      14|        NULL|        NULL|2023|09/14/2023 03:43:...|    NULL|     NULL|    NULL|\n",
            "+--------+-----------+--------------------+------------------+----+---------------+--------------+--------------------+------+--------+----+--------+----+--------------+--------+------------+------------+----+--------------------+--------+---------+--------+\n",
            "only showing top 3 rows\n",
            "\n"
          ]
        }
      ]
    },
    {
      "cell_type": "markdown",
      "source": [
        "#Schema\n"
      ],
      "metadata": {
        "id": "isfVcf8ELVZI"
      }
    },
    {
      "cell_type": "code",
      "source": [
        "rc.printSchema()"
      ],
      "metadata": {
        "colab": {
          "base_uri": "https://localhost:8080/"
        },
        "id": "UodUEFPXKGUY",
        "outputId": "d9d55de9-1b58-4294-8ab2-a711184e3d62"
      },
      "execution_count": null,
      "outputs": [
        {
          "output_type": "stream",
          "name": "stdout",
          "text": [
            "root\n",
            " |-- ID: string (nullable = true)\n",
            " |-- Case Number: string (nullable = true)\n",
            " |-- Date: string (nullable = true)\n",
            " |-- Block: string (nullable = true)\n",
            " |-- IUCR: string (nullable = true)\n",
            " |-- Primary Type: string (nullable = true)\n",
            " |-- Description: string (nullable = true)\n",
            " |-- Location Description: string (nullable = true)\n",
            " |-- Arrest: string (nullable = true)\n",
            " |-- Domestic: string (nullable = true)\n",
            " |-- Beat: string (nullable = true)\n",
            " |-- District: string (nullable = true)\n",
            " |-- Ward: string (nullable = true)\n",
            " |-- Community Area: string (nullable = true)\n",
            " |-- FBI Code: string (nullable = true)\n",
            " |-- X Coordinate: string (nullable = true)\n",
            " |-- Y Coordinate: string (nullable = true)\n",
            " |-- Year: string (nullable = true)\n",
            " |-- Updated On: string (nullable = true)\n",
            " |-- Latitude: string (nullable = true)\n",
            " |-- Longitude: string (nullable = true)\n",
            " |-- Location: string (nullable = true)\n",
            "\n"
          ]
        }
      ]
    },
    {
      "cell_type": "code",
      "source": [
        "from pyspark.sql.types import StructField,StructType,StringType,TimestampType,BooleanType,DoubleType,IntegerType"
      ],
      "metadata": {
        "id": "26QpDr1YN7Q1"
      },
      "execution_count": null,
      "outputs": []
    },
    {
      "cell_type": "code",
      "source": [
        "rc.columns"
      ],
      "metadata": {
        "colab": {
          "base_uri": "https://localhost:8080/"
        },
        "id": "CJk7weGKPpZv",
        "outputId": "3b7e2571-5d7e-409d-9e39-d6c8f774bcff"
      },
      "execution_count": null,
      "outputs": [
        {
          "output_type": "execute_result",
          "data": {
            "text/plain": [
              "['ID',\n",
              " 'Case Number',\n",
              " 'Date',\n",
              " 'Block',\n",
              " 'IUCR',\n",
              " 'Primary Type',\n",
              " 'Description',\n",
              " 'Location Description',\n",
              " 'Arrest',\n",
              " 'Domestic',\n",
              " 'Beat',\n",
              " 'District',\n",
              " 'Ward',\n",
              " 'Community Area',\n",
              " 'FBI Code',\n",
              " 'X Coordinate',\n",
              " 'Y Coordinate',\n",
              " 'Year',\n",
              " 'Updated On',\n",
              " 'Latitude',\n",
              " 'Longitude',\n",
              " 'Location']"
            ]
          },
          "metadata": {},
          "execution_count": 12
        }
      ]
    },
    {
      "cell_type": "code",
      "source": [
        "# StructType([\n",
        "#             StructField('ID',StringType,True),\n",
        "#             StructField('Case Number',StringType,True),\n",
        "#             StructField('Date',TimestampType,True),\n",
        "#             StructField('Block',)\n",
        "\n",
        "\n",
        "\n",
        "#  'IUCR',\n",
        "#  'Primary Type',\n",
        "#  'Description',\n",
        "#  'Location Description',\n",
        "#  'Arrest',\n",
        "#  'Domestic',\n",
        "#  'Beat',\n",
        "#  'District',\n",
        "#  'Ward',\n",
        "#  'Community Area',\n",
        "#  'FBI Code',\n",
        "#  'X Coordinate',\n",
        "#  'Y Coordinate',\n",
        "#  'Year',\n",
        "#  'Updated On',\n",
        "#  'Latitude',\n",
        "#  'Longitude',\n",
        "#  'Location')\n",
        "\n",
        "\n",
        "\n",
        "#             ])"
      ],
      "metadata": {
        "id": "gXwdeLrKPV5g"
      },
      "execution_count": null,
      "outputs": []
    },
    {
      "cell_type": "code",
      "source": [
        "labels=[\n",
        " ('ID',StringType()),\n",
        " ('Case Number',StringType()),\n",
        " ('Date',TimestampType()),\n",
        " ('Block',StringType()),\n",
        " ('IUCR',StringType()),\n",
        " ('Primary Type',StringType()),\n",
        " ('Description',StringType()),\n",
        " ('Location Description',StringType()),\n",
        " ('Arrest',StringType()),\n",
        " ('Domestic',StringType()),\n",
        " ('Beat',StringType()),\n",
        " ('District',StringType()),\n",
        " ('Ward',StringType()),\n",
        " ('Community Area',StringType()),\n",
        " ('FBI Code',StringType()),\n",
        " ('X Coordinate',StringType()),\n",
        " ('Y Coordinate',StringType()),\n",
        " ('Year',IntegerType()),\n",
        " ('Updated On',StringType()),\n",
        " ('Latitude',DoubleType()),\n",
        " ('Longitude',DoubleType()),\n",
        " ('Location',StringType())\n",
        "]"
      ],
      "metadata": {
        "id": "ZrkencuIQyEO"
      },
      "execution_count": null,
      "outputs": []
    },
    {
      "cell_type": "code",
      "source": [
        "schema=StructType([StructField(x[0],x[1],True) for x in labels])\n",
        "schema"
      ],
      "metadata": {
        "colab": {
          "base_uri": "https://localhost:8080/"
        },
        "id": "6XML3-JfTGrs",
        "outputId": "36f63421-c48a-440b-d97d-20fdd91f9553"
      },
      "execution_count": null,
      "outputs": [
        {
          "output_type": "execute_result",
          "data": {
            "text/plain": [
              "StructType([StructField('ID', StringType(), True), StructField('Case Number', StringType(), True), StructField('Date', TimestampType(), True), StructField('Block', StringType(), True), StructField('IUCR', StringType(), True), StructField('Primary Type', StringType(), True), StructField('Description', StringType(), True), StructField('Location Description', StringType(), True), StructField('Arrest', StringType(), True), StructField('Domestic', StringType(), True), StructField('Beat', StringType(), True), StructField('District', StringType(), True), StructField('Ward', StringType(), True), StructField('Community Area', StringType(), True), StructField('FBI Code', StringType(), True), StructField('X Coordinate', StringType(), True), StructField('Y Coordinate', StringType(), True), StructField('Year', IntegerType(), True), StructField('Updated On', StringType(), True), StructField('Latitude', DoubleType(), True), StructField('Longitude', DoubleType(), True), StructField('Location', StringType(), True)])"
            ]
          },
          "metadata": {},
          "execution_count": 15
        }
      ]
    },
    {
      "cell_type": "code",
      "source": [
        "# rc=spark.read.csv('crimes.csv',schema=schema,header=True)\n",
        "# rc.printSchema()"
      ],
      "metadata": {
        "id": "iMsEg1vgTkdr"
      },
      "execution_count": null,
      "outputs": []
    },
    {
      "cell_type": "code",
      "source": [
        "rc.show(5)"
      ],
      "metadata": {
        "colab": {
          "base_uri": "https://localhost:8080/"
        },
        "id": "m3onOvmlUXgj",
        "outputId": "48e5a87f-c542-4bb9-db65-f08a6013f173"
      },
      "execution_count": null,
      "outputs": [
        {
          "output_type": "stream",
          "name": "stdout",
          "text": [
            "+--------+-----------+--------------------+--------------------+----+--------------------+--------------------+--------------------+------+--------+----+--------+----+--------------+--------+------------+------------+----+--------------------+------------+-------------+--------------------+\n",
            "|      ID|Case Number|                Date|               Block|IUCR|        Primary Type|         Description|Location Description|Arrest|Domestic|Beat|District|Ward|Community Area|FBI Code|X Coordinate|Y Coordinate|Year|          Updated On|    Latitude|    Longitude|            Location|\n",
            "+--------+-----------+--------------------+--------------------+----+--------------------+--------------------+--------------------+------+--------+----+--------+----+--------------+--------+------------+------------+----+--------------------+------------+-------------+--------------------+\n",
            "| 5741943|   HN549294|08/25/2007 09:22:...|  074XX N ROGERS AVE|0560|             ASSAULT|              SIMPLE|               OTHER| false|   false|2422|     024|  49|             1|     08A|        NULL|        NULL|2007|08/17/2015 03:03:...|        NULL|         NULL|                NULL|\n",
            "| 1930689|   HH109118|01/05/2002 09:24:...|      007XX E 103 ST|0820|               THEFT|      $500 AND UNDER|         GAS STATION|  true|   false|0512|     005|NULL|          NULL|      06|        NULL|        NULL|2002|02/04/2016 06:33:...|        NULL|         NULL|                NULL|\n",
            "|13203321|   JG415333|09/06/2023 05:00:...|    002XX N Wells st|1320|     CRIMINAL DAMAGE|          TO VEHICLE|PARKING LOT / GAR...| false|   false|0122|     001|  42|            32|      14|        NULL|        NULL|2023|09/14/2023 03:43:...|        NULL|         NULL|                NULL|\n",
            "|13210088|   JG423627|08/31/2023 12:00:...|023XX W JACKSON BLVD|1153|  DECEPTIVE PRACTICE|FINANCIAL IDENTIT...|              STREET| false|   false|1225|     012|  27|            28|      11|     1160870|     1898642|2023|09/16/2023 03:41:...|41.877565108| -87.68479102|(41.877565108, -8...|\n",
            "|13210004|   JG422532|07/24/2023 09:45:...|073XX S JEFFERY BLVD|0281|CRIMINAL SEXUAL A...|      NON-AGGRAVATED|           APARTMENT| false|   false|0333|     003|   7|            43|      02|     1190812|     1856743|2023|09/16/2023 03:41:...|  41.7619185|-87.576209245|(41.7619185, -87....|\n",
            "+--------+-----------+--------------------+--------------------+----+--------------------+--------------------+--------------------+------+--------+----+--------+----+--------------+--------+------------+------------+----+--------------------+------------+-------------+--------------------+\n",
            "only showing top 5 rows\n",
            "\n"
          ]
        }
      ]
    },
    {
      "cell_type": "markdown",
      "source": [
        "##COlumns\n"
      ],
      "metadata": {
        "id": "V2JGGkwMWybM"
      }
    },
    {
      "cell_type": "code",
      "source": [
        "rc.select('IUCR').show(5)"
      ],
      "metadata": {
        "colab": {
          "base_uri": "https://localhost:8080/"
        },
        "id": "Y7eY_wpdWO7F",
        "outputId": "a58c64e1-7054-4a9d-dc88-1ad4031412a1"
      },
      "execution_count": null,
      "outputs": [
        {
          "output_type": "stream",
          "name": "stdout",
          "text": [
            "+----+\n",
            "|IUCR|\n",
            "+----+\n",
            "|0560|\n",
            "|0820|\n",
            "|1320|\n",
            "|1153|\n",
            "|0281|\n",
            "+----+\n",
            "only showing top 5 rows\n",
            "\n"
          ]
        }
      ]
    },
    {
      "cell_type": "code",
      "source": [
        "rc.select(rc.IUCR).show(5)"
      ],
      "metadata": {
        "colab": {
          "base_uri": "https://localhost:8080/"
        },
        "id": "Nzi0CjutW4eU",
        "outputId": "c1a5cf9e-4101-4adf-d3f6-9ff0e182d64c"
      },
      "execution_count": null,
      "outputs": [
        {
          "output_type": "stream",
          "name": "stdout",
          "text": [
            "+----+\n",
            "|IUCR|\n",
            "+----+\n",
            "|0560|\n",
            "|0820|\n",
            "|1320|\n",
            "|1153|\n",
            "|0281|\n",
            "+----+\n",
            "only showing top 5 rows\n",
            "\n"
          ]
        }
      ]
    },
    {
      "cell_type": "markdown",
      "source": [
        "show 4 rows of colums"
      ],
      "metadata": {
        "id": "z5wss0-7XkIH"
      }
    },
    {
      "cell_type": "code",
      "source": [
        "rc.select('Case Number','Date','Arrest').show(5)"
      ],
      "metadata": {
        "colab": {
          "base_uri": "https://localhost:8080/"
        },
        "id": "Zgt9yZY3XDmH",
        "outputId": "f69d79f9-a89d-4b4d-8470-32082e02e2c8"
      },
      "execution_count": null,
      "outputs": [
        {
          "output_type": "stream",
          "name": "stdout",
          "text": [
            "+-----------+--------------------+------+\n",
            "|Case Number|                Date|Arrest|\n",
            "+-----------+--------------------+------+\n",
            "|   HN549294|08/25/2007 09:22:...| false|\n",
            "|   HH109118|01/05/2002 09:24:...|  true|\n",
            "|   JG415333|09/06/2023 05:00:...| false|\n",
            "|   JG423627|08/31/2023 12:00:...| false|\n",
            "|   JG422532|07/24/2023 09:45:...| false|\n",
            "+-----------+--------------------+------+\n",
            "only showing top 5 rows\n",
            "\n"
          ]
        }
      ]
    },
    {
      "cell_type": "markdown",
      "source": [
        "Add a column with only 1s"
      ],
      "metadata": {
        "id": "Lk2RBUStX96p"
      }
    },
    {
      "cell_type": "code",
      "source": [
        "from pyspark.sql.functions import lit"
      ],
      "metadata": {
        "id": "96-5c140Xxn2"
      },
      "execution_count": null,
      "outputs": []
    },
    {
      "cell_type": "code",
      "source": [
        "rc.withColumn('One',lit(1)).show(5)"
      ],
      "metadata": {
        "colab": {
          "base_uri": "https://localhost:8080/"
        },
        "id": "8NeIQYTuYKVf",
        "outputId": "ad80b53c-c805-4671-eb19-643fc59c1ff8"
      },
      "execution_count": null,
      "outputs": [
        {
          "output_type": "stream",
          "name": "stdout",
          "text": [
            "+--------+-----------+--------------------+--------------------+----+--------------------+--------------------+--------------------+------+--------+----+--------+----+--------------+--------+------------+------------+----+--------------------+------------+-------------+--------------------+---+\n",
            "|      ID|Case Number|                Date|               Block|IUCR|        Primary Type|         Description|Location Description|Arrest|Domestic|Beat|District|Ward|Community Area|FBI Code|X Coordinate|Y Coordinate|Year|          Updated On|    Latitude|    Longitude|            Location|One|\n",
            "+--------+-----------+--------------------+--------------------+----+--------------------+--------------------+--------------------+------+--------+----+--------+----+--------------+--------+------------+------------+----+--------------------+------------+-------------+--------------------+---+\n",
            "| 5741943|   HN549294|08/25/2007 09:22:...|  074XX N ROGERS AVE|0560|             ASSAULT|              SIMPLE|               OTHER| false|   false|2422|     024|  49|             1|     08A|        NULL|        NULL|2007|08/17/2015 03:03:...|        NULL|         NULL|                NULL|  1|\n",
            "| 1930689|   HH109118|01/05/2002 09:24:...|      007XX E 103 ST|0820|               THEFT|      $500 AND UNDER|         GAS STATION|  true|   false|0512|     005|NULL|          NULL|      06|        NULL|        NULL|2002|02/04/2016 06:33:...|        NULL|         NULL|                NULL|  1|\n",
            "|13203321|   JG415333|09/06/2023 05:00:...|    002XX N Wells st|1320|     CRIMINAL DAMAGE|          TO VEHICLE|PARKING LOT / GAR...| false|   false|0122|     001|  42|            32|      14|        NULL|        NULL|2023|09/14/2023 03:43:...|        NULL|         NULL|                NULL|  1|\n",
            "|13210088|   JG423627|08/31/2023 12:00:...|023XX W JACKSON BLVD|1153|  DECEPTIVE PRACTICE|FINANCIAL IDENTIT...|              STREET| false|   false|1225|     012|  27|            28|      11|     1160870|     1898642|2023|09/16/2023 03:41:...|41.877565108| -87.68479102|(41.877565108, -8...|  1|\n",
            "|13210004|   JG422532|07/24/2023 09:45:...|073XX S JEFFERY BLVD|0281|CRIMINAL SEXUAL A...|      NON-AGGRAVATED|           APARTMENT| false|   false|0333|     003|   7|            43|      02|     1190812|     1856743|2023|09/16/2023 03:41:...|  41.7619185|-87.576209245|(41.7619185, -87....|  1|\n",
            "+--------+-----------+--------------------+--------------------+----+--------------------+--------------------+--------------------+------+--------+----+--------+----+--------------+--------+------------+------------+----+--------------------+------------+-------------+--------------------+---+\n",
            "only showing top 5 rows\n",
            "\n"
          ]
        }
      ]
    },
    {
      "cell_type": "markdown",
      "source": [
        "Drop column IUCR"
      ],
      "metadata": {
        "id": "lUW6fZ7jYaK7"
      }
    },
    {
      "cell_type": "code",
      "source": [
        "# rc=rc.drop('IUCR')\n",
        "# rc.show(5)"
      ],
      "metadata": {
        "id": "ZJIwDyokYU_S"
      },
      "execution_count": null,
      "outputs": []
    },
    {
      "cell_type": "markdown",
      "source": [
        "##Working with rows"
      ],
      "metadata": {
        "id": "wuKcPTxxAYAx"
      }
    },
    {
      "cell_type": "code",
      "source": [
        "one_day=rc.filter(col('Location Description')==lit('BANK'))"
      ],
      "metadata": {
        "id": "AcCKspVSYncV"
      },
      "execution_count": null,
      "outputs": []
    },
    {
      "cell_type": "code",
      "source": [
        "one_day.count()"
      ],
      "metadata": {
        "colab": {
          "base_uri": "https://localhost:8080/"
        },
        "id": "UmQWC00dA0Lr",
        "outputId": "deae92eb-c664-467f-bcb6-dbc6f4797f32"
      },
      "execution_count": null,
      "outputs": [
        {
          "output_type": "execute_result",
          "data": {
            "text/plain": [
              "31536"
            ]
          },
          "metadata": {},
          "execution_count": 25
        }
      ]
    },
    {
      "cell_type": "code",
      "source": [
        "one_day.show(5)"
      ],
      "metadata": {
        "colab": {
          "base_uri": "https://localhost:8080/"
        },
        "id": "zoaWU54SA2Sd",
        "outputId": "ebfeb3fe-30e2-478c-dafb-9857dde532e7"
      },
      "execution_count": null,
      "outputs": [
        {
          "output_type": "stream",
          "name": "stdout",
          "text": [
            "+--------+-----------+--------------------+--------------------+----+------------------+--------------------+--------------------+------+--------+----+--------+----+--------------+--------+------------+------------+----+--------------------+------------+-------------+--------------------+\n",
            "|      ID|Case Number|                Date|               Block|IUCR|      Primary Type|         Description|Location Description|Arrest|Domestic|Beat|District|Ward|Community Area|FBI Code|X Coordinate|Y Coordinate|Year|          Updated On|    Latitude|    Longitude|            Location|\n",
            "+--------+-----------+--------------------+--------------------+----+------------------+--------------------+--------------------+------+--------+----+--------+----+--------------+--------+------------+------------+----+--------------------+------------+-------------+--------------------+\n",
            "|13201593|   JG413294|09/06/2023 09:42:...|003XX N DESPLAINE...|1330| CRIMINAL TRESPASS|             TO LAND|                BANK|  true|   false|1214|     012|  34|            28|      26|     1171866|     1902447|2023|09/14/2023 03:43:...|41.887771177|-87.644304667|(41.887771177, -8...|\n",
            "|13201899|   JG413889|09/06/2023 01:30:...|092XX S COMMERCIA...|0330|           ROBBERY|          AGGRAVATED|                BANK| false|   false|0423|     004|  10|            46|      03|     1197746|     1844398|2023|09/14/2023 03:43:...|41.727872617|-87.551207132|(41.727872617, -8...|\n",
            "|13207888|   JG416139|08/18/2023 12:00:...| 0000X S DEARBORN ST|1120|DECEPTIVE PRACTICE|             FORGERY|                BANK| false|   false|0112|     001|  34|            32|      10|     1175945|     1900240|2023|09/14/2023 03:41:...|41.881624191|-87.629391908|(41.881624191, -8...|\n",
            "|13209005|   JG421193|04/05/2023 01:00:...|     047XX W 79TH ST|1130|DECEPTIVE PRACTICE|FRAUD OR CONFIDEN...|                BANK| false|   false|0834|     008|  18|            70|      11|     1146028|     1851748|2023|09/15/2023 03:41:...|41.749175751|-87.740475242|(41.749175751, -8...|\n",
            "|13205198|   JG417716|09/07/2023 09:00:...| 001XX S LA SALLE ST|1152|DECEPTIVE PRACTICE|ILLEGAL USE CASH ...|                BANK| false|   false|0122|     001|  34|            32|      11|     1175152|     1899750|2023|09/15/2023 03:42:...|41.880297414|-87.632318445|(41.880297414, -8...|\n",
            "+--------+-----------+--------------------+--------------------+----+------------------+--------------------+--------------------+------+--------+----+--------+----+--------------+--------+------------+------------+----+--------------------+------------+-------------+--------------------+\n",
            "only showing top 5 rows\n",
            "\n"
          ]
        }
      ]
    },
    {
      "cell_type": "code",
      "source": [
        "one_day.orderBy('Date',ascending=False).show(10)"
      ],
      "metadata": {
        "colab": {
          "base_uri": "https://localhost:8080/"
        },
        "id": "yUTh0oH8Bkf8",
        "outputId": "b7c6892d-ad82-4ce9-ebf4-14bbfbd08767"
      },
      "execution_count": null,
      "outputs": [
        {
          "output_type": "stream",
          "name": "stdout",
          "text": [
            "+--------+-----------+--------------------+--------------------+----+------------------+--------------------+--------------------+------+--------+----+--------+----+--------------+--------+------------+------------+----+--------------------+------------+-------------+--------------------+\n",
            "|      ID|Case Number|                Date|               Block|IUCR|      Primary Type|         Description|Location Description|Arrest|Domestic|Beat|District|Ward|Community Area|FBI Code|X Coordinate|Y Coordinate|Year|          Updated On|    Latitude|    Longitude|            Location|\n",
            "+--------+-----------+--------------------+--------------------+----+------------------+--------------------+--------------------+------+--------+----+--------+----+--------------+--------+------------+------------+----+--------------------+------------+-------------+--------------------+\n",
            "|12937974|   JF528715|12/31/2022 09:15:...| 061XX N WESTERN AVE|1120|DECEPTIVE PRACTICE|             FORGERY|                BANK| false|   false|2413|     024|  40|             2|      10|     1159207|     1940780|2022|01/07/2023 03:41:...|41.993228887|-87.689735615|(41.993228887, -8...|\n",
            "|12772954|   JF331816|12/31/2021 12:00:...|040XX N RAVENSWOO...|1120|DECEPTIVE PRACTICE|             FORGERY|                BANK| false|   false|1912|     019|  47|             6|      10|        NULL|        NULL|2021|07/29/2022 03:40:...|        NULL|         NULL|                NULL|\n",
            "|12269771|   JE113038|12/31/2020 11:00:...|     019XX E 95TH ST|0890|             THEFT|       FROM BUILDING|                BANK| false|   false|0413|     004|   8|            51|      06|     1190646|     1842357|2020|01/16/2021 03:39:...|41.722445994|-87.577280883|(41.722445994, -8...|\n",
            "|11940782|   JD103271|12/31/2019 09:00:...|   064XX W NORTH AVE|0495|           BATTERY|AGGRAVATED OF A S...|                BANK| false|    true|2513|     025|  29|            25|     04B|     1133434|     1909959|2019|01/08/2020 03:45:...|41.909145183|-87.785264745|(41.909145183, -8...|\n",
            "|11943685|   JD105378|12/31/2019 09:00:...|  048XX N KEDZIE AVE|1153|DECEPTIVE PRACTICE|FINANCIAL IDENTIT...|                BANK| false|   false|1713|     017|  33|            14|      11|     1154169|     1932021|2019|01/09/2020 11:44:...|41.969296124|-87.708502376|(41.969296124, -8...|\n",
            "|11960166|   JD125785|12/31/2019 05:23:...|     033XX W 26TH ST|1153|DECEPTIVE PRACTICE|FINANCIAL IDENTIT...|                BANK| false|   false|1032|     010|  12|            30|      11|     1154357|     1886530|2019|01/26/2020 03:40:...|41.844460987| -87.70902851|(41.844460987, -8...|\n",
            "|11938235|   JC566596|12/31/2019 02:15:...|   008XX W NORTH AVE|1122|DECEPTIVE PRACTICE|   COUNTERFEIT CHECK|                BANK| false|   false|1822|     018|   2|             8|      10|     1170250|     1910860|2019|01/07/2020 06:57:...|41.910892416|-87.649993009|(41.910892416, -8...|\n",
            "|11552105|   JB573821|12/31/2018 09:00:...|046XX W IRVING PA...|1150|DECEPTIVE PRACTICE|   CREDIT CARD FRAUD|                BANK| false|   false|1722|     017|  45|            15|      11|     1144295|     1926174|2018|01/10/2019 03:16:...|41.953443342|-87.744957048|(41.953443342, -8...|\n",
            "|11577952|   JC128540|12/31/2018 01:00:...|    005XX W ADAMS ST|1130|DECEPTIVE PRACTICE|FRAUD OR CONFIDEN...|                BANK| false|   false|0121|     001|  42|            28|      11|        NULL|        NULL|2018|01/27/2019 04:09:...|        NULL|         NULL|                NULL|\n",
            "|11193413|   JB101898|12/31/2017 01:30:...|  053XX S PULASKI RD|1130|DECEPTIVE PRACTICE|FRAUD OR CONFIDEN...|                BANK| false|   false|0815|     008|  23|            62|      11|     1150608|     1868922|2017|05/04/2018 03:51:...|41.796216157|-87.723245665|(41.796216157, -8...|\n",
            "+--------+-----------+--------------------+--------------------+----+------------------+--------------------+--------------------+------+--------+----+--------+----+--------------+--------+------------+------------+----+--------------------+------------+-------------+--------------------+\n",
            "only showing top 10 rows\n",
            "\n"
          ]
        }
      ]
    },
    {
      "cell_type": "code",
      "source": [
        "rc.groupBy('Primary Type').count().orderBy('count',ascending=False).show()"
      ],
      "metadata": {
        "colab": {
          "base_uri": "https://localhost:8080/"
        },
        "id": "lATy7i53BsHP",
        "outputId": "52959905-29f8-445d-f28f-e614ac140f78"
      },
      "execution_count": null,
      "outputs": [
        {
          "output_type": "stream",
          "name": "stdout",
          "text": [
            "+--------------------+-------+\n",
            "|        Primary Type|  count|\n",
            "+--------------------+-------+\n",
            "|               THEFT|1667237|\n",
            "|             BATTERY|1442831|\n",
            "|     CRIMINAL DAMAGE| 900611|\n",
            "|           NARCOTICS| 749772|\n",
            "|             ASSAULT| 517376|\n",
            "|       OTHER OFFENSE| 490262|\n",
            "|            BURGLARY| 427509|\n",
            "| MOTOR VEHICLE THEFT| 387834|\n",
            "|  DECEPTIVE PRACTICE| 352691|\n",
            "|             ROBBERY| 297071|\n",
            "|   CRIMINAL TRESPASS| 216241|\n",
            "|   WEAPONS VIOLATION| 110394|\n",
            "|        PROSTITUTION|  69933|\n",
            "|OFFENSE INVOLVING...|  56598|\n",
            "|PUBLIC PEACE VIOL...|  52713|\n",
            "|         SEX OFFENSE|  31408|\n",
            "| CRIM SEXUAL ASSAULT|  27575|\n",
            "|INTERFERENCE WITH...|  18629|\n",
            "|LIQUOR LAW VIOLATION|  14981|\n",
            "|            GAMBLING|  14624|\n",
            "+--------------------+-------+\n",
            "only showing top 20 rows\n",
            "\n"
          ]
        }
      ]
    },
    {
      "cell_type": "markdown",
      "source": [
        "#Challenge"
      ],
      "metadata": {
        "id": "-9MsllH4Ed6K"
      }
    },
    {
      "cell_type": "markdown",
      "source": [
        "What percentage of reported crime resulted in an arrest?"
      ],
      "metadata": {
        "id": "GRxBWQ7wtDr0"
      }
    },
    {
      "cell_type": "code",
      "source": [
        "rc.select(\"Arrest\").distinct().show()"
      ],
      "metadata": {
        "id": "LAYfbzzzDI_V",
        "colab": {
          "base_uri": "https://localhost:8080/"
        },
        "outputId": "d533367f-4604-4a71-e005-43c8ec60a8b8"
      },
      "execution_count": null,
      "outputs": [
        {
          "output_type": "stream",
          "name": "stdout",
          "text": [
            "+------+\n",
            "|Arrest|\n",
            "+------+\n",
            "| false|\n",
            "|  true|\n",
            "+------+\n",
            "\n"
          ]
        }
      ]
    },
    {
      "cell_type": "code",
      "source": [
        "rc.filter(col('Arrest')=='true').count() / rc.select('Arrest').count()"
      ],
      "metadata": {
        "colab": {
          "base_uri": "https://localhost:8080/"
        },
        "id": "wlzX4cmMyNhT",
        "outputId": "482117ce-e834-41a8-8497-9c4778dcaaf4"
      },
      "execution_count": null,
      "outputs": [
        {
          "output_type": "execute_result",
          "data": {
            "text/plain": [
              "0.2593079516183606"
            ]
          },
          "metadata": {},
          "execution_count": 30
        }
      ]
    },
    {
      "cell_type": "markdown",
      "source": [
        "Top 3 locations for reported Crimes?"
      ],
      "metadata": {
        "id": "YfMGZhe4zknD"
      }
    },
    {
      "cell_type": "code",
      "source": [
        "two=rc.groupBy('Location Description').count()"
      ],
      "metadata": {
        "id": "zMbNke4QyxNY"
      },
      "execution_count": null,
      "outputs": []
    },
    {
      "cell_type": "code",
      "source": [
        "two.show()"
      ],
      "metadata": {
        "colab": {
          "base_uri": "https://localhost:8080/"
        },
        "id": "SN2bqvStz8j_",
        "outputId": "02d1b794-010a-4fad-deb7-11031e316022"
      },
      "execution_count": null,
      "outputs": [
        {
          "output_type": "stream",
          "name": "stdout",
          "text": [
            "+--------------------+------+\n",
            "|Location Description| count|\n",
            "+--------------------+------+\n",
            "|   RAILROAD PROPERTY|    15|\n",
            "|SCHOOL - PRIVATE ...|   847|\n",
            "|AIRPORT TERMINAL ...|  2401|\n",
            "|VEHICLE - COMMERCIAL|   704|\n",
            "|EXPRESSWAY EMBANK...|     1|\n",
            "|RESIDENCE - YARD ...| 10379|\n",
            "|POLICE FACILITY/V...| 18566|\n",
            "|               MOTEL|     7|\n",
            "|CHA PARKING LOT /...|  1581|\n",
            "|            SIDEWALK|735195|\n",
            "|PUBLIC GRAMMAR SC...|     2|\n",
            "|OTHER RAILROAD PR...|   398|\n",
            "|            CAR WASH|  3394|\n",
            "|   TRUCKING TERMINAL|     1|\n",
            "|    AIRPORT/AIRCRAFT| 16279|\n",
            "|            HOSPITAL|    13|\n",
            "|    FEDERAL BUILDING|   980|\n",
            "|MEDICAL/DENTAL OF...|  7430|\n",
            "|             TRAILER|     4|\n",
            "|         CTA STATION|  6871|\n",
            "+--------------------+------+\n",
            "only showing top 20 rows\n",
            "\n"
          ]
        }
      ]
    },
    {
      "cell_type": "code",
      "source": [
        "two.orderBy('count',ascending=False).show(3)"
      ],
      "metadata": {
        "colab": {
          "base_uri": "https://localhost:8080/"
        },
        "id": "95pLTbiF0m2V",
        "outputId": "44d0d4aa-6e5a-44eb-cb5e-fc305c951369"
      },
      "execution_count": null,
      "outputs": [
        {
          "output_type": "stream",
          "name": "stdout",
          "text": [
            "+--------------------+-------+\n",
            "|Location Description|  count|\n",
            "+--------------------+-------+\n",
            "|              STREET|2061219|\n",
            "|           RESIDENCE|1319844|\n",
            "|           APARTMENT| 900051|\n",
            "+--------------------+-------+\n",
            "only showing top 3 rows\n",
            "\n"
          ]
        }
      ]
    },
    {
      "cell_type": "markdown",
      "source": [
        "///////"
      ],
      "metadata": {
        "id": "vhBE6y2f1POJ"
      }
    },
    {
      "cell_type": "code",
      "source": [
        "from pyspark.sql import functions"
      ],
      "metadata": {
        "id": "CT9gt4mg1DJf"
      },
      "execution_count": null,
      "outputs": []
    },
    {
      "cell_type": "code",
      "source": [
        "print(dir(functions))"
      ],
      "metadata": {
        "colab": {
          "base_uri": "https://localhost:8080/"
        },
        "id": "qJURl2Re1h8H",
        "outputId": "dd57111a-03b8-40ad-9f38-faf79e106095"
      },
      "execution_count": null,
      "outputs": [
        {
          "output_type": "stream",
          "name": "stdout",
          "text": [
            "['Any', 'ArrayType', 'Callable', 'Column', 'DataFrame', 'DataType', 'Dict', 'Iterable', 'JVMView', 'List', 'Optional', 'PandasUDFType', 'PySparkTypeError', 'PySparkValueError', 'SparkContext', 'StringType', 'StructType', 'TYPE_CHECKING', 'Tuple', 'Type', 'Union', 'UserDefinedFunction', 'UserDefinedTableFunction', 'ValuesView', '__builtins__', '__cached__', '__doc__', '__file__', '__loader__', '__name__', '__package__', '__spec__', '_create_column_from_literal', '_create_lambda', '_create_py_udf', '_create_py_udtf', '_from_numpy_type', '_get_jvm_function', '_get_lambda_parameters', '_invoke_binary_math_function', '_invoke_function', '_invoke_function_over_columns', '_invoke_function_over_seq_of_columns', '_invoke_higher_order_function', '_options_to_str', '_test', '_to_java_column', '_to_seq', '_unresolved_named_lambda_variable', 'abs', 'acos', 'acosh', 'add_months', 'aes_decrypt', 'aes_encrypt', 'aggregate', 'any_value', 'approxCountDistinct', 'approx_count_distinct', 'approx_percentile', 'array', 'array_agg', 'array_append', 'array_compact', 'array_contains', 'array_distinct', 'array_except', 'array_insert', 'array_intersect', 'array_join', 'array_max', 'array_min', 'array_position', 'array_prepend', 'array_remove', 'array_repeat', 'array_size', 'array_sort', 'array_union', 'arrays_overlap', 'arrays_zip', 'asc', 'asc_nulls_first', 'asc_nulls_last', 'ascii', 'asin', 'asinh', 'assert_true', 'atan', 'atan2', 'atanh', 'avg', 'base64', 'bin', 'bit_and', 'bit_count', 'bit_get', 'bit_length', 'bit_or', 'bit_xor', 'bitmap_bit_position', 'bitmap_bucket_number', 'bitmap_construct_agg', 'bitmap_count', 'bitmap_or_agg', 'bitwiseNOT', 'bitwise_not', 'bool_and', 'bool_or', 'broadcast', 'bround', 'btrim', 'bucket', 'call_function', 'call_udf', 'cardinality', 'cast', 'cbrt', 'ceil', 'ceiling', 'char', 'char_length', 'character_length', 'coalesce', 'col', 'collect_list', 'collect_set', 'column', 'concat', 'concat_ws', 'contains', 'conv', 'convert_timezone', 'corr', 'cos', 'cosh', 'cot', 'count', 'countDistinct', 'count_distinct', 'count_if', 'count_min_sketch', 'covar_pop', 'covar_samp', 'crc32', 'create_map', 'csc', 'cume_dist', 'curdate', 'current_catalog', 'current_database', 'current_date', 'current_schema', 'current_timestamp', 'current_timezone', 'current_user', 'date_add', 'date_diff', 'date_format', 'date_from_unix_date', 'date_part', 'date_sub', 'date_trunc', 'dateadd', 'datediff', 'datepart', 'day', 'dayofmonth', 'dayofweek', 'dayofyear', 'days', 'decimal', 'decode', 'degrees', 'dense_rank', 'desc', 'desc_nulls_first', 'desc_nulls_last', 'e', 'element_at', 'elt', 'encode', 'endswith', 'equal_null', 'every', 'exists', 'exp', 'explode', 'explode_outer', 'expm1', 'expr', 'extract', 'factorial', 'filter', 'find_in_set', 'first', 'first_value', 'flatten', 'floor', 'forall', 'format_number', 'format_string', 'from_csv', 'from_json', 'from_unixtime', 'from_utc_timestamp', 'functools', 'get', 'get_active_spark_context', 'get_json_object', 'getbit', 'greatest', 'grouping', 'grouping_id', 'has_numpy', 'hash', 'hex', 'histogram_numeric', 'hll_sketch_agg', 'hll_sketch_estimate', 'hll_union', 'hll_union_agg', 'hour', 'hours', 'hypot', 'ifnull', 'ilike', 'initcap', 'inline', 'inline_outer', 'input_file_block_length', 'input_file_block_start', 'input_file_name', 'inspect', 'instr', 'isnan', 'isnotnull', 'isnull', 'java_method', 'json_array_length', 'json_object_keys', 'json_tuple', 'kurtosis', 'lag', 'last', 'last_day', 'last_value', 'lcase', 'lead', 'least', 'left', 'length', 'levenshtein', 'like', 'lit', 'ln', 'localtimestamp', 'locate', 'log', 'log10', 'log1p', 'log2', 'lower', 'lpad', 'ltrim', 'make_date', 'make_dt_interval', 'make_interval', 'make_timestamp', 'make_timestamp_ltz', 'make_timestamp_ntz', 'make_ym_interval', 'map_concat', 'map_contains_key', 'map_entries', 'map_filter', 'map_from_arrays', 'map_from_entries', 'map_keys', 'map_values', 'map_zip_with', 'mask', 'max', 'max_by', 'md5', 'mean', 'median', 'min', 'min_by', 'minute', 'mode', 'monotonically_increasing_id', 'month', 'months', 'months_between', 'named_struct', 'nanvl', 'negate', 'negative', 'next_day', 'now', 'np', 'nth_value', 'ntile', 'nullif', 'nvl', 'nvl2', 'octet_length', 'overlay', 'overload', 'pandas_udf', 'parse_url', 'percent_rank', 'percentile', 'percentile_approx', 'pi', 'pmod', 'posexplode', 'posexplode_outer', 'position', 'positive', 'pow', 'power', 'printf', 'product', 'quarter', 'radians', 'raise_error', 'rand', 'randn', 'rank', 'reduce', 'reflect', 'regexp', 'regexp_count', 'regexp_extract', 'regexp_extract_all', 'regexp_instr', 'regexp_like', 'regexp_replace', 'regexp_substr', 'regr_avgx', 'regr_avgy', 'regr_count', 'regr_intercept', 'regr_r2', 'regr_slope', 'regr_sxx', 'regr_sxy', 'regr_syy', 'repeat', 'replace', 'reverse', 'right', 'rint', 'rlike', 'round', 'row_number', 'rpad', 'rtrim', 'schema_of_csv', 'schema_of_json', 'sec', 'second', 'sentences', 'sequence', 'session_window', 'sha', 'sha1', 'sha2', 'shiftLeft', 'shiftRight', 'shiftRightUnsigned', 'shiftleft', 'shiftright', 'shiftrightunsigned', 'shuffle', 'sign', 'signum', 'sin', 'sinh', 'size', 'skewness', 'slice', 'some', 'sort_array', 'soundex', 'spark_partition_id', 'split', 'split_part', 'sqrt', 'stack', 'startswith', 'std', 'stddev', 'stddev_pop', 'stddev_samp', 'str_to_map', 'struct', 'substr', 'substring', 'substring_index', 'sum', 'sumDistinct', 'sum_distinct', 'sys', 'tan', 'tanh', 'timestamp_micros', 'timestamp_millis', 'timestamp_seconds', 'toDegrees', 'toRadians', 'to_binary', 'to_char', 'to_csv', 'to_date', 'to_json', 'to_number', 'to_str', 'to_timestamp', 'to_timestamp_ltz', 'to_timestamp_ntz', 'to_unix_timestamp', 'to_utc_timestamp', 'to_varchar', 'transform', 'transform_keys', 'transform_values', 'translate', 'trim', 'trunc', 'try_add', 'try_aes_decrypt', 'try_avg', 'try_divide', 'try_element_at', 'try_multiply', 'try_remote_functions', 'try_subtract', 'try_sum', 'try_to_binary', 'try_to_number', 'try_to_timestamp', 'typeof', 'ucase', 'udf', 'udtf', 'unbase64', 'unhex', 'unix_date', 'unix_micros', 'unix_millis', 'unix_seconds', 'unix_timestamp', 'unwrap_udt', 'upper', 'url_decode', 'url_encode', 'user', 'var_pop', 'var_samp', 'variance', 'version', 'warnings', 'weekday', 'weekofyear', 'when', 'width_bucket', 'window', 'window_time', 'xpath', 'xpath_boolean', 'xpath_double', 'xpath_float', 'xpath_int', 'xpath_long', 'xpath_number', 'xpath_short', 'xpath_string', 'xxhash64', 'year', 'years', 'zip_with']\n"
          ]
        }
      ]
    },
    {
      "cell_type": "markdown",
      "source": [
        "##String Functions"
      ],
      "metadata": {
        "id": "rqtTyomN2BGW"
      }
    },
    {
      "cell_type": "markdown",
      "source": [
        "Display the Primary Type column in lower and upper characters and the firrst 4 characters of the columns"
      ],
      "metadata": {
        "id": "BVA5D2Vb2D4e"
      }
    },
    {
      "cell_type": "code",
      "source": [
        "from pyspark.sql.functions import lower, upper, substring"
      ],
      "metadata": {
        "id": "KdiZ7gAl1-vT"
      },
      "execution_count": null,
      "outputs": []
    },
    {
      "cell_type": "code",
      "source": [
        "help(substring)"
      ],
      "metadata": {
        "colab": {
          "base_uri": "https://localhost:8080/"
        },
        "id": "HlFZJEf51kIs",
        "outputId": "18fbb55a-8999-4216-9962-fe74a4616475"
      },
      "execution_count": null,
      "outputs": [
        {
          "output_type": "stream",
          "name": "stdout",
          "text": [
            "Help on function substring in module pyspark.sql.functions:\n",
            "\n",
            "substring(str: 'ColumnOrName', pos: int, len: int) -> pyspark.sql.column.Column\n",
            "    Substring starts at `pos` and is of length `len` when str is String type or\n",
            "    returns the slice of byte array that starts at `pos` in byte and is of length `len`\n",
            "    when str is Binary type.\n",
            "    \n",
            "    .. versionadded:: 1.5.0\n",
            "    \n",
            "    .. versionchanged:: 3.4.0\n",
            "        Supports Spark Connect.\n",
            "    \n",
            "    Notes\n",
            "    -----\n",
            "    The position is not zero based, but 1 based index.\n",
            "    \n",
            "    Parameters\n",
            "    ----------\n",
            "    str : :class:`~pyspark.sql.Column` or str\n",
            "        target column to work on.\n",
            "    pos : int\n",
            "        starting position in str.\n",
            "    len : int\n",
            "        length of chars.\n",
            "    \n",
            "    Returns\n",
            "    -------\n",
            "    :class:`~pyspark.sql.Column`\n",
            "        substring of given value.\n",
            "    \n",
            "    Examples\n",
            "    --------\n",
            "    >>> df = spark.createDataFrame([('abcd',)], ['s',])\n",
            "    >>> df.select(substring(df.s, 1, 2).alias('s')).collect()\n",
            "    [Row(s='ab')]\n",
            "\n"
          ]
        }
      ]
    },
    {
      "cell_type": "code",
      "source": [
        "rc.show(3)"
      ],
      "metadata": {
        "colab": {
          "base_uri": "https://localhost:8080/"
        },
        "id": "ft9Muf_x2k8V",
        "outputId": "9687050f-9e5b-4b82-da62-8361609d754a"
      },
      "execution_count": null,
      "outputs": [
        {
          "output_type": "stream",
          "name": "stdout",
          "text": [
            "+--------+-----------+--------------------+------------------+----+---------------+--------------+--------------------+------+--------+----+--------+----+--------------+--------+------------+------------+----+--------------------+--------+---------+--------+\n",
            "|      ID|Case Number|                Date|             Block|IUCR|   Primary Type|   Description|Location Description|Arrest|Domestic|Beat|District|Ward|Community Area|FBI Code|X Coordinate|Y Coordinate|Year|          Updated On|Latitude|Longitude|Location|\n",
            "+--------+-----------+--------------------+------------------+----+---------------+--------------+--------------------+------+--------+----+--------+----+--------------+--------+------------+------------+----+--------------------+--------+---------+--------+\n",
            "| 5741943|   HN549294|08/25/2007 09:22:...|074XX N ROGERS AVE|0560|        ASSAULT|        SIMPLE|               OTHER| false|   false|2422|     024|  49|             1|     08A|        NULL|        NULL|2007|08/17/2015 03:03:...|    NULL|     NULL|    NULL|\n",
            "| 1930689|   HH109118|01/05/2002 09:24:...|    007XX E 103 ST|0820|          THEFT|$500 AND UNDER|         GAS STATION|  true|   false|0512|     005|NULL|          NULL|      06|        NULL|        NULL|2002|02/04/2016 06:33:...|    NULL|     NULL|    NULL|\n",
            "|13203321|   JG415333|09/06/2023 05:00:...|  002XX N Wells st|1320|CRIMINAL DAMAGE|    TO VEHICLE|PARKING LOT / GAR...| false|   false|0122|     001|  42|            32|      14|        NULL|        NULL|2023|09/14/2023 03:43:...|    NULL|     NULL|    NULL|\n",
            "+--------+-----------+--------------------+------------------+----+---------------+--------------+--------------------+------+--------+----+--------+----+--------------+--------+------------+------------+----+--------------------+--------+---------+--------+\n",
            "only showing top 3 rows\n",
            "\n"
          ]
        }
      ]
    },
    {
      "cell_type": "code",
      "source": [
        "rc.select(lower(col('Primary Type')),upper(col('Primary Type')),substring(col('Primary Type'),1,4)).show(3)"
      ],
      "metadata": {
        "colab": {
          "base_uri": "https://localhost:8080/"
        },
        "id": "FlfT7ypS2cOF",
        "outputId": "6b3feb0e-96e9-4a63-ed34-bfb6fd1f9bc6"
      },
      "execution_count": null,
      "outputs": [
        {
          "output_type": "stream",
          "name": "stdout",
          "text": [
            "+-------------------+-------------------+-----------------------------+\n",
            "|lower(Primary Type)|upper(Primary Type)|substring(Primary Type, 1, 4)|\n",
            "+-------------------+-------------------+-----------------------------+\n",
            "|            assault|            ASSAULT|                         ASSA|\n",
            "|              theft|              THEFT|                         THEF|\n",
            "|    criminal damage|    CRIMINAL DAMAGE|                         CRIM|\n",
            "+-------------------+-------------------+-----------------------------+\n",
            "only showing top 3 rows\n",
            "\n"
          ]
        }
      ]
    },
    {
      "cell_type": "markdown",
      "source": [
        "##Numeric functions"
      ],
      "metadata": {
        "id": "bBsff5tq3wol"
      }
    },
    {
      "cell_type": "markdown",
      "source": [
        "SHow the oldest date and the most recent date"
      ],
      "metadata": {
        "id": "j1FXkXzB30bD"
      }
    },
    {
      "cell_type": "code",
      "source": [
        "from pyspark.sql.functions import min,max"
      ],
      "metadata": {
        "id": "HF3qD9fI26vl"
      },
      "execution_count": null,
      "outputs": []
    },
    {
      "cell_type": "code",
      "source": [
        "rc.select(min(col('Date')),max(col('Date'))).show()"
      ],
      "metadata": {
        "id": "hzKO_q4d4CWR",
        "colab": {
          "base_uri": "https://localhost:8080/"
        },
        "outputId": "18e25ac8-bce3-4236-b840-b6489e65ba9e"
      },
      "execution_count": null,
      "outputs": [
        {
          "output_type": "stream",
          "name": "stdout",
          "text": [
            "+--------------------+--------------------+\n",
            "|           min(Date)|           max(Date)|\n",
            "+--------------------+--------------------+\n",
            "|01/01/2001 01:00:...|12/31/2022 12:59:...|\n",
            "+--------------------+--------------------+\n",
            "\n"
          ]
        }
      ]
    },
    {
      "cell_type": "markdown",
      "source": [
        "##Date"
      ],
      "metadata": {
        "id": "zW9cU_SM59RM"
      }
    },
    {
      "cell_type": "markdown",
      "source": [
        "What is 3 days earlier than the oldest date and 3 days later than the most recent date"
      ],
      "metadata": {
        "id": "s8SbTIy_5_9W"
      }
    },
    {
      "cell_type": "code",
      "source": [
        "from pyspark.sql.functions import date_add,date_sub,date_diff"
      ],
      "metadata": {
        "id": "6d8BZj8L4RPE"
      },
      "execution_count": null,
      "outputs": []
    },
    {
      "cell_type": "code",
      "source": [
        "rc.select(date_sub(max(col('Date')),3),date_add(max(col('Date')),3)).show()"
      ],
      "metadata": {
        "colab": {
          "base_uri": "https://localhost:8080/"
        },
        "id": "5627jtYw6a1Y",
        "outputId": "3ec60230-c98f-4096-83bf-df97267f8d66"
      },
      "execution_count": null,
      "outputs": [
        {
          "output_type": "stream",
          "name": "stdout",
          "text": [
            "+----------------------+----------------------+\n",
            "|date_sub(max(Date), 3)|date_add(max(Date), 3)|\n",
            "+----------------------+----------------------+\n",
            "|                  NULL|                  NULL|\n",
            "+----------------------+----------------------+\n",
            "\n"
          ]
        }
      ]
    },
    {
      "cell_type": "code",
      "source": [
        "rc.schema"
      ],
      "metadata": {
        "colab": {
          "base_uri": "https://localhost:8080/"
        },
        "id": "2vkcQ6rb6vz-",
        "outputId": "aae0f52a-456f-43c5-9a9f-d1640390aff5"
      },
      "execution_count": null,
      "outputs": [
        {
          "output_type": "execute_result",
          "data": {
            "text/plain": [
              "StructType([StructField('ID', StringType(), True), StructField('Case Number', StringType(), True), StructField('Date', StringType(), True), StructField('Block', StringType(), True), StructField('IUCR', StringType(), True), StructField('Primary Type', StringType(), True), StructField('Description', StringType(), True), StructField('Location Description', StringType(), True), StructField('Arrest', StringType(), True), StructField('Domestic', StringType(), True), StructField('Beat', StringType(), True), StructField('District', StringType(), True), StructField('Ward', StringType(), True), StructField('Community Area', StringType(), True), StructField('FBI Code', StringType(), True), StructField('X Coordinate', StringType(), True), StructField('Y Coordinate', StringType(), True), StructField('Year', StringType(), True), StructField('Updated On', StringType(), True), StructField('Latitude', StringType(), True), StructField('Longitude', StringType(), True), StructField('Location', StringType(), True)])"
            ]
          },
          "metadata": {},
          "execution_count": 44
        }
      ]
    },
    {
      "cell_type": "markdown",
      "source": [
        "Christmas Code"
      ],
      "metadata": {
        "id": "agDPVdDt9NAz"
      }
    },
    {
      "cell_type": "code",
      "source": [
        "df=spark.createDataFrame([('2019-12-25 13:30:00',)],['Christmas'])\n",
        "df.show()"
      ],
      "metadata": {
        "colab": {
          "base_uri": "https://localhost:8080/"
        },
        "id": "IiPCGgPJ8pxF",
        "outputId": "e4a65f5c-8608-419d-d371-26974155312c"
      },
      "execution_count": null,
      "outputs": [
        {
          "output_type": "stream",
          "name": "stdout",
          "text": [
            "+-------------------+\n",
            "|          Christmas|\n",
            "+-------------------+\n",
            "|2019-12-25 13:30:00|\n",
            "+-------------------+\n",
            "\n"
          ]
        }
      ]
    },
    {
      "cell_type": "code",
      "source": [
        "df.schema"
      ],
      "metadata": {
        "colab": {
          "base_uri": "https://localhost:8080/"
        },
        "id": "eWIoBGLU9fc9",
        "outputId": "21717a89-04d9-44af-e4d7-0b257cc617fd"
      },
      "execution_count": null,
      "outputs": [
        {
          "output_type": "execute_result",
          "data": {
            "text/plain": [
              "StructType([StructField('Christmas', StringType(), True)])"
            ]
          },
          "metadata": {},
          "execution_count": 46
        }
      ]
    },
    {
      "cell_type": "code",
      "source": [
        "from pyspark.sql.functions import to_date\n",
        "df.select(to_date(col('Christmas'),'yyyy-MM-dd HH:mm:ss'),to_timestamp(col('Christmas'),'yyyy-MM-dd HH:mm:ss')).show()"
      ],
      "metadata": {
        "colab": {
          "base_uri": "https://localhost:8080/"
        },
        "id": "HdPkpCvm9s1W",
        "outputId": "2787ca3f-6115-46ea-ff78-c89fe1dffa2f"
      },
      "execution_count": null,
      "outputs": [
        {
          "output_type": "stream",
          "name": "stdout",
          "text": [
            "+---------------------------------------+--------------------------------------------+\n",
            "|to_date(Christmas, yyyy-MM-dd HH:mm:ss)|to_timestamp(Christmas, yyyy-MM-dd HH:mm:ss)|\n",
            "+---------------------------------------+--------------------------------------------+\n",
            "|                             2019-12-25|                         2019-12-25 13:30:00|\n",
            "+---------------------------------------+--------------------------------------------+\n",
            "\n"
          ]
        }
      ]
    },
    {
      "cell_type": "code",
      "source": [
        "df=spark.createDataFrame([('25/Dec/2019 13:30:00',)],['Christmas'])\n",
        "df.select(to_date(col('Christmas'),'dd/MMM/yyyy HH:mm:ss'),to_timestamp(col('Christmas'),'dd/MMM/yyyy HH:mm:ss')).show()"
      ],
      "metadata": {
        "colab": {
          "base_uri": "https://localhost:8080/"
        },
        "id": "f1bp2VTg-ZzH",
        "outputId": "abc2d91e-a3f9-4725-c7c9-3d51dd393332"
      },
      "execution_count": null,
      "outputs": [
        {
          "output_type": "stream",
          "name": "stdout",
          "text": [
            "+----------------------------------------+---------------------------------------------+\n",
            "|to_date(Christmas, dd/MMM/yyyy HH:mm:ss)|to_timestamp(Christmas, dd/MMM/yyyy HH:mm:ss)|\n",
            "+----------------------------------------+---------------------------------------------+\n",
            "|                              2019-12-25|                          2019-12-25 13:30:00|\n",
            "+----------------------------------------+---------------------------------------------+\n",
            "\n"
          ]
        }
      ]
    },
    {
      "cell_type": "code",
      "source": [
        "df=spark.createDataFrame([('25-Dec-2019',)],['Christmas'])\n",
        "df.select(to_date(col('Christmas'),'dd-MMM-yyyy'),to_timestamp(col('Christmas'),'dd-MMM-yyyy')).show()"
      ],
      "metadata": {
        "colab": {
          "base_uri": "https://localhost:8080/"
        },
        "id": "cDQDIgEY-k4j",
        "outputId": "cb5333b7-7e25-40f4-c484-acbb9eb56068"
      },
      "execution_count": null,
      "outputs": [
        {
          "output_type": "stream",
          "name": "stdout",
          "text": [
            "+-------------------------------+------------------------------------+\n",
            "|to_date(Christmas, dd-MMM-yyyy)|to_timestamp(Christmas, dd-MMM-yyyy)|\n",
            "+-------------------------------+------------------------------------+\n",
            "|                     2019-12-25|                 2019-12-25 00:00:00|\n",
            "+-------------------------------+------------------------------------+\n",
            "\n"
          ]
        }
      ]
    },
    {
      "cell_type": "code",
      "source": [
        "df=spark.createDataFrame([('12/25/2019 09:00:01 PM',)],['Christmas'])\n",
        "df.select(to_date(col('Christmas'),'MM/dd/yyyy hh:mm:ss a'),to_timestamp(col('Christmas'),'MM/dd/yyyy hh:mm:ss a')).show()"
      ],
      "metadata": {
        "colab": {
          "base_uri": "https://localhost:8080/"
        },
        "id": "L_V-uVsV-7YQ",
        "outputId": "cbaab8e0-dfd8-467b-8286-dd5d883d01e7"
      },
      "execution_count": null,
      "outputs": [
        {
          "output_type": "stream",
          "name": "stdout",
          "text": [
            "+-----------------------------------------+----------------------------------------------+\n",
            "|to_date(Christmas, MM/dd/yyyy hh:mm:ss a)|to_timestamp(Christmas, MM/dd/yyyy hh:mm:ss a)|\n",
            "+-----------------------------------------+----------------------------------------------+\n",
            "|                               2019-12-25|                           2019-12-25 21:00:01|\n",
            "+-----------------------------------------+----------------------------------------------+\n",
            "\n"
          ]
        }
      ]
    },
    {
      "cell_type": "code",
      "source": [
        "df=spark.createDataFrame([('12/25/2019 09:00:01 PM',)],['Christmas'])\n",
        "df.show(truncate=False)"
      ],
      "metadata": {
        "colab": {
          "base_uri": "https://localhost:8080/"
        },
        "id": "ij3jY5GC_Lvw",
        "outputId": "d14c9318-a664-4112-df99-127ce9d9f5f1"
      },
      "execution_count": null,
      "outputs": [
        {
          "output_type": "stream",
          "name": "stdout",
          "text": [
            "+----------------------+\n",
            "|Christmas             |\n",
            "+----------------------+\n",
            "|12/25/2019 09:00:01 PM|\n",
            "+----------------------+\n",
            "\n"
          ]
        }
      ]
    },
    {
      "cell_type": "code",
      "source": [
        "df.select(to_date(col('Christmas'),'MM/dd/yyyy hh:mm:ss a'),to_timestamp(col('Christmas'),'MM/dd/yyyy hh:mm:ss a')).show()"
      ],
      "metadata": {
        "colab": {
          "base_uri": "https://localhost:8080/"
        },
        "id": "zDiTxstcACta",
        "outputId": "2c9b9598-2e00-4ff7-abc9-f5531c8fdec3"
      },
      "execution_count": null,
      "outputs": [
        {
          "output_type": "stream",
          "name": "stdout",
          "text": [
            "+-----------------------------------------+----------------------------------------------+\n",
            "|to_date(Christmas, MM/dd/yyyy hh:mm:ss a)|to_timestamp(Christmas, MM/dd/yyyy hh:mm:ss a)|\n",
            "+-----------------------------------------+----------------------------------------------+\n",
            "|                               2019-12-25|                           2019-12-25 21:00:01|\n",
            "+-----------------------------------------+----------------------------------------------+\n",
            "\n"
          ]
        }
      ]
    },
    {
      "cell_type": "markdown",
      "source": [
        "#Converting strings to Date in csv file"
      ],
      "metadata": {
        "id": "-6SiscEXBomn"
      }
    },
    {
      "cell_type": "code",
      "source": [
        "rc.select(col(\"Date\")).show(5,truncate=False)"
      ],
      "metadata": {
        "colab": {
          "base_uri": "https://localhost:8080/"
        },
        "id": "OJ9u-oJcBnre",
        "outputId": "355044d2-a61c-4da7-ef93-dd19164907cf"
      },
      "execution_count": null,
      "outputs": [
        {
          "output_type": "stream",
          "name": "stdout",
          "text": [
            "+----------------------+\n",
            "|Date                  |\n",
            "+----------------------+\n",
            "|08/25/2007 09:22:18 AM|\n",
            "|01/05/2002 09:24:00 PM|\n",
            "|09/06/2023 05:00:00 PM|\n",
            "|08/31/2023 12:00:00 PM|\n",
            "|07/24/2023 09:45:00 PM|\n",
            "+----------------------+\n",
            "only showing top 5 rows\n",
            "\n"
          ]
        }
      ]
    },
    {
      "cell_type": "code",
      "source": [
        "rc.Date=rc.select(to_date(col(\"Date\"),'MM/dd/yyyy hh:mm:ss a'))"
      ],
      "metadata": {
        "id": "SnuLDLG1BKzt"
      },
      "execution_count": null,
      "outputs": []
    },
    {
      "cell_type": "code",
      "source": [
        "rc.select(col(\"Date\")).show(5,truncate=False)"
      ],
      "metadata": {
        "colab": {
          "base_uri": "https://localhost:8080/"
        },
        "id": "OWQYVBkFO71L",
        "outputId": "cdecd316-6e36-403d-821b-e94bf009d348"
      },
      "execution_count": null,
      "outputs": [
        {
          "output_type": "stream",
          "name": "stdout",
          "text": [
            "+----------------------+\n",
            "|Date                  |\n",
            "+----------------------+\n",
            "|08/25/2007 09:22:18 AM|\n",
            "|01/05/2002 09:24:00 PM|\n",
            "|09/06/2023 05:00:00 PM|\n",
            "|08/31/2023 12:00:00 PM|\n",
            "|07/24/2023 09:45:00 PM|\n",
            "+----------------------+\n",
            "only showing top 5 rows\n",
            "\n"
          ]
        }
      ]
    },
    {
      "cell_type": "code",
      "source": [
        "rc.schema"
      ],
      "metadata": {
        "colab": {
          "base_uri": "https://localhost:8080/"
        },
        "id": "78WX7CiiO-gV",
        "outputId": "b1afea93-3a6c-48c2-f642-2f6b0d999ed4"
      },
      "execution_count": null,
      "outputs": [
        {
          "output_type": "execute_result",
          "data": {
            "text/plain": [
              "StructType([StructField('ID', StringType(), True), StructField('Case Number', StringType(), True), StructField('Date', StringType(), True), StructField('Block', StringType(), True), StructField('IUCR', StringType(), True), StructField('Primary Type', StringType(), True), StructField('Description', StringType(), True), StructField('Location Description', StringType(), True), StructField('Arrest', StringType(), True), StructField('Domestic', StringType(), True), StructField('Beat', StringType(), True), StructField('District', StringType(), True), StructField('Ward', StringType(), True), StructField('Community Area', StringType(), True), StructField('FBI Code', StringType(), True), StructField('X Coordinate', StringType(), True), StructField('Y Coordinate', StringType(), True), StructField('Year', StringType(), True), StructField('Updated On', StringType(), True), StructField('Latitude', StringType(), True), StructField('Longitude', StringType(), True), StructField('Location', StringType(), True)])"
            ]
          },
          "metadata": {},
          "execution_count": 57
        }
      ]
    },
    {
      "cell_type": "markdown",
      "source": [
        "##Joins"
      ],
      "metadata": {
        "id": "hhWsFIpEQuS1"
      }
    },
    {
      "cell_type": "markdown",
      "source": [
        "Download chicago police station data"
      ],
      "metadata": {
        "id": "qEn3fQrcRy-n"
      }
    },
    {
      "cell_type": "code",
      "source": [
        "!wget https://data.cityofchicago.org/api/views/z8bn-74gv/rows.csv?accessType=DOWNLOAD"
      ],
      "metadata": {
        "colab": {
          "base_uri": "https://localhost:8080/"
        },
        "id": "E1g0X7FJPAKK",
        "outputId": "33544c55-c5b9-4d37-84d6-9adb21a24326"
      },
      "execution_count": null,
      "outputs": [
        {
          "output_type": "stream",
          "name": "stdout",
          "text": [
            "--2023-09-30 04:11:17--  https://data.cityofchicago.org/api/views/z8bn-74gv/rows.csv?accessType=DOWNLOAD\n",
            "Resolving data.cityofchicago.org (data.cityofchicago.org)... 52.206.140.205, 52.206.68.26, 52.206.140.199\n",
            "Connecting to data.cityofchicago.org (data.cityofchicago.org)|52.206.140.205|:443... connected.\n",
            "HTTP request sent, awaiting response... 200 OK\n",
            "Length: unspecified [text/csv]\n",
            "Saving to: ‘rows.csv?accessType=DOWNLOAD’\n",
            "\n",
            "\r          rows.csv?     [<=>                 ]       0  --.-KB/s               \rrows.csv?accessType     [ <=>                ]   5.57K  --.-KB/s    in 0s      \n",
            "\n",
            "2023-09-30 04:11:17 (1.85 GB/s) - ‘rows.csv?accessType=DOWNLOAD’ saved [5699]\n",
            "\n"
          ]
        }
      ]
    },
    {
      "cell_type": "code",
      "source": [
        "!mv rows.csv\\?accessType\\=DOWNLOAD police-station.csv"
      ],
      "metadata": {
        "id": "sy3XiW8gSJf1"
      },
      "execution_count": null,
      "outputs": []
    },
    {
      "cell_type": "code",
      "source": [
        "ps=spark.read.csv('police-station.csv', header=True)"
      ],
      "metadata": {
        "id": "V9Lw7wZgSYbq"
      },
      "execution_count": null,
      "outputs": []
    },
    {
      "cell_type": "code",
      "source": [
        "ps.show(5)"
      ],
      "metadata": {
        "colab": {
          "base_uri": "https://localhost:8080/"
        },
        "id": "1k5f5vAYS2Jy",
        "outputId": "145fad9f-7f91-4464-c7c6-56c738491bc0"
      },
      "execution_count": null,
      "outputs": [
        {
          "output_type": "stream",
          "name": "stdout",
          "text": [
            "+------------+-------------+-------------------+-------+-----+-----+--------------------+------------+------------+------------+------------+------------+-----------+------------+--------------------+\n",
            "|    DISTRICT|DISTRICT NAME|            ADDRESS|   CITY|STATE|  ZIP|             WEBSITE|       PHONE|         FAX|         TTY|X COORDINATE|Y COORDINATE|   LATITUDE|   LONGITUDE|            LOCATION|\n",
            "+------------+-------------+-------------------+-------+-----+-----+--------------------+------------+------------+------------+------------+------------+-----------+------------+--------------------+\n",
            "|Headquarters| Headquarters|3510 S Michigan Ave|Chicago|   IL|60653|http://home.chica...|        NULL|        NULL|        NULL| 1177731.401| 1881697.404|41.83070169|-87.62339535|(41.8307016873, -...|\n",
            "|          18|   Near North| 1160 N Larrabee St|Chicago|   IL|60610|http://home.chica...|312-742-5870|312-742-5771|312-742-5773| 1172080.029| 1908086.527|41.90324165|-87.64335214|(41.9032416531, -...|\n",
            "|          19|    Town Hall|   850 W Addison St|Chicago|   IL|60613|http://home.chica...|312-744-8320|312-744-4481|312-744-8011| 1169730.744| 1924160.317|41.94740046|-87.65151202|(41.9474004564, -...|\n",
            "|          20|      Lincoln| 5400 N Lincoln Ave|Chicago|   IL|60625|http://home.chica...|312-742-8714|312-742-8803|312-742-8841| 1158399.146| 1935788.826|41.97954951|-87.69284451|(41.9795495131, -...|\n",
            "|          22|  Morgan Park|1900 W Monterey Ave|Chicago|   IL|60643|http://home.chica...|312-745-0710|312-745-0814|312-745-0569| 1165825.476| 1830851.333|41.69143478|-87.66852039|(41.6914347795, -...|\n",
            "+------------+-------------+-------------------+-------+-----+-----+--------------------+------------+------------+------------+------------+------------+-----------+------------+--------------------+\n",
            "only showing top 5 rows\n",
            "\n"
          ]
        }
      ]
    },
    {
      "cell_type": "markdown",
      "source": [
        "Add the district name by joining with the police station dataset"
      ],
      "metadata": {
        "id": "MKKg6j2qTDJT"
      }
    },
    {
      "cell_type": "code",
      "source": [
        "rc.cache()\n",
        "rc.count()"
      ],
      "metadata": {
        "colab": {
          "base_uri": "https://localhost:8080/"
        },
        "id": "ZBWznGnsS5CX",
        "outputId": "96e3b3b2-1b7d-489b-a665-b4512a979a72"
      },
      "execution_count": null,
      "outputs": [
        {
          "output_type": "execute_result",
          "data": {
            "text/plain": [
              "7899939"
            ]
          },
          "metadata": {},
          "execution_count": 62
        }
      ]
    },
    {
      "cell_type": "code",
      "source": [
        "ps.select(col('District')).distinct().show(30)"
      ],
      "metadata": {
        "colab": {
          "base_uri": "https://localhost:8080/"
        },
        "id": "SP4bOoWXTQ0P",
        "outputId": "3cee867e-3de2-4b6d-901e-95ce11587fbf"
      },
      "execution_count": null,
      "outputs": [
        {
          "output_type": "stream",
          "name": "stdout",
          "text": [
            "+--------------------+\n",
            "|            District|\n",
            "+--------------------+\n",
            "|                   7|\n",
            "|                  15|\n",
            "|                  11|\n",
            "|                   3|\n",
            "|                   8|\n",
            "|                  22|\n",
            "|                  16|\n",
            "|                   5|\n",
            "|                  18|\n",
            "|                  17|\n",
            "|                   6|\n",
            "|                  19|\n",
            "|                  25|\n",
            "|        Headquarters|\n",
            "|                  24|\n",
            "|                   9|\n",
            "|                   1|\n",
            "|                  20|\n",
            "|                  10|\n",
            "|                   4|\n",
            "|                  12|\n",
            "|                  14|\n",
            "|                   2|\n",
            "|\",Chicago,IL,6060...|\n",
            "+--------------------+\n",
            "\n"
          ]
        }
      ]
    },
    {
      "cell_type": "code",
      "source": [
        "rc.select(col('District')).distinct().show(30)"
      ],
      "metadata": {
        "colab": {
          "base_uri": "https://localhost:8080/"
        },
        "id": "0YEhDD9ATWRi",
        "outputId": "d69ced29-d9d1-4890-95ef-296ef1e34217"
      },
      "execution_count": null,
      "outputs": [
        {
          "output_type": "stream",
          "name": "stdout",
          "text": [
            "+--------+\n",
            "|District|\n",
            "+--------+\n",
            "|     009|\n",
            "|     012|\n",
            "|     024|\n",
            "|     031|\n",
            "|     015|\n",
            "|     006|\n",
            "|     019|\n",
            "|     020|\n",
            "|     011|\n",
            "|     025|\n",
            "|     005|\n",
            "|     003|\n",
            "|     016|\n",
            "|     018|\n",
            "|     008|\n",
            "|     022|\n",
            "|     001|\n",
            "|     014|\n",
            "|     010|\n",
            "|     004|\n",
            "|     017|\n",
            "|     007|\n",
            "|     002|\n",
            "|     021|\n",
            "|      16|\n",
            "|    NULL|\n",
            "+--------+\n",
            "\n"
          ]
        }
      ]
    },
    {
      "cell_type": "code",
      "source": [
        "from pyspark.sql.functions import lpad"
      ],
      "metadata": {
        "id": "WkQpa8bPUWz-"
      },
      "execution_count": null,
      "outputs": []
    },
    {
      "cell_type": "code",
      "source": [
        "help(lpad)"
      ],
      "metadata": {
        "colab": {
          "base_uri": "https://localhost:8080/"
        },
        "id": "uXo5rHbUVG5w",
        "outputId": "14e2d1c2-65d2-4471-aa52-2672661628c4"
      },
      "execution_count": null,
      "outputs": [
        {
          "output_type": "stream",
          "name": "stdout",
          "text": [
            "Help on function lpad in module pyspark.sql.functions:\n",
            "\n",
            "lpad(col: 'ColumnOrName', len: int, pad: str) -> pyspark.sql.column.Column\n",
            "    Left-pad the string column to width `len` with `pad`.\n",
            "    \n",
            "    .. versionadded:: 1.5.0\n",
            "    \n",
            "    .. versionchanged:: 3.4.0\n",
            "        Supports Spark Connect.\n",
            "    \n",
            "    Parameters\n",
            "    ----------\n",
            "    col : :class:`~pyspark.sql.Column` or str\n",
            "        target column to work on.\n",
            "    len : int\n",
            "        length of the final string.\n",
            "    pad : str\n",
            "        chars to prepend.\n",
            "    \n",
            "    Returns\n",
            "    -------\n",
            "    :class:`~pyspark.sql.Column`\n",
            "        left padded result.\n",
            "    \n",
            "    Examples\n",
            "    --------\n",
            "    >>> df = spark.createDataFrame([('abcd',)], ['s',])\n",
            "    >>> df.select(lpad(df.s, 6, '#').alias('s')).collect()\n",
            "    [Row(s='##abcd')]\n",
            "\n"
          ]
        }
      ]
    },
    {
      "cell_type": "code",
      "source": [
        "ps.select(lpad(col('District'),3,'0')).show(20)"
      ],
      "metadata": {
        "colab": {
          "base_uri": "https://localhost:8080/"
        },
        "id": "FvIX6atqVIS3",
        "outputId": "60833149-2fe4-471c-b719-983af206e51c"
      },
      "execution_count": null,
      "outputs": [
        {
          "output_type": "stream",
          "name": "stdout",
          "text": [
            "+--------------------+\n",
            "|lpad(District, 3, 0)|\n",
            "+--------------------+\n",
            "|                 Hea|\n",
            "|                 018|\n",
            "|                 019|\n",
            "|                 020|\n",
            "|                 022|\n",
            "|                 024|\n",
            "|                 025|\n",
            "|                 001|\n",
            "|                 002|\n",
            "|                 003|\n",
            "|                 004|\n",
            "|                 005|\n",
            "|                 006|\n",
            "|                 007|\n",
            "|                 008|\n",
            "|                 009|\n",
            "|                 010|\n",
            "|                 011|\n",
            "|                 012|\n",
            "|                 \",C|\n",
            "+--------------------+\n",
            "only showing top 20 rows\n",
            "\n"
          ]
        }
      ]
    },
    {
      "cell_type": "code",
      "source": [
        "ps=ps.withColumn('Format_District',lpad(col('District'),3,'0'))"
      ],
      "metadata": {
        "id": "zBOT80rqVVIX"
      },
      "execution_count": null,
      "outputs": []
    },
    {
      "cell_type": "code",
      "source": [
        "ps.show(5)"
      ],
      "metadata": {
        "colab": {
          "base_uri": "https://localhost:8080/"
        },
        "id": "Stom8brC7OPK",
        "outputId": "ab7f050e-300f-4324-d689-842592c331c2"
      },
      "execution_count": null,
      "outputs": [
        {
          "output_type": "stream",
          "name": "stdout",
          "text": [
            "+------------+-------------+-------------------+-------+-----+-----+--------------------+------------+------------+------------+------------+------------+-----------+------------+--------------------+---------------+\n",
            "|    DISTRICT|DISTRICT NAME|            ADDRESS|   CITY|STATE|  ZIP|             WEBSITE|       PHONE|         FAX|         TTY|X COORDINATE|Y COORDINATE|   LATITUDE|   LONGITUDE|            LOCATION|Format_District|\n",
            "+------------+-------------+-------------------+-------+-----+-----+--------------------+------------+------------+------------+------------+------------+-----------+------------+--------------------+---------------+\n",
            "|Headquarters| Headquarters|3510 S Michigan Ave|Chicago|   IL|60653|http://home.chica...|        NULL|        NULL|        NULL| 1177731.401| 1881697.404|41.83070169|-87.62339535|(41.8307016873, -...|            Hea|\n",
            "|          18|   Near North| 1160 N Larrabee St|Chicago|   IL|60610|http://home.chica...|312-742-5870|312-742-5771|312-742-5773| 1172080.029| 1908086.527|41.90324165|-87.64335214|(41.9032416531, -...|            018|\n",
            "|          19|    Town Hall|   850 W Addison St|Chicago|   IL|60613|http://home.chica...|312-744-8320|312-744-4481|312-744-8011| 1169730.744| 1924160.317|41.94740046|-87.65151202|(41.9474004564, -...|            019|\n",
            "|          20|      Lincoln| 5400 N Lincoln Ave|Chicago|   IL|60625|http://home.chica...|312-742-8714|312-742-8803|312-742-8841| 1158399.146| 1935788.826|41.97954951|-87.69284451|(41.9795495131, -...|            020|\n",
            "|          22|  Morgan Park|1900 W Monterey Ave|Chicago|   IL|60643|http://home.chica...|312-745-0710|312-745-0814|312-745-0569| 1165825.476| 1830851.333|41.69143478|-87.66852039|(41.6914347795, -...|            022|\n",
            "+------------+-------------+-------------------+-------+-----+-----+--------------------+------------+------------+------------+------------+------------+-----------+------------+--------------------+---------------+\n",
            "only showing top 5 rows\n",
            "\n"
          ]
        }
      ]
    },
    {
      "cell_type": "code",
      "source": [
        "rc.join(ps,rc.District==ps.Format_District,'left_outer').show()"
      ],
      "metadata": {
        "colab": {
          "base_uri": "https://localhost:8080/"
        },
        "id": "NwX99UJS7RaO",
        "outputId": "a1cbcd10-6a42-4665-94b4-6d10c03f68b7"
      },
      "execution_count": null,
      "outputs": [
        {
          "output_type": "stream",
          "name": "stdout",
          "text": [
            "+--------+-----------+--------------------+--------------------+----+--------------------+--------------------+--------------------+------+--------+----+--------+----+--------------+--------+------------+------------+----+--------------------+------------+-------------+--------------------+--------+--------------+--------------------+-------+-----+-----+--------------------+------------+------------+------------+------------+------------+-----------+------------+--------------------+---------------+\n",
            "|      ID|Case Number|                Date|               Block|IUCR|        Primary Type|         Description|Location Description|Arrest|Domestic|Beat|District|Ward|Community Area|FBI Code|X Coordinate|Y Coordinate|Year|          Updated On|    Latitude|    Longitude|            Location|DISTRICT| DISTRICT NAME|             ADDRESS|   CITY|STATE|  ZIP|             WEBSITE|       PHONE|         FAX|         TTY|X COORDINATE|Y COORDINATE|   LATITUDE|   LONGITUDE|            LOCATION|Format_District|\n",
            "+--------+-----------+--------------------+--------------------+----+--------------------+--------------------+--------------------+------+--------+----+--------+----+--------------+--------+------------+------------+----+--------------------+------------+-------------+--------------------+--------+--------------+--------------------+-------+-----+-----+--------------------+------------+------------+------------+------------+------------+-----------+------------+--------------------+---------------+\n",
            "| 5741943|   HN549294|08/25/2007 09:22:...|  074XX N ROGERS AVE|0560|             ASSAULT|              SIMPLE|               OTHER| false|   false|2422|     024|  49|             1|     08A|        NULL|        NULL|2007|08/17/2015 03:03:...|        NULL|         NULL|                NULL|      24|   Rogers Park|     6464 N Clark St|Chicago|   IL|60626|http://home.chica...|312-744-5907|312-744-6928|312-744-7603| 1164193.588| 1943199.401|41.99976348|-87.67132429|(41.9997634842, -...|            024|\n",
            "| 1930689|   HH109118|01/05/2002 09:24:...|      007XX E 103 ST|0820|               THEFT|      $500 AND UNDER|         GAS STATION|  true|   false|0512|     005|NULL|          NULL|      06|        NULL|        NULL|2002|02/04/2016 06:33:...|        NULL|         NULL|                NULL|       5|       Calumet|      727 E 111th St|Chicago|   IL|60628|http://home.chica...|312-747-8210|312-747-5935|312-747-9170| 1183305.427| 1831462.313|41.69272336|-87.60450587|(41.6927233639, -...|            005|\n",
            "|13203321|   JG415333|09/06/2023 05:00:...|    002XX N Wells st|1320|     CRIMINAL DAMAGE|          TO VEHICLE|PARKING LOT / GAR...| false|   false|0122|     001|  42|            32|      14|        NULL|        NULL|2023|09/14/2023 03:43:...|        NULL|         NULL|                NULL|       1|       Central|     1718 S State St|Chicago|   IL|60616|http://home.chica...|312-745-4290|312-745-3694|312-745-3693| 1176569.052| 1891771.704|41.85837259|-87.62735617|(41.8583725929, -...|            001|\n",
            "|13210088|   JG423627|08/31/2023 12:00:...|023XX W JACKSON BLVD|1153|  DECEPTIVE PRACTICE|FINANCIAL IDENTIT...|              STREET| false|   false|1225|     012|  27|            28|      11|     1160870|     1898642|2023|09/16/2023 03:41:...|41.877565108| -87.68479102|(41.877565108, -8...|      12|     Near West|1412 S Blue Islan...|   NULL| NULL| NULL|                NULL|        NULL|        NULL|        NULL|        NULL|        NULL|       NULL|        NULL|                NULL|            012|\n",
            "|13210004|   JG422532|07/24/2023 09:45:...|073XX S JEFFERY BLVD|0281|CRIMINAL SEXUAL A...|      NON-AGGRAVATED|           APARTMENT| false|   false|0333|     003|   7|            43|      02|     1190812|     1856743|2023|09/16/2023 03:41:...|  41.7619185|-87.576209245|(41.7619185, -87....|       3|Grand Crossing|7040 S Cottage Gr...|Chicago|   IL|60637|http://home.chica...|312-747-8201|312-747-5479|312-747-9168| 1182739.183| 1858317.732|41.76643089|-87.60574786|(41.7664308925, -...|            003|\n",
            "|13210062|   JG423596|08/27/2023 07:00:...|034XX N LAWNDALE AVE|0820|               THEFT|      $500 AND UNDER|           APARTMENT| false|   false|1732|     017|  30|            21|      06|     1151117|     1922554|2023|09/16/2023 03:41:...|41.943378528|  -87.7199738|(41.943378528, -8...|      17|   Albany Park|   4650 N Pulaski Rd|Chicago|   IL|60630|http://home.chica...|312-742-4410|312-742-5411|312-742-5451|  1148843.91| 1930801.058|41.96605342|-87.72811456|(41.9660534171, -...|            017|\n",
            "|13210107|   JG411849|09/04/2023 09:30:...|   053XX S HOMAN AVE|1310|     CRIMINAL DAMAGE|         TO PROPERTY|  RESIDENCE - GARAGE| false|   false|0822|     008|  14|            63|      14|     1154617|     1869046|2023|09/16/2023 03:41:...|41.796477414|-87.708540915|(41.796477414, -8...|       8|  Chicago Lawn|      3420 W 63rd St|Chicago|   IL|60629|http://home.chica...|312-747-8730|312-747-8545|312-747-8116| 1154575.242| 1862672.049|41.77898719|-87.70886382|(41.778987189, -8...|            008|\n",
            "|13210060|   JG423567|08/15/2023 02:20:...|077XX S SPAULDING...|0810|               THEFT|           OVER $500|RESIDENCE - PORCH...| false|   false|0835|     008|  18|            70|      06|     1155724|     1853097|2023|09/16/2023 03:41:...|41.752688801|-87.704908791|(41.752688801, -8...|       8|  Chicago Lawn|      3420 W 63rd St|Chicago|   IL|60629|http://home.chica...|312-747-8730|312-747-8545|312-747-8116| 1154575.242| 1862672.049|41.77898719|-87.70886382|(41.778987189, -8...|            008|\n",
            "|13210120|   JG423499|07/24/2023 04:09:...|     002XX W 75TH ST|1120|  DECEPTIVE PRACTICE|             FORGERY|   CURRENCY EXCHANGE| false|   false|0731|     007|   6|            69|      10|     1175716|     1855233|2023|09/16/2023 03:41:...|41.758126171|-87.631582508|(41.758126171, -8...|       7|     Englewood|      1438 W 63rd St|Chicago|   IL|60636|http://home.chica...|312-747-8223|312-747-6558|312-747-6652| 1167659.235| 1863005.522|41.77963154|-87.66088702|(41.7796315359, -...|            007|\n",
            "|13210071|   JG421086|09/03/2023 10:27:...|   089XX S LOOMIS ST|0890|               THEFT|       FROM BUILDING|           APARTMENT| false|   false|2222|     022|  21|            73|      06|     1168564|     1845472|2023|09/16/2023 03:41:...|41.731497731|-87.658074565|(41.731497731, -8...|      22|   Morgan Park| 1900 W Monterey Ave|Chicago|   IL|60643|http://home.chica...|312-745-0710|312-745-0814|312-745-0569| 1165825.476| 1830851.333|41.69143478|-87.66852039|(41.6914347795, -...|            022|\n",
            "|13210035|   JG422370|08/17/2023 07:00:...|     019XX W 71ST ST|0820|               THEFT|      $500 AND UNDER|              STREET| false|   false|0735|     007|  17|            67|      06|     1164749|     1857588|2023|09/16/2023 03:41:...|41.764827083|-87.671709119|(41.764827083, -8...|       7|     Englewood|      1438 W 63rd St|Chicago|   IL|60636|http://home.chica...|312-747-8223|312-747-6558|312-747-6652| 1167659.235| 1863005.522|41.77963154|-87.66088702|(41.7796315359, -...|            007|\n",
            "|13210008|   JG422517|08/24/2023 02:27:...|  031XX S WALLACE ST|1110|  DECEPTIVE PRACTICE|         BOGUS CHECK|   CURRENCY EXCHANGE| false|   false|0915|     009|  11|            60|      11|     1172803|     1884190|2023|09/16/2023 03:41:...|41.837651929|-87.641404086|(41.837651929, -8...|       9|       Deering|   3120 S Halsted St|Chicago|   IL|60608|http://home.chica...|312-747-8227|312-747-5329|312-747-9172|  1171440.24| 1884085.224|41.83739443|-87.64640771|(41.8373944311, -...|            009|\n",
            "|13210072|   JG422242|08/11/2023 11:00:...|  0000X S ALBANY AVE|1790|OFFENSE INVOLVING...|     CHILD ABDUCTION|           RESIDENCE| false|    true|1124|     011|  28|            27|      26|     1155914|     1899709|2023|09/16/2023 03:41:...|41.880594385|-87.702959421|(41.880594385, -8...|      11|      Harrison|  3151 W Harrison St|Chicago|   IL|60612|http://home.chica...|312-746-8386|312-746-4281|312-746-5151| 1155244.069| 1897148.755|41.87358229|-87.70548813|(41.8735822883, -...|            011|\n",
            "|11662417|   JC232642|04/21/2019 12:30:...|     009XX E 80TH ST|031A|             ROBBERY|     ARMED - HANDGUN|           RESIDENCE| false|   false|0631|     006|   8|            44|      03|     1184044|     1852159|2019|09/14/2023 03:41:...|41.749500329|  -87.6011574|(41.749500329, -8...|       6|       Gresham|   7808 S Halsted St|Chicago|   IL|60620|http://home.chica...|312-745-3617|312-745-3649|312-745-3639| 1172283.013| 1853022.646|41.75213684|-87.64422891|(41.7521368378, -...|            006|\n",
            "|12218064|   JD426642|10/30/2020 04:30:...|     011XX E 82ND ST|0266|CRIMINAL SEXUAL A...|           PREDATORY|           RESIDENCE|  true|    true|0411|     004|   8|            45|      02|     1185144|     1850850|2020|09/14/2023 03:41:...|41.745882542|-87.597167639|(41.745882542, -8...|       4| South Chicago|     2255 E 103rd St|Chicago|   IL|60617|http://home.chica...|312-747-7581|312-747-5276|312-747-9169| 1193131.299| 1837090.265|41.70793329|-87.56834912|(41.7079332906, -...|            004|\n",
            "|12342615|   JE202211|04/17/2021 03:20:...| 081XX S PRAIRIE AVE|0325|             ROBBERY| VEHICULAR HIJACKING|           RESIDENCE|  true|   false|0631|     006|   6|            44|      03|     1179448|     1851073|2021|09/14/2023 03:41:...|41.746626309|-87.618031954|(41.746626309, -8...|       6|       Gresham|   7808 S Halsted St|Chicago|   IL|60620|http://home.chica...|312-745-3617|312-745-3649|312-745-3639| 1172283.013| 1853022.646|41.75213684|-87.64422891|(41.7521368378, -...|            006|\n",
            "|12416972|   JE293535|10/01/2020 12:01:...|     031XX W 53RD PL|1753|OFFENSE INVOLVING...|SEXUAL ASSAULT OF...|           RESIDENCE| false|    true|0923|     009|  14|            63|      02|        NULL|        NULL|2020|09/14/2023 03:41:...|        NULL|         NULL|                NULL|       9|       Deering|   3120 S Halsted St|Chicago|   IL|60608|http://home.chica...|312-747-8227|312-747-5329|312-747-9172|  1171440.24| 1884085.224|41.83739443|-87.64640771|(41.8373944311, -...|            009|\n",
            "|12416974|   JE293464|08/10/2011 12:01:...|     031XX W 53RD PL|1753|OFFENSE INVOLVING...|SEXUAL ASSAULT OF...|           RESIDENCE| false|    true|0923|     009|  14|            63|      02|        NULL|        NULL|2011|09/14/2023 03:41:...|        NULL|         NULL|                NULL|       9|       Deering|   3120 S Halsted St|Chicago|   IL|60608|http://home.chica...|312-747-8227|312-747-5329|312-747-9172|  1171440.24| 1884085.224|41.83739443|-87.64640771|(41.8373944311, -...|            009|\n",
            "|12536164|   JE439378|09/24/2015 12:00:...|     031XX W 53RD PL|1753|OFFENSE INVOLVING...|SEXUAL ASSAULT OF...|           APARTMENT| false|    true|0923|     009|  14|            63|      02|        NULL|        NULL|2015|09/14/2023 03:41:...|        NULL|         NULL|                NULL|       9|       Deering|   3120 S Halsted St|Chicago|   IL|60608|http://home.chica...|312-747-8227|312-747-5329|312-747-9172|  1171440.24| 1884085.224|41.83739443|-87.64640771|(41.8373944311, -...|            009|\n",
            "|12536166|   JE439332|09/07/2014 12:00:...|     031XX W 53RD PL|1753|OFFENSE INVOLVING...|SEXUAL ASSAULT OF...|           APARTMENT| false|    true|0923|     009|  14|            63|      02|        NULL|        NULL|2014|09/14/2023 03:41:...|        NULL|         NULL|                NULL|       9|       Deering|   3120 S Halsted St|Chicago|   IL|60608|http://home.chica...|312-747-8227|312-747-5329|312-747-9172|  1171440.24| 1884085.224|41.83739443|-87.64640771|(41.8373944311, -...|            009|\n",
            "+--------+-----------+--------------------+--------------------+----+--------------------+--------------------+--------------------+------+--------+----+--------+----+--------------+--------+------------+------------+----+--------------------+------------+-------------+--------------------+--------+--------------+--------------------+-------+-----+-----+--------------------+------------+------------+------------+------------+------------+-----------+------------+--------------------+---------------+\n",
            "only showing top 20 rows\n",
            "\n"
          ]
        }
      ]
    },
    {
      "cell_type": "code",
      "source": [
        "ps.columns"
      ],
      "metadata": {
        "colab": {
          "base_uri": "https://localhost:8080/"
        },
        "id": "uXBgHC-37l2a",
        "outputId": "6895b08c-1fbb-46da-e122-a7a6476729bd"
      },
      "execution_count": null,
      "outputs": [
        {
          "output_type": "execute_result",
          "data": {
            "text/plain": [
              "['DISTRICT',\n",
              " 'DISTRICT NAME',\n",
              " 'ADDRESS',\n",
              " 'CITY',\n",
              " 'STATE',\n",
              " 'ZIP',\n",
              " 'WEBSITE',\n",
              " 'PHONE',\n",
              " 'FAX',\n",
              " 'TTY',\n",
              " 'X COORDINATE',\n",
              " 'Y COORDINATE',\n",
              " 'LATITUDE',\n",
              " 'LONGITUDE',\n",
              " 'LOCATION',\n",
              " 'Format_District']"
            ]
          },
          "metadata": {},
          "execution_count": 74
        }
      ]
    },
    {
      "cell_type": "code",
      "source": [
        "rc.join(ps,rc.District==ps.Format_District,'left_outer').drop('ADDRESS',\n",
        " 'CITY',\n",
        " 'STATE',\n",
        " 'ZIP',\n",
        " 'WEBSITE',\n",
        " 'PHONE',\n",
        " 'FAX',\n",
        " 'TTY',\n",
        " 'X COORDINATE',\n",
        " 'Y COORDINATE',\n",
        " 'LATITUDE',\n",
        " 'LONGITUDE',\n",
        " 'LOCATION',\n",
        " 'Format_District').show()"
      ],
      "metadata": {
        "colab": {
          "base_uri": "https://localhost:8080/"
        },
        "id": "EyCBnD_c7wOi",
        "outputId": "082d7cfd-7e05-4220-ae2b-d9d25c4fb7e8"
      },
      "execution_count": null,
      "outputs": [
        {
          "output_type": "stream",
          "name": "stdout",
          "text": [
            "+--------+-----------+--------------------+--------------------+----+--------------------+--------------------+--------------------+------+--------+----+--------+----+--------------+--------+----+--------------------+--------+--------------+\n",
            "|      ID|Case Number|                Date|               Block|IUCR|        Primary Type|         Description|Location Description|Arrest|Domestic|Beat|District|Ward|Community Area|FBI Code|Year|          Updated On|DISTRICT| DISTRICT NAME|\n",
            "+--------+-----------+--------------------+--------------------+----+--------------------+--------------------+--------------------+------+--------+----+--------+----+--------------+--------+----+--------------------+--------+--------------+\n",
            "| 5741943|   HN549294|08/25/2007 09:22:...|  074XX N ROGERS AVE|0560|             ASSAULT|              SIMPLE|               OTHER| false|   false|2422|     024|  49|             1|     08A|2007|08/17/2015 03:03:...|      24|   Rogers Park|\n",
            "| 1930689|   HH109118|01/05/2002 09:24:...|      007XX E 103 ST|0820|               THEFT|      $500 AND UNDER|         GAS STATION|  true|   false|0512|     005|NULL|          NULL|      06|2002|02/04/2016 06:33:...|       5|       Calumet|\n",
            "|13203321|   JG415333|09/06/2023 05:00:...|    002XX N Wells st|1320|     CRIMINAL DAMAGE|          TO VEHICLE|PARKING LOT / GAR...| false|   false|0122|     001|  42|            32|      14|2023|09/14/2023 03:43:...|       1|       Central|\n",
            "|13210088|   JG423627|08/31/2023 12:00:...|023XX W JACKSON BLVD|1153|  DECEPTIVE PRACTICE|FINANCIAL IDENTIT...|              STREET| false|   false|1225|     012|  27|            28|      11|2023|09/16/2023 03:41:...|      12|     Near West|\n",
            "|13210004|   JG422532|07/24/2023 09:45:...|073XX S JEFFERY BLVD|0281|CRIMINAL SEXUAL A...|      NON-AGGRAVATED|           APARTMENT| false|   false|0333|     003|   7|            43|      02|2023|09/16/2023 03:41:...|       3|Grand Crossing|\n",
            "|13210062|   JG423596|08/27/2023 07:00:...|034XX N LAWNDALE AVE|0820|               THEFT|      $500 AND UNDER|           APARTMENT| false|   false|1732|     017|  30|            21|      06|2023|09/16/2023 03:41:...|      17|   Albany Park|\n",
            "|13210107|   JG411849|09/04/2023 09:30:...|   053XX S HOMAN AVE|1310|     CRIMINAL DAMAGE|         TO PROPERTY|  RESIDENCE - GARAGE| false|   false|0822|     008|  14|            63|      14|2023|09/16/2023 03:41:...|       8|  Chicago Lawn|\n",
            "|13210060|   JG423567|08/15/2023 02:20:...|077XX S SPAULDING...|0810|               THEFT|           OVER $500|RESIDENCE - PORCH...| false|   false|0835|     008|  18|            70|      06|2023|09/16/2023 03:41:...|       8|  Chicago Lawn|\n",
            "|13210120|   JG423499|07/24/2023 04:09:...|     002XX W 75TH ST|1120|  DECEPTIVE PRACTICE|             FORGERY|   CURRENCY EXCHANGE| false|   false|0731|     007|   6|            69|      10|2023|09/16/2023 03:41:...|       7|     Englewood|\n",
            "|13210071|   JG421086|09/03/2023 10:27:...|   089XX S LOOMIS ST|0890|               THEFT|       FROM BUILDING|           APARTMENT| false|   false|2222|     022|  21|            73|      06|2023|09/16/2023 03:41:...|      22|   Morgan Park|\n",
            "|13210035|   JG422370|08/17/2023 07:00:...|     019XX W 71ST ST|0820|               THEFT|      $500 AND UNDER|              STREET| false|   false|0735|     007|  17|            67|      06|2023|09/16/2023 03:41:...|       7|     Englewood|\n",
            "|13210008|   JG422517|08/24/2023 02:27:...|  031XX S WALLACE ST|1110|  DECEPTIVE PRACTICE|         BOGUS CHECK|   CURRENCY EXCHANGE| false|   false|0915|     009|  11|            60|      11|2023|09/16/2023 03:41:...|       9|       Deering|\n",
            "|13210072|   JG422242|08/11/2023 11:00:...|  0000X S ALBANY AVE|1790|OFFENSE INVOLVING...|     CHILD ABDUCTION|           RESIDENCE| false|    true|1124|     011|  28|            27|      26|2023|09/16/2023 03:41:...|      11|      Harrison|\n",
            "|11662417|   JC232642|04/21/2019 12:30:...|     009XX E 80TH ST|031A|             ROBBERY|     ARMED - HANDGUN|           RESIDENCE| false|   false|0631|     006|   8|            44|      03|2019|09/14/2023 03:41:...|       6|       Gresham|\n",
            "|12218064|   JD426642|10/30/2020 04:30:...|     011XX E 82ND ST|0266|CRIMINAL SEXUAL A...|           PREDATORY|           RESIDENCE|  true|    true|0411|     004|   8|            45|      02|2020|09/14/2023 03:41:...|       4| South Chicago|\n",
            "|12342615|   JE202211|04/17/2021 03:20:...| 081XX S PRAIRIE AVE|0325|             ROBBERY| VEHICULAR HIJACKING|           RESIDENCE|  true|   false|0631|     006|   6|            44|      03|2021|09/14/2023 03:41:...|       6|       Gresham|\n",
            "|12416972|   JE293535|10/01/2020 12:01:...|     031XX W 53RD PL|1753|OFFENSE INVOLVING...|SEXUAL ASSAULT OF...|           RESIDENCE| false|    true|0923|     009|  14|            63|      02|2020|09/14/2023 03:41:...|       9|       Deering|\n",
            "|12416974|   JE293464|08/10/2011 12:01:...|     031XX W 53RD PL|1753|OFFENSE INVOLVING...|SEXUAL ASSAULT OF...|           RESIDENCE| false|    true|0923|     009|  14|            63|      02|2011|09/14/2023 03:41:...|       9|       Deering|\n",
            "|12536164|   JE439378|09/24/2015 12:00:...|     031XX W 53RD PL|1753|OFFENSE INVOLVING...|SEXUAL ASSAULT OF...|           APARTMENT| false|    true|0923|     009|  14|            63|      02|2015|09/14/2023 03:41:...|       9|       Deering|\n",
            "|12536166|   JE439332|09/07/2014 12:00:...|     031XX W 53RD PL|1753|OFFENSE INVOLVING...|SEXUAL ASSAULT OF...|           APARTMENT| false|    true|0923|     009|  14|            63|      02|2014|09/14/2023 03:41:...|       9|       Deering|\n",
            "+--------+-----------+--------------------+--------------------+----+--------------------+--------------------+--------------------+------+--------+----+--------+----+--------------+--------+----+--------------------+--------+--------------+\n",
            "only showing top 20 rows\n",
            "\n"
          ]
        }
      ]
    },
    {
      "cell_type": "markdown",
      "source": [
        "Find the most frequently reported noncriminal activity"
      ],
      "metadata": {
        "id": "ZpTlpTH-8LaH"
      }
    },
    {
      "cell_type": "code",
      "source": [
        "rc.count()"
      ],
      "metadata": {
        "colab": {
          "base_uri": "https://localhost:8080/"
        },
        "id": "iU3OxWpb77L7",
        "outputId": "f78c7a68-cd9d-4440-a106-9abbdd17ae44"
      },
      "execution_count": null,
      "outputs": [
        {
          "output_type": "execute_result",
          "data": {
            "text/plain": [
              "7899939"
            ]
          },
          "metadata": {},
          "execution_count": 76
        }
      ]
    },
    {
      "cell_type": "code",
      "source": [
        "rc.select(col('Primary Type')).distinct().orderBy(col('Primary Type')).show(36,truncate=False)"
      ],
      "metadata": {
        "colab": {
          "base_uri": "https://localhost:8080/"
        },
        "id": "le_8pp1l8_S3",
        "outputId": "89d7b65a-a1c0-44f5-c822-1478964c4276"
      },
      "execution_count": null,
      "outputs": [
        {
          "output_type": "stream",
          "name": "stdout",
          "text": [
            "+---------------------------------+\n",
            "|Primary Type                     |\n",
            "+---------------------------------+\n",
            "|ARSON                            |\n",
            "|ASSAULT                          |\n",
            "|BATTERY                          |\n",
            "|BURGLARY                         |\n",
            "|CONCEALED CARRY LICENSE VIOLATION|\n",
            "|CRIM SEXUAL ASSAULT              |\n",
            "|CRIMINAL DAMAGE                  |\n",
            "|CRIMINAL SEXUAL ASSAULT          |\n",
            "|CRIMINAL TRESPASS                |\n",
            "|DECEPTIVE PRACTICE               |\n",
            "|DOMESTIC VIOLENCE                |\n",
            "|GAMBLING                         |\n",
            "|HOMICIDE                         |\n",
            "|HUMAN TRAFFICKING                |\n",
            "|INTERFERENCE WITH PUBLIC OFFICER |\n",
            "|INTIMIDATION                     |\n",
            "|KIDNAPPING                       |\n",
            "|LIQUOR LAW VIOLATION             |\n",
            "|MOTOR VEHICLE THEFT              |\n",
            "|NARCOTICS                        |\n",
            "|NON - CRIMINAL                   |\n",
            "|NON-CRIMINAL                     |\n",
            "|NON-CRIMINAL (SUBJECT SPECIFIED) |\n",
            "|OBSCENITY                        |\n",
            "|OFFENSE INVOLVING CHILDREN       |\n",
            "|OTHER NARCOTIC VIOLATION         |\n",
            "|OTHER OFFENSE                    |\n",
            "|PROSTITUTION                     |\n",
            "|PUBLIC INDECENCY                 |\n",
            "|PUBLIC PEACE VIOLATION           |\n",
            "|RITUALISM                        |\n",
            "|ROBBERY                          |\n",
            "|SEX OFFENSE                      |\n",
            "|STALKING                         |\n",
            "|THEFT                            |\n",
            "|WEAPONS VIOLATION                |\n",
            "+---------------------------------+\n",
            "\n"
          ]
        }
      ]
    },
    {
      "cell_type": "code",
      "source": [
        "nc=rc.filter((col('Primary Type')=='NON - CRIMINAL')|(col('Primary Type')=='NON-CRIMINAL')|(col('Primary Type')=='NON-CRIMINAL (SUBJECT SPECIFIED)'))\n",
        "nc.show()"
      ],
      "metadata": {
        "colab": {
          "base_uri": "https://localhost:8080/"
        },
        "id": "_N0Dw4yA9kJ9",
        "outputId": "1cb88fd4-9d89-4d46-ef6c-8546ff4a3e60"
      },
      "execution_count": null,
      "outputs": [
        {
          "output_type": "stream",
          "name": "stdout",
          "text": [
            "+-------+-----------+--------------------+--------------------+----+--------------------+--------------------+--------------------+------+--------+----+--------+----+--------------+--------+------------+------------+----+--------------------+------------+-------------+--------------------+\n",
            "|     ID|Case Number|                Date|               Block|IUCR|        Primary Type|         Description|Location Description|Arrest|Domestic|Beat|District|Ward|Community Area|FBI Code|X Coordinate|Y Coordinate|Year|          Updated On|    Latitude|    Longitude|            Location|\n",
            "+-------+-----------+--------------------+--------------------+----+--------------------+--------------------+--------------------+------+--------+----+--------+----+--------------+--------+------------+------------+----+--------------------+------------+-------------+--------------------+\n",
            "|8773145|   HV447848|08/25/2012 03:00:...|    100XX W OHARE ST|5093|        NON-CRIMINAL|       LOST PASSPORT|AIRPORT TERMINAL ...|  true|   false|1651|     016|  41|            76|      26|     1100658|     1934241|2012|02/10/2018 03:50:...|41.976290414|-87.905227221|(41.976290414, -8...|\n",
            "|8602092|   HV276324|05/07/2012 10:30:...|    001XX W ADAMS ST|5093|        NON-CRIMINAL|       LOST PASSPORT|             TAXICAB| false|   false|0122|     001|  42|            32|      26|     1175062|     1899421|2012|02/04/2016 06:33:...|41.879396635|-87.632658775|(41.879396635, -8...|\n",
            "|8701089|   HV377321|07/06/2012 10:00:...|   009XX W ROSCOE ST|5093|        NON-CRIMINAL|       LOST PASSPORT|            SIDEWALK| false|   false|1924|     019|  44|             6|      26|     1169358|     1922759|2012|02/04/2016 06:33:...|41.943563314|-87.652923006|(41.943563314, -8...|\n",
            "|8613948|   HV287619|05/05/2012 03:00:...|004XX N MICHIGAN AVE|5093|        NON-CRIMINAL|       LOST PASSPORT|              STREET| false|   false|1834|     018|  42|             8|      26|     1177329|     1903108|2012|02/04/2016 06:33:...| 41.88946287|-87.624222942|(41.88946287, -87...|\n",
            "|8714358|   HV390850|07/19/2012 04:00:...|008XX N MICHIGAN AVE|5093|        NON-CRIMINAL|       LOST PASSPORT|COMMERCIAL / BUSI...| false|   false|1833|     018|  42|             8|      26|     1177338|     1906181|2012|02/10/2018 03:50:...|41.897895128|-87.624096605|(41.897895128, -8...|\n",
            "|8720297|   HV397127|07/21/2012 02:00:...|  0000X W HUBBARD ST|5093|        NON-CRIMINAL|       LOST PASSPORT|              STREET| false|   false|1831|     018|  42|             8|      26|     1176050|     1903312|2012|02/04/2016 06:33:...|41.890051565| -87.62891376|(41.890051565, -8...|\n",
            "|8920098|   HV592222|12/06/2012 11:30:...|     020XX W 51ST ST|5073|NON-CRIMINAL (SUB...|NOTIFICATION OF C...|           APARTMENT| false|    true|0931|     009|  16|            61|      26|     1163437|     1870837|2012|02/10/2018 03:50:...|41.801211675|-87.676146832|(41.801211675, -8...|\n",
            "|8819689|   HV492871|09/26/2012 05:20:...| 059XX N ROCKWELL ST|5073|NON-CRIMINAL (SUB...|NOTIFICATION OF C...|            SIDEWALK|  true|   false|2011|     020|  40|             2|      26|     1157923|     1939345|2012|02/10/2018 03:50:...| 41.98931757|-87.694498035|(41.98931757, -87...|\n",
            "|9062806|   HW207631|03/26/2013 04:00:...|067XX S JEFFERY BLVD|5094|        NON-CRIMINAL|      FOUND PASSPORT|             CTA BUS| false|   false|0332|     003|   5|            43|      26|     1190703|     1860780|2013|02/10/2018 03:50:...|41.772998982|-87.576478539|(41.772998982, -8...|\n",
            "|9148621|   HW294531|05/01/2013 09:00:...|034XX N LAKE SHOR...|5093|        NON-CRIMINAL|       LOST PASSPORT|           APARTMENT|  true|   false|1925|     019|  44|             6|      26|     1172449|     1923411|2013|02/10/2018 03:50:...|41.945284535|-87.641542722|(41.945284535, -8...|\n",
            "|9436491|   HW580783|12/17/2013 10:00:...|  057XX S CICERO AVE|5093|        NON-CRIMINAL|       LOST PASSPORT|            AIRCRAFT| false|   false|0813|     008|  23|            56|      26|     1145654|     1866253|2013|02/10/2018 03:50:...|41.788987036| -87.74147999|(41.788987036, -8...|\n",
            "|9284607|   HW428723|08/29/2013 09:30:...|    007XX E 111TH ST|5114|      NON - CRIMINAL|   FOID - REVOCATION|POLICE FACILITY/V...| false|   false|0531|     005|   9|            50|      26|     1183356|     1831503|2013|02/10/2018 03:50:...|41.692833841| -87.60431945|(41.692833841, -8...|\n",
            "|9406560|   HW549849|11/27/2013 10:20:...|    022XX E 103RD ST|5114|      NON - CRIMINAL|   FOID - REVOCATION|POLICE FACILITY/V...| false|   false|0434|     004|  10|            51|      26|     1192874|     1837123|2013|02/10/2018 03:50:...|41.708029389|-87.569290282|(41.708029389, -8...|\n",
            "|9402173|   HW545106|11/22/2013 02:00:...|  002XX W ONTARIO ST|5093|        NON-CRIMINAL|       LOST PASSPORT|       BAR OR TAVERN| false|   false|1831|     018|  42|             8|      26|     1174469|     1904439|2013|02/10/2018 03:50:...|41.893179585|-87.634686145|(41.893179585, -8...|\n",
            "|9366682|   HW510040|10/28/2013 07:15:...|     019XX W OHIO ST|5114|      NON - CRIMINAL|   FOID - REVOCATION|           RESIDENCE| false|   false|1221|     012|   1|            24|      26|     1163389|     1904029|2013|02/10/2018 03:50:...|41.892294874|-87.675390277|(41.892294874, -8...|\n",
            "|9640214|   HX290853|06/05/2014 10:00:...|026XX S CALIFORNI...|5114|      NON - CRIMINAL|   FOID - REVOCATION|GOVERNMENT BUILDI...| false|   false|1033|     010|  12|            30|      26|     1158136|     1886128|2014|02/10/2018 03:50:...|41.843281635|-87.695171094|(41.843281635, -8...|\n",
            "|9684549|   HX334987|06/30/2014 10:00:...|062XX W EASTWOOD AVE|5114|      NON - CRIMINAL|   FOID - REVOCATION|              STREET| false|   false|1622|     016|  38|            15|      26|     1133693|     1930201|2014|02/10/2018 03:50:...|41.964686958|-87.783836648|(41.964686958, -8...|\n",
            "|9507785|   HX163428|02/24/2014 09:18:...|   029XX S LOOMIS ST|5073|NON-CRIMINAL (SUB...|NOTIFICATION OF C...|           APARTMENT| false|    true|0913|     009|  11|            60|      26|     1168619|     1885264|2014|02/04/2016 06:33:...|41.840690549|-87.656725939|(41.840690549, -8...|\n",
            "|9683937|   HX334584|07/04/2014 03:00:...|    037XX N CLARK ST|5093|        NON-CRIMINAL|       LOST PASSPORT|            SIDEWALK| false|   false|1923|     019|  44|             6|      26|     1167839|     1924947|2014|02/10/2018 03:50:...|41.949600232|-87.658442769|(41.949600232, -8...|\n",
            "|9678411|   HX328247|07/02/2014 07:00:...|065XX S CALIFORNI...|5114|      NON - CRIMINAL|   FOID - REVOCATION|           RESIDENCE| false|   false|0831|     008|  15|            66|      26|     1158836|     1861188|2014|02/10/2018 03:50:...|41.774828777|-87.693283868|(41.774828777, -8...|\n",
            "+-------+-----------+--------------------+--------------------+----+--------------------+--------------------+--------------------+------+--------+----+--------+----+--------------+--------+------------+------------+----+--------------------+------------+-------------+--------------------+\n",
            "only showing top 20 rows\n",
            "\n"
          ]
        }
      ]
    },
    {
      "cell_type": "code",
      "source": [
        "nc.groupBy(col('Description')).count().orderBy(col('count'),ascending=False).show(truncate=False)"
      ],
      "metadata": {
        "colab": {
          "base_uri": "https://localhost:8080/"
        },
        "id": "I2fiiDMi-CAA",
        "outputId": "13af2265-0c99-4663-d869-0e1b4b762084"
      },
      "execution_count": null,
      "outputs": [
        {
          "output_type": "stream",
          "name": "stdout",
          "text": [
            "+-------------------------------------------+-----+\n",
            "|Description                                |count|\n",
            "+-------------------------------------------+-----+\n",
            "|LOST PASSPORT                              |111  |\n",
            "|FOID - REVOCATION                          |76   |\n",
            "|CONCEALED CARRY LICENSE REVOCATION         |19   |\n",
            "|NOTIFICATION OF CIVIL NO CONTACT ORDER     |9    |\n",
            "|NOTIFICATION OF STALKING - NO CONTACT ORDER|8    |\n",
            "|FOUND PASSPORT                             |4    |\n",
            "|GUN OFFENDER NOTIFICATION-NO CONTACT       |3    |\n",
            "+-------------------------------------------+-----+\n",
            "\n"
          ]
        }
      ]
    },
    {
      "cell_type": "markdown",
      "source": [
        "Find the day of the week with the most reported crime"
      ],
      "metadata": {
        "id": "b10AFDW38edY"
      }
    },
    {
      "cell_type": "code",
      "source": [
        "dw=rc.withColumn('newDate',to_timestamp(col('Date'),'MM/dd/yyyy hh:mm:ss a'))"
      ],
      "metadata": {
        "id": "IfFhoUuZ-ePi"
      },
      "execution_count": null,
      "outputs": []
    },
    {
      "cell_type": "code",
      "source": [
        "dw.show(5)"
      ],
      "metadata": {
        "colab": {
          "base_uri": "https://localhost:8080/"
        },
        "id": "SoPDDWiS_Ll-",
        "outputId": "e3759d10-4189-4fa2-a7d7-18de3a4c8bc1"
      },
      "execution_count": null,
      "outputs": [
        {
          "output_type": "stream",
          "name": "stdout",
          "text": [
            "+--------+-----------+--------------------+--------------------+----+--------------------+--------------------+--------------------+------+--------+----+--------+----+--------------+--------+------------+------------+----+--------------------+------------+-------------+--------------------+-------------------+\n",
            "|      ID|Case Number|                Date|               Block|IUCR|        Primary Type|         Description|Location Description|Arrest|Domestic|Beat|District|Ward|Community Area|FBI Code|X Coordinate|Y Coordinate|Year|          Updated On|    Latitude|    Longitude|            Location|            newDate|\n",
            "+--------+-----------+--------------------+--------------------+----+--------------------+--------------------+--------------------+------+--------+----+--------+----+--------------+--------+------------+------------+----+--------------------+------------+-------------+--------------------+-------------------+\n",
            "| 5741943|   HN549294|08/25/2007 09:22:...|  074XX N ROGERS AVE|0560|             ASSAULT|              SIMPLE|               OTHER| false|   false|2422|     024|  49|             1|     08A|        NULL|        NULL|2007|08/17/2015 03:03:...|        NULL|         NULL|                NULL|2007-08-25 09:22:18|\n",
            "| 1930689|   HH109118|01/05/2002 09:24:...|      007XX E 103 ST|0820|               THEFT|      $500 AND UNDER|         GAS STATION|  true|   false|0512|     005|NULL|          NULL|      06|        NULL|        NULL|2002|02/04/2016 06:33:...|        NULL|         NULL|                NULL|2002-01-05 21:24:00|\n",
            "|13203321|   JG415333|09/06/2023 05:00:...|    002XX N Wells st|1320|     CRIMINAL DAMAGE|          TO VEHICLE|PARKING LOT / GAR...| false|   false|0122|     001|  42|            32|      14|        NULL|        NULL|2023|09/14/2023 03:43:...|        NULL|         NULL|                NULL|2023-09-06 17:00:00|\n",
            "|13210088|   JG423627|08/31/2023 12:00:...|023XX W JACKSON BLVD|1153|  DECEPTIVE PRACTICE|FINANCIAL IDENTIT...|              STREET| false|   false|1225|     012|  27|            28|      11|     1160870|     1898642|2023|09/16/2023 03:41:...|41.877565108| -87.68479102|(41.877565108, -8...|2023-08-31 12:00:00|\n",
            "|13210004|   JG422532|07/24/2023 09:45:...|073XX S JEFFERY BLVD|0281|CRIMINAL SEXUAL A...|      NON-AGGRAVATED|           APARTMENT| false|   false|0333|     003|   7|            43|      02|     1190812|     1856743|2023|09/16/2023 03:41:...|  41.7619185|-87.576209245|(41.7619185, -87....|2023-07-24 21:45:00|\n",
            "+--------+-----------+--------------------+--------------------+----+--------------------+--------------------+--------------------+------+--------+----+--------+----+--------------+--------+------------+------------+----+--------------------+------------+-------------+--------------------+-------------------+\n",
            "only showing top 5 rows\n",
            "\n"
          ]
        }
      ]
    },
    {
      "cell_type": "code",
      "source": [
        "from pyspark.sql.functions import dayofweek\n",
        "dw.select(col('newDate'),dayofweek(col('newDate'))).show(5)"
      ],
      "metadata": {
        "colab": {
          "base_uri": "https://localhost:8080/"
        },
        "id": "ajq3KvCM_MrU",
        "outputId": "9d23e496-7dce-4963-af0c-6de03e1dc985"
      },
      "execution_count": null,
      "outputs": [
        {
          "output_type": "stream",
          "name": "stdout",
          "text": [
            "+-------------------+------------------+\n",
            "|            newDate|dayofweek(newDate)|\n",
            "+-------------------+------------------+\n",
            "|2007-08-25 09:22:18|                 7|\n",
            "|2002-01-05 21:24:00|                 7|\n",
            "|2023-09-06 17:00:00|                 4|\n",
            "|2023-08-31 12:00:00|                 5|\n",
            "|2023-07-24 21:45:00|                 2|\n",
            "+-------------------+------------------+\n",
            "only showing top 5 rows\n",
            "\n"
          ]
        }
      ]
    },
    {
      "cell_type": "code",
      "source": [
        "from pyspark.sql.functions import date_format"
      ],
      "metadata": {
        "id": "wuIYweJC_ozB"
      },
      "execution_count": null,
      "outputs": []
    },
    {
      "cell_type": "code",
      "source": [
        "help(date_format)"
      ],
      "metadata": {
        "colab": {
          "base_uri": "https://localhost:8080/"
        },
        "id": "U7v4xjKc_1Qo",
        "outputId": "33682495-983e-4324-b967-be589639d01e"
      },
      "execution_count": null,
      "outputs": [
        {
          "output_type": "stream",
          "name": "stdout",
          "text": [
            "Help on function date_format in module pyspark.sql.functions:\n",
            "\n",
            "date_format(date: 'ColumnOrName', format: str) -> pyspark.sql.column.Column\n",
            "    Converts a date/timestamp/string to a value of string in the format specified by the date\n",
            "    format given by the second argument.\n",
            "    \n",
            "    A pattern could be for instance `dd.MM.yyyy` and could return a string like '18.03.1993'. All\n",
            "    pattern letters of `datetime pattern`_. can be used.\n",
            "    \n",
            "    .. _datetime pattern: https://spark.apache.org/docs/latest/sql-ref-datetime-pattern.html\n",
            "    \n",
            "    .. versionadded:: 1.5.0\n",
            "    \n",
            "    .. versionchanged:: 3.4.0\n",
            "        Supports Spark Connect.\n",
            "    \n",
            "    Notes\n",
            "    -----\n",
            "    Whenever possible, use specialized functions like `year`.\n",
            "    \n",
            "    Parameters\n",
            "    ----------\n",
            "    date : :class:`~pyspark.sql.Column` or str\n",
            "        input column of values to format.\n",
            "    format: str\n",
            "        format to use to represent datetime values.\n",
            "    \n",
            "    Returns\n",
            "    -------\n",
            "    :class:`~pyspark.sql.Column`\n",
            "        string value representing formatted datetime.\n",
            "    \n",
            "    Examples\n",
            "    --------\n",
            "    >>> df = spark.createDataFrame([('2015-04-08',)], ['dt'])\n",
            "    >>> df.select(date_format('dt', 'MM/dd/yyy').alias('date')).collect()\n",
            "    [Row(date='04/08/2015')]\n",
            "\n"
          ]
        }
      ]
    },
    {
      "cell_type": "code",
      "source": [
        "dw.select(col('newDate'),dayofweek(col('newDate')),date_format(col('newDate'),'E')).show(5)"
      ],
      "metadata": {
        "colab": {
          "base_uri": "https://localhost:8080/"
        },
        "id": "JLhVXGWf_3Cf",
        "outputId": "cb4962dc-72d4-4d88-da37-f1e623d3f970"
      },
      "execution_count": null,
      "outputs": [
        {
          "output_type": "stream",
          "name": "stdout",
          "text": [
            "+-------------------+------------------+-----------------------+\n",
            "|            newDate|dayofweek(newDate)|date_format(newDate, E)|\n",
            "+-------------------+------------------+-----------------------+\n",
            "|2007-08-25 09:22:18|                 7|                    Sat|\n",
            "|2002-01-05 21:24:00|                 7|                    Sat|\n",
            "|2023-09-06 17:00:00|                 4|                    Wed|\n",
            "|2023-08-31 12:00:00|                 5|                    Thu|\n",
            "|2023-07-24 21:45:00|                 2|                    Mon|\n",
            "+-------------------+------------------+-----------------------+\n",
            "only showing top 5 rows\n",
            "\n"
          ]
        }
      ]
    },
    {
      "cell_type": "code",
      "source": [
        "dw.groupBy(date_format(col('newDate'),'E')).count().show()"
      ],
      "metadata": {
        "colab": {
          "base_uri": "https://localhost:8080/"
        },
        "id": "vK1iwCviAC49",
        "outputId": "635f978f-87d0-416d-a4ad-7e603e765fc1"
      },
      "execution_count": null,
      "outputs": [
        {
          "output_type": "stream",
          "name": "stdout",
          "text": [
            "+-----------------------+-------+\n",
            "|date_format(newDate, E)|  count|\n",
            "+-----------------------+-------+\n",
            "|                    Sun|1075449|\n",
            "|                    Mon|1116660|\n",
            "|                    Thu|1124317|\n",
            "|                    Sat|1131833|\n",
            "|                    Wed|1136190|\n",
            "|                    Tue|1129204|\n",
            "|                    Fri|1186286|\n",
            "+-----------------------+-------+\n",
            "\n"
          ]
        }
      ]
    },
    {
      "cell_type": "code",
      "source": [
        "dw.groupBy(date_format(col('newDate'),'E')).count().orderBy('count',ascending=False).show()"
      ],
      "metadata": {
        "colab": {
          "base_uri": "https://localhost:8080/"
        },
        "id": "OTCZpInkAQwj",
        "outputId": "21e6750e-55b4-4612-8d57-a023e6f1cc15"
      },
      "execution_count": null,
      "outputs": [
        {
          "output_type": "stream",
          "name": "stdout",
          "text": [
            "+-----------------------+-------+\n",
            "|date_format(newDate, E)|  count|\n",
            "+-----------------------+-------+\n",
            "|                    Fri|1186286|\n",
            "|                    Wed|1136190|\n",
            "|                    Sat|1131833|\n",
            "|                    Tue|1129204|\n",
            "|                    Thu|1124317|\n",
            "|                    Mon|1116660|\n",
            "|                    Sun|1075449|\n",
            "+-----------------------+-------+\n",
            "\n"
          ]
        }
      ]
    },
    {
      "cell_type": "code",
      "source": [
        "dw.groupBy(date_format(col('newDate'),'E')).count().collect()"
      ],
      "metadata": {
        "colab": {
          "base_uri": "https://localhost:8080/"
        },
        "id": "UmE0YvlfAbSr",
        "outputId": "9096b7a9-8b24-4ace-d8c0-73b25a26acc3"
      },
      "execution_count": null,
      "outputs": [
        {
          "output_type": "execute_result",
          "data": {
            "text/plain": [
              "[Row(date_format(newDate, E)='Sun', count=1075449),\n",
              " Row(date_format(newDate, E)='Mon', count=1116660),\n",
              " Row(date_format(newDate, E)='Thu', count=1124317),\n",
              " Row(date_format(newDate, E)='Sat', count=1131833),\n",
              " Row(date_format(newDate, E)='Wed', count=1136190),\n",
              " Row(date_format(newDate, E)='Tue', count=1129204),\n",
              " Row(date_format(newDate, E)='Fri', count=1186286)]"
            ]
          },
          "metadata": {},
          "execution_count": 95
        }
      ]
    },
    {
      "cell_type": "code",
      "source": [
        "dow=[x[0] for x in dw.groupBy(date_format(col('newDate'),'E')).count().collect()]\n",
        "dow"
      ],
      "metadata": {
        "colab": {
          "base_uri": "https://localhost:8080/"
        },
        "id": "3dgxK8LEAt5W",
        "outputId": "0e60c61a-859c-40b1-9ba4-195b10a1d1c7"
      },
      "execution_count": null,
      "outputs": [
        {
          "output_type": "execute_result",
          "data": {
            "text/plain": [
              "['Sun', 'Mon', 'Thu', 'Sat', 'Wed', 'Tue', 'Fri']"
            ]
          },
          "metadata": {},
          "execution_count": 96
        }
      ]
    },
    {
      "cell_type": "code",
      "source": [
        "cnt=[x[1] for x in dw.groupBy(date_format(col('newDate'),'E')).count().collect()]\n",
        "cnt"
      ],
      "metadata": {
        "colab": {
          "base_uri": "https://localhost:8080/"
        },
        "id": "tj1I-M0PA8zN",
        "outputId": "cf4cf001-8a6d-436d-b725-6ef33fed514e"
      },
      "execution_count": null,
      "outputs": [
        {
          "output_type": "execute_result",
          "data": {
            "text/plain": [
              "[1075449, 1116660, 1124317, 1131833, 1136190, 1129204, 1186286]"
            ]
          },
          "metadata": {},
          "execution_count": 97
        }
      ]
    },
    {
      "cell_type": "code",
      "source": [
        "import pandas as pd\n",
        "import matplotlib.pyplot as plt\n",
        "\n"
      ],
      "metadata": {
        "id": "vC7SYkxFBFl6"
      },
      "execution_count": null,
      "outputs": []
    },
    {
      "cell_type": "code",
      "source": [
        "cp=pd.DataFrame({'Day_of_week':dow,'Count':cnt})\n",
        "cp.head(7)"
      ],
      "metadata": {
        "colab": {
          "base_uri": "https://localhost:8080/",
          "height": 2030
        },
        "id": "EF_JXBXhBPEC",
        "outputId": "7345c579-ae7b-477b-acce-5a4d5860315a"
      },
      "execution_count": null,
      "outputs": [
        {
          "output_type": "execute_result",
          "data": {
            "text/plain": [
              "  Day_of_week    Count\n",
              "0         Sun  1075449\n",
              "1         Mon  1116660\n",
              "2         Thu  1124317\n",
              "3         Sat  1131833\n",
              "4         Wed  1136190\n",
              "5         Tue  1129204\n",
              "6         Fri  1186286"
            ],
            "text/html": [
              "\n",
              "  <div id=\"df-438cb27e-14f8-48c7-87eb-c3f84b8d0561\" class=\"colab-df-container\">\n",
              "    <div>\n",
              "<style scoped>\n",
              "    .dataframe tbody tr th:only-of-type {\n",
              "        vertical-align: middle;\n",
              "    }\n",
              "\n",
              "    .dataframe tbody tr th {\n",
              "        vertical-align: top;\n",
              "    }\n",
              "\n",
              "    .dataframe thead th {\n",
              "        text-align: right;\n",
              "    }\n",
              "</style>\n",
              "<table border=\"1\" class=\"dataframe\">\n",
              "  <thead>\n",
              "    <tr style=\"text-align: right;\">\n",
              "      <th></th>\n",
              "      <th>Day_of_week</th>\n",
              "      <th>Count</th>\n",
              "    </tr>\n",
              "  </thead>\n",
              "  <tbody>\n",
              "    <tr>\n",
              "      <th>0</th>\n",
              "      <td>Sun</td>\n",
              "      <td>1075449</td>\n",
              "    </tr>\n",
              "    <tr>\n",
              "      <th>1</th>\n",
              "      <td>Mon</td>\n",
              "      <td>1116660</td>\n",
              "    </tr>\n",
              "    <tr>\n",
              "      <th>2</th>\n",
              "      <td>Thu</td>\n",
              "      <td>1124317</td>\n",
              "    </tr>\n",
              "    <tr>\n",
              "      <th>3</th>\n",
              "      <td>Sat</td>\n",
              "      <td>1131833</td>\n",
              "    </tr>\n",
              "    <tr>\n",
              "      <th>4</th>\n",
              "      <td>Wed</td>\n",
              "      <td>1136190</td>\n",
              "    </tr>\n",
              "    <tr>\n",
              "      <th>5</th>\n",
              "      <td>Tue</td>\n",
              "      <td>1129204</td>\n",
              "    </tr>\n",
              "    <tr>\n",
              "      <th>6</th>\n",
              "      <td>Fri</td>\n",
              "      <td>1186286</td>\n",
              "    </tr>\n",
              "  </tbody>\n",
              "</table>\n",
              "</div>\n",
              "    <div class=\"colab-df-buttons\">\n",
              "\n",
              "  <div class=\"colab-df-container\">\n",
              "    <button class=\"colab-df-convert\" onclick=\"convertToInteractive('df-438cb27e-14f8-48c7-87eb-c3f84b8d0561')\"\n",
              "            title=\"Convert this dataframe to an interactive table.\"\n",
              "            style=\"display:none;\">\n",
              "\n",
              "  <svg xmlns=\"http://www.w3.org/2000/svg\" height=\"24px\" viewBox=\"0 -960 960 960\">\n",
              "    <path d=\"M120-120v-720h720v720H120Zm60-500h600v-160H180v160Zm220 220h160v-160H400v160Zm0 220h160v-160H400v160ZM180-400h160v-160H180v160Zm440 0h160v-160H620v160ZM180-180h160v-160H180v160Zm440 0h160v-160H620v160Z\"/>\n",
              "  </svg>\n",
              "    </button>\n",
              "\n",
              "  <style>\n",
              "    .colab-df-container {\n",
              "      display:flex;\n",
              "      gap: 12px;\n",
              "    }\n",
              "\n",
              "    .colab-df-convert {\n",
              "      background-color: #E8F0FE;\n",
              "      border: none;\n",
              "      border-radius: 50%;\n",
              "      cursor: pointer;\n",
              "      display: none;\n",
              "      fill: #1967D2;\n",
              "      height: 32px;\n",
              "      padding: 0 0 0 0;\n",
              "      width: 32px;\n",
              "    }\n",
              "\n",
              "    .colab-df-convert:hover {\n",
              "      background-color: #E2EBFA;\n",
              "      box-shadow: 0px 1px 2px rgba(60, 64, 67, 0.3), 0px 1px 3px 1px rgba(60, 64, 67, 0.15);\n",
              "      fill: #174EA6;\n",
              "    }\n",
              "\n",
              "    .colab-df-buttons div {\n",
              "      margin-bottom: 4px;\n",
              "    }\n",
              "\n",
              "    [theme=dark] .colab-df-convert {\n",
              "      background-color: #3B4455;\n",
              "      fill: #D2E3FC;\n",
              "    }\n",
              "\n",
              "    [theme=dark] .colab-df-convert:hover {\n",
              "      background-color: #434B5C;\n",
              "      box-shadow: 0px 1px 3px 1px rgba(0, 0, 0, 0.15);\n",
              "      filter: drop-shadow(0px 1px 2px rgba(0, 0, 0, 0.3));\n",
              "      fill: #FFFFFF;\n",
              "    }\n",
              "  </style>\n",
              "\n",
              "    <script>\n",
              "      const buttonEl =\n",
              "        document.querySelector('#df-438cb27e-14f8-48c7-87eb-c3f84b8d0561 button.colab-df-convert');\n",
              "      buttonEl.style.display =\n",
              "        google.colab.kernel.accessAllowed ? 'block' : 'none';\n",
              "\n",
              "      async function convertToInteractive(key) {\n",
              "        const element = document.querySelector('#df-438cb27e-14f8-48c7-87eb-c3f84b8d0561');\n",
              "        const dataTable =\n",
              "          await google.colab.kernel.invokeFunction('convertToInteractive',\n",
              "                                                    [key], {});\n",
              "        if (!dataTable) return;\n",
              "\n",
              "        const docLinkHtml = 'Like what you see? Visit the ' +\n",
              "          '<a target=\"_blank\" href=https://colab.research.google.com/notebooks/data_table.ipynb>data table notebook</a>'\n",
              "          + ' to learn more about interactive tables.';\n",
              "        element.innerHTML = '';\n",
              "        dataTable['output_type'] = 'display_data';\n",
              "        await google.colab.output.renderOutput(dataTable, element);\n",
              "        const docLink = document.createElement('div');\n",
              "        docLink.innerHTML = docLinkHtml;\n",
              "        element.appendChild(docLink);\n",
              "      }\n",
              "    </script>\n",
              "  </div>\n",
              "\n",
              "\n",
              "<div id=\"df-be3d7f08-f706-428b-8430-173451f39f84\">\n",
              "  <button class=\"colab-df-quickchart\" onclick=\"quickchart('df-be3d7f08-f706-428b-8430-173451f39f84')\"\n",
              "            title=\"Suggest charts.\"\n",
              "            style=\"display:none;\">\n",
              "\n",
              "<svg xmlns=\"http://www.w3.org/2000/svg\" height=\"24px\"viewBox=\"0 0 24 24\"\n",
              "     width=\"24px\">\n",
              "    <g>\n",
              "        <path d=\"M19 3H5c-1.1 0-2 .9-2 2v14c0 1.1.9 2 2 2h14c1.1 0 2-.9 2-2V5c0-1.1-.9-2-2-2zM9 17H7v-7h2v7zm4 0h-2V7h2v10zm4 0h-2v-4h2v4z\"/>\n",
              "    </g>\n",
              "</svg>\n",
              "  </button>\n",
              "\n",
              "<style>\n",
              "  .colab-df-quickchart {\n",
              "      --bg-color: #E8F0FE;\n",
              "      --fill-color: #1967D2;\n",
              "      --hover-bg-color: #E2EBFA;\n",
              "      --hover-fill-color: #174EA6;\n",
              "      --disabled-fill-color: #AAA;\n",
              "      --disabled-bg-color: #DDD;\n",
              "  }\n",
              "\n",
              "  [theme=dark] .colab-df-quickchart {\n",
              "      --bg-color: #3B4455;\n",
              "      --fill-color: #D2E3FC;\n",
              "      --hover-bg-color: #434B5C;\n",
              "      --hover-fill-color: #FFFFFF;\n",
              "      --disabled-bg-color: #3B4455;\n",
              "      --disabled-fill-color: #666;\n",
              "  }\n",
              "\n",
              "  .colab-df-quickchart {\n",
              "    background-color: var(--bg-color);\n",
              "    border: none;\n",
              "    border-radius: 50%;\n",
              "    cursor: pointer;\n",
              "    display: none;\n",
              "    fill: var(--fill-color);\n",
              "    height: 32px;\n",
              "    padding: 0;\n",
              "    width: 32px;\n",
              "  }\n",
              "\n",
              "  .colab-df-quickchart:hover {\n",
              "    background-color: var(--hover-bg-color);\n",
              "    box-shadow: 0 1px 2px rgba(60, 64, 67, 0.3), 0 1px 3px 1px rgba(60, 64, 67, 0.15);\n",
              "    fill: var(--button-hover-fill-color);\n",
              "  }\n",
              "\n",
              "  .colab-df-quickchart-complete:disabled,\n",
              "  .colab-df-quickchart-complete:disabled:hover {\n",
              "    background-color: var(--disabled-bg-color);\n",
              "    fill: var(--disabled-fill-color);\n",
              "    box-shadow: none;\n",
              "  }\n",
              "\n",
              "  .colab-df-spinner {\n",
              "    border: 2px solid var(--fill-color);\n",
              "    border-color: transparent;\n",
              "    border-bottom-color: var(--fill-color);\n",
              "    animation:\n",
              "      spin 1s steps(1) infinite;\n",
              "  }\n",
              "\n",
              "  @keyframes spin {\n",
              "    0% {\n",
              "      border-color: transparent;\n",
              "      border-bottom-color: var(--fill-color);\n",
              "      border-left-color: var(--fill-color);\n",
              "    }\n",
              "    20% {\n",
              "      border-color: transparent;\n",
              "      border-left-color: var(--fill-color);\n",
              "      border-top-color: var(--fill-color);\n",
              "    }\n",
              "    30% {\n",
              "      border-color: transparent;\n",
              "      border-left-color: var(--fill-color);\n",
              "      border-top-color: var(--fill-color);\n",
              "      border-right-color: var(--fill-color);\n",
              "    }\n",
              "    40% {\n",
              "      border-color: transparent;\n",
              "      border-right-color: var(--fill-color);\n",
              "      border-top-color: var(--fill-color);\n",
              "    }\n",
              "    60% {\n",
              "      border-color: transparent;\n",
              "      border-right-color: var(--fill-color);\n",
              "    }\n",
              "    80% {\n",
              "      border-color: transparent;\n",
              "      border-right-color: var(--fill-color);\n",
              "      border-bottom-color: var(--fill-color);\n",
              "    }\n",
              "    90% {\n",
              "      border-color: transparent;\n",
              "      border-bottom-color: var(--fill-color);\n",
              "    }\n",
              "  }\n",
              "</style>\n",
              "\n",
              "  <script>\n",
              "    async function quickchart(key) {\n",
              "      const quickchartButtonEl =\n",
              "        document.querySelector('#' + key + ' button');\n",
              "      quickchartButtonEl.disabled = true;  // To prevent multiple clicks.\n",
              "      quickchartButtonEl.classList.add('colab-df-spinner');\n",
              "      try {\n",
              "        const charts = await google.colab.kernel.invokeFunction(\n",
              "            'suggestCharts', [key], {});\n",
              "      } catch (error) {\n",
              "        console.error('Error during call to suggestCharts:', error);\n",
              "      }\n",
              "      quickchartButtonEl.classList.remove('colab-df-spinner');\n",
              "      quickchartButtonEl.classList.add('colab-df-quickchart-complete');\n",
              "    }\n",
              "    (() => {\n",
              "      let quickchartButtonEl =\n",
              "        document.querySelector('#df-be3d7f08-f706-428b-8430-173451f39f84 button');\n",
              "      quickchartButtonEl.style.display =\n",
              "        google.colab.kernel.accessAllowed ? 'block' : 'none';\n",
              "    })();\n",
              "  </script>\n",
              "</div>\n",
              "    </div>\n",
              "  </div>\n"
            ]
          },
          "metadata": {},
          "execution_count": 99
        },
        {
          "output_type": "display_data",
          "data": {
            "text/plain": [
              "<google.colab._quickchart_helpers.SectionTitle at 0x78af9142fac0>"
            ],
            "text/html": [
              "<h4 class=\"colab-quickchart-section-title\">Values</h4>\n",
              "<style>\n",
              "  .colab-quickchart-section-title {\n",
              "      clear: both;\n",
              "  }\n",
              "</style>"
            ]
          },
          "metadata": {}
        },
        {
          "output_type": "display_data",
          "data": {
            "text/plain": [
              "import numpy as np\n",
              "from google.colab import autoviz\n",
              "\n",
              "def value_plot(df, y, figscale=1):\n",
              "  from matplotlib import pyplot as plt\n",
              "  df[y].plot(kind='line', figsize=(8 * figscale, 4 * figscale), title=y)\n",
              "  plt.gca().spines[['top', 'right']].set_visible(False)\n",
              "  plt.tight_layout()\n",
              "  return autoviz.MplChart.from_current_mpl_state()\n",
              "\n",
              "chart = value_plot(_df_0, *['index'], **{})\n",
              "chart"
            ],
            "text/html": [
              "      <div class=\"colab-quickchart-chart-with-code\" id=\"chart-e3755ecc-3354-47d5-9d16-580023439e11\">\n",
              "        <img src=\"data:image/png;base64,iVBORw0KGgoAAAANSUhEUgAAAYwAAADECAYAAACMRRb/AAAAOXRFWHRTb2Z0d2FyZQBNYXRwbG90\n",
              "bGliIHZlcnNpb24zLjcuMSwgaHR0cHM6Ly9tYXRwbG90bGliLm9yZy/bCgiHAAAACXBIWXMAAA9h\n",
              "AAAPYQGoP6dpAAAduUlEQVR4nO3de1BU9/0+8GcBWZCryH33CBIUL0EQloTEJGqMyU+N1YgsTZqJ\n",
              "mZpJxhmnzSQztZnGSWxa7SV1xthJY9OMTdKZlEXU1EuaaKKx9psaFvCuERTwLHdErsLC7n5+fyxZ\n",
              "oDVmgV3O7vK8ZpyBzy6c93GAhz0P5xyVEEKAiIjoe/gpPQAREXkHBgYRETmFgUFERE5hYBARkVMY\n",
              "GERE5BQGBhEROYWBQURETmFgEBGRUxgYRETkFAYGTTjLli3DG2+8MeqPf+CBB/D666+7biAiLxGg\n",
              "9ABE4+2TTz5RegQir8RXGERE5BQGBk04ixYtwquvvgoAUKlU2LlzJxYsWIDQ0FCkp6fj5MmTjuda\n",
              "LBb87Gc/Q3x8PGJiYvDKK6/8z+erra3FU089BY1Gg9jYWDz55JNobm4GABw/fhwhISEoKSkBAAgh\n",
              "sGLFCqxcuRK87id5GwYGTXh/+ctf8P7776OtrQ1LlizBj370I8djv/vd72AwGPDFF1/AZDIhICAA\n",
              "p06dcjxuNpuxZMkSJCYm4sqVK7h27RoCAgLw1FNPAbCH0+uvv461a9fixo0beOONN3D58mV8+OGH\n",
              "UKlU476vRGMiiCaYhQsXil/84hdCCCEAiPfff9/x2Pnz5wUA0dDQIIQQIjU1Vbz11luOxy0Wi4iJ\n",
              "iRGvvfaaEEKI4uJikZiYKGw2m+M5JpNJABCyLDvW8vLyREZGhggJCRHl5eVu3Dsi92HpTRNeYmKi\n",
              "4+2QkBAAQGdnJ+Li4mAymTB9+nTH4/7+/pg2bZrj/YqKCjQ2NmLKlCnDPqdarcb169eh1WoBAC+9\n",
              "9BIWLFiAJ598EpmZmW7cGyL3YWAQ3YFWq0V1dbXjfavVClmWHe/Hx8cjKSkJV69e/c7P0d7ejnXr\n",
              "1mH9+vUwGAw4cOAAVq5c6c6xidyCHQbRHaxbtw5/+MMfcPnyZZjNZvzyl79Ea2ur4/E1a9agv78f\n",
              "mzdvRnt7OwCgqakJhYWFAOwl97p165CWloZ3330Xu3btwjPPPINr164psj9EY8HAILqDTZs2Yc2a\n",
              "NVi4cCG0Wi36+vpw7733Oh4PCwvDV199hevXryM9PR3h4eG4//77ceLECQDAb3/7W5w9e9ZRcj/5\n",
              "5JN4+umnkZeXh56eHqV2i2hUVELwb/uIiOj78RUGERE5hYFBREROYWAQEZFTGBhEROQUBgYRETmF\n",
              "gUFERE5hYBARkVPGNTB27NgxnpsjIiIXGtfAqKmpGc/NERGRC/GQFBEROWXEgWE2m7Fx40bMmDED\n",
              "6enpePrpp90xFxEReZgRX9785z//OVQqFa5cuQKVSoWGhgZ3zEVERB5mRIHR3d2N9957DyaTyXF7\n",
              "yfj4eLcMRkREd9bSZca+slqkxIRgyew4t29vRIFx9epVREVFYevWrTh69CiCg4Px+uuvY8mSJf/z\n",
              "XLPZDLPZPGzNarWObVoiognOYrXhyyvNMBhlfH6pCRabwL3TozwvMCwWC2pqajBnzhz85je/QXl5\n",
              "OZYuXYoLFy4gLm74sNu2bcOWLVuGreXm5o59YiKiCehacxeKSk0oLjWhqXPwl/EMKRKrMjUQQjiO\n",
              "/LjLiO6H0dLSgri4OPT19cHf3x8AkJOTg23btuGRRx4Z9tzbvcLYvHkzz8UgInJSt9mCw+fqUWQ0\n",
              "4evqwTs9RoUE4on5Guh1EtLiw8ZtnhG9woiOjsaSJUvw6aefYvny5aiqqkJVVRVmz579P89Vq9VQ\n",
              "q9XD1r4NGSIiuj0hBMqut8FQIuPg2Tp099kP5fupgEVpsdDrtHh4VhwCA8b/rIgR/5XUO++8g/Xr\n",
              "12PTpk3w8/PDrl27oNFo3DEbEdGE0dxpxt4yEwxGGVebux3ryVMnI18nIS9Li/iIIAUnHEVgpKSk\n",
              "4NixY+6YhYhoQum32nD8G3uB/cXlJlht9oYgeJI/lqcnQK/T4p7pUW7vJpw14sAgIqKxqWzqQlGp\n",
              "jL1ltWgeUmDPnxYJvU7C4/MSEBY0ScEJb4+BQUQ0DrrMFhw+Ww+DUYax5qZjfWpIINZk2QvsGXHj\n",
              "V2CPBgODiMhNhBAorbmJwhIZh87V49aQAntxWiz0ORIenhWLSf7ecVk/BgYRkYs1dfRib3ktDEYZ\n",
              "14YU2CnRIcjXSViTpUFcuLIF9mgwMIiIXKDfasOxy00wGGUc+6Z5WIH9+LwE6HMk6JKmeEyBPRoM\n",
              "DCKiMahs6oTBaMLeMhNauvoc69lJU6DXabFiXiJC1b7xo9Y39oKIaBx1mS04eKYOBqOMsuttjvXo\n",
              "0EDkZWmRr9MiNdazC+zRYGAQETlBCIGS6pswGGUcOluPnn57ge3vp7IX2DotFntRgT0aDAwiojto\n",
              "7OhFcZkJRUYTqlqGFNgxIdAPFNixYd5XYI8GA4OI6L/0WWz4YqDAPv5NEwb6a0wOtBfYBTkSsqZ5\n",
              "d4E9GgwMIqIBVxo7YSiRsa+8Fje6BwtsXdIU6HMkrEhPQIiPFNijMXH3nIgIQGdvPw6csZ+BfVpu\n",
              "c6zHhKkdBfZdMaHKDehBGBhENOEIIXCqqhUGo4zD5+rR228DAAT4qfDwrFjodRIWpcUgwIcL7NFg\n",
              "YBDRhNHQbi+wDUYZNTduOdbviglBQY6EJ+ZrEROmvsNnmNgYGETk0/osNnx+qREGo4wvrzQ7CuyQ\n",
              "QH+szEhEvk5C1rTICVdgjwYDg4h80jcNnSgskbH/dC1ahxTY9yRHIV+nxYp5CZgcyB+BI8H/LSLy\n",
              "GR29/Thwpg6GEhlnTO2O9dgwNfKytcjP1iKFBfaoMTCIyKvZbAL/qbqBIqMJh8/Vw2wZLLAfmR0H\n",
              "fY4WD81gge0KDAwi8kp1bT0oLjWhqNSE662DBfaM2FAU5EhYPV+D6FAW2K7EwCAir2G2WHH0ov0M\n",
              "7BMVzRADBXaoOgArMxKh12mRKbHAdhcGBhF5vEv1HTAYZewvr8XNW/2O9XunR0Gvk7AsPZ4F9jjg\n",
              "/zAReaT2nn7840wdiowyzg4psOPC1VibrUV+toTk6BAFJ5x4GBhE5DFsNoH/XLsBg1HGJ+cbHAX2\n",
              "JP+BAlsn4aGZMfD34yEnJTAwiEhxtY4CW4bc2uNYT4sLgz5HwurMRExlga04BgYRKcJsseLIxUYU\n",
              "lsg4WdniKLDD1AFYmZmIAp2EedoIFtgehIFBROPqYt1AgX26Fm1DCuz7UqZCn6PF/5ubgOBAfwUn\n",
              "pO/CwCAit2u/1Y+Pz9TCYJRxvrbDsZ4QEYS12VqszdYiaSoLbE/HwCAit7DZBP7vqr3A/ueFBvQN\n",
              "KbAfnROPfJ0WD85gge1NGBhE5FKmm7ewp9R+D+zatsECe1Z8GPQ6+xnYUSGBCk5Io8XAIKIx6+23\n",
              "4rOLjSgy/leBHRSAVZmJKNBNw92acBbYXo6BQUSjdr62HUVGGftP16G9Z7DAvv+uqSjIkfDY3HgE\n",
              "TWKB7SsYGEQ0Im23+vDx6ToUlsi4WD9YYCdGBGGtTkJ+thZS1GQFJyR3GXVg7N69Gz/+8Y+xb98+\n",
              "rF692oUjEZGnsdkE/n21BYUlMj670Ig+q73ADvT3w6Nz7WdgL0iNZoHt40YVGNXV1Xj33XeRm5vr\n",
              "6nmIyIPIrbdQVGpCcenwAnt2QjgKdFqsytRgCgvsCWPEgWGz2fDcc89h586dePnll90xExEpqLff\n",
              "ik8vNMBglPHvyhuO9fCgAKyer4FeJ+FuTYSCE5JSRhwY27dvx4IFC5CdnX3H55nNZpjN5mFrVqt1\n",
              "pJsjonEghMCFug4Ulsj4+HQtOnotjsceSI1Gvk7LAptGFhjnz59HcXExTpw48b3P3bZtG7Zs2TJs\n",
              "jYewiDzLze4+7D9dC4PRhEtDCmxNZLDjDGwW2PStEQXGv/71L1RXV2PGjBkAgIaGBjz//POor6/H\n",
              "hg0bhj33lVdewUsvvTRsbfPmzWMcl4jGymoTOFnZAoNRxpGhBXaAHx6bGw+9TosFd0XDjwU2/ZcR\n",
              "BcaGDRuGBcOiRYvw4osv3vavpNRqNdTq4Zcj9vfny1kipVy/cQt7SmXsKTWhrr3XsT43MRwFORJ+\n",
              "kJGIyMkssOm78TwMIh/W22/FP883oLBExlfXBgvsiOBJeGK+BmuztSywyWljCozjx4+7aAwichUh\n",
              "BM7VtqOwRMY/ztShc6DAVqnsBbZeJ2HpnDgW2DRifIVB5CNau/uwr7wWRUYZlxs6HevaKcHIz5aQ\n",
              "l62BdgoLbBo9BgaRF7PaBE5UNKPIKOPIxUb0W+1X/QsM8MOyu+NRoJOQmzKVBTa5BAODyAvV3OhG\n",
              "kdGEPaUmNHQMFtjpmgjocyT8YF4iIiZPUnBC8kUMDCIv0dNnxeFz9TAYZZyqanWsR062F9j52RLm\n",
              "JIYrOCH5OgYGkQcTQuC03AaD0YQDZ+rQZR4ssB+aEQO9TsIjc2KhDmCBTe7HwCDyQC1dZuwvt98D\n",
              "+0pjl2NdigqGPltCXrYWiZHBCk5IExEDg8hDWKw2nKhohqHEhKOXGmGx2QtsdYAflqcnQK+TcO/0\n",
              "KBbYpBgGBpHCqlq6UWSUUVxmQmPH4AU7M7T2AntlRiLCg1hgk/IYGEQKuNVnweFzDTCUyPi6erDA\n",
              "jgoJtBfYOi1mxbPAJs/CwCAaJ0IIlMttMJTIOHCmDt199sv9+6mAh2bGoEAnYcnsOAQG+Ck8KdHt\n",
              "MTCI3Ky504x95SYYjCZUNg0W2ElTJ0Ovk7AmS4OECBbY5PkYGERuYLHacPybZhiMMr643OQosIMm\n",
              "DS+wVSoW2OQ9GBhELnS1uQtFRhOKy0xo7hwssDOlSOh1ElZmJCCMBTZ5KQYG0Rh1my04dK4ehhIZ\n",
              "xpqbjvWpIYFYk6VBvk7CzLgwBSckcg0GBtEoCCFQdv0mCktkHDxbj1tDCuxFabHQ6yQ8PCuWBTb5\n",
              "FAYG0Qg0dfZib5n9EuJXm7sd69OjQ5Cv0yIvS4u48CAFJyRyHwYG0ffot9pw7HITDEYTjn3TBOtA\n",
              "gR08yR8r5tkL7JzkKSywyecxMIi+Q2VT18AZ2LVo6RossLOm2QvsxzMSEarmtxBNHPxqJxqiy2zB\n",
              "obN1KCyRUXa9zbEeHRqINVla6HVapMaywKaJiYFBE54QAsaamzCUyDh0brDA9vdTYXGa/RLii2fF\n",
              "YpI/C2ya2BgYNGE1dfSieKDAvtYyWGCnRIdAnyNhzXwNYllgEzkwMGhC6bfa8MXlJhhKZBy/0uwo\n",
              "sCcH+uPxgQI7O4kFNtHtMDBoQqho7ITBKGNfeS1auvoc67qkKdDrJCyfl8ACm+h78DuEfFZnbz8O\n",
              "nrXfA7t8WIGtRl62/R7YqbGhyg1I5GUYGORThBD4uqoVBqMJh8/Vo6d/sMB+eJb9DOxFaTEssIlG\n",
              "gYFBPqGhvRfFZSYUGWVU37jlWL8rJgR6nYQnsjSIDWOBTTQWDAzyWn0WG7643AiD0YTj3zRhoL9G\n",
              "SKA/Hp+XCH2OhKxpkSywiVyEgUFe50pjJwwl9gL7RvdggZ2TPFBgpycghAU2kcvxu4q8QkdvPw6e\n",
              "qUehUcYZuc2xHhumRl62FvnZWqTEsMAmcicGBnksIQROVbXCUCLj8Pl69PbbAAABfiosmW0vsBfO\n",
              "jEEAC2yiccHAII9T396D4lITikpNqBlSYKfGhqJAJ2H1fA1iwtQKTkg0MTEwyCP0WWw4eqkRBqOM\n",
              "E1eaHQV2qDoAKzMSkK+TMF9igU2kJAYGKepyQwcMJSbsP12L1iEF9j3TowYK7HhMDuSXKZEnGNF3\n",
              "Ym9vL374wx/i4sWLCA4ORmxsLP70pz8hNTXVXfORD2rv6ceBM3UwGGWcNbU71uPC1cjL0iJfJ2F6\n",
              "dIiCExLR7Yz4V7fnn38ey5Ytg0qlwh//+Ec899xzOH78uBtGI19iswn8p+oGigbOwDZbBgvsR2bH\n",
              "oSBHwoMzollgE3mwEQVGUFAQli9f7ng/NzcXb775psuHIt9R1zZYYF9vHSywZ8aF2s/Anq/B1FAW\n",
              "2ETeYEwHh3fs2IFVq1bd9jGz2Qyz2TxszWq1jmVz5CXMFiuOXmxCoVHGvyqaIQYK7DB1AFZmJkKv\n",
              "k5ChjWCBTeRlRh0YW7duRWVlJT7//PPbPr5t2zZs2bJl2Fpubu5oN0de4FJ9BwpLZOw/XYu2W/2O\n",
              "9dwUe4G97O4EBAf6KzghEY2FSohvf/9z3ptvvom///3vOHr0KCIjI2/7nNu9wti8eTN27NgxqkHJ\n",
              "M7Xf6sc/ztTCYDThXO1ggR0fHoS12VqszdYimQU2kU8Y8SuM7du346OPPrpjWACAWq2GWj382LS/\n",
              "P3+79AU2m8BX127AYJTxz/MNjgJ7kr8KS+fEIV8n4aEZMfD34yEnIl8yosAwmUx4+eWXkZKSgsWL\n",
              "FwOwB8OpU6fcMhx5ltq2HuwxmlBUKsN0s8exnhYXBn2OvcCOCglUcEIicqcRBYZWq8UojmCRF+vt\n",
              "t+LIRfsZ2CcrWwYL7KAArBoosNM1LLCJJgKeQku3daGuHYYSGftP16G9Z7DAvv+uqdDrJDw2N54F\n",
              "NtEEw8Agh7Zbffj4tP0M7At1HY71hIgg5GdrsTZbwrSpkxWckIiUxMCY4Gw2gX9fbYHBaMKnFxrQ\n",
              "N1BgB/r7YencOOh1Eh5IjWaBTUQMjIlKbr2FPaUm7Ck1obZtsMCeFR+GghwJqzM1mMICm4iGYGBM\n",
              "IL39Vnx6oQEGo4x/V95wrIcHBWBVpgYFORLmJoazwCai22Jg+DghBM7XdsBglPHx6Vp09Focjy1I\n",
              "HSywgyaxwCaiO2Ng+Kib3X3Yf9p+Bval+sECWxMZ7DgDW4pigU1EzmNg+BCrTeBkZQsMRhlHLjSi\n",
              "zzpYYD92dzz0Oi0W3BUNPxbYRDQKDAwfcP3GLewplbGn1IS69l7H+tzEcOh1ElZlJiJyMgtsIhob\n",
              "BoaX6u234p/n7QX2/10dLLAjgidhdWYi8nUS7tZEKDghEfkaBoYXEULgXG07Cktk/ONMHToHCmyV\n",
              "CnggNRp6nYSlc+JYYBORWzAwvEBrdx/2ldeiyCjjckOnY107JRj52RLysjXQTmGBTUTuxcDwUFab\n",
              "wImKZhQZZRy52Ih+q/2qf4EBflh2dzz0Ogn3pUxlgU1E44aB4WFqbnSjyGg/A7uhY7DATtdEQK/T\n",
              "4gcZGkRMnqTghEQ0UTEwPEBPnxWfnK+HwSjjP9daHeuRkydhdaYGep2EOYnhCk5IRMTAUIwQAmdM\n",
              "7TAYZRw4XYdO82CB/eCMGOh1WiydEwd1AAtsIvIMDIxxdqPLjH3ltTAYZVxp7HKsS1H2AnttthaJ\n",
              "kcEKTkhEdHsMjHFgsdpwoqIZhhITjl5qhMVmL7DVQwrsXBbYROThGBhuVNXSjSKjjOIyExo7zI71\n",
              "DG0E8nUSVmYkIiKYBTYReQcGhovd6rPg8Dn7GdhfVw0W2FMmT8IT87XQ52gxK54FNhF5HwaGCwgh\n",
              "UC63ocgo48CZenQNFNh+KuChmTHQ6yQsmR3LApuIvBoDYwxauszYV2YvsCuaBgvsaVGToddpkZet\n",
              "RUIEC2wi8g0MjBGyWG348kozDEYZn19qchTYQZP8sPzuBOhzJNyTHMUCm4h8DgPDSdeau1BUakJx\n",
              "qQlNnUMKbCkSBToJj2ckIDyIBTYR+S4Gxh10my04fM5+BnZJ9U3HelRIINbM1yBfJyEtPkzBCYmI\n",
              "xg8D478IIVB2vQ2GEhkHz9ahu88KwF5gL0qLhV6nxcOz4hAY4KfwpERE44uBMaC504y9ZSYYjDKu\n",
              "Nnc71pOnTka+TkJelhbxEUEKTkhEpKwJHRgWqw3HvrEX2F9cboJ1oMAOnuSP5ekJKMiRkJM8BSoV\n",
              "C2wiogkZGFebu2AwythbVovmIQX2/Gn2AnvFvASEscAmIhpmwgRGt9mCQ2ftBbaxZrDAjg4NxJos\n",
              "LfKztZgRxwKbiOi7+HRgCCFQWnMTBqOMg2frcWugwPb3U2FxWgzydRIenhWLSf4ssImIvo9PBkZT\n",
              "Zy/2DpyBfW1IgZ0SHYJ8nYQ1WRrEhbPAJiIaCZ8JjH6rDccuN8FglHHsm2ZHgT050B8r0u1nYOuS\n",
              "WGATEY3WiAOjoqIC69atQ0tLCyIiIvDXv/4Vc+fOdcdsTqls6hq4hHgtWroGC+zspCnQ67RYMS8R\n",
              "oWqfyUUiIsWM+CfpCy+8gOeffx7PPvss9uzZg2effRYlJSXumO07dZktOHS2DoUlMsqutznWo0PV\n",
              "yMuyn4GdGhs6rjMREfm6EQVGU1MTjEYjPvvsMwBAXl4eNm7ciMrKSqSmprplwG8JIWCsuYnCEhmH\n",
              "ztajp39ogR2LghwJi9JiWGATEbnJiAJDlmUkJCQgIMD+YSqVCtOmTcP169f/JzDMZjPMZvOwNavV\n",
              "Oqohu80WrPzjyeEFdkwICnQSnsjSIDaMBTYRkbu57eD+tm3bsGXLlmFrubm5o/pcIeoARIeq0dje\n",
              "i8fnJUKfo0XWNBbYRETjSSWEEM4+uampCampqWhtbUVAQACEEEhISMDJkyedeoWxefNm7NixY1SD\n",
              "Vrd0IyZMjRAW2EREihjRAf/Y2FhkZWXhb3/7GwCguLgYWq32tv2FWq1GeHj4sH/+/qO/RWlydAjD\n",
              "gohIQSP+Cbxr1y48++yz2Lp1K8LDw7F79253zEVERB5mxIGRlpaGr776yh2zEBGRB+PfoBIRkVNG\n",
              "VHqP1Zo1a5CcnDyqj7Varfj6669xzz33jKkL8US+um/cL+/jq/vmq/sFuGbfkpKS8NOf/vR7nzeu\n",
              "gTEWHR0diIiIQHt7O8LDw5Uex6V8dd+4X97HV/fNV/cLGN994yEpIiJyCgODiIicwsAgIiKneE1g\n",
              "qNVqvPbaa1Cr1UqP4nK+um/cL+/jq/vmq/sFjO++eU3pTUREyvKaVxhERKQsBgYRETmFgUFERE7x\n",
              "isCoqKjA/fffj5kzZyInJwcXLlxQeiSX+MlPfoLk5GSoVCqcPn1a6XFcpre3F6tXr8bMmTORkZGB\n",
              "pUuXorKyUumxXObRRx/FvHnzkJmZiQcffBDl5eVKj+RSu3fvhkqlwv79+5UexWWSk5ORlpaGzMxM\n",
              "ZGZmorCwUOmRXMJsNmPjxo2YMWMG0tPT8fTTT7t3g8ILLF68WOzevVsIIURRUZHQ6XTKDuQiX375\n",
              "pZBlWSQlJYny8nKlx3GZnp4ecejQIWGz2YQQQuzcuVMsXLhQ2aFc6ObNm4639+7dK+bNm6fcMC5W\n",
              "VVUl7rvvPpGbmyv27dun9Dgu42vfY9968cUXxcaNGx3fa/X19W7dnse/wvj2PuLfJmdeXh5kWfaJ\n",
              "31gfeughaLVapcdwuaCgICxfvtxxR8Tc3FxUV1crO5QLRUZGOt5ub2/3mTs/2mw2PPfcc9i5c6dP\n",
              "/vmpr+nu7sZ7772HX//6146vwfj4eLdu0+MD4073ESfvsGPHDqxatUrpMVzqmWeegSRJ2Lx5Mz78\n",
              "8EOlx3GJ7du3Y8GCBcjOzlZ6FLd45plnkJ6ejvXr16O5uVnpccbs6tWriIqKwtatW6HT6fDggw/i\n",
              "888/d+s2PT4wyLtt3boVlZWV2LZtm9KjuNQHH3wAWZbxq1/9Cps2bVJ6nDE7f/48iouL8eqrryo9\n",
              "ilucOHECZ8+eRVlZGaKjo7Fu3TqlRxozi8WCmpoazJkzB0ajEW+99RYKCgrQ2Njovo269YCXCzQ2\n",
              "NoqwsDDR398vhBDCZrOJuLg4UVFRofBkruOrx1d///vfi+zs7GHH/H1RUFCQaGlpUXqMMXn77bdF\n",
              "fHy8SEpKEklJSUKtVouYmBjx9ttvKz2ay9XV1YnQ0FClxxiz5uZm4efnJywWi2NNp9OJI0eOuG2b\n",
              "Hv8KYyT3ESfPsX37dnz00Uc4cuTIsGP+3q6trQ11dXWO9/fv34+pU6ciKipKwanGbsOGDaivr0d1\n",
              "dTWqq6uRm5uLP//5z9iwYYPSo41Zd3c32traHO9/9NFHmD9/vnIDuUh0dDSWLFmCTz/9FABQVVWF\n",
              "qqoqzJ49223bHPEtWpXgq/cRf+GFF3Do0CE0NDTgscceQ1hYmE+U+SaTCS+//DJSUlKwePFiAPbr\n",
              "3Zw6dUrhycauvb0d+fn56OnpgZ+fH2JiYnDw4EGfKb59UWNjI/Ly8mC1WiGEQEpKCj744AOlx3KJ\n",
              "d955B+vXr8emTZvg5+eHXbt2QaPRuG17vJYUERE5xeMPSRERkWdgYBARkVMYGERE5BQGBhEROYWB\n",
              "QURETmFgEBGRUxgYRETkFAYGERE5hYFBREROYWAQEZFTGBhEROSU/w+9eQ/bTYs7hQAAAABJRU5E\n",
              "rkJggg==\n",
              "\">\n",
              "        \n",
              "      </div>\n",
              "      <script></script>\n",
              "      <script type=\"text/javascript\">\n",
              "        (() => {\n",
              "          const chartElement = document.getElementById(\"chart-e3755ecc-3354-47d5-9d16-580023439e11\");\n",
              "          async function getCodeForChartHandler(event) {\n",
              "            const chartCodeResponse =  await google.colab.kernel.invokeFunction(\n",
              "                'getCodeForChart', [\"chart-e3755ecc-3354-47d5-9d16-580023439e11\"], {});\n",
              "            const responseJson = chartCodeResponse.data['application/json'];\n",
              "            await google.colab.notebook.addCell(responseJson.code, 'code');\n",
              "          }\n",
              "          chartElement.onclick = getCodeForChartHandler;\n",
              "        })();\n",
              "      </script>\n",
              "      <style>\n",
              "        .colab-quickchart-chart-with-code  {\n",
              "            display: block;\n",
              "            float: left;\n",
              "            border: 1px solid transparent;\n",
              "        }\n",
              "\n",
              "        .colab-quickchart-chart-with-code:hover {\n",
              "            cursor: pointer;\n",
              "            border: 1px solid #aaa;\n",
              "        }\n",
              "      </style>"
            ]
          },
          "metadata": {}
        },
        {
          "output_type": "display_data",
          "data": {
            "text/plain": [
              "import numpy as np\n",
              "from google.colab import autoviz\n",
              "\n",
              "def value_plot(df, y, figscale=1):\n",
              "  from matplotlib import pyplot as plt\n",
              "  df[y].plot(kind='line', figsize=(8 * figscale, 4 * figscale), title=y)\n",
              "  plt.gca().spines[['top', 'right']].set_visible(False)\n",
              "  plt.tight_layout()\n",
              "  return autoviz.MplChart.from_current_mpl_state()\n",
              "\n",
              "chart = value_plot(_df_1, *['Count'], **{})\n",
              "chart"
            ],
            "text/html": [
              "      <div class=\"colab-quickchart-chart-with-code\" id=\"chart-4bbaaca8-e6d3-47ea-b8f5-9f961a21816f\">\n",
              "        <img src=\"data:image/png;base64,iVBORw0KGgoAAAANSUhEUgAAAYwAAADECAYAAACMRRb/AAAAOXRFWHRTb2Z0d2FyZQBNYXRwbG90\n",
              "bGliIHZlcnNpb24zLjcuMSwgaHR0cHM6Ly9tYXRwbG90bGliLm9yZy/bCgiHAAAACXBIWXMAAA9h\n",
              "AAAPYQGoP6dpAAAk40lEQVR4nO3de1xUdf4/8NfMAIPADIgwQo4wcjM1FVDJW6aZafXN/KqsmpdU\n",
              "MNRctqVdjS+6+3PX1fZb8svaLbUly0ptveSyurv9tHIXtxIvkKatCjLcFAZULsNlgJnz+wMcmwSd\n",
              "QYYzM7yej8d5NHOu7/NI5+XnfM75HIkgCAKIiIjuQSp2AURE5BwYGEREZBUGBhERWYWBQUREVmFg\n",
              "EBGRVRgYRERkFQYGERFZhYFBRERWYWAQEZFVGBhERGQVBgbRPZw7dw5z585FcHAwfHx8oNFoMG/e\n",
              "PJw5c6Zbjq/VaiGRSJCXl9ctxyPqCAOD6C6OHTuGuLg49O3bF19//TVqa2uRm5uLKVOmYO/evWKX\n",
              "R9S9BCLqUFRUlLBgwYK7rrNjxw5hyJAhgkKhEIYMGSK8//775mVffvmlAEBobm62WL9fv37m788/\n",
              "/7wwZ84c4cUXXxT8/f0FlUolrF271rzcy8tLACB4eXkJ3t7eQlJSUheeIZH12MIg6sDly5dx6dIl\n",
              "LFq0qMN19u/fj+TkZGzZsgU3b97EG2+8gRdffBEHDx606Viffvopxo8fD51Oh4MHD+LVV1/Fl19+\n",
              "CQA4f/48AODbb7+FXq/H1q1bO31ORPeDgUHUAZ1OBwBQq9UdrrN9+3YkJCRg8uTJkMlkePzxx5GQ\n",
              "kGDzj/q4ceMwd+5cyGQyjBkzBtHR0cjOzr6v+om6mksGRnJyMjQaDSQSCXJzc63a5ubNm5g/fz6i\n",
              "oqIwZMgQvPLKK/YtkhyeSqUCAJSUlHS4TnFxMcLDwy3mRUREoKioyKZjPfDAAxbfvb29UVtba9M+\n",
              "iOzNJQNj9uzZOH78OEJDQ63eZunSpYiJicGlS5dw/vx5vPTSS/YrkJxCZGQkoqKi8OGHH3a4Tv/+\n",
              "/ZGfn28xLz8/HyEhIQAAhUIBAKirqzMvv3r1qk11SKUu+deUnJBL/kmcMGFCu5cRTp48icceewwj\n",
              "R45ETEyM+S6XvLw8nDp1CikpKeZ1g4KCuq1eclzbtm3D3r17kZKSgsLCQgiCgJqaGuzcuRNpaWlI\n",
              "TEzEe++9h2PHjsFoNOKLL75ARkYGXnjhBQBAVFQUFAoFtm3bBpPJhNzcXGzfvt2mGgIDAyGVSnHx\n",
              "4kV7nCKR1VwyMNpTVVWFF154AR9//DFOnTqFI0eO4OWXX0ZpaSkuXLgAtVqNFStWYMSIEXjiiSeQ\n",
              "k5MjdsnkACZOnIgTJ06gtLQUcXFxUCgUGDZsGP7xj39g9uzZiI+Px+bNm7Fy5Ur4+fnhpz/9KbZs\n",
              "2YKZM2cCaG1hfPDBB9i+fTuUSiVSU1PNYWKtXr16YePGjUhMTISfnx9Wrlxpj1MluieJILjuO701\n",
              "Gg0OHjyI6Oho/O1vf8O8efMwYMAA8/IbN27g/fffR1VVFeLj43H06FFMmjQJf//735GYmAitVgt3\n",
              "d3cRz4CIyHG4iV1AdxEEAUOGDMFXX311x7JTp06hX79+mDRpEgDgySefRFNTEwoLCxEREdHdpRIR\n",
              "OaQec0lq7NixKCgowNGjR83zcnNz0dTUhBEjRkCpVOLs2bMAgOzsbAiCgP79+4tVLhGRw3HJS1JJ\n",
              "SUk4fPgwysrK0KdPHygUCuTl5eHMmTP4xS9+gevXr6O5uRkhISE4ePAgPD09cfr0aaxcuRINDQ2Q\n",
              "y+V4/fXX8eijj4p9KkREDsMlA4OIiLpej7kkRURE94eBQUREVmFgEBGRVVwqMLZs2SJ2CURELsul\n",
              "AqOwsFDsEoiIXJZLBQYREdkPA4OIiKzCwCAiIqswMIiInJggCFj/1/M4V1Jt92MxMIiInNi7WVew\n",
              "499azHv3G1TVN9n1WAwMIiIn9VV+JV79+38AAGumDYSfl4ddj8fAICJyQlerGvDTXTkwCcDM2H5Y\n",
              "MNr6V1J3FgODiMjJGFqMWPHxGVyva8LgYCU2/vdQSCQSux+XgUFE5GTW//UCvi2ugm8vd2xbOAKe\n",
              "7rJuOS4Dg4jIifz5VDF2nSiCRAK8MTca/f29uu3YDAwiIidxrqQaaw9+BwB4aXIUJg1UdevxGRhE\n",
              "RE7gZl0Tln90Gk0tJkx+UIWfPhbR7TUwMIiIHJzRJCB5Tw5KqxoQ2scL6XOiIZXav5P7x2wKjOTk\n",
              "ZGg0GkgkEuTm5ra7jlarxcSJE+Hr64vo6GiLZTt27EB0dLR5CggIwMyZM83byWQyi+X5+fmdOiki\n",
              "Ilfyf49cQtblSni6S7F1wQj49nIXpQ43W1aePXs2Vq9ejfHjx3e4jlKpxIYNG1BdXY20tDSLZUuW\n",
              "LMGSJUvM3x966CHMnz/f/F2hUHQYREREPdH/O1+GP3yZBwD4/axhGBSsFK0Wm1oYEyZMgFqtvus6\n",
              "/v7+GD9+PLy9ve+63okTJ6DT6TB9+nRbSiAi6jGuVOjx8p+/BQAsHqvBs9H9RK3HphZGV8rIyMDC\n",
              "hQvh7n67aVVXV4dRo0bBaDRixowZSEtLg0zW/v3FBoMBBoPBYp7RaLRrzURE3aXO0ILlH51GraEF\n",
              "ozS9kfb0ILFLEqfTu66uDnv27EFCQoJ5XnBwMEpLS3Hy5EkcPXoUWVlZ2Lx5c4f72LRpE3x9fS2m\n",
              "7Ozs7iifiMiuBEHAmv1ncalcj0CFHH98LhbuMvHvURKlgr1792LIkCEYPHiweZ5cLodK1XpPsb+/\n",
              "P5YuXYqsrKwO95Gamorq6mqLKS4uzu61ExHZW8bxAhw6ew1uUgnemR8LldJT7JIAiHRJKiMjw6J1\n",
              "AQA6nQ69e/eGu7s7DAYDDhw4gJiYmA73IZfLIZfLLeZ1dPmKiMhZfHPlOja1jUC79ulBGKnxF7mi\n",
              "22xqYSQlJUGtVqOkpARTp05FRETrgyOJiYnIzMwEANTX10OtViM+Ph4XLlyAWq1GamqqeR8XL15E\n",
              "bm4u5syZY7Hv48ePIyYmBsOHD0dsbCyCgoLuuMuKiMiVlVU3YtWuMzCaBMyIfgDPj9WIXZIFiSAI\n",
              "gthFdJWUlBSkp6eLXQYRkc2aWkyYs/1r5BRV4cEgBQ6sHAsvD9HuS2qX+L0oRESE3x66gJyiKig8\n",
              "3bB1wQiHCwuAgUFEJLr9p0vw4TeFAIA35kRDE3D359jEwsAgIhLR+avV+J9PzwEAkidHYvKgviJX\n",
              "1DEGBhGRSKrqW0egNbSYMHFgIF6aHCl2SXfFwCAiEoHJJOClT3JRfKMB/f174Q2RRqC1BQODiEgE\n",
              "b3x+GccuVkDu1joCrZ+Xh9gl3RMDg4iom33+fTne/PwyAGDTzKEY8oCvyBVZh4FBRNSNtJV1eOmT\n",
              "XADAojGhmBl79xHAHQkDg4iom9Q3tY1A29iCEaG9sfbpwffeyIEwMIiIuoEgCEg9cA7/KatFgI8c\n",
              "b8+PhYebc/0EO1e1RERO6v2vtPhL7lXIpBL88bkY9HWQEWhtwcAgIrKzk9ob+N3h7wEAqU8+iIfD\n",
              "+ohcUecwMIiI7EhX04iVH59Bi0nAfw0LRsL4AWKX1GkMDCIiO2lqMWHlx2dQUWtAVF8f/H7WMEgk\n",
              "jv1w3t0wMIiI7GTj377HqcKbUMjdsG3hSHjLHW8EWlswMIiI7OAvuaV4/ystACB9TjQGOOgItLZg\n",
              "YBARdbHvr9Vgzf6zAIBVkyIwZbDjjkBrCwYGEVEXqm5oxvKPTqOx2YQJUYH4+ZQosUvqMgwMIqIu\n",
              "YjIJSPkkF4XX66Hu3Qtb5kRD5uAj0NqCgUFE1EXe+iIPn/9HZx6Btre3449AawubAiM5ORkajQYS\n",
              "iQS5ubntrqPVajFx4kT4+voiOjraYtmxY8fQq1cvREdHm6eGhgbz8oyMDERGRiI8PBzLli1Dc3Oz\n",
              "zSdERCSGLy/q8MbnlwAAG2Y8hIf6OccItLawKTBmz56N48ePIzQ0tMN1lEolNmzYgF27drW7fODA\n",
              "gcjNzTVPvXr1AgAUFBRg3bp1yMrKQl5eHsrLy7F9+3ZbyiMiEkXR9Xr8bHcOBAGY/3AI4kf2F7sk\n",
              "u7ApMCZMmAC1+u5D8fr7+2P8+PHw9rbtFrJ9+/Zh+vTpCAoKgkQiwfLly7F7926b9kFE1N0amoxI\n",
              "+ug0ahpbEN3fD796xrlGoLVFtz9Fkp+fj9jYWMhkMixZsgQrV64EABQVFVm0XDQaDYqKijrcj8Fg\n",
              "gMFgsJhnNBrtUzQRUTsEQUDap+fw/bUa9PH2wDsLYiF3k4ldlt10a2DExsaipKQEvr6+KCkpwVNP\n",
              "PYWAgAD85Cc/sXlfmzZtwvr16y3mjR49uqtKJSK6pw+/KcSBnFJIJcBbz8Ug2LeX2CXZVbfeJaVU\n",
              "KuHr29oRpFarMW/ePGRlZQEAQkJCUFhYaF5Xq9UiJCSkw32lpqaiurraYoqLi7PvCRARtTldeAO/\n",
              "+esFAMArTz6IseEBIldkf90aGNeuXYPJZAIA1NbW4tChQ4iJiQEAzJo1C5mZmSgrK4MgCNi6dSvm\n",
              "zp3b4b7kcjmUSqXFJJO5blOQiByHrvb2CLRPDw3GskfCxC6pW9gUGElJSVCr1SgpKcHUqVMREREB\n",
              "AEhMTERmZiYAoL6+Hmq1GvHx8bhw4QLUajVSU1MBAPv378fQoUMxfPhwjB49GlOmTMGSJUsAAGFh\n",
              "YVi/fj3GjRuHiIgIBAYGIikpqSvPlYjovjUbTVi1KwflNQZEqHzw+9nOPQKtLSSCIAhiF9FVUlJS\n",
              "kJ6eLnYZROTCfnvoAjKOF8BH7oa/rBqH8EAfsUvqNnzSm4jISpnfXkXG8QIAwOvxw3tUWAAMDCIi\n",
              "q1wsq8Wafa0j0K6YGI5pDwWJXFH3Y2AQEd1DTWPrCLQNzUaMjwjAL54YKHZJomBgEBHdResItN+i\n",
              "oLIO/fx64c15MS41Aq0tGBhERHfx9rE8HP2+HB4yKd5ZEAt/FxuB1hYMDCKiDvzzUgU2H2kdgfY3\n",
              "zw7BMLWfuAWJjIFBRNSO4hv1+Nme1hFo547qj7lxHY880VMwMIiIfqSx2YjlH51GVX0zhql98X+m\n",
              "DxG7JIfAwCAi+gFBELD24Hc4f7UG/t4eeGfBCHi6c9ghQIThzYnIsRlNAq7XGaCrMaCi1gBdbSN0\n",
              "NQbo2j7rDS3o39sL4YE+CFd5IzzQB+reXi5z59DHJ4qw73RJ6wi082LQz8+1R6C1BQODqIcwtBjb\n",
              "AuBWGDSaP+tqG1Ghb/1cqTfAdM8Bg65bfPOQSTEgwNscIOGBPggL9EZYoA985M7zM5NTdBPr/3oe\n",
              "APDLqQ9iXITrj0BrC+f5P0lE7dIbWqCrafvxrzVAV9N4Oxhqb3+uqm+2ep8SCdDHWw6VQg6Vsu2/\n",
              "Ck+olHJ4ebih6EY98iv0yNfpUVBZB0OLCRfLa3GxvPaOfQUpPS2C5FbLJEjp6VCD9lXqDVjx0Rk0\n",
              "GwVMGxKE5Y/2jBFobcHAIHJAgiDgZn3zHZeDLC4T1bZ+rm+y/k2THjIpAhVyBCp+GAaed3z29/aA\n",
              "m8y6Lk6jScDVqgbkVehxpaLOHCT5FXWo1BtQVtOIsppG/DvPslXi5SFrCxDvthZJa5Bo+nh3e59B\n",
              "i9GEVbvOoKymEeGB3ngtvueMQGsLBgZRN2oxmlCpb7ozCH50mahSb0Cz0fqBpL09ZFApPW8HQVtr\n",
              "4MeffXu5d/kPoUwqQX9/L/T398KkH42YUV3fjPzK2wGSX6FHfoUehdfrUd9kxLnSapwrrbbYRiJB\n",
              "Wx9JW6tE5WMOFn9vD7v8kP/vZxfxzZUb8PaQYdvCEVB4unf5MVwBA4Ooi5lMAopv1uNSuR6Xymtx\n",
              "ubwWeRV6lFU34npdE2x5oUBvL3fzD36gov3WQKBCDm8H7Sfw9XJHbEhvxIb0tpjf1GK6fVmrQo98\n",
              "3e0wqW1sQdGNehTdqMeXFysstvPzcm9tjQR4WwRJiL+X1S2iHzt89hq2/+sKAOC1+OGIUCk6d7I9\n",
              "gGP+KSNyAiaTgNKqBlwqr8Wlcj0ul9fikq4WeTo9GptNHW4nk0oQ4ONh8eMfeOuzQg6VsvVzgI8c\n",
              "Hm6ueee7h5sUESofRKgshwcXBAGV+qZ2g6S0qgFV9c04XXgTpwtvWmznLpMgtI/37VZJW8skLNAb\n",
              "yru0Fi6X1+KX+74FACRNCMNTQ4O7/mRdCAOD6B5uBUOeTn87HNqCoaP+Aw83KcIDfRDV1wdRfRWI\n",
              "VLXeeqpSyuHv5QGpi9yC2tUkEom5j2V0WB+LZQ1NRhRU3g6Q/Io65Ov0uFLZGtB5Oj3ydHoA5Rbb\n",
              "BSrkdwRJeKA3FJ7uSPrwNOqbjBgT1ge/nNozR6C1BQODqI0gCLha3Wi+jHSr1ZCn06Ouo2CQSREW\n",
              "6I2ovgpE9fVBZFs4hPbxdpnnEhxFLw8ZBj+gxOAHlBbzTSYBV6sbkF9Rhys/apncujGgotaAb67c\n",
              "sNhOKgFMAhDs64m3novp9CWtnoSBQT2OIAgoq2m8fRmpLRzydHroDS3tbuMukyAswAeRbS2GW+EQ\n",
              "eh/XzqlrSKUSqHt7Qd3bC49GBVosq2lsbr1zS6e3aJkUXq9Ds1GA3E2Kt+fHIsBHLlL1zsWmwEhO\n",
              "TkZmZiYKCwuRk5OD6OjoO9bRarVYvHgxcnJyMGDAAOTm5pqXffHFF3jllVeg1+shkUjw9NNP49VX\n",
              "X4VUKoVWq0V4eDiGDh1qXn///v0IDw/v9MlRzyYIAnS1Bss+hvJaXNa1dqy2x00qwYCA1hbDD8Mh\n",
              "tI833BkMTkfp6Y7o/n6I7u9nMb/ZaELxjXr08pAh2JdPclvLpsCYPXs2Vq9ejfHjx3e4jlKpxIYN\n",
              "G1BdXY20tDSLZb1798aePXsQFhaGxsZGPP7449i5cycWL14MAFAoFBYBQ2QNQRBQoTfgcrn+jnCo\n",
              "6SAYZOZg8EGk6nY4aPp4u2xHM93mLpMirIe9j7sr2BQYEyZMuOc6/v7+GD9+PI4dO3bHspiYGPNn\n",
              "T09PREdHQ6vV2lIC9WC37qAxX0bStQbDZZ2+w6eYZVIJQvt4IUp1+zJSVF8FBgQwGIhsJVofRllZ\n",
              "Gfbt24dDhw6Z59XV1WHUqFEwGo2YMWMG0tLSIJO1/8SnwWCAwWCwmGc0Wv/EKzm2G3VNba2FWotW\n",
              "w80OgkEqAUL7eCNS5WNxOSks0BtyN440StQVRAmMmpoaPPPMM1i9ejVGjhwJAAgODkZpaSlUKhVu\n",
              "3LiBOXPmYPPmzVi9enW7+9i0aRPWr19vMW/06NF2r526Vm1jszkMLraFw8UyPSr1hnbXl0iAUH+v\n",
              "tpbCrVtWW4OBQ1AT2Ve3B0ZtbS2mTZuGZ599FikpKeb5crkcKpUKQOtlraVLl2LXrl0dBkZqaqrF\n",
              "9gCwbt06+xVO96Wx2Yg8nR4XyyxbDaVVDR1uE+Lv9YPLSK19DREqHwYDkUi6NTD0ej2mTZuGadOm\n",
              "Ye3atRbLdDodevfuDXd3dxgMBhw4cMCiz+PH5HI55HLLW+E6unxF3aepxYSCyjpzKNwKiMIb9R0O\n",
              "iRGk9ERUkAIDzXcltQaDow53QdRT2fQ3MikpCYcPH0ZZWRmmTp0KhUKBvLw8JCYmYvr06Zg+fTrq\n",
              "6+sRFRUFg8GA6upqqNVqLFy4EJs2bcKWLVuQnZ2Nuro6HDhwAAAQHx+PtLQ0HD9+HL/61a8gk8nQ\n",
              "0tKCxx577I67rMhxGE0Cim7U/6jFUIsrFXVo6eBlCv7eHojq64OBfRVtAaFAZF8FfHtxoDciZyAR\n",
              "BFuGQnNsKSkpSE9PF7sMlyIIrcNiXC7Xt/YxlLX2NeTp9DC0tD9ekkLuhqgghfkZhlsBwYejiJwb\n",
              "2/wE4PazDJfKWoPhVif05fKOn372dJciUtUaDAODbl9OCvZ1rBfjEFHXYGD0QFX1Tbj0gxbDrctJ\n",
              "Hd2y6i6TIDywtfP5Vj/DwCCFS73HmYjujYHhwvSGltYH226FQ1sntK62/VtWpRJA0+f2QHq3+hk0\n",
              "ARwWg4gYGC7nxJXreDfrCv5TVouSmx3fstrPrxcGBt2+nMRbVonoXhgYLuTw2Wt46ZMci1d7qhRy\n",
              "c9/CrX6GyL4K+PCWVSKyEX81XMRH3xRi3V++gyAATz4UhMVjNYjqq0Bvbw+xSyMiF8HAcHKCIOAP\n",
              "X+Rh85FLAID5D4fgN88+xM5oIupyDAwnZjIJ+O3hC9jxby0AIPmxCPx8ShRvaSUiu2BgOKlmowmr\n",
              "953FpzmlAIBfPzMYS8YNELkqInJlDAwn1NBkxMqPT+PLixVwk0rwevxwzIjpJ3ZZROTiGBhOprq+\n",
              "GQkfnMSpwpvwdJfinfkjMOlBldhlEVEPwMBwIrqaRix6Lxv/KauF0tMN7y0ehZEaf7HLIqIegoHh\n",
              "JLSVdVj43gkU32iASiHHzoQ4PBikFLssIupBGBhO4PzVajz/3klU6g0I7eOFD5c+jJA+XmKXRUQ9\n",
              "DAPDwZ24ch2JH5xCraEFg4KV+GDpKKgUnmKXRUQ9EAPDgR29UI4Xd52BocWEOI0/3n1+JF82RESi\n",
              "YWA4qH2nS7Bm/1kYTQIeH6TCH56L5cCARCQqBoYD+lPWFWw4/D0AYFasGr+fNRRuHF6ciETGwHAg\n",
              "giDgtc8u4u1j+QCAZY8MQOqTgyDluFBE5ABs+mdrcnIyNBoNJBIJcnNz211Hq9Vi4sSJ8PX1RXR0\n",
              "9B3LMzIyEBkZifDwcCxbtgzNzc1WLXN1RpOA//n0nDks1kx7EP/zFMOCiByHTYExe/ZsHD9+HKGh\n",
              "oR2uo1QqsWHDBuzateuOZQUFBVi3bh2ysrKQl5eH8vJybN++/Z7LXF1jsxEvfnwGu7OLIZUAm2YO\n",
              "xYqJ4RxEkIgcik2BMWHCBKjV6ruu4+/vj/Hjx8Pb2/uOZfv27cP06dMRFBQEiUSC5cuXY/fu3fdc\n",
              "5sr0hhYsff8k/nG+DB4yKf74XCzmxYWIXRYR0R26tQ+jqKjIonWi0WhQVFR0z2XtMRgMMBgs301t\n",
              "NBq7uGL7uq43YPGOkzhXWg1vDxneXTQSYyMCxC6LiKhdTnvrzaZNm+Dr62sxZWdni12W1UqrGhC/\n",
              "9WucK62Gv7cHdr8wmmFBRA6tWwMjJCQEhYWF5u9arRYhISH3XNae1NRUVFdXW0xxcXH2K74LXS6v\n",
              "xay3v8KVyjo84OuJvcvHYJjaT+yyiIjuqlsDY9asWcjMzERZWRkEQcDWrVsxd+7cey5rj1wuh1Kp\n",
              "tJhkMsd/sC2n6Cbit32NsppGRKh8sG/FWIQH+ohdFhHRPdkUGElJSVCr1SgpKcHUqVMREREBAEhM\n",
              "TERmZiYAoL6+Hmq1GvHx8bhw4QLUajVSU1MBAGFhYVi/fj3GjRuHiIgIBAYGIikp6Z7LXEXW5QrM\n",
              "/9MJVNU3Y3h/P+xNGoMH/HqJXRYRkVUkgiAIYhfRVVJSUpCeni52Ge06dPYqfv5JLpqNAh6JDMDW\n",
              "BSPgLedzk0TkPPiL1Q0+/KYQv/rLdxAE4OlhwUj/yXDI3Rz/8hkR0Q8xMOxIEAS89UUe0o9cAgDM\n",
              "fzgEv3n2Icj49DYROSEGhp2YTAJ+c+gC3v9KCwBInhyJnz8eyae3ichpMTDsoNlowi/3fouDuVcB\n",
              "AL9+ZjCWjBsgclVERPeHgdHFGpqMWPnxaXx5sQJuUglejx+OGTH9xC6LiOi+MTC6UHV9M5Z+cBKn\n",
              "C2/C012Kd+aPwKQHVWKXRUTUJRgYXaS8phGLMrJxsbwWSk83vLd4FEZq/MUui4ioyzAwuoC2sg4L\n",
              "3zuB4hsNUCnk2JkQhweDlGKXRUTUpRgY9+n81Wo8/95JVOoNCO3jhY8SHkZ/fy+xyyIi6nIMjPtw\n",
              "4sp1JH5wCrWGFgwKVmLn0jgEKuRil0VEZBcMjE46cqEcq3adgaHFhLgB/vjT8yOh9HQXuywiIrth\n",
              "YHTC3lPFeOXAORhNAh4fpMIfnouFpzuH+iAi18bAsNG7/7qC3/3tewDArFg1fj9rKNxkTvseKiIi\n",
              "qzEwrCQIAv73s4t451g+AGDZIwOQ+uQgSDkuFBH1EAwMKxhNAtI+PYc9J4sBAGumPYjlj4ZxXCgi\n",
              "6lEYGPfQ2GzES3ty8Y/zZZBKgI3/PRRz4zp+dSwRkatiYNxFbWMzXth5Gl9fuQ4PmRRvzovGtIeC\n",
              "xS6LiEgUDIwOXNcbsHjHSZwrrYa3hwzvLhqJsREBYpdFRCQaBkY7Sm7WY1FGNq5U1sHf2wPvLxmF\n",
              "YWo/scsiIhIVA+NHLpfXYmFGNspqGtHPrxd2JsQhPNBH7LKIiERn0wMEycnJ0Gg0kEgkyM3N7XC9\n",
              "jIwMREZGIjw8HMuWLUNzczMAYMeOHYiOjjZPAQEBmDlzJgBAq9VCJpNZLM/Pz+/8mXVCTtFNxG/7\n",
              "GmU1jYhQ+WDfijEMCyKiNjYFxuzZs3H8+HGEhoZ2uE5BQQHWrVuHrKws5OXloby8HNu3bwcALFmy\n",
              "BLm5ueYpKCgI8+fPN2+rUCgsloeHh3fytGz3r0sVmP+nE6iqb0Z0fz/sTRqDYN9e3XZ8IiJHZ1Ng\n",
              "TJgwAWq1+q7r7Nu3D9OnT0dQUBAkEgmWL1+O3bt337HeiRMnoNPpMH36dNsqtoPDZ68h4YOTqG8y\n",
              "4pHIAHyc+DB6e3uIXRYRkUPp8j6MoqIiixaIRqNBUVHRHetlZGRg4cKFcHe/PWBfXV0dRo0aBaPR\n",
              "iBkzZiAtLQ0yWftjNBkMBhgMBot5RqOxUzV7uElhEoD/GhaM9J9Ew8ONQ30QEf2YKL+MdXV12LNn\n",
              "DxISEszzgoODUVpaipMnT+Lo0aPIysrC5s2bO9zHpk2b4OvrazFlZ2d3qp4pg/viz0ljsGVuDMOC\n",
              "iKgDXf7rGBISgsLCQvN3rVaLkBDLJ6P37t2LIUOGYPDgweZ5crkcKlXr+6/9/f2xdOlSZGVldXic\n",
              "1NRUVFdXW0xxcXGdrntEaG/IOC4UEVGHujwwZs2ahczMTJSVlUEQBGzduhVz5861WCcjI8OidQEA\n",
              "Op3OfDeVwWDAgQMHEBMT0+Fx5HI5lEqlxdTR5SsiIrp/NgVGUlIS1Go1SkpKMHXqVERERAAAEhMT\n",
              "kZmZCQAICwvD+vXrMW7cOERERCAwMBBJSUnmfVy8eBG5ubmYM2eOxb6PHz+OmJgYDB8+HLGxsQgK\n",
              "CkJaWtr9nh8REXURiSAIgthFdJWUlBSkp6eLXQYRkUtyqcCYOXMmNBpNp7Y1Go3Izs5GXFycU1/a\n",
              "cpXzAHgujshVzgPgufxQaGgofvazn91zPZcKjPtRU1MDX19fVFdXQ6lUil1Op7nKeQA8F0fkKucB\n",
              "8Fw6g/eQEhGRVRgYRERkFQYGERFZhYHRRi6X49e//jXkcrnYpdwXVzkPgOfiiFzlPACeS2ew05uI\n",
              "iKzCFgYREVmFgUFERFZhYBARkVUYGAAuX76MsWPHIioqCqNGjcL58+fFLqlTrH2FrqNrbGzEjBkz\n",
              "EBUVheHDh2PKlCnIy8sTu6xOe+KJJzBs2DBER0fjkUceQU5Ojtgl3ZcdO3ZAIpHg4MGDYpfSaRqN\n",
              "BgMHDjS/DvqTTz4Ru6ROMxgMWLVqFSIjIzF06FAsWLDAfgcTSJg0aZKwY8cOQRAEYe/evcLIkSPF\n",
              "LaiT/vnPfwrFxcVCaGiokJOTI3Y5ndbQ0CAcPnxYMJlMgiAIwltvvSU8+uij4hZ1H27evGn+fODA\n",
              "AWHYsGHiFXOfCgoKhDFjxgijR48WPv30U7HL6TRn/zvyQy+99JKwatUq89+Xa9eu2e1YPb6FodPp\n",
              "cOrUKXMqz5o1C8XFxU75L1prXqHrDDw9PfHUU09BIml9P8no0aOh1WrFLeo++Pn5mT9XV1ebz8vZ\n",
              "mEwmJCYm4q233nKJW1FdQV1dHTIyMvC73/3O/OcqKCjIbsfr8YFRXFyM4OBguLm1vq1WIpEgJCSk\n",
              "3dfKkji2bNmCZ599Vuwy7suiRYvQv39/rFu3Dh9++KHY5XRKeno6xo0bhxEjRohdSpdYtGgRhg4d\n",
              "ioSEBFRUVIhdTqfk5+fD398fGzduxMiRI/HII4/g888/t9vxenxgkGPbuHEj8vLysGnTJrFLuS87\n",
              "d+5EcXExNmzYgDVr1ohdjs2+++477N+/H2vXrhW7lC7xr3/9C2fPnsWZM2cQEBCA559/XuySOqWl\n",
              "pQWFhYUYPHgwTp06hTfffBNz5sxBeXm5fQ5ot4tdTqK8vFxQKBRCc3OzIAiCYDKZhL59+wqXL18W\n",
              "ubLOc5Xrs6+99powYsQIiz4AV+Dp6SlUVlaKXYZN3n77bSEoKEgIDQ0VQkNDBblcLgQGBgpvv/22\n",
              "2KXdt6tXrwo+Pj5il9EpFRUVglQqFVpaWszzRo4cKRw5csQux+vxLQyVSoXY2Fh89NFHAID9+/dD\n",
              "rVab3yZI4khPT8fu3btx5MgRiz4AZ1NVVYWrV6+avx88eBB9+vSBv7+/iFXZbsWKFbh27Rq0Wi20\n",
              "Wi1Gjx6N7du3Y8WKFWKXZrO6ujpUVVWZv+/evfuur4N2ZAEBAZg8eTI+++wzAEBBQQEKCgowaNAg\n",
              "uxzPzS57dTLbtm3D4sWLsXHjRiiVSuzYsUPskjolKSkJhw8fRllZGaZOnQqFQuGUnfclJSV4+eWX\n",
              "ERYWhkmTJgFoHSvnxIkTIldmu+rqasTHx6OhoQFSqRSBgYE4dOiQ03Z8u4Ly8nLMmjULRqMRgiAg\n",
              "LCwMO3fuFLusTtu6dSsSEhKwZs0aSKVSbNu2Df369bPLsTiWFBERWaXHX5IiIiLrMDCIiMgqDAwi\n",
              "IrIKA4OIiKzCwCAiIqswMIiIyCoMDCIisgoDg4iIrMLAICIiqzAwiIjIKgwMIiKyyv8HR60C4Ft0\n",
              "vpIAAAAASUVORK5CYII=\n",
              "\">\n",
              "        \n",
              "      </div>\n",
              "      <script></script>\n",
              "      <script type=\"text/javascript\">\n",
              "        (() => {\n",
              "          const chartElement = document.getElementById(\"chart-4bbaaca8-e6d3-47ea-b8f5-9f961a21816f\");\n",
              "          async function getCodeForChartHandler(event) {\n",
              "            const chartCodeResponse =  await google.colab.kernel.invokeFunction(\n",
              "                'getCodeForChart', [\"chart-4bbaaca8-e6d3-47ea-b8f5-9f961a21816f\"], {});\n",
              "            const responseJson = chartCodeResponse.data['application/json'];\n",
              "            await google.colab.notebook.addCell(responseJson.code, 'code');\n",
              "          }\n",
              "          chartElement.onclick = getCodeForChartHandler;\n",
              "        })();\n",
              "      </script>\n",
              "      <style>\n",
              "        .colab-quickchart-chart-with-code  {\n",
              "            display: block;\n",
              "            float: left;\n",
              "            border: 1px solid transparent;\n",
              "        }\n",
              "\n",
              "        .colab-quickchart-chart-with-code:hover {\n",
              "            cursor: pointer;\n",
              "            border: 1px solid #aaa;\n",
              "        }\n",
              "      </style>"
            ]
          },
          "metadata": {}
        },
        {
          "output_type": "display_data",
          "data": {
            "text/plain": [
              "<google.colab._quickchart_helpers.SectionTitle at 0x78af911ea170>"
            ],
            "text/html": [
              "<h4 class=\"colab-quickchart-section-title\">Distributions</h4>\n",
              "<style>\n",
              "  .colab-quickchart-section-title {\n",
              "      clear: both;\n",
              "  }\n",
              "</style>"
            ]
          },
          "metadata": {}
        },
        {
          "output_type": "display_data",
          "data": {
            "text/plain": [
              "import numpy as np\n",
              "from google.colab import autoviz\n",
              "\n",
              "def histogram(df, colname, num_bins=20, figscale=1):\n",
              "  from matplotlib import pyplot as plt\n",
              "  df[colname].plot(kind='hist', bins=num_bins, title=colname, figsize=(8*figscale, 4*figscale))\n",
              "  plt.gca().spines[['top', 'right',]].set_visible(False)\n",
              "  plt.tight_layout()\n",
              "  return autoviz.MplChart.from_current_mpl_state()\n",
              "\n",
              "chart = histogram(_df_2, *['index'], **{})\n",
              "chart"
            ],
            "text/html": [
              "      <div class=\"colab-quickchart-chart-with-code\" id=\"chart-409ab31f-894d-443d-bdd1-eac865ed8e4c\">\n",
              "        <img src=\"data:image/png;base64,iVBORw0KGgoAAAANSUhEUgAAAYwAAADECAYAAACMRRb/AAAAOXRFWHRTb2Z0d2FyZQBNYXRwbG90\n",
              "bGliIHZlcnNpb24zLjcuMSwgaHR0cHM6Ly9tYXRwbG90bGliLm9yZy/bCgiHAAAACXBIWXMAAA9h\n",
              "AAAPYQGoP6dpAAAYXklEQVR4nO3dfVAU9+EG8GeB9kzVE18gIMdB8eCiLXCCUoImxjhptKlowbbR\n",
              "olwrL9qkNkOmUqJOfEkgaSZp1BmHQxwaw9RoxViqpqmJ1mhCRNT4grWAincoLzZWsAmecnx/f9jc\n",
              "rxcg2T1Y74DnM7Mzd3tfdp+dOX1m73u3KwkhBIiIiL6Gj6cDEBFR/8DCICIiWVgYREQkCwuDiIhk\n",
              "YWEQEZEsLAwiIpKFhUFERLKwMIiISBYWBhERycLCIPoKs2bNwrp169z++6lTp2L16tV9F4jIg/w8\n",
              "HYDIm73zzjuejkDkNXiGQUREsrAwiL7CI488gpUrVwIAJEnCxo0bMWXKFAwbNgzR0dE4cuSIc2xH\n",
              "RweWL1+OoKAgBAQEIC8vr8v2rly5ggULFiAkJASBgYGYP38+rl27BgD4+9//jqFDh+LYsWMAACEE\n",
              "nnjiCcyePRu8Rih5AxYGkQLFxcV44403cOPGDcyYMQM/+9nPnK/97ne/w44dO3DgwAE0NDTAz88P\n",
              "R48edb5ut9sxY8YMjB07FjU1Nbh48SL8/PywYMECAHfLafXq1Zg3bx4+/fRTrFu3DufPn8ebb74J\n",
              "SZLu+bESdSGIqEfTpk0TK1asEEIIAUC88cYbztfOnj0rAIimpiYhhBAGg0Fs2LDB+XpHR4cICAgQ\n",
              "zz//vBBCiLKyMjF27FjR2dnpHNPQ0CAACJvN5lyXmpoqYmNjxdChQ8XJkydVPDoiZTjpTaTA2LFj\n",
              "nY+HDh0KALh58ybuv/9+NDQ04Nvf/rbzdV9fX+j1eufz2tpaNDc3Y+TIkS7b1Gg0sFqt0Ol0AICc\n",
              "nBxMmTIF8+fPh8lkUvFoiJRhYRD1EZ1Oh/r6eudzh8MBm83mfB4UFISwsDBcuHChx220trYiPT0d\n",
              "ixcvxo4dO/CXv/wFs2fPVjM2kWycwyDqI+np6Xj11Vdx/vx52O12rF27FtevX3e+npKSgjt37mDV\n",
              "qlVobW0FALS0tGD79u0A7k5yp6enw2g0YvPmzbBYLFi0aBEuXrzokeMh+jIWBlEfyc3NRUpKCqZN\n",
              "mwadTofbt2/je9/7nvP14cOHo6KiAlarFdHR0dBqtUhKSsIHH3wAAHj55Zdx+vRp5yT3/PnzkZaW\n",
              "htTUVLS3t3vqsIicJCH4fT0iIvp6PMMgIiJZWBhERCQLC4OIiGRhYRARkSwsDCIikoWFQUREsrAw\n",
              "iIhIlgFRGOvXr/d0BCKiAW9AFMbly5c9HYGIaMAbEIVBRETqU7Uwli1bhvDwcEiShE8++aTHcVu2\n",
              "bEFkZCTGjRuHzMxM3LlzR81YRETkBlULY968eThy5AjCwsJ6HHPp0iWsWrUKhw8fRl1dHZqbm1FU\n",
              "VKRmLCIicoOqhfHwww87bwrTk507dyI5ORlBQUGQJAlLlizBtm3b1IxFRERu8PgNlKxWq8sZSHh4\n",
              "OKxWa4/j7XY77Ha7yzqHw6FaPiIiusvjhaFUQUEB1qxZ47IuMTHR7e2F/3Zvr/LUv/REr/7eXb3J\n",
              "7anMQP/N3RuD8T0GMLdS/SG3x78lpdfrXb4WW19f73If5C/Ly8tDa2ury5KQkHAvohIRDWoeL4zU\n",
              "1FSUl5ejqakJQggUFhbiySef7HG8RqOBVqt1WXx9fe9hYiKiwUnVwsjOzoZOp0NDQwMef/xxGAwG\n",
              "AEBGRgbKy8sBABEREVizZg2mTJkCg8GAgIAAZGdnqxmLiIjcoOochsVi6XZ9cXGxy/PMzExkZmaq\n",
              "GYWIiHrJ4x9JERFR/8DCICIiWVgYREQkCwuDiIhkYWEQEZEsLAwiIpKFhUFERLKwMIiISBYWBhER\n",
              "ycLCICIiWVgYREQkCwuDiIhkYWEQEZEsLAwiIpKFhUFERLKwMIiISBYWBhERyaJqYdTW1iIpKQlR\n",
              "UVGYPHkyqquru4zp7OxETk4OJkyYgJiYGEyfPh11dXVqxiIiIjeofk/vrKws1NTUIDc3F2azucuY\n",
              "8vJyfPjhhzh16hROnz6NGTNm4LnnnlMzFhERuUG1wmhpaUFVVRXS0tIAAKmpqbDZbF3OHiRJgt1u\n",
              "x61btyCEQFtbG3Q6nVqxiIjITX5qbdhmsyE4OBh+fnd3IUkS9Ho9rFYrDAaDc9zs2bNx8OBBBAUF\n",
              "Yfjw4QgJCcGhQ4d63K7dbofdbndZ53A41DkIIiJy8vikd1VVFc6ePYsrV67g6tWrmDFjBpYsWdLj\n",
              "+IKCAowYMcJlqaysvIeJiYgGJ9UKIzQ0FI2Njejo6AAACCFgtVqh1+tdxm3duhWPPvoo/P394ePj\n",
              "g/T0dBw8eLDH7ebl5aG1tdVlSUhIUOswiIjov1QrjMDAQMTFxaG0tBQAUFZWBp1O5/JxFABERETg\n",
              "wIEDuH37NgBgz549+O53v9vjdjUaDbRarcvi6+ur1mEQEdF/qTaHAQAWiwVmsxn5+fnQarUoKSkB\n",
              "AGRkZCA5ORnJycl46qmn8I9//AOxsbH4xje+gaCgIBQWFqoZi4iI3KBqYRiNRlRUVHRZX1xc7Hys\n",
              "0WiwefNmNWMQEVEf8PikNxER9Q8sDCIikoWFQUREsrAwiIhIFhYGERHJorgw3n33XTVyEBGRl1Nc\n",
              "GGvXroXRaMT69evR1tamRiYiIvJCigvjww8/xFtvvYWzZ88iKioKv/zlL3Hu3Dk1shERkRdxaw5j\n",
              "4sSJ2Lx5M/76179iz549iImJwWOPPYYzZ870dT4iIvISbhXGe++9hzlz5iAlJQVPPfUUmpqakJ2d\n",
              "jR/96Ed9nY+IiLyE4kuDjB8/HmPGjMGyZcuQkpLivPDfvHnzsGXLlj4PSERE3kFxYZSWliI+Pr7b\n",
              "1955551eByIiIu+k+COp48eP4/r1687nn376KS8eSEQ0CCgujE2bNmHUqFHO56NHj8amTZv6NBQR\n",
              "EXkfxYUhhOiyjvfUJiIa+BQXRnBwMHbs2OF8vn37dgQHB/dpKCIi8j6KJ71ff/11zJkzB8uXLwcA\n",
              "fOtb38Kf//znPg9GRETeRfEZxgMPPIBz585h37592LdvH86cOYPIyMhux9bW1iIpKQlRUVGYPHky\n",
              "qqurux135swZPPLIIxg/fjzGjx+PXbt2KY1FREQqc+sWrZIkwd/fHx0dHbhy5QoAQK/XdxmXnZ2N\n",
              "rKwsmM1m7Ny5E2azGceOHXMZ8/nnn2POnDnYunUrpk6dCofD4fItLCIi8g6KzzD+8Ic/wN/fH9HR\n",
              "0YiPj0d8fDwmTZrUZVxLSwuqqqqQlpYGAEhNTYXNZkNdXZ3LuD/+8Y9ITEzE1KlTAQC+vr4ICAhw\n",
              "51iIiEhFis8w1q1bh2PHjsFoNH7lOJvNhuDgYPj53d2FJEnQ6/WwWq0wGAzOcefOnYNGo8EPf/hD\n",
              "NDQ0ICYmBq+++mqPpWG322G3213W8VtaRETqU3yGMWbMmK8tCyU6Ojrw3nvvwWKx4OTJkwgJCcHS\n",
              "pUt7HF9QUIARI0a4LJWVlX2Wh4iIuqe4MObOnYvXX38dLS0taGtrcy5fFhoaisbGRnR0dAC4+/sN\n",
              "q9XaZa5Dr9dj+vTpCAkJgSRJSEtLw8cff9zj/vPy8tDa2uqyJCQkKD0MIiJSSHFhrFixAjk5OQgK\n",
              "CsLIkSPh7++PkSNHdhkXGBiIuLg4lJaWAgDKysqg0+lcPo4CgJ/85Cc4duyYs3T27duH2NjYHvev\n",
              "0Wig1Wpdli8ugEhEROpRPIfR2dkpe6zFYoHZbEZ+fj60Wi1KSkoAABkZGUhOTkZycjL0ej2ee+45\n",
              "JCUlwcfHByEhISgqKlIai4iIVObW12qPHz+Oc+fOYeHChbhx4wba29u7/bW30WhERUVFl/XFxcUu\n",
              "zxcuXIiFCxe6E4WIiO4Rty4++Itf/AKrV68GcPdqtQsWLOjrXERE5GUUF0ZRURE+/vhjaLVaAMC4\n",
              "ceNw7dq1Pg9GRETeRXFhaDQa3HfffS7rvvitBRERDVyKCyMgIAA1NTWQJAnA3V9+d3dZECIiGljc\n",
              "ulrt/Pnzcf78eYSGhkKr1WLPnj1qZCMiIi+iuDAMBgOOHj2Kf/7znxBCwGg08ncQRESDgOLCsFqt\n",
              "AIChQ4cCwFderZaIiAYOxYURHx8PSZIghMCtW7fw+eefY/To0WhpaVEjHxEReQnFhfHlr9Du2rUL\n",
              "p06d6rNARETknRR/S+rLUlJSsHfv3r7IQkREXkzxGcb/XpnW4XDg6NGj3V6tloiIBhbFheHv7++c\n",
              "w/D19UVkZCQ2bNigRjYiIvIiql6tloiIBo5ez2EQEdHgoPgMw8fHx3lZkP8lhIAkSby/NhHRAKW4\n",
              "MNauXYv29nbnfbcLCwtx33334ZlnnunrbERE5EUUF8bbb7+N48ePO5+/8MILiI+Px4oVK/o0GBER\n",
              "eRfFcxg3b950+VV3S0sLbt682aehiIjI+ygujGeffRaxsbFYvHgxFi9ejIkTJ+I3v/lNt2Nra2uR\n",
              "lJSEqKgoTJ48GdXV1T1uVwiBRx99FP7+/kojERHRPaC4MLKzs7F//36YTCaYTCb87W9/Q2ZmZo9j\n",
              "s7KyUFNTg9zcXJjN5h63+/vf/x7jxo1TGoeIiO4Rt75WO3r0aERHR+NXv/oVjEYjbt++3WVMS0sL\n",
              "qqqqkJaWBgBITU2FzWZDXV1dl7HV1dXYvXs3fvvb37oTh4iI7gHFhbFz504kJibi5z//OYC7/9nP\n",
              "nTu3yzibzYbg4GDn7VslSYJer3deHv0Ld+7cQWZmJiwWi6z7atjtdrS1tbks/CovEZH6FBdGQUEB\n",
              "Tpw44ZxriI2NxeXLl90OsGbNGqSkpGD8+PGy9z9ixAiXpbKy0u39ExGRPIoLw9fXF6NHj3ZZ981v\n",
              "frPLuNDQUDQ2NqKjowPA3Ultq9Xa5UZLhw4dwsaNGxEeHo6pU6eira0N4eHhXS6j/oW8vDy0tra6\n",
              "LAkJCUoPg4iIFFL8O4zhw4ejubnZ+Wvv999/H6NGjeoyLjAwEHFxcSgtLYXZbEZZWRl0Oh0MBoPL\n",
              "uMOHDzsf19fXw2Qyob6+vsf9azQaaDQal3W8RSwRkfoUF8bLL7+MWbNm4eLFi5g6dSouXbrU4/0w\n",
              "LBYLzGYz8vPzodVqUVJSAgDIyMhAcnIykpOTe5eeiIjuGUWF0dnZCYfDgYMHD+Kjjz6CEAJJSUk9\n",
              "/nbCaDSioqKiy/ri4uJux4eHh+PGjRtKIhER0T2iqDB8fHyQlZWFU6dOYdasWWplIiIiL6R40jsy\n",
              "MrLb31IQEdHApngO4/r16zCZTEhKSsKwYcOc63ft2tWnwYiIyLvILoysrCwUFRUhPT0dycnJGDly\n",
              "pJq5iIjIy8gujKqqKgBAeno64uLicOLECdVCERGR93HrWlJCiL7OQUREXk72GUZ7ezvOnDkDIQRu\n",
              "3brlfPyFmJgYVQISEZF3UFQY//tDu/99LEkSLl682LfJiIjIq8gujK+6XAcREQ18bs1hEBHR4MPC\n",
              "ICIiWVgYREQkCwuDiIhkYWEQEZEsLAwiIpKFhUFERLKwMIiISBZVC6O2thZJSUmIiorC5MmTUV1d\n",
              "3WXMgQMHkJCQgAkTJuA73/kOli9fjs7OTjVjERGRG1QtjOzsbGRlZaGmpga5ubkwm81dxowcORJv\n",
              "vfUWzp07h+PHj+Ojjz7C1q1b1YxFRERuUK0wWlpaUFVVhbS0NABAamoqbDZbl7v1TZw4EREREQCA\n",
              "IUOGwGQy8TIkREReSPEd9+Sy2WwIDg6Gn9/dXUiSBL1eD6vVCoPB0O3fNDU1YefOndizZ0+P27Xb\n",
              "7bDb7S7rHA5H3wUnIqJuec2kd1tbG2bPno3ly5dj0qRJPY4rKCjAiBEjXJbKysp7mJSIaHBSrTBC\n",
              "Q0PR2NiIjo4OAHdvumS1WqHX67uMvXnzJmbOnIk5c+YgJyfnK7ebl5eH1tZWlyUhIUGVYyAiov+n\n",
              "WmEEBgYiLi4OpaWlAICysjLodLouH0f95z//wcyZMzFz5kysXLnya7er0Wig1WpdFl9fX1WOgYiI\n",
              "/p+qH0lZLBZYLBZERUXhpZdeQklJCQAgIyMD5eXlAID169ejsrISu3btgslkgslkwosvvqhmLCIi\n",
              "coNqk94AYDQaUVFR0WV9cXGx8/GKFSuwYsUKNWMQEVEf8JpJbyIi8m4sDCIikoWFQUREsrAwiIhI\n",
              "FhYGERHJwsIgIiJZWBhERCQLC4OIiGRhYRARkSwsDCIikoWFQUREsrAwiIhIFhYGERHJwsIgIiJZ\n",
              "WBhERCQLC4OIiGRhYRARkSyqFkZtbS2SkpIQFRWFyZMno7q6uttxW7ZsQWRkJMaNG4fMzEzcuXNH\n",
              "zVhEROQGVQsjOzsbWVlZqKmpQW5uLsxmc5cxly5dwqpVq3D48GHU1dWhubkZRUVFasYiIiI3qFYY\n",
              "LS0tqKqqQlpaGgAgNTUVNpsNdXV1LuN27tyJ5ORkBAUFQZIkLFmyBNu2bVMrFhERuclPrQ3bbDYE\n",
              "BwfDz+/uLiRJgl6vh9VqhcFgcI6zWq0ICwtzPg8PD4fVau1xu3a7HXa73WWdw+Ho4/RERPRlqhWG\n",
              "WgoKCrBmzRqXdQ888ABycnIUb8vhcCC4shIJCQnw9fV1K09Ozvtu/V1vpXzpucPhQKXMY/FUZqBr\n",
              "7u70dCyezO2ugfQeA/rH+0zOewzwvveZ3NzdcTgcePDBF9x+n4WFheHXv/71146ThBDCnYBfp6Wl\n",
              "BQaDAdevX4efnx+EEAgODsaRI0dczjBeeeUVXLhwAYWFhQCAffv2IT8/H0eOHOl2u92dYWg0Gmg0\n",
              "GsUZ29raMGLECLS2tkKr1Sr+e2/CY/FOA+lYgIF1PDwW5VSbwwgMDERcXBxKS0sBAGVlZdDpdC5l\n",
              "Adyd2ygvL0dTUxOEECgsLMSTTz7Z43Y1Gg20Wq3L4k5ZEBGRMqp+S8piscBisSAqKgovvfQSSkpK\n",
              "AAAZGRkoLy8HAERERGDNmjWYMmUKDAYDAgICkJ2drWYsIiJyg6pzGEajERUVFV3WFxcXuzzPzMxE\n",
              "ZmammlGIiKiXBvUvvTUaDZ5//vkB8ZEWj8U7DaRjAQbW8fBYlFNt0puIiAaWQX2GQURE8rEwiIhI\n",
              "FhYGERHJMmgLQ+6VdPuDZcuWITw8HJIk4ZNPPvF0nF65desW5s6di6ioKMTGxuKxxx7rcv2x/uT7\n",
              "3/8+YmJiYDKZ8NBDD+HkyZOejtRrJSUlkCQJu3fv9nQUt4WHh8NoNMJkMsFkMmH79u2ejuQ2u92O\n",
              "p59+GpGRkYiOjnZev08VYpCaPn26KCkpEUII8ac//UlMmjTJs4F64dChQ8Jms4mwsDBx8uRJT8fp\n",
              "lfb2drF3717R2dkphBBi48aNYtq0aZ4N1Qv//ve/nY937dolYmJiPBemD1y6dEk8+OCDIjExUbz9\n",
              "9tuejuO2gfBv5QvPPPOMePrpp53/ZhobG1Xb16A8w5B7Jd3+4uGHH4ZOp/N0jD4xZMgQ/OAHP4Ak\n",
              "SQCAxMRE1NfXezZUL/j7+zsft7a2Oo+rP+rs7ERGRgY2btw4IL6KOhB89tln2LJlC1588UXneyso\n",
              "KEi1/Q3KwviqK+mSd1m/fj3mzJnj6Ri9smjRIoSGhmLVqlV48803PR3Hba+99hqmTJmC+Ph4T0fp\n",
              "E4sWLUJ0dDQWL16Ma9eueTqOWy5cuIBRo0YhPz8fkyZNwkMPPYT331fv4omDsjCof8jPz0ddXR0K\n",
              "Cgo8HaVXtm7dCpvNhhdeeAG5ubmejuOWs2fPoqysDCtXrvR0lD7xwQcf4PTp0zhx4gTGjBmD9PR0\n",
              "T0dyS0dHBy5fvowJEyagqqoKGzZswE9/+lM0Nzers0PVPuzyYs3NzWL48OHizp07QgghOjs7xf33\n",
              "3y9qa2s9nKx3BtLnsq+88oqIj493mQMYCIYMGSL+9a9/eTqGYps2bRJBQUEiLCxMhIWFCY1GIwIC\n",
              "AsSmTZs8Ha3Xrl69KoYNG+bpGG65du2a8PHxER0dHc51kyZNEvv371dlf4PyDEPulXTJM1577TVs\n",
              "27YN+/fvd5kD6G9u3LiBq1evOp/v3r0bo0ePxqhRozyYyj1Lly5FY2Mj6uvrUV9fj8TERBQVFWHp\n",
              "0qWejqbYZ599hhs3bjifb9u2DRMnTvRcoF4YM2YMZsyYgXfffRfA3VteX7p0CePHj1dlf/3uBkp9\n",
              "xWKxwGw2Iz8/H1qt1nkl3f4oOzsbe/fuRVNTEx5//HEMHz68307gNzQ04Nlnn0VERASmT58O4O51\n",
              "co4ePerhZMq1trbixz/+Mdrb2+Hj44OAgADs2bOnX098DwTNzc1ITU2Fw+GAEAIRERHYunWrp2O5\n",
              "rbCwEIsXL0Zubi58fHxgsVgQEhKiyr54LSkiIpJlUH4kRUREyrEwiIhIFhYGERHJwsIgIiJZWBhE\n",
              "RCQLC4OIiGRhYRARkSwsDCIikoWFQUREsrAwiIhIFhYGERHJ8n/+OkEdeWzL1wAAAABJRU5ErkJg\n",
              "gg==\n",
              "\">\n",
              "        \n",
              "      </div>\n",
              "      <script></script>\n",
              "      <script type=\"text/javascript\">\n",
              "        (() => {\n",
              "          const chartElement = document.getElementById(\"chart-409ab31f-894d-443d-bdd1-eac865ed8e4c\");\n",
              "          async function getCodeForChartHandler(event) {\n",
              "            const chartCodeResponse =  await google.colab.kernel.invokeFunction(\n",
              "                'getCodeForChart', [\"chart-409ab31f-894d-443d-bdd1-eac865ed8e4c\"], {});\n",
              "            const responseJson = chartCodeResponse.data['application/json'];\n",
              "            await google.colab.notebook.addCell(responseJson.code, 'code');\n",
              "          }\n",
              "          chartElement.onclick = getCodeForChartHandler;\n",
              "        })();\n",
              "      </script>\n",
              "      <style>\n",
              "        .colab-quickchart-chart-with-code  {\n",
              "            display: block;\n",
              "            float: left;\n",
              "            border: 1px solid transparent;\n",
              "        }\n",
              "\n",
              "        .colab-quickchart-chart-with-code:hover {\n",
              "            cursor: pointer;\n",
              "            border: 1px solid #aaa;\n",
              "        }\n",
              "      </style>"
            ]
          },
          "metadata": {}
        },
        {
          "output_type": "display_data",
          "data": {
            "text/plain": [
              "import numpy as np\n",
              "from google.colab import autoviz\n",
              "\n",
              "def histogram(df, colname, num_bins=20, figscale=1):\n",
              "  from matplotlib import pyplot as plt\n",
              "  df[colname].plot(kind='hist', bins=num_bins, title=colname, figsize=(8*figscale, 4*figscale))\n",
              "  plt.gca().spines[['top', 'right',]].set_visible(False)\n",
              "  plt.tight_layout()\n",
              "  return autoviz.MplChart.from_current_mpl_state()\n",
              "\n",
              "chart = histogram(_df_3, *['Count'], **{})\n",
              "chart"
            ],
            "text/html": [
              "      <div class=\"colab-quickchart-chart-with-code\" id=\"chart-4b4cf646-8cc5-4a67-83b6-9687c348ef2d\">\n",
              "        <img src=\"data:image/png;base64,iVBORw0KGgoAAAANSUhEUgAAAYwAAADECAYAAACMRRb/AAAAOXRFWHRTb2Z0d2FyZQBNYXRwbG90\n",
              "bGliIHZlcnNpb24zLjcuMSwgaHR0cHM6Ly9tYXRwbG90bGliLm9yZy/bCgiHAAAACXBIWXMAAA9h\n",
              "AAAPYQGoP6dpAAAX10lEQVR4nO3df1AU5/0H8PcB9kTlICJU5DwIIGAIIJgwVBmrSZiAjeggSbFx\n",
              "isovJSnNkI6VSdIWdcRMYkaajgNEqjFObSsqYTCaqREcqEYEgjE6UUGPA4OSqAG0AgLP9w+T+3rh\n",
              "R3bvbuEg79fMznB7D7ufz6D7nr29fVYlhBAgIiL6EXajXQAREY0NDAwiIpKEgUFERJIwMIiISBIG\n",
              "BhERScLAICIiSRgYREQkCQODiIgkYWAQEZEkDAwiIpKEgUE0jHPnziExMREeHh6YMmUKvL29sWLF\n",
              "CtTV1Y3I/vV6PVQqFRoaGkZkf0TDYWAQDaGiogIRERH4+c9/jlOnTqGzsxP19fWIjo7G/v37R7s8\n",
              "opEniGhQ/v7+YuXKlcOO2bVrlwgKChJOTk4iKChI7N692/heeXm5ACDu379vMt7T09P4OikpSfz6\n",
              "178WL730kpg6dapwd3cXr7/+uvH9SZMmCQBi0qRJYvLkySI9Pd2KHRLJwzMMokFcvnwZly5dwm9/\n",
              "+9shxxw4cACZmZnIy8vD7du3sX37drz00ksoKSmRta9Dhw4hKioKbW1tKCkpwdatW1FeXg4AOH/+\n",
              "PADg7NmzuHPnDvLz883uichSDAyiQbS1tQEAtFrtkGMKCwuRnJyMp59+Gvb29njmmWeQnJws+6A+\n",
              "f/58JCYmwt7eHr/4xS8wZ84cVFdXW1Q/kRIYGESDcHd3BwC0tLQMOaa5uRm+vr4m6/z8/GAwGGTt\n",
              "a8aMGSavJ0+ejM7OTlnbIBoJDAyiQcyaNQv+/v744IMPhhwzc+ZMNDY2mqxrbGyETqcDADg5OQEA\n",
              "7t69a3z/q6++klWHnR3/i5Lt4L9GoiEUFBRg//79yMrKQlNTE4QQ6OjowJ49e/Daa68hJSUFf//7\n",
              "31FRUYG+vj4cP34cRUVFSEtLAwD4+/vDyckJBQUF6O/vR319PQoLC2XV4ObmBjs7O1y8eFGJFolk\n",
              "YWAQDWHhwoU4ffo0rl27hoiICDg5OSEkJARHjx5FQkICnn/+eWzbtg0ZGRlwcXHB7373O+Tl5SE+\n",
              "Ph7AgzOM999/H4WFhdBoNMjOzjaGiVSOjo7YsmULUlJS4OLigoyMDCVaJZJEJQSf6U1ERD+OZxhE\n",
              "RCQJA4OIiCRhYBARkSQMDCIikoSBQUREkjAwiIhIEgYGERFJMi4CIy8vb7RLICIa98ZFYDQ1NY12\n",
              "CURE455igdHV1YVly5bB398foaGhiI6OHvIxk2VlZQgMDMSsWbMQHx+Pjo4OpcoiIiIzKXqGkZaW\n",
              "hosXL+Ls2bNYunQpUlJSBoy5c+cOkpOTUVJSgsuXL2PGjBnYtGmTkmUREZEZFAuMiRMnYvHixVCp\n",
              "VACAyMhI6PX6AeOOHDmCsLAwBAYGAgAyMjKwb98+pcoiIiIzOYzUjvLy8rB06dIB6w0GA7y8vIyv\n",
              "vb290drait7eXjg4DCyvu7sb3d3dJuv6+vqsXzAREZkYkcDYsmULGhoa8Mknn1i8rdzcXOTk5Jis\n",
              "i4yMtHi7RErx3nDYot/Xb/2VlSohsozi35J6++23cfDgQRw5cgSTJk0a8L5OpzP5lpNer4eHh8eg\n",
              "ZxcAkJ2djfb2dpMlIiJCsfqJiOgBRQPjnXfewb59+/Cf//wHLi4ug46JiYlBXV0dvvzySwDAjh07\n",
              "kJiYOOQ21Wo1NBqNyWJvb69E+URE9BDFPpJqaWnBq6++Ch8fHyxatAjAg4P96dOn8ac//QkzZszA\n",
              "2rVr4eTkhJ07d2LZsmXo7e3F448/jvfff1+psoiIyEyKBYZWq8VQD/PbuHGjyeu4uDjExcUpVQoR\n",
              "EVnBuLjTm4iIlMfAICIiSRgYREQkCQODiIgkYWAQEZEkDAwiIpKEgUFERJIwMIiISBIGBhERScLA\n",
              "ICIiSRgYREQkCQODiIgkYWAQEZEkDAwiIpKEgUFERJIwMIiISBIGBhERScLAICIiSRgYREQkCQOD\n",
              "iIgkYWAQEZEkigZGZmYmvL29oVKpUF9fP+iYiooKODo6Ys6cOcbl3r17SpZFRERmcFBy4wkJCVi/\n",
              "fj2ioqKGHRcQEDBkoBARkW1QNDAWLFig5OaJiGgEKRoYUjU2NiI8PBz29vZYvXo1MjIyhhzb3d2N\n",
              "7u5uk3V9fX1Kl0hE9JMn+xrGxx9/bNUCwsPD0dLSgrq6Ohw6dAj5+fn497//PeT43NxcODs7myzV\n",
              "1dVWrYmIiAaSHRgbN25EQEAA8vLy0NHRYXEBGo0Gzs7OAACtVosVK1agsrJyyPHZ2dlob283WSIi\n",
              "Iiyug4iIhic7MP773//in//8J7744gv4+/sjIyMDFy5cMLuA1tZW9Pf3AwA6OztRVlaGsLCwIcer\n",
              "1WpoNBqTxd7e3uz9ExGRNGZ9rTYsLAzvvfcejh49irKyMoSEhCA6Ohrnzp0zGZeeng6tVouWlhY8\n",
              "++yz8PPzAwCkpKSgtLQUAHDgwAEEBwcjNDQUkZGRiI6OxurVqy1si4iIrE0lhBByf+nYsWN49913\n",
              "ce7cOaSnpyM5ORkVFRXYsGEDGhoalKhzWFlZWXjnnXdGfL9EUnhvOGzR7+u3/spKlRBZRva3pGbP\n",
              "no1p06YhMzMT8fHxxo+DEhISUFRUZPUCiYjINsgOjL1792Lu3LmDvnfkyBGLCyIiItsk+xpGbW0t\n",
              "bt26ZXx98+ZNvPfee1YtioiIbI/swNixYwemTp1qfO3q6oodO3ZYtSgiIrI9sgNjsGvkvNOaiGj8\n",
              "kx0YHh4eJndi/+tf/4KHh4dViyIiItsj+6L39u3bsXTpUqxfvx4AMGnSJHz44YdWL4yIiGyL7MAI\n",
              "DAzEhQsXcPHiRQAPpibnndZEROOfWbPVqlQquLi4oLe3F9euXQMA6HQ6qxZGRES2RXZg7N69G5mZ\n",
              "mZgwYQLs7B5cAlGpVGhra7N6cUREZDtkB8amTZtw5swZBAQEKFEPERHZKNnfkpo2bRrDgojoJ0h2\n",
              "YCxbtgzbt29HW1sbOjo6jAsREY1vsj+Seu211wA8mCFWpVJBCAGVSsWb94iIxjnZgfH9w46IiOin\n",
              "xawHKNXW1uKDDz4AAHz77bdobW21alFERGR7zJp8cM2aNfjLX/4C4MFstb/5zW+sXRcREdkY2YFR\n",
              "WFiITz/9FBqNBgDg6+uLr7/+2uqFERGRbZEdGGq1Go6OjibrHBzMumGciIjGENmB4ebmhkuXLkGl\n",
              "UgF4cOc3pwUhIhr/ZAfG9u3b8eKLL+LLL7/EzJkz8dZbbyEvL2/QsZmZmfD29oZKpUJ9ff2Q2ywq\n",
              "KsKsWbPg6+uL1NRU3L9/X25ZRESkMNmB4efnh9OnT6O2thYff/wxPv/8czz66KODjk1ISEBVVRW8\n",
              "vLyG3N7Vq1fxxhtvoLKyEg0NDbhx4wYKCwvllkVERAqTHRgGgwEtLS2YPHkypkyZgmvXrsFgMAw6\n",
              "dsGCBdBqtcNur7i4GHFxcZg+fTpUKhXWrl2Lffv2yS2LiIgUJvtq9dy5c413eHd1deF///sfXF1d\n",
              "zZ6t1mAwmJyBeHt7DxlAANDd3Y3u7m6TdbzLnIhIebID44dfoT148CDOnj1rtYJ+TG5uLnJyckzW\n",
              "RUZGmr097w2HLapHv/VXFv0+SWfp34rIlo2FY5FZd3o/LD4+HocPm9+oTqdDU1OT8bVerx/2W1fZ\n",
              "2dlob283WSIiIszePxERSSM7MB6eofb27ds4evSoRbPVLl++HKWlpbh+/TqEEMjPz0diYuKQ49Vq\n",
              "NTQajcnCR8QSESlPdmC4uLjgkUcegYuLC9zd3ZGVlYW//vWvg45NT0+HVqtFS0sLnn32Wfj5+QEA\n",
              "UlJSUFpaCgDw8fFBTk4O5s+fDz8/P7i5uSE9Pd2CloiISAmKzlZbUFAw6PqdO3eavE5NTUVqaqrc\n",
              "UoiIaARZfA2DiIh+GmSfYdjZ2RmnBXkYH6RERDS+yQ6MjRs34t69e1i3bh0AID8/H46OjnjllVes\n",
              "XRsREdkQ2YFx6NAh1NbWGl9v3rwZc+fONT66lYiIxifZ1zA6OztN7upua2tDZ2enVYsiIiLbI/sM\n",
              "49VXX0VoaCgWL14MADh69Kjx6XtERDR+yQ6M9PR0zJ8/H+Xl5QCArKwsBAUFWb0wIiKyLWY9Ks/V\n",
              "1RXBwcFYuHAhent70dPTg5/97GfWro2IiGyI7GsYxcXFiIyMxOrVqwEA58+fx7Jly6xdFxER2RjZ\n",
              "gZGbm4u6ujq4uLgAAEJDQ00mDyQiovFJdmDY29vD1dXVZB0/jiIiGv9kB4aTkxNu3LhhvNv7k08+\n",
              "wdSpU61eGBER2RbZF73ffPNNxMbG4sqVK4iKisLVq1cteh4GERGNDbICo7+/H319fSgvL8fJkych\n",
              "hMC8efOM1zOIiGj8khUYdnZ2SEtLw9mzZxEbG6tUTUREZINkX8OYNWsWGhoalKiFiIhsmOxrGLdu\n",
              "3cKcOXMwb948TJkyxbj+4MGDVi2MiIhsi+TASEtLQ2FhIZKSkhAXF4dHHnlEybqIiMjGSA6Mmpoa\n",
              "AEBSUhLCw8NRV1enWFFERGR7zHpEqxDC2nUQEZGNk3yGce/ePZw7dw5CCHR1dRl//l5ISIgiBRIR\n",
              "kW2QFRhxcXHG1w//rFKpcOXKlQG/c/nyZSQlJeGbb76Bs7Mzdu/ePWAq9IqKCsTGxiIgIMC47tSp\n",
              "U3B0dJTVCBERKUtyYOj1etkbT09PR1paGlatWoXi4mKsWrUKZ86cGTAuICAA9fX1srdPREQjx6xr\n",
              "GFK0tbWhpqYGK1euBAAsX74czc3NvIeDiGiMUiwwmpub4eHhAQeHBycxKpUKOp0OBoNhwNjGxkaE\n",
              "h4fjySefxI4dO4bdbnd3Nzo6OkyWvr4+RXogIqL/Z9YT96wpPDwcLS0tcHZ2RktLCxYvXoxp06bh\n",
              "hRdeGHR8bm4ucnJyTNZFRkaORKlERD9pip1hzJw5E62trejt7QXw4Ku4BoMBOp3OZJxGo4GzszMA\n",
              "QKvVYsWKFaisrBxyu9nZ2WhvbzdZIiIilGqDiIi+o1hguLu7Izw8HHv37gUAHDhwAFqtFn5+fibj\n",
              "Wltb0d/fDwDo7OxEWVkZwsLChtyuWq2GRqMxWezt7ZVqg4iIvqNYYABAQUEBCgoK4O/vj61bt2LX\n",
              "rl0AgJSUFJSWlgJ4ECTBwcEIDQ1FZGQkoqOjjc8LJyIi26HoNYyAgACcOnVqwPqdO3caf3755Zfx\n",
              "8ssvK1kGERFZgaJnGERENH4wMIiISBIGBhERScLAICIiSRgYREQkCQODiIgkYWAQEZEkDAwiIpKE\n",
              "gUFERJIwMIiISBIGBhERScLAICIiSRgYREQkCQODiIgkYWAQEZEkDAwiIpKEgUFERJIwMIiISBIG\n",
              "BhERScLAICIiSRQNjMuXL2PevHnw9/fHk08+ifPnzw86rqioCLNmzYKvry9SU1Nx//59JcsiIiIz\n",
              "KBoY6enpSEtLw6VLl/DHP/4Rq1atGjDm6tWreOONN1BZWYmGhgbcuHEDhYWFSpZFRERmUCww2tra\n",
              "UFNTg5UrVwIAli9fjubmZjQ0NJiMKy4uRlxcHKZPnw6VSoW1a9di3759SpVFRERmclBqw83NzfDw\n",
              "8ICDw4NdqFQq6HQ6GAwG+Pn5GccZDAZ4eXkZX3t7e8NgMAy53e7ubnR3d5us6+vrs3L1RET0Q4oF\n",
              "hlJyc3ORk5Njsi4wMBBZWVlmbS9e5vi+vj5UV1cjIiIC9vb2yMr6xKz92qIf9mZr5P6tHmbrvQ1H\n",
              "yr+xsdzfj/mp9BZvYW+WHIu8vLzw+9///kfHqYQQwuy9DKOtrQ1+fn64desWHBwcIISAh4cHqqqq\n",
              "TM4w3nrrLTQ2NiI/Px8A8NFHH2HLli2oqqoadLuDnWGo1Wqo1Wol2higo6MDzs7OaG9vh0ajGZF9\n",
              "jhT2NnaN5/7Ym+1Q7BqGu7s7wsPDsXfvXgDAgQMHoNVqTcICeHBto7S0FNevX4cQAvn5+UhMTBxy\n",
              "u2q1GhqNxmQZqbAgIvopU/RbUgUFBSgoKIC/vz+2bt2KXbt2AQBSUlJQWloKAPDx8UFOTg7mz58P\n",
              "Pz8/uLm5IT09XcmyiIjIDIp9JDVejbVTSDnY29g1nvtjb7aDd3rLpFar8ec//3lcfgzG3sau8dwf\n",
              "e7MdPMMgIiJJeIZBRESSMDCIiEgSBgYREUnCwPhOZmYmvL29oVKpUF9fP+S4oWbW7e/vR1ZWFh57\n",
              "7DGEhIRg0aJFA+bNGi1SetPr9Vi4cCGcnZ0xZ86cAe/b6ozClvZ2/PhxRERE4LHHHkNQUBDWr1+P\n",
              "/v5+5QuXwBp/NwAQQuCpp56Ci4uLYrWawxr9nTt3DgsXLsTs2bMxe/ZsHDx4UNmiJbK0N5s9nggS\n",
              "Qghx4sQJ0dzcLLy8vMRnn3026JgrV64IDw8P0draKvr7+8WSJUvE3/72NyGEEIcOHRIRERGip6dH\n",
              "CCHEpk2bxPPPPz9S5Q9LSm83b94UlZWVoqysTISGhpq8N1zfo83S3urq6kRjY6MQQoh79+6J+fPn\n",
              "i127dilbtESW9va9bdu2iZSUFOHs7KxYreawtL+7d++KRx99VFRWVgohhOjt7RVtbW0KVy2Npb3Z\n",
              "6vGEZxjfWbBgAbRa7bBjhptZV6VSobu7G11dXRBCoKOj40e3N1Kk9DZ16lRERUVh8uTJA96z5RmF\n",
              "Le0tLCwMPj4+AICJEydizpw50Ov1SpQqm6W9AcD58+dRUlKCDRs2KFGiRSzt7x//+AciIyMRFRUF\n",
              "ALC3t4ebm5sitcplaW+2ejwZc5MPjqbhZtZdsmQJysvLMX36dDg5OcHT0xMnTpwYrVKtSu6MwmPV\n",
              "9evXUVxcjLKystEuxSru37+P1NRUFBUVjbtJ+wDgwoULUKvVeO6559DS0oKQkBBs27bNZkLDErZ6\n",
              "POEZhpXU1NTgiy++wLVr1/DVV1/h6aefxtq1a0e7LJKoo6MDS5Yswfr16/HEE0+MdjlWkZOTg/j4\n",
              "eMyePXu0S1FEb28vjh07hoKCAnz22Wfw9PTEunXrRrssq7DV4wkDQwadToempibja71eD51OBwDY\n",
              "s2eP8cKinZ0dkpKSUF5ePlqlWtVwfY8HnZ2diImJwdKlS82eJt8WnThxAu+++y68vb0RFRWFjo4O\n",
              "eHt74+uvvx7t0qxCp9Nh0aJF8PT0hEqlwsqVK/Hpp5+OdllWYavHEwaGDMPNrOvj44Pjx4+jp6cH\n",
              "AFBWVobHH398NMu1GrkzCo8ld+7cQUxMDGJiYvD666+PdjlWVVlZiaamJuj1elRVVUGj0UCv14+L\n",
              "j2wA4IUXXsCZM2fQ0dEB4MGjEUJDQ0e5Kuuw2ePJ6F5ztx1paWnC09NT2NvbC3d3d+Hr6yuEECI5\n",
              "OVl8+OGHxnGFhYXCx8dH+Pj4iDVr1hi/xdDV1SVSUlJEYGCgCA4OFtHR0cZv34w2Kb3dvXtXeHp6\n",
              "imnTpokJEyYIT09PsWHDBuM2hup7tFna2+bNm4WDg4MIDQ01Lps3bx61fh5mjb/b965evWpz35Ky\n",
              "Rn979uwRQUFBIjg4WMTExAiDwTAqvfyQpb3Z6vGEc0kREZEk/EiKiIgkYWAQEZEkDAwiIpKEgUFE\n",
              "RJIwMIiISBIGBhHRGCN1du2H3b59Gy+++CL8/f0RFBRk1vxiDAwiojEmISEBVVVVJnO8/Zg1a9Yg\n",
              "LCwMly5dwvnz5/HKK6/I3i8Dg4hojBlqNtwzZ87gqaeewhNPPIGwsDDs378fANDQ0ICamhqTqW+m\n",
              "T58ue7+crZaIaBz49ttvkZaWho8++ggeHh745ptvEB4ejnnz5uHChQvQarVYt24dampq4Orqijff\n",
              "fBNhYWGy9sHAICIaB06ePIkrV64gNjbWZP3FixfR29uL6upqbNmyBQUFBThy5Aiee+456PV6TJgw\n",
              "QfI+GBhEROOAEAJBQUE4efLkgPdqamrg6emJRYsWAQBiY2PR09ODpqYm+Pn5Sd4Hr2EQEY0D8+bN\n",
              "w9WrV3Hs2DHjuvr6evT09GDu3LnQaDT4/PPPAQDV1dUQQmDmzJmy9sHJB4mIxpj09HQcPnwY169f\n",
              "h6urK5ycnNDQ0IC6ujr84Q9/wM2bN3H//n3odDqUlJRg4sSJqK2tRUZGBu7duwe1Wo23334bv/zl\n",
              "L2Xtl4FBRESS8CMpIiKShIFBRESSMDCIiEgSBgYREUnCwCAiIkkYGEREJAkDg4iIJGFgEBGRJAwM\n",
              "IiKShIFBRESSMDCIiEiS/wOgW4ddWtYWVQAAAABJRU5ErkJggg==\n",
              "\">\n",
              "        \n",
              "      </div>\n",
              "      <script></script>\n",
              "      <script type=\"text/javascript\">\n",
              "        (() => {\n",
              "          const chartElement = document.getElementById(\"chart-4b4cf646-8cc5-4a67-83b6-9687c348ef2d\");\n",
              "          async function getCodeForChartHandler(event) {\n",
              "            const chartCodeResponse =  await google.colab.kernel.invokeFunction(\n",
              "                'getCodeForChart', [\"chart-4b4cf646-8cc5-4a67-83b6-9687c348ef2d\"], {});\n",
              "            const responseJson = chartCodeResponse.data['application/json'];\n",
              "            await google.colab.notebook.addCell(responseJson.code, 'code');\n",
              "          }\n",
              "          chartElement.onclick = getCodeForChartHandler;\n",
              "        })();\n",
              "      </script>\n",
              "      <style>\n",
              "        .colab-quickchart-chart-with-code  {\n",
              "            display: block;\n",
              "            float: left;\n",
              "            border: 1px solid transparent;\n",
              "        }\n",
              "\n",
              "        .colab-quickchart-chart-with-code:hover {\n",
              "            cursor: pointer;\n",
              "            border: 1px solid #aaa;\n",
              "        }\n",
              "      </style>"
            ]
          },
          "metadata": {}
        },
        {
          "output_type": "display_data",
          "data": {
            "text/plain": [
              "<google.colab._quickchart_helpers.SectionTitle at 0x78af90cf4f70>"
            ],
            "text/html": [
              "<h4 class=\"colab-quickchart-section-title\">Categorical distributions</h4>\n",
              "<style>\n",
              "  .colab-quickchart-section-title {\n",
              "      clear: both;\n",
              "  }\n",
              "</style>"
            ]
          },
          "metadata": {}
        },
        {
          "output_type": "display_data",
          "data": {
            "text/plain": [
              "import numpy as np\n",
              "from google.colab import autoviz\n",
              "\n",
              "def categorical_histogram(df, colname, figscale=1, mpl_palette_name='Dark2'):\n",
              "  from matplotlib import pyplot as plt\n",
              "  import seaborn as sns\n",
              "  df.groupby(colname).size().plot(kind='barh', color=sns.palettes.mpl_palette(mpl_palette_name), figsize=(8*figscale, 4.8*figscale))\n",
              "  plt.gca().spines[['top', 'right',]].set_visible(False)\n",
              "  return autoviz.MplChart.from_current_mpl_state()\n",
              "\n",
              "chart = categorical_histogram(_df_4, *['Day_of_week'], **{})\n",
              "chart"
            ],
            "text/html": [
              "      <div class=\"colab-quickchart-chart-with-code\" id=\"chart-f95d4179-19f1-4ee6-bd5c-ab9aa25abb51\">\n",
              "        <img src=\"data:image/png;base64,iVBORw0KGgoAAAANSUhEUgAAAXgAAADgCAYAAAAJ3308AAAAOXRFWHRTb2Z0d2FyZQBNYXRwbG90\n",
              "bGliIHZlcnNpb24zLjcuMSwgaHR0cHM6Ly9tYXRwbG90bGliLm9yZy/bCgiHAAAACXBIWXMAAA9h\n",
              "AAAPYQGoP6dpAAAaAUlEQVR4nO3deVBUV9oG8KdppJVEcIkLYSIIiiiLHQREBAUNilHjEoxLRSGK\n",
              "oJlyTFwyQ42ZCFrFqJ9i1ElGXEOZmVhRYtRMZtxaE3GN0hpxJIKARgmaidIapaHhfH9Y9kxHiM3t\n",
              "levzq7pV9O27vKdMPX1y+vS5CiGEABERyY6LowsgIiLbYMATEckUA56ISKYY8EREMsWAJyKSKQY8\n",
              "EZFMMeCJiGSKAU9EJFOyD/j333/f0SUQETmE7AO+oqLC0SUQETmE7AOeiOhpxYAnIpIpBjwRkUwx\n",
              "4ImIZIoBT0QkUwq5rwf/7PAItJs01NFlEBE95vs3/mzT67MHT0QkUwx4IiKZsmnAZ2ZmIjU11fj6\n",
              "6NGjUCgUOHz4sHHfrFmz8O6775p9zaSkJGzdutWKVRIRyZNNAz4+Pt4kzDUaDfr37//YviFDhtiy\n",
              "DCKip5JNAz4qKgo3btzA999/DwA4fPgw/vSnPxkDvrKyElevXkV4eDhmzpyJyMhIhIaGIi0tDbW1\n",
              "tQCAS5cuITo6GkFBQRg7dix0Op0tSyYikg2bBrybmxuio6Oh0Wig1+tRVlaGl19+Gd9//z1qamqg\n",
              "0WgwYMAAzJ8/H7GxsTh16hTOnTuHhoYG4yJhU6dOxYwZM1BUVIQlS5bgyJEjTd5Pr9dDp9OZbKiX\n",
              "9SQhIqImudr6Bo+GaXx8fBAZGQngYc/++PHjOHz4MOLj47F27VocP34cq1atAgA8ePAASqUSOp0O\n",
              "Wq0WKSkpAICQkBDExMQ0ea/s7GxkZmaa7Gvl97xtGkZE5ORsPosmPj4eGo0GGo0GcXFxAIDBgwcb\n",
              "9w0ZMgRCCOzcuRNarRZarRbFxcVYv359o9dTKBRN3isjIwPV1dUmm1t3L1s0i4jI6dk84CMiInDz\n",
              "5k18/PHHJgH/ySefoLKyEpGRkRg7diyWLVsGg8EAALh9+zZKSkrg4eGBF198EXl5eQCAoqIiHD16\n",
              "tMl7qVQqeHh4mGxQNv2BQEQkZzYP+FatWiEmJgZ3795FYGAgACAgIAB3795FTEwMWrVqhZycHLRp\n",
              "0wZqtRqhoaEYOnQoysvLAQB5eXnIzc1FcHAwFi1ahEGDBtm6ZCIiWeBSBUREDsKlCoiISBKbz6Jx\n",
              "tLSgWKyy8ackEZEzYg+eiEimGPBERDLFgCcikikGPBGRTDHgiYhkigFPRCRTDHgiIpliwBMRyRQD\n",
              "nohIphjwREQyxYAnIpIpBjwRkUzJfrGxn7/LQeWO9x1dBhHRY7yS6m16ffbgiYhkigFPRCRTDHgi\n",
              "Ipmy+xi8Wq0GANTW1qK4uBghISEAgF69emH79u32LoeISLbsHvBarRYAUF5eDrVabXxNRETW5TRD\n",
              "NAqFAnfu3DG+fu6551BeXg4AuHz5MkaOHImIiAiEhoZi3bp1jV5Dr9dDp9OZbPUNdiieiMgJOf00\n",
              "yfr6ekyePBnbtm1DYGAg7t+/j6ioKPTv3x8REREmx2ZnZyMzM9NkX1hPe1ZLROQ8nKYH35Ti4mIU\n",
              "FRVh0qRJUKvViI6Oxt27d3Hx4sXHjs3IyEB1dbXJ9mIPBxRNROQEnKYHr1QqUV//30n/NTU1AAAh\n",
              "BDp06GDWWL1KpYJKpTK9rtN/hBER2YbTxF+PHj1w8uRJAEB+fj5+/vlnAA9n13h4eGDLli3GY0tK\n",
              "SvDTTz85pE4iopbCaQI+JycHc+fORVhYGAoLC9GxY0cAgKurK/bu3Yv8/HyEhoYiKCgIM2bMwIMH\n",
              "DxxcMRGRc1MIIYSji7Cl9FEKLE5xms8xIiIjrkVDRESSOM2XrLbyTMDb8Epa5egyiIjsjj14IiKZ\n",
              "YsATEckUA56ISKYY8EREMsWAJyKSKQY8EZFMMeCJiGSKAU9EJFMMeCIimWLAExHJFAOeiEimJAV8\n",
              "YwtQ3r9/3+JiiIjIeiQtFzx79mx8+OGHxtc1NTUYOXIkDh48aNXirCH0ZQ8MmNre0WUQET1m/eQK\n",
              "m15fUg/+3r17WLZsGQDAYDBgwoQJGDhwoFULIyIiy0haLnjTpk0YMWIEvL29sWfPHgQEBCArK8va\n",
              "tRERkQUkBbybmxvy8/MRExODmJgYrFy58onnqNVqAEBtbS2Ki4sREhIC4OEzV2fPno233nrLrAdr\n",
              "ExGReZoV8O3bt4dCoTC+1uv1uHbtGrZv3w4Av/og7EfhXV5eDrVabRLmhw8fbk4ZRERkhmYFvC17\n",
              "2AaDAW+++SYKCgpgMBjw0UcfITw83PiBcOfOHQAPx//btm3b6EwevV4PvV5vsq+hQdaPnCUialKz\n",
              "vmT18fExbm5ubigrK4OPjw+8vb3h5eVlUSGXLl1CcnIyzp07hzlz5uCPf/xjs6+RnZ0NT09Pk+1W\n",
              "aa1FdRERtVSSZtHs2LEDUVFRSElJAQAUFRVh7NixFhXSo0cP9O/fHwAwYMAAlJaWNvsaGRkZqK6u\n",
              "Ntk6+btZVBcRUUslKeCzs7Nx9uxZtG//cH553759UVFh2XzO1q1bG/9WKpUwGAwAAFdXV9TX1xvf\n",
              "q6mpafIaKpUKHh4eJpuLi6LJ44mI5ExSwCuVSnTs2NFkn5ubbXrKXbt2hRACFy9eBADk5eXZ5D5E\n",
              "RHIjKeDbtm2Lqqoq44yagwcPokOHDlYt7BFXV1esXbsWo0aNQkREBOrq6mxyHyIiuZG0VME333yD\n",
              "tLQ0XLlyBcHBwSgrK8MXX3xhnOvuTLhUARE5K1svVSDph07h4eHQaDQ4duwYhBCIjo5Gu3btrFwa\n",
              "ERFZQlLAA0BJSQl+/PFHTJ06FXfu3EFlZaXFUyVt4aXAVKyavMrRZRAR2Z2kMfgPPvgA06dPx+LF\n",
              "iwEA//nPfzBlyhRr1kVERBaSFPC5ubk4ceIEPDw8AAD+/v64deuWVQsjIiLLSAp4lUqFNm3amOxz\n",
              "dZU82kNERDYgKeA7deqE7777zjhNcuvWrejWrZtVCyMiIstI6navXr0akydPxqVLl/DCCy/Aw8MD\n",
              "e/futXZtRERkAUkB36NHD5w8eRLFxcUQQqBXr15QKpXWro2IiCwgKeCXLl2KhIQEREREwMVF0igP\n",
              "ERHZmKR0FkJg4cKF6Ny5M1555RWsWbMGRUVF1q6NiIgsICng3333XXz11VeoqKhAUlIScnJyEBoa\n",
              "au3aiIjIApKGaA4cOIADBw7g0KFDaGhowIQJE5CQkGDt2oiIyAKSAn7YsGGIjo7GypUrERsba+2a\n",
              "iIjICiQN0Vy4cAGvvfYaVqxYgT59+iAlJQUff/yxtWsjIiILSFou+JGysjJ8+eWXWLFiBa5du2Z8\n",
              "CpMzSe84CJldRju6DCKix3S9uNCm15fUg09PT0ePHj2QkJCA8+fPY/ny5bh586a1ayMiIgtIXg/+\n",
              "D3/4A7p3797o+3q9HiqVyqLCiIjIMpJ68DNnzmwy3AFgwIABje7Pz89Hv379oFarERgYiCFDhqCh\n",
              "oUFKCURE9AQ2WQKysWH9yspKpKWl4cyZM/Dx8QEAnD171rhgGRERWZdN1hloLLSrqqqgVCpNHs4d\n",
              "FhYGhUIBX19faLVa4/7w8HAcPnwYABAXF4cFCxYgNjYW/v7+mDVrli1KJiKSHbst4h4aGoqYmBj4\n",
              "+Phg8ODBiI6OxpQpU+Dt7f3Ec0tLS6HRaFBXV4c+ffrg+PHjjQ4D6fV66PV6k331gkNARPR0skkP\n",
              "vrEhGhcXF+zcuRPHjh1DYmIiCgoKEBQUhJKSkideb+LEiXB1dUWbNm2gVqtRWlra6HHZ2dnw9PQ0\n",
              "2bQPrlncHiKilqhZAZ+dnQ0AOHTo0K8eFxUV1eR7gYGBSE9Px65duxAVFYXdu3fD1dUV9fX1xmNq\n",
              "ampMzmndurXxb6VS2eR8+4yMDFRXV5ts6jYvPLFdRERy1KyA//TTTwEACxYs+NXjPvzww8f2Xb9+\n",
              "HQUFBcbXt2/fRllZGfz9/Y3rywPAqVOnUFxc3JyyjFQqFTw8PEw2pYLLGRPR06lZY/Du7u4YMWIE\n",
              "ysrKMH78+Mfez8/Pb/Jcg8GArKwslJWVwd3dHQaDAcnJyRgzZgy8vb2RnJyM9evXY8CAAQgKCmp+\n",
              "S4iIyESzAn7Pnj3Yt28fLl68iDFjxjTrRj4+PvjXv/7V6Hvh4eFNrif/aDbNIzt27GjWfYmInlbN\n",
              "Cvj27dtj4sSJeO655zB06FBb1URERFYgaZrk4MGDsWLFCuzfvx8AMHz4cMydOxeurnabdWm2Z5LD\n",
              "0XWVbRf0ISJyRpISef78+SgpKcGbb74JhUKBjRs3oqKiAmvWrLF2fUREJJGkgNdoNNBqtcYHbo8c\n",
              "ORJhYWFWLYyIiCwj+aHb/7tImBCi0R83ERGR40jqwScmJmLYsGFISUkBAOTl5WHEiBHWrIuIiCwk\n",
              "KeCXLVuG3Nxc7N69GwCQlJSEtLQ0qxZGRESWkRTwLi4umDVrVpMrO/7+97/HsmXLLCqMiIgsY5Pf\n",
              "8T+aPklERI5jt9UkiYjIvuz2wA8iIrIvLrVIRCRTHKIhIpIpSQG/fv163L9/v8n39+3bJ7kgIiKy\n",
              "DkkB/9VXX8HPzw9vv/12o4/c69Spk8WFERGRZRRC4nhKVVUVNmzYgA0bNqBPnz6YM2cOXn75ZWvX\n",
              "Z7HwsLEYMjjV0WUQET1mec4om15f8hh8ly5dsGjRInz00UcoKirC66+/jsDAQBw8eNCa9RERkUSS\n",
              "fslaU1ODbdu24S9/+Qvc3d2xYsUKJCUlobCwEElJSSgvL7dymURE1FySevC+vr44cuQIcnNzUVBQ\n",
              "gIkTJ0KpVCI8PBwJCQlmXSM/Px/9+vWDWq1GYGAghgwZYrJCZWMWL16MmpoaKSUTET11JI3BV1ZW\n",
              "wsvLS/JNKysrERISgjNnzsDHxwcAcPbsWbz44ou/+iMphUKB27dvo127dmbfi2PwROSsbD0GL2mI\n",
              "xsvLCzdu3MCFCxdMetSvvPKKWedXVVVBqVSiQ4cOxn2PHhiyYMECHDlyBHV1dfDw8MCGDRvQq1cv\n",
              "48JmsbGxUCqV2LdvHzp37mxyXb1eD71eb7JPPOH/CoiI5EpSD37z5s3IysrCTz/9hJ49e+LcuXOI\n",
              "iorC0aNHzTq/oaEBEyZMgEajweDBgxEdHY0pU6bA29sbt27dMk6z/OSTT7B161b885//fFjsE3rw\n",
              "ixcvRmZmpsk+r6698Pqk/2tuE4mIbM4pZ9Hk5OSgsLAQ/v7+OHPmDA4dOoSAgADzb+rigp07d+LY\n",
              "sWNITExEQUEBgoKCUFJSgv3792PAgAEIDg5GVlYWtFqt2dfNyMhAdXW1yebVxfy6iIjkRNIQjZub\n",
              "G9q3bw+DwQAAGDRoEN56661mXycwMBCBgYFIT09HYmIi/va3v2H16tU4ffo0/P39cf78eQwaNMjs\n",
              "66lUKqhUKpN9Chcut0NETydJ6adSqSCEQEBAAFavXo3PPvsM9+7dM/v869evo6CgwPj69u3bKCsr\n",
              "g6enJ1q1agUvLy8IIbBu3TqT89q2bYvq6mopJRMRPXUk9eCXLl0KnU6H5cuXY9asWbhz5w4++OAD\n",
              "s883GAzIyspCWVkZ3N3dYTAYkJycjLlz5+LKlSsICgpCx44dMXbsWJPz5s+fj4SEBLi7uzf6JSsR\n",
              "Ef1Xs79kPX36NFasWIGLFy8CAIKDgzF//nxERETYpEBLcZokETkrp/qS9fjx4xg2bBj8/f2xdOlS\n",
              "LFmyBH5+fhg+fDhOnjxpqxqJiEiCZvXgx40bh2nTpmHcuHEm+z///HNs2bIFu3btsnZ9Fps3bx5W\n",
              "rVrl6DKIiOyuWT34oqKix8IdAMaMGWMcsiEiIufQrIB3d3dv8r1nnnnG4mKIiMh6mjWLRq/X49tv\n",
              "v230kXxcBIyIyLk0K+AfPHjQ5Hozv7ZIGBER2V+zAp7rvBMRtRz8HT8RkUwx4ImIZIoBT0QkUwx4\n",
              "IiKZYsATEckUA56ISKYY8EREMiXpmawtyRtBCmRE8HOMiJxPwNZ6m16fyUdEJFMMeCIimbJ5wPv6\n",
              "+qJz586oq6sz7tNoNFAoFJIe1E1EROaxSw++W7du2L17t/H1pk2bEB4ebo9bExE9tewS8G+88QY2\n",
              "b94MAKiursaJEyeQmJgIAKivr8fChQsRHByM4OBgzJkzB7W1tQCAlJQUpKenY+jQoQgICMD48eON\n",
              "7xER0a+zS8APHDgQ5eXluHHjBv7+979jwoQJUCqVAIDc3FycPn0aZ86cgVarRWlpKXJycoznarVa\n",
              "7NmzB//+979RVVWFnTt3NnkfvV4PnU5nstU32Lx5REROyW5fsk6dOhVbt27F5s2bMX36dOP+AwcO\n",
              "ICUlBSqVCq6urpg5cyb2799vfH/cuHFwd3eHUqlEZGQkSktLm7xHdnY2PD09TbbzP9q0WURETstu\n",
              "AT9t2jSsWbMGrVu3Rs+ePZs87pcPDmndurXxb6VSCYPB0OS5GRkZqK6uNtlCn7O8diKilqhZD/yw\n",
              "xPPPP4/s7GwEBgaa7H/ppZeQl5eHKVOmwMXFBRs3bsSwYcMk3UOlUkGlUpnsU3IiKBE9pewW8MDD\n",
              "L1t/KS0tDaWlpQgLCwMAxMXFcfokEZEVcKkCIiIH4VIFREQkiV2HaByh/fC3EbBqlaPLICKyO/bg\n",
              "iYhkigFPRCRTDHgiIpliwBMRyRQDnohIphjwREQyxYAnIpIpBjwRkUwx4ImIZIoBT0QkUwx4IiKZ\n",
              "YsATEcmU7JcLfnZ4BNpNGuroMoiIHvP9G3+26fXZgycikikGPBGRTDHgiYhkymkC3tfXF7169YJa\n",
              "rYZarUZqaupjx6SmpkKj0TigOiKilsepnui0fft2qNXqRt+rr6/Hxo0b7VsQEVEL5jQ9+F/aunUr\n",
              "4uPj8eqrryIkJASnTp1CXFwcdu3a1eQ5er0eOp3OZEO9rCcJERE1yal68BMnTkSbNm0AAMnJyTh5\n",
              "8iQKCwvRq1cvs87Pzs5GZmamyb5Wfs9bvU4iopbAqXrw27dvh1arhVarRfv27REdHW12uANARkYG\n",
              "qqurTTa37l42rJiIyHk5VQ/+l5599tlmHa9SqaBSqUx3KhVWrIiIqOVwqh48ERFZDwOeiEimuBYN\n",
              "EZGDcC0aIiKSxKm/ZLWGtKBYrLLxpyQRkTNiD56ISKYY8EREMsWAJyKSKQY8EZFMMeCJiGRK1rNo\n",
              "9Ho9vvzyS9TX10OpVDq6HJuqr6/HqVOnEBkZybbKzNPUXrbVPD4+Ppg7d+4Tj5P1D510Oh08PT1R\n",
              "XV0NDw8PR5djU2yrfD1N7WVbrYtDNEREMsWAJyKSKQY8EZFMyTrgVSoV3nvvvcfXiJchtlW+nqb2\n",
              "sq3WJesvWYmInmay7sETET3NGPBERDLFgCcikikGPBGRTMki4C9fvozo6GgEBAQgIiICRUVFjR63\n",
              "adMm9OzZE/7+/pg5cybq6ursXKnlzGnroUOHEBkZiT59+iAoKAjvvPMOGhoaHFCtZcz9dwUAIQSG\n",
              "DBmCdu3a2a9AKzK3rd9++y3i4uLQu3dv9O7dG/n5+Xau1HLmtLWhoQHz5s1Dnz59EBoaivj4eJSU\n",
              "lDigWsv87ne/g6+vLxQKBbRabZPH2SybhAzEx8eLLVu2CCGE+PTTT0V4ePhjx1y5ckV4eXmJyspK\n",
              "0dDQIEaPHi3WrVtn50otZ05bz549K0pLS4UQQjx48EAMHDjQeE5LYk5bH1m5cqVITU0Vnp6e9inO\n",
              "ysxp688//yy6d+8uvv76ayGEEAaDQdy8edOeZVqFOW397LPPRGRkpKitrRVCCLFkyRIxYcIEe5Zp\n",
              "FUeOHBHXrl0TPj4+orCwsNFjbJlNLT7gq6qqRNu2bUVdXZ0QQoiGhgbRpUsXcfnyZZPjli9fLtLT\n",
              "042vv/jiCzFw4EC71mopc9v6S7/97W/Fe++9Z4cKrac5bb1w4YKIjY0VJSUlLTLgzW3rhg0bxOTJ\n",
              "kx1RotWY29Zdu3aJvn37Cp1OJxoaGsTChQvF22+/7YiSreLXAt6W2dTih2iuXbsGLy8vuLo+XBhT\n",
              "oVCgW7duuHr1qslxV69ehY+Pj/G1r6/vY8c4O3Pb+r9++OEH7NixA6NGjbJXmVZhblvr6uowc+ZM\n",
              "rF+/vsWuPmhuWy9evAiVSoVRo0ZBrVZj2rRpuHXrliNKlszcto4ePRpxcXHo2rUrvLy8cPDgQWRl\n",
              "ZTmiZJuzZTa1+ICnpul0OowePRrvvPMOwsPDHV2OTWRmZmL8+PHo3bu3o0uxOYPBgAMHDmD9+vUo\n",
              "LCyEt7c3Zs+e7eiybOKbb77BhQsXcP36ddy4cQNDhw7FrFmzHF1Wi9PiA/6FF15AZWUlDAYDgIdf\n",
              "tl29ehXdunUzOa5bt26oqKgwvi4vL3/sGGdnblsB4O7du0hMTMSYMWMwb948e5dqMXPbeuTIEaxd\n",
              "uxa+vr6IiYmBTqeDr69vi+rZNue/4fj4eHh7e0OhUOD111/HiRMnHFGyZOa2NS8vz/iluYuLC5KT\n",
              "k6HRaBxRss3ZMptafMB37twZYWFh2LZtGwBg586d+M1vfoMePXqYHPfqq69i9+7d+OGHHyCEwF//\n",
              "+ldMmjTJESVLZm5b7927h8TERCQmJmLRokWOKNVi5rb166+/RkVFBcrLy3H06FF4eHigvLwcnTp1\n",
              "ckTZkpjb1tdeew2nT5+GTqcDAPzjH/9A37597V6vJcxtq5+fHw4dOoTa2loAwN69exEcHGz3eu3B\n",
              "ptlklZF8B7t06ZKIiooSPXv2FP369RPnz58XQggxY8YM8fnnnxuPy83NFX5+fsLPz09Mnz7d+A19\n",
              "S2JOW5cuXSpcXV1F3759jdvSpUsdWbYk5v67PlJWVtYiv2QVwvy25uXliaCgIBESEiISExPF1atX\n",
              "HVWyZOa0taamRqSmporAwEAREhIiEhISjDPDWpK0tDTh7e0tlEql6Ny5s/D39xdC2C+buNgYEZFM\n",
              "tfghGiIiahwDnohIphjwREQyxYAnIpIpBjwRkUwx4ImIZIoBT0QkUwx4IiKZYsATEckUA56ISKb+\n",
              "H3rjp0WzzA02AAAAAElFTkSuQmCC\n",
              "\">\n",
              "        \n",
              "      </div>\n",
              "      <script></script>\n",
              "      <script type=\"text/javascript\">\n",
              "        (() => {\n",
              "          const chartElement = document.getElementById(\"chart-f95d4179-19f1-4ee6-bd5c-ab9aa25abb51\");\n",
              "          async function getCodeForChartHandler(event) {\n",
              "            const chartCodeResponse =  await google.colab.kernel.invokeFunction(\n",
              "                'getCodeForChart', [\"chart-f95d4179-19f1-4ee6-bd5c-ab9aa25abb51\"], {});\n",
              "            const responseJson = chartCodeResponse.data['application/json'];\n",
              "            await google.colab.notebook.addCell(responseJson.code, 'code');\n",
              "          }\n",
              "          chartElement.onclick = getCodeForChartHandler;\n",
              "        })();\n",
              "      </script>\n",
              "      <style>\n",
              "        .colab-quickchart-chart-with-code  {\n",
              "            display: block;\n",
              "            float: left;\n",
              "            border: 1px solid transparent;\n",
              "        }\n",
              "\n",
              "        .colab-quickchart-chart-with-code:hover {\n",
              "            cursor: pointer;\n",
              "            border: 1px solid #aaa;\n",
              "        }\n",
              "      </style>"
            ]
          },
          "metadata": {}
        },
        {
          "output_type": "display_data",
          "data": {
            "text/plain": [
              "<google.colab._quickchart_helpers.SectionTitle at 0x78af86c92fe0>"
            ],
            "text/html": [
              "<h4 class=\"colab-quickchart-section-title\">2-d distributions</h4>\n",
              "<style>\n",
              "  .colab-quickchart-section-title {\n",
              "      clear: both;\n",
              "  }\n",
              "</style>"
            ]
          },
          "metadata": {}
        },
        {
          "output_type": "display_data",
          "data": {
            "text/plain": [
              "import numpy as np\n",
              "from google.colab import autoviz\n",
              "\n",
              "def scatter_plots(df, colname_pairs, figscale=1, alpha=.8):\n",
              "  from matplotlib import pyplot as plt\n",
              "  plt.figure(figsize=(len(colname_pairs) * 6 * figscale, 6 * figscale))\n",
              "  for plot_i, (x_colname, y_colname) in enumerate(colname_pairs, start=1):\n",
              "    ax = plt.subplot(1, len(colname_pairs), plot_i)\n",
              "    df.plot(kind='scatter', x=x_colname, y=y_colname, s=(32 * figscale), alpha=alpha, ax=ax)\n",
              "    ax.spines[['top', 'right',]].set_visible(False)\n",
              "  plt.tight_layout()\n",
              "  return autoviz.MplChart.from_current_mpl_state()\n",
              "\n",
              "chart = scatter_plots(_df_5, *[[['index', 'Count']]], **{})\n",
              "chart"
            ],
            "text/html": [
              "      <div class=\"colab-quickchart-chart-with-code\" id=\"chart-021f1847-1bf6-4562-856b-899c3c2f1aa1\">\n",
              "        <img src=\"data:image/png;base64,iVBORw0KGgoAAAANSUhEUgAAASgAAAEnCAYAAAAaUd7MAAAAOXRFWHRTb2Z0d2FyZQBNYXRwbG90\n",
              "bGliIHZlcnNpb24zLjcuMSwgaHR0cHM6Ly9tYXRwbG90bGliLm9yZy/bCgiHAAAACXBIWXMAAA9h\n",
              "AAAPYQGoP6dpAAAaS0lEQVR4nO3dfUyU9wEH8O9T0LtZOSxCSuPj3QEnjcrLoQ4tUkSJRRPfwotz\n",
              "k83Wovg21pDOitE2Jkx0cRiTbVXXzmkqXerLDLHd/vC1UhYRW1CkUxFOhi1OLN5h6B3c8ewPI+sN\n",
              "UBAenp/e95M8CTzPj8fvXcw3z8vvnpMURVFARCSg57QOQETUGxYUEQmLBUVEwmJBEZGwWFBEJCwW\n",
              "FBEJiwVFRMJiQRGRsFhQRCQsnyio3NxcmM1mSJKEysrKPv1NS0sLli5disjISEycOBEbNmxQNyQR\n",
              "deMTBZWRkYHS0lKYTKY+/83y5csRFxeHa9eu4cqVK3jrrbfUC0hEPfKJgkpKSoIsy93WX7hwAbNm\n",
              "zcKUKVMQFxeHQ4cOAQBqa2tRUVGBvLy8rrGhoaFDlpeIHvDXOoBW7t27h5UrV+Kzzz7DSy+9hObm\n",
              "ZkyaNAkJCQmoqamBLMtYvXo1KioqMHr0aGzfvh1xcXFaxybyKT5bUGVlZairq8PcuXO91l+9ehVu\n",
              "txvl5eXYunUr9uzZg7///e+YN28ebDYbhg0bplFiIt/jswWlKAomTpyIsrKybtsqKiowZswYzJw5\n",
              "EwAwd+5ctLe34+bNm7BYLEMdlchn+cQ1qJ4kJCSgvr4eJ06c6FpXWVmJ9vZ2TJ48GQaDAZcuXQIA\n",
              "lJeXQ1EUjB07Vqu4RD5J8oUH1uXk5ODTTz9FU1MTRo8ejYCAANTW1uLLL7/E22+/jbt376KjowNG\n",
              "oxHHjh2DXq/HxYsXsWbNGnz//ffQ6XTYsWMHZsyYofVLIfIpPlFQRPR08tlTPCISHwuKiIT1zBfU\n",
              "rl27tI5ARE/omS+omzdvah2BiJ7QM19QRPT0YkERkbBYUEQkLBYUEQmLBUVEwmJBEZGwfPZpBkQ0\n",
              "eMpqm/HR+QbUN99HWPBIZE01IsESPOD9sqCIaEDKapux4ehltLW7oR/mh/L6u6i+Zce2tOgBlxRP\n",
              "8YhoQD4634C2djdCDXq8MGI4Qg16tLW7cfB8w4D3zYIiogGpb74P/TA/SJIEAJAkCfphfqhrvj/g\n",
              "fbOgiGhAwoJHwtnhwcMnNymKAmeHB+EhIwe8bxYUEQ1I1lQjRgz3R5PDiZa2djQ5nBgx3B9LpxoH\n",
              "vG8WFBENSIIlGNvSojE1bDQC9P6YGjYa29KjkRDBu3hEJIAES/CgTCv4fzyCIiJhsaCISFgsKCIS\n",
              "FguKiISlakHl5ubCbDZDkiRUVlb2OMZmsyE5ORmBgYGwWq1e2zo7O5GXl4cJEyYgJiYGM2fORG1t\n",
              "rZqRiUggqhZURkYGSktLYTKZeh1jMBhQUFCA4uLibttKSkrwxRdfoKqqCpcuXUJKSgo2btyoZmQi\n",
              "Eoiq0wySkpIeOyYoKAiJiYk4c+ZMt22SJMHlcsHpdMLf3x8OhwOyLPe6L5fLBZfL5bXO4/H0OzcR\n",
              "iUHoeVDz58/H6dOnERoaioCAAIwZMwZnz57tdXxhYSG2bNnitW7atGlqxyQilQh9kbyiogLV1dW4\n",
              "desWvvnmG6SkpGDVqlW9js/Pz4fdbvda4uPjhzAxEQ0moY+gDhw4gFmzZmHUqFEAgGXLluG1117r\n",
              "dbxOp4NOp/Na5+fnp2ZEIlKR0EdQ4eHhOHXqFNrb2wEAx48fR1RUlMapiGioqFpQOTk5kGUZjY2N\n",
              "SE1NhcViAQBkZ2ejpKQEANDW1gZZlpGZmYmamhrIsoz8/HwAwNq1axEWFobY2FjExMTg5MmTeP/9\n",
              "99WMTEQCkZSHD3F5RuXl5aGoqEjrGET0BIQ+xSMi38aCIiJhsaCISFgsKCISFguKiITFgiIiYbGg\n",
              "iEhYLCgiEhYLioiExYIiImGxoIhIWCwoIhIWC4qIhMWCIiJhsaCISFgsKCISFguKiITFgiIiYbGg\n",
              "iEhYLCgiEhYLioiExYIiImGxoIhIWCwoIhIWC4qIhMWCIiJhsaCISFgsKCISFguKiISlakHl5ubC\n",
              "bDZDkiRUVlb2OMZmsyE5ORmBgYGwWq3dtl++fBnJyckYP348xo8fj6NHj6oZmYgEompBZWRkoLS0\n",
              "FCaTqdcxBoMBBQUFKC4u7ratra0NCxcuREFBAb7++mtUV1fj1VdfVTMyEQnEX82dJyUlPXZMUFAQ\n",
              "EhMTcebMmW7biouLMW3aNCQmJgIA/Pz8EBIS0uu+XC4XXC6X1zqPx9O/0EQkDKGvQdXU1ECn02He\n",
              "vHmwWq34xS9+gTt37vQ6vrCwEIGBgV5LeXn5ECYmosEkdEG53W6cOHECe/bswVdffYUxY8Zg9erV\n",
              "vY7Pz8+H3W73WuLj44cwMRENJlVP8QbKaDRi5syZGDNmDAAgKysLqampvY7X6XTQ6XRe6/z8/FTN\n",
              "SETqEfoIavHixbhw4QIcDgcA4LPPPkNsbKzGqYhoqKhaUDk5OZBlGY2NjUhNTYXFYgEAZGdno6Sk\n",
              "BMCDO3WyLCMzMxM1NTWQZRn5+fkAHhxBbdy4EQkJCYiJicGpU6ewe/duNSMTkUAkRVEUrUOoKS8v\n",
              "D0VFRVrHIKInIPQpHhH5NhYUEQmLBUVEwmJBEZGwWFBEJCwWFBEJiwVFRMJiQRGRsFhQRCQsFhQR\n",
              "CYsFRUTCYkERkbBYUEQkLBYUEQmLBUVEwmJBEZGwWFBEJCwWFBEJiwVFRMJiQRGRsFhQRCQsFhQR\n",
              "CYsFRUTCYkERkbBYUEQkLBYUEQmLBUVEwmJBEZGwWFBEJCxVCyo3NxdmsxmSJKGysrLHMTabDcnJ\n",
              "yQgMDITVau1xjKIomDVrFkaNGqVaViISj6oFlZGRgdLSUphMpl7HGAwGFBQUoLi4uNcxO3fuRERE\n",
              "hBoRiUhgqhZUUlISZFl+5JigoCAkJibi+eef73H7lStXcOzYMWzYsOGx/57L5YLD4fBaPB7PE2Un\n",
              "Iu0JfQ2qo6MDK1aswJ49e+Dn5/fY8YWFhQgMDPRaysvLhyApEalB6ILasmUL0tLSMH78+D6Nz8/P\n",
              "h91u91ri4+NVTklEavHXOsCjnD17Fg0NDfj9738Pt9sNh8MBs9mMCxcuICQkpNt4nU4HnU7nta4v\n",
              "R15EJCahC+rcuXNdP9tsNlitVthsNu0CEdGQ6vcp3qJFi/q0DgBycnIgyzIaGxuRmpoKi8UCAMjO\n",
              "zkZJSQkAoK2tDbIsIzMzEzU1NZBlGfn5+f2NRTQkymqbsebgl5i763OsOfglymqbtY70TOv3EVRD\n",
              "Q0O3dXV1dT2O3bNnT4/rP/jgg66fR4wYgcbGxsf+u2azGffu3etbSCIVlNU2Y8PRy2hrd0M/zA/l\n",
              "9XdRfcuObWnRSLAEax3vmdTngtqzZw92796Na9euYdKkSV3r7XY7Jk6cqEo4IpF8dL4Bbe1uhBr0\n",
              "kCQJiqKgyeHEwfMNLCiV9Lmg5syZg5dffhmrV6/Gzp07u9YbDAbExMSoEo5IJPXN96Ef5gdJkgAA\n",
              "kiRBP8wPdc33NU727OpzQZlMJphMJnz99ddq5iESVljwSJTX34WiKF1HUM4OD2LHjtI62jOr39eg\n",
              "bDYbtm/fjhs3bsDtdnetP3Xq1KAGIxJN1lQjqm/Z0eRwQj/MD84OD0YM98fSqUatoz2z+l1Qixcv\n",
              "RkpKCtatW8c5RuRTEizB2JYWjYPnG1DXfB+x8igsnWZEQgSvP6ml3wXldDpRWFioRhYi4SVYgnlB\n",
              "fAj1ex5UVFRUj1MNiIgGW7+PoO7cuYPY2Fi88sor0Ov1XeuPHj06qMGIHiqrbcZH5xtQ33wfYcEj\n",
              "kTXVyKMYH9HvgsrKykJWVpYaWYi64eRI39bvglq2bJkaOYh6xMmRvq3fBbV8+fIe1//5z38ecBii\n",
              "/8fJkb6t3wU1efLkrp+dTieOHDni9dEXosHEyZG+rd8FtXbtWq/fV69ejQULFgxaIKIf4uTI3vnC\n",
              "zYMBP1FTr9f36WkERE/i4eTIqWGjEaD3x9Sw0diWHu3zkyMf3jwor7+LVqcb5fV3seHo5Wfu8S/9\n",
              "PoLKy8vr+tnj8aCiogJRUVGDGorohzg5sjtfuXnQ74IKDAz83x/7+yM3NxdpaWmDGoqIHs1Xbh70\n",
              "u6Dee+89NXIQUT/4ys2Dfl+Dam1txdq1axEZGYnIyEisW7cOra2tamQjol5kTTVixHB/NDmcaGlr\n",
              "R5PD+UzePOh3Qa1ZswZutxuffPIJDh06hM7OTqxZs0aNbETUC1+5edDvU7xLly6hqqqq6/c//vGP\n",
              "iI2NHdRQRPR4vnDzoN9HUB6Px+uUrrW1lV8vTkSqeKLP4k2bNg0/+clPAACffPIJ3njjjUEPRtry\n",
              "hUmAJL4+F5TD4cB3332HX//614iKisLJkycBPLgmxacbPFv4BAESRZ9P8davX4+LFy8CAObOnYsd\n",
              "O3Zgx44dCA0NxTvvvKNaQBp6P5wE+MKI4Qg16NHW7sbB83xQIQ2tPhdUeXk50tPTu61PS0vD559/\n",
              "PqihSFu+MgmQxNfngvrhN7h028lzA/5IHwkkLHgknB0eKIoCAF2TAMNDRmqcjHxNn5ulo6MDDoej\n",
              "23q73Y6Ojo5BDUXa8pVJgCS+PhfUkiVL8POf/xwtLS1d61paWvDGG29gyZIlqoQjbfjKJEASX5/v\n",
              "4m3atAnLly/H2LFjMW7cOADA9evXkZ6ejs2bN6sWkLThC5MASXx9PoLy8/PD/v37UVVVhY0bN2Lj\n",
              "xo2oqqrC/v37e/0Cz9zcXJjNZkiShMrKyh7H2Gw2JCcnIzAwEFar1WvbqVOnEB8fjwkTJmDixIlY\n",
              "v349Ojs7+/ziiOjp1u+r2xEREcjMzERmZiYiIiIeOTYjIwOlpaUwmUy9jjEYDCgoKEBxcXG3bS+8\n",
              "8AL++te/oqamBhcvXkRZWRkOHDjQ38hE9JTq90zy/khKSnrsmKCgICQmJuLMmTPdtsXFxXX9rNfr\n",
              "YbVaYbPZet2Xy+WCy+XyWseP4RA9vZ6a+QFNTU04fPgw5s2b1+uYwsJCBAYGei3l5eVDmJKIBtNT\n",
              "UVAOhwPz58/H+vXrMWXKlF7H5efnw263ey3x8fFDmJSIBpOqp3iDobW1FXPmzMHChQu9nofeE51O\n",
              "B51O57Wutwv4RCQ+oY+g7t+/jzlz5mDOnDnYtGmT1nGIaIipWlA5OTmQZRmNjY1ITU2FxWIBAGRn\n",
              "Z6OkpAQA0NbWBlmWkZmZiZqaGsiyjPz8fADArl27UF5ejqNHj8JqtcJqteI3v/mNmpE1VVbbjDUH\n",
              "v8TcXZ9jzcEvn7mvECLqL0l5+IGrZ1ReXh6Kioq0jvFY//+Ik4dfUMlHnJAvE/oUz5fwESdE3bGg\n",
              "BMFHnBB1x4ISBB9xQtQdC0oQfMQJUXcsKEHwESdE3Qk/UdOX8BEnRN54BEVEwmJBEZGwWFBEJCwW\n",
              "FBEJiwVFRMJiQRGRsFhQRCQsFhQRCYsFRUTCYkERkbBYUEQkLBYUEQmLBUVEwmJBEZGwWFBEJCwW\n",
              "FBEJiwVFRMJiQRGRsFhQRCQsFhQRCYsFRUTCYkERkbBYUEQkLFULKjc3F2azGZIkobKysscxNpsN\n",
              "ycnJCAwMhNVq7bb9ww8/xLhx4xAREYEVK1ago6NDzchEJBBVCyojIwOlpaUwmUy9jjEYDCgoKEBx\n",
              "cXG3bfX19di8eTPOnTuH2tpa3L59G3v37lUzMhEJRNWCSkpKgizLjxwTFBSExMREPP/88922HT58\n",
              "GAsWLEBoaCgkScKqVavw8ccf97ovl8sFh8PhtXg8ngG/DiLShtDXoBoaGryOvsxmMxoaGnodX1hY\n",
              "iMDAQK+lvLx8KKISkQqELqj+ys/Ph91u91ri4+O1jkVET8hf6wCPYjQacePGja7fbTYbjEZjr+N1\n",
              "Oh10Op3XOj8/P9XyEZG6hD6CSk9PR0lJCZqamqAoCnbv3o0lS5ZoHYuIhoiqBZWTkwNZltHY2IjU\n",
              "1FRYLBYAQHZ2NkpKSgAAbW1tkGUZmZmZqKmpgSzLyM/PBwCEh4djy5YtmD59OiwWC0JCQpCTk6Nm\n",
              "ZCISiKQoiqJ1CDXl5eWhqKhI6xhE9ASEPsUjIt/GgiIiYbGgiEhYLCgiEhYLioiExYIiImGxoIhI\n",
              "WCwoIhIWC4qIhMWCIiJhsaCISFgsKCISFguKiITFgiIiYbGgiEhYLCgiEhYLioiExYIiImGxoIhI\n",
              "WCwoIhIWC4qIhMWCIiJhsaCISFgsKCISFguKiITFgiIiYbGgiEhYLCgiEhYLioiExYIiImGpWlC5\n",
              "ubkwm82QJAmVlZW9jvvwww8xbtw4REREYMWKFejo6AAAdHZ2Ii8vDxMmTEBMTAxmzpyJ2tpaNSMT\n",
              "kUBULaiMjAyUlpbCZDL1Oqa+vh6bN2/GuXPnUFtbi9u3b2Pv3r0AgJKSEnzxxReoqqrCpUuXkJKS\n",
              "go0bN6oZmYgEompBJSUlQZblR445fPgwFixYgNDQUEiShFWrVuHjjz8GAEiSBJfLBafTCUVR4HA4\n",
              "Hrk/l8sFh8PhtXg8nkF9TUQ0dPy1DtDQ0OB1hGU2m9HQ0AAAmD9/Pk6fPo3Q0FAEBARgzJgxOHv2\n",
              "bK/7KiwsxJYtW7zWTZs2TZ3gRKQ6oS+SV1RUoLq6Grdu3cI333yDlJQUrFq1qtfx+fn5sNvtXkt8\n",
              "fPwQJiaiwaT5EZTRaMSNGze6frfZbDAajQCAAwcOYNasWRg1ahQAYNmyZXjttdd63ZdOp4NOp/Na\n",
              "5+fnN/ihiWhIaH4ElZ6ejpKSEjQ1NUFRFOzevRtLliwBAISHh+PUqVNob28HABw/fhxRUVFaxiWi\n",
              "IaRqQeXk5ECWZTQ2NiI1NRUWiwUAkJ2djZKSEgAPSmjLli2YPn06LBYLQkJCkJOTAwBYu3YtwsLC\n",
              "EBsbi5iYGJw8eRLvv/++mpGJSCCSoiiK1iHUlJeXh6Kiol63l9U246PzDahvvo+w4JHImmpEgiV4\n",
              "CBMSUW80vwalpbLaZmw4ehlt7W7oh/mhvP4uqm/ZsS0tmiVFJADNr0Fp6aPzDWhrdyPUoMcLI4Yj\n",
              "1KBHW7sbB883aB2NiODjBVXffB/6YX6QJAnAg4mh+mF+qGu+r3EyIgJ8vKDCgkfC2eHBw8twiqLA\n",
              "2eFBeMhIjZMREeDjBZU11YgRw/3R5HCipa0dTQ4nRgz3x9KpRq2jERF8vKASLMHYlhaNqWGjEaD3\n",
              "x9Sw0diWHo2ECF4gJxKBT9/FAx6UFO/YEYnJp4+giEhsLCgiEhYLioiExYIiImGxoIhIWCwoIhLW\n",
              "M/80g7S0NJjN5keO8Xg8KC8vR3x8PB9w9wN8X3rG96Vn/XlfTCYTfvWrXz12n898QfWFw+FAYGAg\n",
              "7HY7DAaD1nGEwfelZ3xfeqbG+8JTPCISFguKiITFgiIiYbGg8ODbYN57771u3wjj6/i+9IzvS8/U\n",
              "eF94kZyIhMUjKCISFguKiITFgiIiYbGgiEhYLCgA169fR0JCAiIjI/HjH/8YV65c0TqSppxOJxYt\n",
              "WoTIyEjExsZi9uzZqK2t1TqWUPbt2wdJknDs2DGtowjB5XJh3bp1GDduHKKjo5GVlTUo+2VB4cFX\n",
              "tK9cuRLXrl3DO++8g9dff13rSJpbuXIlrl69iqqqKixcuBDZ2dlaRxKGzWbDn/70J0ybNk3rKMLY\n",
              "sGEDJEnCtWvXcPnyZezYsWNwdqz4uNu3bysBAQFKR0eHoiiK0tnZqbz44ovK9evXNU4mjgsXLigm\n",
              "k0nrGELweDxKSkqKUlFRocyYMUP529/+pnUkzd2/f18JCAhQ7Hb7oO/b54+g/v3vf+Oll16Cv/+D\n",
              "74+QJAlGoxENDfx24Yd27dqFhQsXah1DCEVFRZg+fTomT56sdRRh3LhxA0FBQdi6dSumTJmCV199\n",
              "FSdPnhyUffv8t7rQo23duhW1tbWD9h/uaVZdXY0jR47g888/1zqKUNxuN27evIkJEyZg27Zt+Oqr\n",
              "rzB79mxcuXIFL7744oD27fMFNXbsWHz77bdwu93w9/eHoihoaGiA0cgv79yxYweOHj2KEydOYMSI\n",
              "EVrH0dy5c+dgs9kwbtw4AEBTUxNWrlyJb7/9FqtXr9Y4nXaMRiOee+45LF26FAAQFxeHsLAwXL58\n",
              "ecAF5fPXoBRFUWbMmKHs27dPURRFOXTokDJ58mRtAwngd7/7nTJp0iTlu+++0zqKsHgN6n9mz56t\n",
              "fPrpp4qiKEpdXZ0yevRopbGxccD75WfxAFy9ehWvv/467t69C4PBgH379iE6OlrrWJppbGzE2LFj\n",
              "ER4ejoCAAAAPPgh6/vx5jZOJJTk5GW+99RYWLVqkdRTN1dXV4c0330RzczOee+45vPvuu0hPTx/w\n",
              "fllQRCQsn7+LR0TiYkERkbBYUDTkrFYrWltb+/13GRkZ+Mtf/jL4gUhYPj/NgIZeZWWl1hHoKcEj\n",
              "KBpykiTh3r17AACz2Yx3330Xr7zyCsLCwlBQUNA17l//+hcSEhIwceJELFq0CA6Ho2tba2srVqxY\n",
              "gfj4eMTExGDlypVob2/H1atXIcsy6urqADyYyzVnzhx0dnYO6WukQTLgiQpE/QRAaWlpURRFUUwm\n",
              "k/LLX/5SURRFuXPnjmIwGLrmz0yZMkX54IMPFEVRlEuXLinDhw/vmq+2YsUKZf/+/YqiPPj85Jtv\n",
              "vqn89re/VRRFUYqLi5XJkycrp0+fVsxms/Kf//xnCF8dDSae4pHmfvaznwEAgoODER4ejvr6egQE\n",
              "BKCysrLryRLR0dFITEzs+ptjx47hn//8J4qKigAA33//fde32f70pz/F6dOnkZqaipMnTyIkJGRo\n",
              "XxANGhYUaU6v13f97OfnB7fb3eM4SZK6flYUBUeOHEFkZGS3cW63G9XV1QgKCsKtW7cGPzANGV6D\n",
              "IiEZDAbExcXhwIEDAIArV66gtLS0a/uiRYuwffv2rjJraWnpeqjehg0b8PLLL+PcuXN4++23+bC9\n",
              "pxgLioR14MAB7N27F1FRUdi0aROSkpK6tu3cuRM/+tGPYLVaERMTg5SUFNhsNhw/fhz/+Mc/8Ic/\n",
              "/AEWiwVFRUVYvHgxnE6nhq+EnhQ/6kJEwuIRFBEJiwVFRMJiQRGRsFhQRCQsFhQRCYsFRUTCYkER\n",
              "kbBYUEQkLBYUEQmLBUVEwvovC5ygNQiN5s8AAAAASUVORK5CYII=\n",
              "\">\n",
              "        \n",
              "      </div>\n",
              "      <script></script>\n",
              "      <script type=\"text/javascript\">\n",
              "        (() => {\n",
              "          const chartElement = document.getElementById(\"chart-021f1847-1bf6-4562-856b-899c3c2f1aa1\");\n",
              "          async function getCodeForChartHandler(event) {\n",
              "            const chartCodeResponse =  await google.colab.kernel.invokeFunction(\n",
              "                'getCodeForChart', [\"chart-021f1847-1bf6-4562-856b-899c3c2f1aa1\"], {});\n",
              "            const responseJson = chartCodeResponse.data['application/json'];\n",
              "            await google.colab.notebook.addCell(responseJson.code, 'code');\n",
              "          }\n",
              "          chartElement.onclick = getCodeForChartHandler;\n",
              "        })();\n",
              "      </script>\n",
              "      <style>\n",
              "        .colab-quickchart-chart-with-code  {\n",
              "            display: block;\n",
              "            float: left;\n",
              "            border: 1px solid transparent;\n",
              "        }\n",
              "\n",
              "        .colab-quickchart-chart-with-code:hover {\n",
              "            cursor: pointer;\n",
              "            border: 1px solid #aaa;\n",
              "        }\n",
              "      </style>"
            ]
          },
          "metadata": {}
        },
        {
          "output_type": "display_data",
          "data": {
            "text/plain": [
              "<google.colab._quickchart_helpers.SectionTitle at 0x78af86afa740>"
            ],
            "text/html": [
              "<h4 class=\"colab-quickchart-section-title\">Faceted distributions</h4>\n",
              "<style>\n",
              "  .colab-quickchart-section-title {\n",
              "      clear: both;\n",
              "  }\n",
              "</style>"
            ]
          },
          "metadata": {}
        },
        {
          "output_type": "display_data",
          "data": {
            "text/plain": [
              "import numpy as np\n",
              "from google.colab import autoviz\n",
              "\n",
              "def violin_plot(df, value_colname, facet_colname, figscale=1, mpl_palette_name='Dark2', **kwargs):\n",
              "  from matplotlib import pyplot as plt\n",
              "  import seaborn as sns\n",
              "  figsize = (12 * figscale, 1.2 * figscale * len(df[facet_colname].unique()))\n",
              "  plt.figure(figsize=figsize)\n",
              "  sns.violinplot(df, x=value_colname, y=facet_colname, palette=mpl_palette_name, **kwargs)\n",
              "  sns.despine(top=True, right=True, bottom=True, left=True)\n",
              "  return autoviz.MplChart.from_current_mpl_state()\n",
              "\n",
              "chart = violin_plot(_df_6, *['index', 'Day_of_week'], **{'inner': 'stick'})\n",
              "chart"
            ],
            "text/html": [
              "      <div class=\"colab-quickchart-chart-with-code\" id=\"chart-4f831cd6-f275-48bc-98ab-e91d83117ee1\">\n",
              "        <img src=\"data:image/png;base64,iVBORw0KGgoAAAANSUhEUgAAAhMAAAF2CAYAAADUchpQAAAAOXRFWHRTb2Z0d2FyZQBNYXRwbG90\n",
              "bGliIHZlcnNpb24zLjcuMSwgaHR0cHM6Ly9tYXRwbG90bGliLm9yZy/bCgiHAAAACXBIWXMAAA9h\n",
              "AAAPYQGoP6dpAAAgCklEQVR4nO3de3BU5QHG4XeTwCZpSbgIo0UhcgmUQFwigRACslKutgIKUmmF\n",
              "VCAgU8WCFjP1ipQdpIKiWEFBJupYOoYyimMr4kZBkfuihIIGE0GIaBUSwOziJts/GHZMIZXst1fy\n",
              "e2bOyJ7ds+fdMyO+fuec71h8Pp9PAAAAAYqLdAAAABDbKBMAAMAIZQIAABihTAAAACOUCQAAYIQy\n",
              "AQAAjFAmAACAEcoEAAAwQpkAAABGKBMAAMAIZQIAABhJiHSAWOPz+eR2uyVJiYmJslgsEU4EAEBk\n",
              "MTLRSG63W3a7XXa73V8qAABoyigTAADACGUCAAAYoUwAAAAjlAkAAGCEMgEAAIxQJgAAgBHKBAAA\n",
              "MEKZAAAARigTAADACGUCAAAYoUwAAAAjlAkAAGCEMgEAAIxQJgAAgBHKBAAAMBLWMrF27Vpde+21\n",
              "stls6t69u66//nrV1dWFMwIAAAiyhHDtqLKyUgUFBdq5c6c6duwoSdq1a5csFku4IgAAgBAI28jE\n",
              "sWPHFB8fr9atW/vXZWVlyWKxKC0tTS6Xy7++T58+KikpkSQNHjxY99xzjwYOHKjOnTtrxowZ4YoM\n",
              "AAAuQthGJjIzM5WXl6eOHTvquuuuU25uriZOnKj27dv/6LYHDx6U0+nU999/rx49emjLli3q37//\n",
              "eZ/zeDzyeDz11lmtVlmt1qD9DgAAUF/YRibi4uJUXFysDz74QCNGjND777+vjIwMlZWV/ei2EyZM\n",
              "UEJCgpKSkmSz2XTw4MELfs7hcCg1NbXe4nA4gv1TAADAD4RtZOKc7t27q3v37po+fbpGjBih1157\n",
              "TQkJCaqtrfV/xu1219smMTHR/+f4+Hh5vd4LfndhYaFmz55dbx2jEgAAhFbYRiaOHDmi999/3//6\n",
              "+PHjKi8vV+fOndWlSxdt3bpVkrRt2zYdOHAgoH1YrValpKTUWygTAACEVthGJrxer+bNm6fy8nIl\n",
              "JyfL6/Vq8uTJGj16tNq3b6/Jkydr+fLl6t+/vzIyMsIVCwAAGLL4fD5fpEPEkpqaGtntdkmS0+lU\n",
              "UlJShBMBABBZzIAJAACMUCYAAIARygQAADBCmQAAAEYoEwAAwAhlAgAAGKFMAAAAI5QJAABghDIB\n",
              "AACMUCYAAIARygQAADBCmQAAAEYoEwAAwAhlAgAAGOER5I3k8/nkdrslSYmJibJYLBFOBABAZFEm\n",
              "AACAEU5zAAAAI5QJAABghDIBAACMUCYAAICRhEgHwKWBu1wAoOliZAJB4Xa7ZbfbZbfb/aUCANA0\n",
              "UCYAAIARygQAADBCmQAAAEYoEwAAwAhlAgAAGKFMAAAAI5QJAABghDIBAACMUCYAAIARygQAADBC\n",
              "mQAAAEYoEwAAwAhlAgAAGKFMAAAAI5QJAABgJORlIi0tTe3atdP333/vX+d0OmWxWHT33XeHevcA\n",
              "ACDEwjIy0aFDB7322mv+1ytXrlSfPn3CsWsAABBiYSkTv/vd77Rq1SpJUlVVlT788EONGDFCklRb\n",
              "W6t7771XPXv2VM+ePXXnnXfqzJkzkqT8/HxNnz5dQ4YMUXp6um666Sb/ewAAIDqEpUwMGDBAFRUV\n",
              "Onr0qF555RWNHz9e8fHxkqQVK1Zo+/bt2rlzp1wulw4ePKglS5b4t3W5XHr99df173//W8eOHVNx\n",
              "cXGD+/F4PKqurq63eDyekP8+AACasrBdgHnbbbdp9erVWrVqlW6//Xb/+rffflv5+fmyWq1KSEjQ\n",
              "tGnTtGHDBv/7Y8eOVXJysuLj49W3b18dPHiwwX04HA6lpqbWWxwOR0h/FwAATV1CuHY0adIkZWVl\n",
              "KT09XV27dm3wcxaLpd7rxMRE/5/j4+Pl9Xob3LawsFCzZ8+ut85qtQaYGAAAXIywlYmf/exncjgc\n",
              "6t69e731v/jFL1RUVKSJEycqLi5Ozz//vIYNGxbQPqxWK+UBAIAwC1uZkM5eiPm/CgoKdPDgQWVl\n",
              "ZUmSBg8ezC2jAADEEIvP5/NFOgRiX01Njex2u6Sz84gkJSVFOBEAIFyYARMAABihTAAAACOUCQAA\n",
              "YIQyAQAAjFAmAACAEcoEAAAwQpkAAABGKBMAAMAIZQIAABihTAAAACOUCQAAYIQyAQAAjFAmAACA\n",
              "EcoEAAAwwiPIERQ+n09ut1uSlJiYKIvFEuFEAIBwoUwAAAAjnOYAAABGKBMAAMAIZQIAABihTAAA\n",
              "ACOUCQAAYCQh0gGASxm3zAJoChiZAELI7XbLbrfLbrf7SwUAXGooEwAAwAhlAgAAGKFMAAAAI5QJ\n",
              "AABghDIBAACMUCYAAIARygQAADBCmQAAAEYoEwAAwAhlAgAAGKFMAAAAI5QJAABghDIBAACMUCYA\n",
              "AIARygQAADAStjJhs9lks9nUo0cPxcfH+19PmDBBJSUlstls4YoCAACCKCFcO3K5XJKkiooK2Ww2\n",
              "/2tJKikpCVcMAAAQZFFzmsPr9WrmzJm65pprlJGRoR07dkg6Wz5atmzp/9ypU6dksVgu+B0ej0fV\n",
              "1dX1Fo/HE474AAA0WVFTJvbv36/Jkydrz549uvPOO/WnP/2p0d/hcDiUmppab3E4HCFICwAAzoma\n",
              "MtGlSxf169dPktS/f38dPHiw0d9RWFioqqqqekthYWGwowIAgB8I2zUTPyYxMdH/5/j4eHm9XklS\n",
              "QkKCamtr/e+53e4Gv8NqtcpqtYYuJAAAOE/UjEw05PLLL5fP59O+ffskSUVFRRFOBAAAfijqy0RC\n",
              "QoKeeuop/fKXv1R2dra+//77SEcCAAA/YPH5fL5IhwAuVTU1NbLb7ZIkp9OppKSkCCcCgOCL+pEJ\n",
              "AAAQ3SgTAADACGUCAAAYoUwAAAAjlAkAAGCEMgEAAIwEVCYudDfpd999ZxwGAADEnoDKxMyZM+u9\n",
              "drvd+tWvfhWUQAAAILYEVCZOnTqlhQsXSjr76PDx48drwIABQQ0GAABiQ0AP+lq5cqVGjhyp9u3b\n",
              "6/XXX1d6errmzZsX7GwAACAGBFQmmjdvrrVr1yovL095eXl6/PHHg50LAADEiEaViVatWslisfhf\n",
              "ezweHT58WGvWrJEkffvtt8FNBwAAol6jyoTL5QpRDAAAEKsCfmpoZWWlDhw4oMGDB8vr9aqurk7N\n",
              "mzcPdj4gpvl8PrndbklSYmJivZE9ALhUBHQ3x6uvvqqcnBzl5+dLkkpLSzVmzJggxgIuDRaLRUlJ\n",
              "SUpKSqJIALhkBVQmHA6Hdu3apVatWkmSrrnmGn3++edBDQYAAGJDQGUiPj5ebdq0qbeOUxwAADRN\n",
              "AZWJFi1a6NixY/5h240bN6p169ZBDQYAAGJDQBdg7tixQwUFBfrss8/Us2dPlZeX64033pDNZgtB\n",
              "RAAAEM0CvpujqqpKH3zwgXw+n3Jzc9WyZcsgRwMAALEg4EeQl5WV6T//+Y9GjRol6eytogBwsXw+\n",
              "n2pqalRTU3PBJxEDiB0BlYlnnnlGt99+ux5++GFJ0jfffKOJEycGMxeAS5zb7ZbdbpfdbvfPxQEg\n",
              "NgVUJlasWKEPP/xQKSkpkqTOnTvr66+/DmowAAAQGwIqE1arVUlJSfXWJSQE9MwwAAAQ4wIqE23b\n",
              "ttUnn3zivzV09erV6tChQ1CDAQCA2BDQcMITTzyhW2+9Vfv379dVV12llJQUrV+/PtjZAABADAio\n",
              "THTp0kVbt27VgQMH5PP51K1bN8XHxwc7GwAAiAEBlYn58+dr6NChys7OVlxcwHeXAgCAS0BATcDn\n",
              "8+nee+9Vu3btdOONN2rp0qUqLS0NdjYAABADAp4BU5JOnz6t4uJiPfTQQzp06JBqa2uDmQ3AJaym\n",
              "pkZ2u12S5HQ6z7tDDEDsCOg0x9tvv623335b77zzjurq6jR+/HgNHTo02NkAAEAMCKhMDBs2TLm5\n",
              "uXr88cc1cODAYGcCAAAxJKBrJvbu3atbbrlFixYtUo8ePZSfn6+XX3452NkAAEAMMLpmory8XG++\n",
              "+aYWLVqkw4cPy+v1BjMbgEsY10wAl46ARiamT5+uLl26aOjQofroo4/02GOP6auvvgp2NgAAEAMC\n",
              "umaiT58+uu+++3T11Vdf8H2PxyOr1WoUDAAAxIaARiamTZvWYJGQpP79+wccCAAAxJaQTF95MZdh\n",
              "rF27Vtdee61sNpu6d++u66+/XnV1df93m4cfflhutztYMQEAQBCE5Lnh554m2pDKykoVFBRo586d\n",
              "6tixoyRp165dP7rdI488orvvvluJiYlBywoAAMxE5MEax44dU3x8vFq3bu1fl5WVJYvFonvuuUfZ\n",
              "2dmy2WwaNGiQDhw4IEmaMWOGJGngwIGy2WwXvODT4/Gourq63uLxeMLzowAAaKIicpojMzNTeXl5\n",
              "6tixo8aOHatFixbpyJEjkqS5c+dq+/btcrlcmjlzpmbNmiVJevbZZyVJmzZtksvlUrt27c77XofD\n",
              "odTU1HqLw+EI8q8DAAA/1Kgyce4/zO+8887//VxOTs7/32lcnIqLi/XBBx9oxIgRev/995WRkaGy\n",
              "sjJt2LBB/fv3V8+ePTVv3jy5XK6LzldYWKiqqqp6S2Fh4UVvDwAAGq9Rk1ZlZWVp165d/n8G04gR\n",
              "I5Sbm6snnnhC27dvV+fOnfXRRx9p0KBBOnHixNmwFouOHz+uli1bBnXfAMKPSauAS0ejLsBMTk7W\n",
              "yJEjVV5erptuuum899euXXtR33PkyBFVVFRowIABkqTjx4+rvLxcI0eOVLNmzXTFFVfI5/Pp6aef\n",
              "rrddixYtVFVVRZkAACCKNKpMvP7663rrrbe0b98+jR49OuCder1ezZs3T+Xl5UpOTpbX69XkyZM1\n",
              "a9YsffbZZ8rIyFCbNm00ZsyYetvNmTNHQ4cOVXJyst56660LXjcBAADCK6Bnc2zcuFFDhgwJRR4A\n",
              "TQSnOYBLR0DzTFx33XVatGiRNmzYIEkaPny4Zs2apYSEkExbAQAAolhA//WfM2eOysrKNHPmTFks\n",
              "Fj3//PP6/PPPtXTp0mDnAwAAUS6gMuF0OuVyuRQXd/bO0htuuEFZWVlBDQYAAGJDQJNW+Xy+es/R\n",
              "8Pl8F/U8DgAAcOkJaGRixIgRGjZsmPLz8yVJRUVFGjlyZDBzAQCAGBFQmVi4cKFWrFih1157TZI0\n",
              "btw4FRQUBDUYAACIDQHdGvpj5s6dq4ULFwb7awFcQrg1FLh0hORBX+duGQUAAJe+iDw1FAAAXDpC\n",
              "UiYsFksovhYAAEShkJQJAADQdHCaAwAAGAmoTCxfvlzfffddg++/9dZbAQcCAACxJaAy8d5776lT\n",
              "p076wx/+oLKysvPeb9u2rXEwAAAQGwKeZ+LYsWN67rnn9Nxzz6lHjx668847NWrUqGDnA3CJ8vl8\n",
              "crvdkqTExEQu3AZimPGkVSUlJZo0aZJOnTqldu3aadmyZRoyZEiw8gEAgCgXUJlwu9166aWXtGzZ\n",
              "MiUnJ+uuu+7SuHHjtHv3bo0bN04VFRUhiAoAAKJRQM/mSEtL09ChQ7VixQplZ2f71/fp00dDhw4N\n",
              "WjgAABD9AhqZqKys1BVXXBGKPAAAIMYEfM3E0aNHtXfvXv8FVJJ04403Bi0YAACIDQGViVWrVmne\n",
              "vHn69ttv1bVrV+3Zs0c5OTnavHlzKDICQJPBXS6IRQHNM7FkyRLt3r1bnTt31s6dO/XOO+8oPT09\n",
              "2NkAoMlxu92y2+2y2+31Rn6BaBZQmWjevLlatWolr9crSRo0aJBcLlcwcwEAgBgR0N0cVqtVPp9P\n",
              "6enpeuKJJ9SxY0edOnUq2NkAAEAMCKhMzJ8/X9XV1Xrsscc0Y8YMnThxQs8880ywswEAgBjQ6DKx\n",
              "fft2Pfvss9q3b58kqWfPnlqwYEG9+SYAAEDT0ahrJrZs2aJhw4apc+fOmj9/vh599FF16tRJw4cP\n",
              "19atW0OVEQAARLFGjUw89thjWrVqlcaOHetfN3bsWPXr108Oh0Pr1q0Ldj4AABDlGjUyUVpaWq9I\n",
              "nDN69Gj/aQ8AANC0NKpMJCcnN/jeT37yE+MwAAAg9jTqNIfH49HHH3+sC02ayeQqAAA0TY0qEzU1\n",
              "NQ0+f4MpXwEAaJoaVSYqKipCFAMAAMSqgKbTBgAAOIcyAQAAjFAmAACAEcoEAAAwEtIy8cgjj2jq\n",
              "1Kn+15s3b5bFYlFJSYl/3YwZM/TAAw9c9HeOGzdOq1evDmJKAABgIqRlwm631ysOTqdT/fr1O2/d\n",
              "9ddfH8oYAAAghEJaJnJycnT06FF98cUXkqSSkhI9+OCD/jJRWVmpQ4cOqU+fPpo2bZr69u2rzMxM\n",
              "FRQU6MyZM5Kk/fv3Kzc3VxkZGRozZoyqq6sb3J/H41F1dXW9xePxhPInAgDQ5IW0TDRv3ly5ubly\n",
              "Op3yeDwqLy/XqFGj9MUXX8jtdsvpdKp///6aM2eOBg4cqG3btmnPnj2qq6vTk08+KUm67bbbNGXK\n",
              "FJWWlurRRx/Vu+++2+D+HA6HUlNT6y0OhyOUPxEAgCavUZNWBeLcqY6OHTuqb9++ks6OWGzZskUl\n",
              "JSWy2+166qmntGXLFi1evFjS2Zk24+PjVV1dLZfLpfz8fElSr169lJeX1+C+CgsLNXv27HrrrFZr\n",
              "aH4YAACQFKYysXLlSnXo0EGDBw+WJF133XVyOp1yOp1avXq1li5dquLiYqWnp9fb9kKnNP7ftN1W\n",
              "q5XyAABAmIX81tDs7Gx99dVXevnll+uVib/97W+qrKxU3759NWbMGC1cuFBer1eSdPz4cZWVlSkl\n",
              "JUW9e/dWUVGRpLOPQN+8eXOoIwMAgEYIeZlo1qyZ8vLydPLkSXXv3l2SlJ6erpMnTyovL0/NmjXT\n",
              "kiVLlJSUJJvNpszMTA0ZMsT/HJCioiKtWLFCPXv21P33369BgwaFOjIAAGgEi+9CzxMHAERETU2N\n",
              "7Ha7pLO3ziclJUU4EfDjmAETAAAYoUwAAAAjlAkAAGCEMgEAAIxQJgAAgBHKBAAAMEKZAAAARigT\n",
              "AADACGUCAAAYoUwAAAAjlAkAAGCEMgEAAIxQJgAAgBHKBAAAMMIjyAEgivh8PrndbklSYmKiLBZL\n",
              "hBMBP44yAQAAjHCaAwAAGKFMAAAAI5QJAABghDIBAACMJEQ6AAAAF4M7XaIXIxMAgJjgdrtlt9tl\n",
              "t9v9pQLRgTIBAACMUCYAAIARygQAADBCmQAAAEYoEwAAwAhlAgAAGKFMAAAAI5QJAABghDIBAACM\n",
              "UCYAAIARygQAADBCmQAAAEYoEwAAwAhlAgAAGKFMAAAAIwnh3qHNZpMknTlzRgcOHFCvXr0kSd26\n",
              "ddOaNWvCHQcAABgKe5lwuVySpIqKCtlsNv9rAAAQm6LmNIfFYtGJEyf8ry+77DJVVFRIkj799FPd\n",
              "cMMNys7OVmZmpp5++unIhAQAAOcJ+8hEY9XW1urWW2/VSy+9pO7du+u7775TTk6O+vXrp+zs7Hqf\n",
              "9Xg88ng89dZZrVZZrdZwRgYAoEmJmpGJhhw4cEClpaX69a9/LZvNptzcXJ08eVL79u0777MOh0Op\n",
              "qan1FofDEYHUAAA0HVEzMhEfH6/a2lr/a7fbLUny+Xxq3br1RV1bUVhYqNmzZ9dbx6gEAAChFTUj\n",
              "E126dNHWrVslSWvXrtXp06clnb3LIyUlRS+88IL/s2VlZfr222/P+w6r1aqUlJR6C2UCAIDQipoy\n",
              "sWTJEs2aNUtZWVnavXu32rRpI0lKSEjQ+vXrtXbtWmVmZiojI0NTpkxRTU1NhBMDAABJsvh8Pl+k\n",
              "QwAA8GNqampkt9slSU6nU0lJSRFOhHOiZmQCAADEJsoEAAAwQpkAAABGKBMAAMAIZQIAABihTAAA\n",
              "ACOUCQAAYIQyAQAAjFAmAACAEcoEAAAwQpkAAABGKBMAAMAIZQIAABihTAAAACM8ghwAEBN8Pp/c\n",
              "brckKTExURaLJcKJcA5lAgAAGOE0BwAAMEKZAAAARigTAADACGUCAAAYSYh0AAAAELhouMuFkQkA\n",
              "AGKY2+2W3W6X3W73l4pwo0wAAAAjlAkAAGCEMgEAAIxQJgAAgBHKBAAAMEKZAAAARigTAADACGUC\n",
              "AAAYoUwAAAAjlAkAAGCEMgEAAIxQJgAAgBHKBAAAMEKZAAAARigTAADASNSUibS0NHXr1k02m002\n",
              "m01Tp0497zNTp06V0+mMQDoAANCQhEgH+KE1a9bIZrNd8L3a2lo9//zz4Q0EAAB+VNSMTPyv1atX\n",
              "y2636+abb1avXr20bds2DR48WOvWrYt0NAAA8ANRNTIxYcIEJSUlSZImT56srVu3avfu3erWrdtF\n",
              "be/xeOTxeOqts1qtslqtQc8KAADOiqqRiTVr1sjlcsnlcqlVq1bKzc296CIhSQ6HQ6mpqfUWh8MR\n",
              "wsQAACCqRib+109/+tNGfb6wsFCzZ8+ut45RCQAAQiuqy0RjcUoDAIDwi6rTHAAAIPZYfD6fL9Ih\n",
              "AABAYGpqamS32yVJTqfTfyNDODEyAQAAjFAmAACAEcoEAAAwQpkAAABGKBMAAMAIZQIAABihTAAA\n",
              "ACOUCQAAYIQyAQAAjFAmAACAEcoEAAAwQpkAAABGKBMAAMAIZQIAABjhEeQAAMQwn88nt9stSUpM\n",
              "TJTFYgl7BsoEAAAwwmkOAABghDIBAACMUCYC4PF49PDDD8vj8UQ6SlThuFwYx6VhHJsL47g0jGNz\n",
              "YZE+LlwzEYDq6mqlpqaqqqpKKSkpkY4TNTguF8ZxaRjH5sI4Lg3j2FxYpI8LIxMAAMAIZQIAABih\n",
              "TAAAACOUiQBYrVY99NBDslqtkY4SVTguF8ZxaRjH5sI4Lg3j2FxYpI8LF2ACAAAjjEwAAAAjlAkA\n",
              "AGCEMgEAAIxQJhrp008/VW5urtLT05Wdna3S0tJIR4oKd911l9LS0mSxWORyuSIdJ2q43W6NGTNG\n",
              "6enpuuaaazR06FCVlZVFOlZUGDZsmDIzM2Wz2TRw4EDt3r070pGiygsvvCCLxaJ169ZFOkrUSEtL\n",
              "U7du3WSz2WSz2bRmzZpIR4oaHo9Hv//979W1a1f16tVLv/3tb8O6/4Sw7u0SMH36dBUUFCg/P1+v\n",
              "vvqq8vPztX379kjHirhx48bpj3/8o/Ly8iIdJeoUFBRo5MiRslgsevrppzV16lSVlJREOlbE/f3v\n",
              "f1fLli0lSf/4xz+Un5+vPXv2RDZUlKioqNBzzz2nnJycSEeJOmvWrJHNZot0jKhz3333yWKx6JNP\n",
              "PpHFYtGXX34Z1v0zMtEIX331lXbs2OFvfDfffLMOHz7M/2lKGjRokK688spIx4g6iYmJGjVqlCwW\n",
              "iyQpJydHFRUVkQ0VJc4VCUmqqqryH6Omrq6uTlOnTtVTTz3F7Y+4KKdPn9bKlSv15z//2f/v0eWX\n",
              "Xx7WDJSJRjh8+LCuuOIKJSScHdCxWCzq0KGDDh06FOFkiBVPPvmkRo8eHekYUWPSpEm66qqr9MAD\n",
              "D+jFF1+MdJyosHjxYg0YMEDXXnttpKNEpUmTJqlXr16aMmWKvv7660jHiQoHDx5U69attWDBAvXp\n",
              "00cDBw7Uxo0bw5qBMgGEyYIFC1RWViaHwxHpKFGjqKhIhw8f1vz58zV37txIx4m4vXv3qri4WPff\n",
              "f3+ko0Sl9957Tx999JF27dqlyy67TJMnT450pKjg9Xr1+eefq0ePHtqxY4eWLl2qCRMm6NixY2HL\n",
              "QJlohKuuukqVlZXyer2SJJ/Pp0OHDqlDhw4RToZo95e//EVr167Vm2++qeTk5EjHiTqTJ0+W0+nU\n",
              "N998E+koEbVp0yZVVFSoa9euSktL04cffqiCggL99a9/jXS0qHDu79pmzZrp7rvv1qZNmyKcKDp0\n",
              "6NBBcXFx+s1vfiNJ6t27t66++mp9/PHHYctAmWiEdu3aKSsrSy+99JIkqbi4WFdeeaW6dOkS4WSI\n",
              "ZosXL9Yrr7yiDRs21LtOoCk7ceKEjh496n+9bt06tWnTRq1bt45gqsi74447VFlZqYqKClVUVCgn\n",
              "J0crVqzQHXfcEeloEXf69GmdOHHC//qVV15R7969Ixcoilx22WUaMmSI/vWvf0mSysvLVV5erp//\n",
              "/Odhy8DdHI20fPly5efna8GCBUpJSdELL7wQ6UhRYfr06XrjjTf05Zdfavjw4WrRogUXpkr64osv\n",
              "NGfOHHXq1El2u13S2Tn0t27dGuFkkVVVVaXx48erpqZGcXFxatu2rdavX89FmGjQsWPHdPPNN6u2\n",
              "tlY+n0+dOnVSUVFRpGNFjWeffVZTpkzR3LlzFRcXp+XLl6t9+/Zh2z/P5gAAAEY4zQEAAIxQJgAA\n",
              "gBHKBAAAMEKZABAUNptNJ0+ebPR248aN0+rVq4MfCEDYcDcHgKDgAW9A08XIBICgsFgs/nkA0tLS\n",
              "9OCDD6p///66+uqrNX/+fP/n9u/fr9zcXGVkZGjMmDGqrq72v3fy5ElNmzZNffv2VWZmpgoKCnTm\n",
              "zBkdOHBAV155pT777DNJZycBGzFihOrq6sL6GwFcGGUCQEicOHFCW7Zs0fbt27Vo0SIdOXJEknTb\n",
              "bbdpypQpKi0t1aOPPqp3333Xv82cOXM0cOBAbdu2TXv27FFdXZ2efPJJdevWTYsWLdItt9yikpIS\n",
              "LVu2TC+++KLi4vgrDIgGnOYAEBITJ06UdHZ2vk6dOqm8vFwtWrSQy+VSfn6+JKlXr171Hlu/bt06\n",
              "bdmyRYsXL5Yk1dTUKD4+XpJ06623yul0avjw4dq4caPatm0b3h8EoEGUCQAhkZiY6P9zfHy8/5k2\n",
              "/+uHs176fD4VFxcrPT39vM95vV7t3btXrVu39o9yAIgOjBECCJuUlBT17t3bPw1yaWmpNm/e7H9/\n",
              "zJgxWrhwob94HD9+3D8t+3333adu3bpp06ZNuueee5iuHYgilAkAYVVUVKQVK1aoZ8+euv/++zVo\n",
              "0CD/e0uWLFFSUpJsNpsyMzM1ZMgQVVRUaP369frnP/+pZcuWqUuXLlq8eLFuueUWud3uCP4SAOfw\n",
              "bA4AAGCEkQkAAGCEMgEAAIxQJgAAgBHKBAAAMEKZAAAARigTAADACGUCAAAYoUwAAAAjlAkAAGCE\n",
              "MgEAAIz8FyDVLvQ/JLzbAAAAAElFTkSuQmCC\n",
              "\">\n",
              "        \n",
              "      </div>\n",
              "      <script></script>\n",
              "      <script type=\"text/javascript\">\n",
              "        (() => {\n",
              "          const chartElement = document.getElementById(\"chart-4f831cd6-f275-48bc-98ab-e91d83117ee1\");\n",
              "          async function getCodeForChartHandler(event) {\n",
              "            const chartCodeResponse =  await google.colab.kernel.invokeFunction(\n",
              "                'getCodeForChart', [\"chart-4f831cd6-f275-48bc-98ab-e91d83117ee1\"], {});\n",
              "            const responseJson = chartCodeResponse.data['application/json'];\n",
              "            await google.colab.notebook.addCell(responseJson.code, 'code');\n",
              "          }\n",
              "          chartElement.onclick = getCodeForChartHandler;\n",
              "        })();\n",
              "      </script>\n",
              "      <style>\n",
              "        .colab-quickchart-chart-with-code  {\n",
              "            display: block;\n",
              "            float: left;\n",
              "            border: 1px solid transparent;\n",
              "        }\n",
              "\n",
              "        .colab-quickchart-chart-with-code:hover {\n",
              "            cursor: pointer;\n",
              "            border: 1px solid #aaa;\n",
              "        }\n",
              "      </style>"
            ]
          },
          "metadata": {}
        },
        {
          "output_type": "display_data",
          "data": {
            "text/plain": [
              "import numpy as np\n",
              "from google.colab import autoviz\n",
              "\n",
              "def violin_plot(df, value_colname, facet_colname, figscale=1, mpl_palette_name='Dark2', **kwargs):\n",
              "  from matplotlib import pyplot as plt\n",
              "  import seaborn as sns\n",
              "  figsize = (12 * figscale, 1.2 * figscale * len(df[facet_colname].unique()))\n",
              "  plt.figure(figsize=figsize)\n",
              "  sns.violinplot(df, x=value_colname, y=facet_colname, palette=mpl_palette_name, **kwargs)\n",
              "  sns.despine(top=True, right=True, bottom=True, left=True)\n",
              "  return autoviz.MplChart.from_current_mpl_state()\n",
              "\n",
              "chart = violin_plot(_df_7, *['Count', 'Day_of_week'], **{'inner': 'stick'})\n",
              "chart"
            ],
            "text/html": [
              "      <div class=\"colab-quickchart-chart-with-code\" id=\"chart-cfe09d9b-2f9e-4efa-8a92-53cbd814d7eb\">\n",
              "        <img src=\"data:image/png;base64,iVBORw0KGgoAAAANSUhEUgAAAhMAAAF5CAYAAAAlJKiFAAAAOXRFWHRTb2Z0d2FyZQBNYXRwbG90\n",
              "bGliIHZlcnNpb24zLjcuMSwgaHR0cHM6Ly9tYXRwbG90bGliLm9yZy/bCgiHAAAACXBIWXMAAA9h\n",
              "AAAPYQGoP6dpAAAiMklEQVR4nO3deXCTdeLH8U9oMS2uLYcyuHVpbbHUXoRajtYKBCwW7wM8V2EF\n",
              "KjLjhWdn3Z+CjBlkHV2vQRRkWI91FZZF1BlFCsslUCAesFZbWlBEPDgK0gTSPr8/GDNmodjmmzRJ\n",
              "eb9mMjZPkuf55DtO/Ph9LptlWZYAAACC1CnSAQAAQGyjTAAAACOUCQAAYIQyAQAAjFAmAACAEcoE\n",
              "AAAwQpkAAABGKBMAAMAIZQIAABihTAAAACOUCQAAYCQ+0gFijWVZ8ng8kqSEhATZbLYIJwIAILKY\n",
              "mWgjj8cjp9Mpp9PpLxUAAJzMKBMAAMAIZQIAABihTAAAACOUCQAAYIQyAQAAjFAmAACAEcoEAAAw\n",
              "QpkAAABGKBMAAMAIZQIAABihTAAAACOUCQAAYIQyAQAAjFAmAACAEcoEAAAw0q5lYuHChTrvvPPk\n",
              "cDiUlZWl4cOHq7m5uT0jAACAEItvrw3t2rVL5eXl2rhxo1JTUyVJmzZtks1ma68IAAAgDNptZmL3\n",
              "7t2Ki4tT9+7d/csKCgpks9mUlpYmt9vtX15YWKjly5dLkoYNG6b77rtPF1xwgTIyMjRp0qT2igwA\n",
              "AFqh3WYm8vPzVVJSotTUVA0dOlTFxcW68cYblZKS8pufra2tVWVlpY4cOaLs7GytXbtWRUVFx7zP\n",
              "6/XK6/UGLLPb7bLb7SH7HgAAIFC7zUx06tRJCxYs0Jo1a1RWVqbVq1crJydHNTU1v/nZ6667TvHx\n",
              "8UpMTJTD4VBtbe1x3+dyuZScnBzwcLlcof4qAADgV9ptZuIXWVlZysrK0m233aaysjItXrxY8fHx\n",
              "ampq8r/H4/EEfCYhIcH/d1xcnHw+33HXXVFRoSlTpgQsY1YCAIDwareZiZ07d2r16tX+53v37lVd\n",
              "XZ0yMjLUp08frVu3TpK0fv16VVdXB7UNu92upKSkgAdlAgCA8Gq3mQmfz6dp06aprq5OXbp0kc/n\n",
              "09ixY3XFFVcoJSVFY8eO1YsvvqiioiLl5OS0VywAAGDIZlmWFekQsaSxsVFOp1OSVFlZqcTExAgn\n",
              "AgAgsrgCJgAAMEKZAAAARigTAADACGUCAAAYoUwAAAAjlAkAAGCEMgEAAIxQJgAAgBHKBAAAMEKZ\n",
              "AAAARigTAADACGUCAAAYoUwAAAAjlAkAAGCEW5C3kWVZ8ng8kqSEhATZbLYIJwIAILIoEwAAwAi7\n",
              "OQAAgBHKBAAAMEKZAAAARigTAADACGUCAAAYiY90AAAnxunIAKIdMxNAlPN4PHI6nXI6nf5SAQDR\n",
              "hDIBAACMUCYAAIARygQAADBCmQAAAEYoEwAAwAhlAgAAGKFMAAAAI5QJAABghDIBAACMUCYAAIAR\n",
              "ygQAADBCmQAAAEYoEwAAwAhlAgAAGAl7mUhLS1PPnj115MgR/7LKykrZbDbdfffd4d48AAAIs3aZ\n",
              "mejdu7cWL17sfz5nzhwVFha2x6YBAECYtUuZ+NOf/qS5c+dKkvbv36+PP/5YZWVlkqSmpibdf//9\n",
              "ys3NVW5uru644w4dPnxYkjRu3DjddtttGjFihDIzM3X11Vf7XwMAANGhXcrE+eefr/r6en377bd6\n",
              "4403NGbMGMXFxUmSZs+erQ0bNmjjxo1yu92qra3VU0895f+s2+3WO++8o//+97/avXu3FixY0OJ2\n",
              "vF6vGhoaAh5erzfs3w8AgJNZux2AefPNN2vevHmaO3eubr31Vv/ypUuXaty4cbLb7YqPj9fEiRP1\n",
              "4Ycf+l+/6qqr1KVLF8XFxWngwIGqra1tcRsul0vJyckBD5fLFdbvBQDAyS6+vTZ0yy23qKCgQJmZ\n",
              "mTrnnHNafJ/NZgt4npCQ4P87Li5OPp+vxc9WVFRoypQpAcvsdnuQiQEAQGu0W5n4/e9/L5fLpays\n",
              "rIDlF154oebPn68bb7xRnTp10ssvv6yRI0cGtQ273U55AACgnbVbmZCOHoj5v8rLy1VbW6uCggJJ\n",
              "0rBhwzhlFACAGGKzLMuKdAgALWtsbJTT6ZR09BotiYmJEU4EAIG4AiYAADBCmQAAAEYoEwAAwAhl\n",
              "AgAAGKFMAAAAI5QJAABghDIBAACMUCYAAIARygQAADBCmQAAAEYoEwAAwAhlAgAAGKFMAAAAI5QJ\n",
              "AABghFuQA1HOsix5PB5JUkJCgmw2W4QTAUAgygQAADDCbg4AAGCEMgEAAIxQJgAAgBHKBAAAMEKZ\n",
              "AAAARuIjHQBA9OF0VABtwcwEgGN4PB45nU45nU5/qQCAllAmAACAEcoEAAAwQpkAAABGKBMAAMAI\n",
              "ZQIAABihTAAAACOUCQAAYIQyAQAAjFAmAACAEcoEAAAwQpkAAABGKBMAAMAIZQIAABihTAAAACOU\n",
              "CQAAYKTdyoTD4ZDD4VB2drbi4uL8z6+77jotX75cDoejvaIAAIAQim+vDbndbklSfX29HA6H/7kk\n",
              "LV++vL1iAACAEIua3Rw+n0+TJ09Wv379lJOTo6qqKklHy0fXrl397zt48KBsNttx1+H1etXQ0BDw\n",
              "8Hq97REfAICTVtSUiS+++EJjx47VJ598ojvuuEN//vOf27wOl8ul5OTkgIfL5QpDWgAA8IuoKRN9\n",
              "+vTRoEGDJElFRUWqra1t8zoqKiq0f//+gEdFRUWoowIAgF9pt2MmfktCQoL/77i4OPl8PklSfHy8\n",
              "mpqa/K95PJ4W12G322W328MXEgAAHCNqZiZa0qtXL1mWpa1bt0qS5s+fH+FEAADg16K+TMTHx+vZ\n",
              "Z5/VpZdeqgEDBujIkSORjgQAAH7FZlmWFekQAKJLY2OjnE6nJKmyslKJiYkRTgQgmkX9zAQAAIhu\n",
              "lAkAAGCEMgEAAIxQJgAAgBHKBAAAMEKZAAAARoIqE8c7m/TQoUPGYQAAQOwJqkxMnjw54LnH49Fl\n",
              "l10WkkAAACC2BFUmDh48qBkzZkg6euvwMWPG6Pzzzw9pMAAAEBuCutHXnDlzNGrUKKWkpOidd95R\n",
              "Zmampk2bFupsAAAgBgRVJk455RQtXLhQJSUlKikp0ZNPPhnqXAAAIEa0qUx069ZNNpvN/9zr9err\n",
              "r7/Wm2++KUnas2dPaNMBAICo16Yy4Xa7wxQDAADEqjaVidTUVP/fu3btUnV1tYYNGyafz6fm5uaQ\n",
              "hwMAANEvqFuQv/3227r33ntls9lUX1+vTz75RBUVFXrvvffCkRFAO7MsSx6PR5KUkJAQsHsTAP5X\n",
              "UKeGulwubdq0Sd26dZMk9evXT9u3bw9pMACRY7PZlJiYqMTERIoEgN8UVJmIi4tTjx49Apadcsop\n",
              "IQkEAABiS1Bl4rTTTtPu3bv9/8fy0UcfqXv37iENBgAAYkNQx0xUVVWpvLxc27ZtU25ururq6vTu\n",
              "u+/K4XCEISIAAIhmQZUJSdq/f7/WrFkjy7JUXFysrl27hjgaAACIBUHfgrympkY//vijLr74YklH\n",
              "TxUFgGBZlqXGxkY1NjYe987EAKJXUGXihRde0K233qpHH31UkvTTTz/pxhtvDGUuACcZj8cjp9Mp\n",
              "p9PpPy0VQGwIqkzMnj1bH3/8sZKSkiRJGRkZ+uGHH0IaDAAAxIagyoTdbldiYmLAsvj4oO4ZBgAA\n",
              "YlxQZeKMM87Ql19+6T81dN68eerdu3dIgwEAgNgQ1HTC008/rRtuuEFffPGF/vCHPygpKUlLliwJ\n",
              "dTYAABADgioTffr00bp161RdXS3LstS3b1/FxcWFOhsAAIgBQZWJ6dOnq7S0VAMGDFCnTkGfXQoA\n",
              "ADqAoJqAZVm6//771bNnT11++eV65plntGXLllBnAwAAMSDoK2BK0s8//6wFCxbokUce0Y4dO9TU\n",
              "1BTKbABOIo2NjXI6nZKkysrKY84YAxC9gtrNsXTpUi1dulTLli1Tc3OzxowZo9LS0lBnAwAAMSCo\n",
              "MjFy5EgVFxfrySef1AUXXBDqTAAAIIYEdczE559/rmuvvVYzZ85Udna2xo0bp9deey3U2QAAQAww\n",
              "Omairq5O77//vmbOnKmvv/5aPp8vlNkAnEQ4ZgKIXUHNTNx2223q06ePSktL9emnn+qJJ57Q999/\n",
              "H+psAAAgBgR1zERhYaEeeughnX322cd93ev1ym63GwUDAACxIaiZiYkTJ7ZYJCSpqKgo6EAAACC2\n",
              "hOXyla05DGPhwoU677zz5HA4lJWVpeHDh6u5ufmEn3n00Ufl8XhCFRMAAIRAWO4b/svdRFuya9cu\n",
              "lZeXa+PGjUpNTZUkbdq06Tc/N3XqVN19991KSEgIWVYAAGAmIjfW2L17t+Li4tS9e3f/soKCAtls\n",
              "Nt13330aMGCAHA6HhgwZourqaknSpEmTJEkXXHCBHA7HcQ/49Hq9amhoCHh4vd72+VIAAJykIrKb\n",
              "Iz8/XyUlJUpNTdVVV12lmTNnaufOnZKkBx98UBs2bJDb7dbkyZN11113SZJmzZolSVq5cqXcbrd6\n",
              "9ux5zHpdLpeSk5MDHi6XK8TfDgAA/FqbysQv/2FetmzZCd83ePDgE2+0UyctWLBAa9asUVlZmVav\n",
              "Xq2cnBzV1NToww8/VFFRkXJzczVt2jS53e5W56uoqND+/fsDHhUVFa3+PAAAaLs2XbSqoKBAmzZt\n",
              "8v8zlMrKylRcXKynn35aGzZsUEZGhj799FMNGTJE+/btOxrWZtPevXvVtWvXkG4bQORx0SogdrXp\n",
              "AMwuXbpo1KhRqqur09VXX33M6wsXLmzVenbu3Kn6+nqdf/75kqS9e/eqrq5Oo0aNUufOnXXmmWfK\n",
              "siw999xzAZ877bTTtH//fsoEAABRpE1l4p133tEHH3ygrVu36oorrgh6oz6fT9OmTVNdXZ26dOki\n",
              "n8+nsWPH6q677tK2bduUk5OjHj166Morrwz43L333qvS0lJ16dJFH3zwwXGPmwAAAO0rqHtzfPTR\n",
              "RxoxYkQ48gA4SbGbA4hdQV1nYujQoZo5c6Y+/PBDSdJFF12ku+66S/HxYblsBQAAiGJB/df/3nvv\n",
              "VU1NjSZPniybzaaXX35Z27dv1zPPPBPqfAAAIMoFVSYqKyvldrvVqdPRM0svueQSFRQUhDQYAACI\n",
              "DUFdtMqyrID7aFiW1ar7cQAAgI4nqJmJsrIyjRw5UuPGjZMkzZ8/X6NGjQplLgAAECOCKhMzZszQ\n",
              "7NmztXjxYknS6NGjVV5eHtJgAAAgNgR1auhvefDBBzVjxoxQrxZAB8apoUDsCsuNvn45ZRQAAHR8\n",
              "EblrKAAA6DjCUiZsNls4VgsAAKJQWMoEAAA4ebCbAwAAGAmqTLz44os6dOhQi69/8MEHQQcCAACx\n",
              "Jagy8Z///Efp6em65557VFNTc8zrZ5xxhnEwAAAQG4K+zsTu3bv10ksv6aWXXlJ2drbuuOMOXXzx\n",
              "xaHOB+AkYVmWPB6PJCkhIYEDuYEYYnzRquXLl+uWW27RwYMH1bNnTz3//PMaMWJEqPIBAIAoF1SZ\n",
              "8Hg8evXVV/X888+rS5cuuvPOOzV69Ght3rxZo0ePVn19fRiiAgCAaBTUvTnS0tJUWlqq2bNna8CA\n",
              "Af7lhYWFKi0tDVk4AAAQ/YKamdi1a5fOPPPMcOQBAAAxJuhjJr799lt9/vnn/gOmJOnyyy8PWTAA\n",
              "ABAbgioTc+fO1bRp07Rnzx6dc845+uSTTzR48GCtWrUqHBkB4DdxNggQOUFdZ+Kpp57S5s2blZGR\n",
              "oY0bN2rZsmXKzMwMdTYAaDWPxyOn0ymn0xkwYwog/IIqE6eccoq6desmn88nSRoyZIjcbncocwEA\n",
              "gBgR1NkcdrtdlmUpMzNTTz/9tFJTU3Xw4MFQZwMAADEgqDIxffp0NTQ06IknntCkSZO0b98+vfDC\n",
              "C6HOBgAAYkCby8SGDRs0a9Ysbd26VZKUm5urxx9/POB6EwAA4OTRpmMm1q5dq5EjRyojI0PTp0/X\n",
              "Y489pvT0dF100UVat25duDICAIAo1qaZiSeeeEJz587VVVdd5V921VVXadCgQXK5XFq0aFGo8wEA\n",
              "gCjXppmJLVu2BBSJX1xxxRX+3R4AAODk0qYy0aVLlxZfO/XUU43DAACA2NOm3Rxer1efffaZjnfR\n",
              "TC4SAwDAyalNZaKxsbHF+29w6VoAAE5ObSoT9fX1YYoBAABiVVCX0wYAAPgFZQIAABihTAAAACOU\n",
              "CQAAYCSsZWLq1KmaMGGC//mqVatks9m0fPly/7JJkybpL3/5S6vXOXr0aM2bNy+EKQEAgImwlgmn\n",
              "0xlQHCorKzVo0KBjlg0fPjycMQAAQBiFtUwMHjxY3377rb755htJ0vLly/V///d//jKxa9cu7dix\n",
              "Q4WFhZo4caIGDhyo/Px8lZeX6/Dhw5KkL774QsXFxcrJydGVV16phoaGcEYGAABtFNYyccopp6i4\n",
              "uFiVlZXyer2qq6vTxRdfrG+++UYej0eVlZUqKirSvffeqwsuuEDr16/XJ598oubmZv3tb3+TJN18\n",
              "880aP368tmzZoscee0wrVqxocXter1cNDQ0BD6/XG86vCADASS/sB2D+sqtj3bp1GjhwoKSjMxZr\n",
              "167V8uXL5XQ6tWjRIs2cOVMOh0P9+/fXypUrVVNTo4aGBrndbo0bN06SlJeXp5KSkha35XK5lJyc\n",
              "HPBwuVzh/ooAAJzU2nQFzGA4nU7NmTNHvXv31rBhwyRJQ4cOVWVlpSorKzVv3jw988wzWrBggTIz\n",
              "MwM+e7xdGie6bHdFRYWmTJkSsMxut5t/CQAA0KKwz0wMGDBA33//vV577bWAMvGPf/xDu3bt0sCB\n",
              "A3XllVdqxowZ8vl8kqS9e/eqpqZGSUlJ6t+/v+bPny/p6C3QV61a1eK27Ha7kpKSAh6UCQAAwivs\n",
              "ZaJz584qKSnRgQMHlJWVJUnKzMzUgQMHVFJSos6dO+upp55SYmKiHA6H8vPzNWLECP99QObPn6/Z\n",
              "s2crNzdXDz/8sIYMGRLuyAAAoA1s1vHuJw4AMaaxsVFOp1PS0VPOExMTI5wIOHlwBUwAAGCEMgEA\n",
              "AIxQJgAAgBHKBAAAMEKZAAAARigTAADACGUCAAAYoUwAAAAjlAkAAGCEMgEAAIxQJgAAgBHKBAAA\n",
              "MEKZAAAARigTAADACLcgB9AhWJYlj8cjSUpISJDNZotwIuDkQZkAAABG2M0BAACMUCYAAIARygQA\n",
              "ADBCmQAAAEbiIx0AQMfGWRZAx8fMBICw8ng8cjqdcjqd/lIBoGOhTAAAACOUCQAAYIQyAQAAjFAm\n",
              "AACAEcoEAAAwQpkAAABGKBMAAMAIZQIAABihTAAAACOUCQAAYIQyAQAAjFAmAACAEcoEAAAwQpkA\n",
              "AABGKBMAAMBIfHtv0OFwSJIOHz6s6upq5eXlSZL69u2rN998s73jAAAAQ+1eJtxutySpvr5eDofD\n",
              "/xwAAMSmqNnNYbPZtG/fPv/z008/XfX19ZKkr776SpdccokGDBig/Px8Pffcc5EJCQAAjtHuMxNt\n",
              "1dTUpBtuuEGvvvqqsrKydOjQIQ0ePFiDBg3SgAEDAt7r9Xrl9XoDltntdtnt9vaMDADASSVqZiZa\n",
              "Ul1drS1btuj666+Xw+FQcXGxDhw4oK1btx7zXpfLpeTk5ICHy+WKQGoAAE4eUTMzERcXp6amJv9z\n",
              "j8cjSbIsS927d2/VsRUVFRWaMmVKwDJmJQAACK+omZno06eP1q1bJ0lauHChfv75Z0lHz/JISkrS\n",
              "K6+84n9vTU2N9uzZc8w67Ha7kpKSAh6UCQAAwitqysRTTz2lu+66SwUFBdq8ebN69OghSYqPj9eS\n",
              "JUu0cOFC5efnKycnR+PHj1djY2OEEwMAAEmyWZZlRToEgI6rsbFRTqdTklRZWanExMQIJwIQalEz\n",
              "MwEAAGITZQIAABihTAAAACOUCQAAYIQyAQAAjFAmAACAEcoEAAAwQpkAAABGKBMAAMAIZQIAABih\n",
              "TAAAACOUCQAAYIQyAQAAjFAmAACAEW5BDiCsLMuSx+ORJCUkJMhms0U4EYBQo0wAAAAj7OYAAABG\n",
              "KBMAAMAIZQIAABihTAAAACOUCQAAYCQ+0gEAAEDwouH0a2YmAACIYR6PR06nU06n018q2htlAgAA\n",
              "GKFMAAAAI5QJAABghDIBAACMUCYAAIARygQAADBCmQAAAEYoEwAAwAhlAgAAGKFMAAAAI5QJAABg\n",
              "hDIBAACMUCYAAIARygQAADASNWUiLS1Nffv2lcPhkMPh0IQJE455z4QJE1RZWRmBdAAAoCXxkQ7w\n",
              "a2+++aYcDsdxX2tqatLLL7/cvoEAAMBvipqZif81b948OZ1OXXPNNcrLy9P69es1bNgwLVq0KNLR\n",
              "AADAr0TVzMR1112nxMRESdLYsWO1bt06bd68WX379m3V571er7xeb8Ayu90uu90e8qwAAOCoqJqZ\n",
              "ePPNN+V2u+V2u9WtWzcVFxe3ukhIksvlUnJycsDD5XKFMTEAAIiqmYn/9bvf/a5N76+oqNCUKVMC\n",
              "ljErAQBAeEV1mWgrdmkAAND+omo3BwAAiD02y7KsSIcAAADBaWxslNPplCRVVlb6T2RoT8xMAAAA\n",
              "I5QJAABghDIBAACMUCYAAIARygQAADBCmQAAAEYoEwAAwAhlAgAAGKFMAAAAI5QJAABghDIBAACM\n",
              "UCYAAIARygQAADBCmQAAAEa4BTkAADHMsix5PB5JUkJCgmw2W7tnoEwAAAAj7OYAAABGKBMAAMAI\n",
              "ZSJCvF6vHn30UXm93khHiQmMV9swXm3HmLUN49U2HX28OGYiQhoaGpScnKz9+/crKSkp0nGiHuPV\n",
              "NoxX2zFmbcN4tU1HHy9mJgAAgBHKBAAAMEKZAAAARigTEWK32/XII4/IbrdHOkpMYLzahvFqO8as\n",
              "bRivtuno48UBmAAAwAgzEwAAwAhlAgAAGKFMAAAAI5SJELvzzjuVlpYmm80mt9vd4vvmzJmjc845\n",
              "RxkZGZo4caKOHDkiSWpubtaUKVOUnZ2t/Px8OZ1O1dTUtFP69tea8aqvr9ewYcOUnJwsh8NxzOst\n",
              "jWVHZDpey5Yt08CBA5Wdna2cnBw98MADam5uDn/wCArFv2PS0TszDh8+XF27dg1b1mgQivH67LPP\n",
              "NGzYMJ177rk699xztXDhwvCGjiDT8eowv/kWQmrFihXW119/baWmplqbN28+7nu2bdtmnXnmmdau\n",
              "Xbus5uZm67LLLrOee+45y7Is61//+pc1cOBA6/Dhw5ZlWdZjjz1mjRkzpr3it7vWjNdPP/1krVy5\n",
              "0lqyZInVr1+/gNdONJYdkel4bdq0yaqtrbUsy7IaGxut888/33rllVfCGzrCTMfsF08++aQ1YcIE\n",
              "Kzk5OWxZo4HpeP3888/W2Wefba1cudKyLMvy+XzW999/H+bUkWM6Xh3lN5+ZiRAbMmSIzjrrrBO+\n",
              "5+2339bll1+uXr16yWazadKkSXrjjTckSTabTV6vVx6PR5ZlqaGh4TfXF8taM17du3dXSUmJTj31\n",
              "1GNeO9FYdkSm49W/f3+lp6dLkhISEuRwOFRfXx+OqFHDdMwkacuWLVq0aJEeeuihcESMKqbj9frr\n",
              "r2vw4MEqKSmRJMXFxemMM84IS9ZoYDpeHeU3Pz7SAU5GO3bsUGpqqv95WlqaduzYIUm67LLLVFlZ\n",
              "qV69eum0005TSkqKVqxYEamoUe9EY4kT++677/T2229ryZIlkY4S1Y4cOaKJEydqzpw5iouLi3Sc\n",
              "qLd161bZ7XZdeuml+uabb5Sfn68nn3yyQxcKEx3lN5+ZiShTVVWlzz//XDt37tS3336rESNGaNKk\n",
              "SZGOhQ6moaFBl112mR544AEVFhZGOk5Umzp1qq6++mqde+65kY4SE3w+n5YuXaoXX3xRmzdvVkpK\n",
              "im6//fZIx4paHeU3nzIRAb1799b27dv9z+vr69W7d29J0vz58/0HeXXq1Eljx45VZWVlpKJGvRON\n",
              "JY7vwIEDKisr0xVXXKEpU6ZEOk7UW7FihZ599lmlpaWppKREDQ0NSktL0w8//BDpaFGpd+/ecjqd\n",
              "SklJkc1m0x//+Ed9/PHHkY4VtTrKbz5lIgKuueYaLV68WN99950sy9KsWbN0/fXXS5LS09O1bNky\n",
              "HT58WJK0ZMkS5ebmRjJuVDvRWOJYBw8eVFlZmcrKyvTwww9HOk5MWLlypbZv3676+nqtWrVKSUlJ\n",
              "qq+vZ9q+Bddee602bNighoYGSdJ7772nfv36RThV9Oowv/mRPf6z4ykvL7dSUlKsuLg4q2fPnlZG\n",
              "RoZlWZY1fvx469///rf/fbNnz7bS09Ot9PR069Zbb/UfyevxeKwJEyZYWVlZVl5enlVaWuo/+r4j\n",
              "as14/fzzz1ZKSop1+umnW507d7ZSUlKshx56yL+OlsayIzIdr+nTp1vx8fFWv379/I/p06dH7Pu0\n",
              "h1D8O/aLurq6Dn82RyjGa/78+VZOTo6Vl5dnlZWVWTt27IjId2kPpuPVUX7zuTcHAAAwwm4OAABg\n",
              "hDIBAACMUCYAAIARygQAYz6fT1OnTlVWVpZyc3PlcDhUXl6uffv2hXxb9fX1mjVrVsjXCyB4lAkA\n",
              "xsaPH6+qqiqtXbtWn3/+uTZv3qzS0lLt2bMn5NuiTADRhzIBwEhNTY3eeustvfLKK+rWrZuko/cb\n",
              "GDNmjNLT0zVz5kzl5OQoLy9PN910k/bv3y9JevTRR3X33Xf71/Pcc89p3LhxkqR58+bpwgsv1A03\n",
              "3KC8vDwVFhZq27ZtkqRJkyapurpaDodDl19+ebt+VyAWtPbu1b+2d+9e3XTTTcrMzFROTk6b70ND\n",
              "mQBgZNOmTTrnnHN0+umnH/Pa+++/r7lz52r16tX67LPPdOqpp7b6R2rDhg16/PHH9dlnn+nCCy/U\n",
              "jBkzJEmzZs1S37595Xa7tXjx4pB+F6AjGD16tFatWhVw36Lfcuutt6p///768ssvtWXLloCi3xqU\n",
              "CQBhs3TpUl133XXq2rWrJOn222/Xhx9+2KrPFhUV6eyzz/b/XVtbG66YQIfS0p1MN2zYoOHDh6uw\n",
              "sFD9+/fXW2+9Jeno7GJVVVXA5fV79erVpm1y11AARgoKCvTVV1/pp59+Uo8ePU74XpvN5v87Pj5e\n",
              "TU1N/ucejyfgvQkJCf6/4+Li5PP5QpQYOPns27dP5eXleu+993TmmWfqxx9/VEFBgYqLi7V161ad\n",
              "ddZZuv3221VVVaUePXpoxowZ6t+/f6vXz8wEACN9+vTRNddco/Hjx/vP3rAsSwsWLFB6err++c9/\n",
              "+u/T8OKLL2rkyJH+z1VVVampqUmHDh3SggULWrW9pKQk/3EXAFpnzZo12rZtm0aNGiWHw6ELL7xQ\n",
              "klRdXS2fz6f169fr+uuv18aNG3XPPffo0ksv1ZEjR1q9fmYmABibO3eupk+frkGDBik+Pl7Nzc0a\n",
              "MmSIZsyYoUOHDqmoqEidOnVSfn6+XnjhBUnS1VdfrbfeekvnnnuuzjrrLPXv31+HDh36zW3l5+cr\n",
              "JydHubm5Sk9P57gJoBUsy1JOTo7WrFlzzGtVVVVKSUmR0+mUJI0aNUqHDx/W9u3b1adPn1atn3tz\n",
              "AADQAaWlpWnRokVyOBzau3evsrOz9fe//90/K+F2u5Wdna3OnTsrLy9Pr7/+uvLz87V+/XpdfPHF\n",
              "2rlzp+x2e6u2RZkAAKADue222/Tuu+/qu+++U48ePXTaaaeppqZGmzZt0n333aeffvpJR44cUe/e\n",
              "vbVo0SIlJCRo48aNmjx5shobG2W32/XXv/5VQ4cObfU2KRMAAMAIB2ACAAAjlAkAAGCEMgEAAIxQ\n",
              "JgAAgBHKBAAAMEKZAAAARigTAADACGUCAAAYoUwAAAAjlAkAAGCEMgEAAIz8P64RO+uQcdFqAAAA\n",
              "AElFTkSuQmCC\n",
              "\">\n",
              "        \n",
              "      </div>\n",
              "      <script></script>\n",
              "      <script type=\"text/javascript\">\n",
              "        (() => {\n",
              "          const chartElement = document.getElementById(\"chart-cfe09d9b-2f9e-4efa-8a92-53cbd814d7eb\");\n",
              "          async function getCodeForChartHandler(event) {\n",
              "            const chartCodeResponse =  await google.colab.kernel.invokeFunction(\n",
              "                'getCodeForChart', [\"chart-cfe09d9b-2f9e-4efa-8a92-53cbd814d7eb\"], {});\n",
              "            const responseJson = chartCodeResponse.data['application/json'];\n",
              "            await google.colab.notebook.addCell(responseJson.code, 'code');\n",
              "          }\n",
              "          chartElement.onclick = getCodeForChartHandler;\n",
              "        })();\n",
              "      </script>\n",
              "      <style>\n",
              "        .colab-quickchart-chart-with-code  {\n",
              "            display: block;\n",
              "            float: left;\n",
              "            border: 1px solid transparent;\n",
              "        }\n",
              "\n",
              "        .colab-quickchart-chart-with-code:hover {\n",
              "            cursor: pointer;\n",
              "            border: 1px solid #aaa;\n",
              "        }\n",
              "      </style>"
            ]
          },
          "metadata": {}
        },
        {
          "output_type": "display_data",
          "data": {
            "text/plain": [
              "<google.colab._quickchart_helpers.SectionTitle at 0x78af86af9e40>"
            ],
            "text/html": [
              "<h4 class=\"colab-quickchart-section-title\">Time series</h4>\n",
              "<style>\n",
              "  .colab-quickchart-section-title {\n",
              "      clear: both;\n",
              "  }\n",
              "</style>"
            ]
          },
          "metadata": {}
        },
        {
          "output_type": "display_data",
          "data": {
            "text/plain": [
              "import numpy as np\n",
              "from google.colab import autoviz\n",
              "\n",
              "def time_series_multiline(df, timelike_colname, value_colname, series_colname, figscale=1, mpl_palette_name='Dark2'):\n",
              "  from matplotlib import pyplot as plt\n",
              "  import seaborn as sns\n",
              "  figsize = (10 * figscale, 5.2 * figscale)\n",
              "  palette = list(sns.palettes.mpl_palette(mpl_palette_name))\n",
              "  def _plot_series(series, series_name, series_index=0):\n",
              "    if value_colname == 'count()':\n",
              "      counted = (series[timelike_colname]\n",
              "                 .value_counts()\n",
              "                 .reset_index(name='counts')\n",
              "                 .rename({'index': timelike_colname}, axis=1)\n",
              "                 .sort_values(timelike_colname, ascending=True))\n",
              "      xs = counted[timelike_colname]\n",
              "      ys = counted['counts']\n",
              "    else:\n",
              "      xs = series[timelike_colname]\n",
              "      ys = series[value_colname]\n",
              "    plt.plot(xs, ys, label=series_name, color=palette[series_index % len(palette)])\n",
              "\n",
              "  fig, ax = plt.subplots(figsize=figsize, layout='constrained')\n",
              "  df = df.sort_values(timelike_colname, ascending=True)\n",
              "  if series_colname:\n",
              "    for i, (series_name, series) in enumerate(df.groupby(series_colname)):\n",
              "      _plot_series(series, series_name, i)\n",
              "    fig.legend(title=series_colname, bbox_to_anchor=(1, 1), loc='upper left')\n",
              "  else:\n",
              "    _plot_series(df, '')\n",
              "  sns.despine(fig=fig, ax=ax)\n",
              "  plt.xlabel(timelike_colname)\n",
              "  plt.ylabel(value_colname)\n",
              "  return autoviz.MplChart.from_current_mpl_state()\n",
              "\n",
              "chart = time_series_multiline(_df_8, *['index', 'Count', 'Day_of_week'], **{})\n",
              "chart"
            ],
            "text/html": [
              "      <div class=\"colab-quickchart-chart-with-code\" id=\"chart-36c6ed87-97b2-4420-b6c1-0325c9da9e00\">\n",
              "        <img src=\"data:image/png;base64,iVBORw0KGgoAAAANSUhEUgAAAlsAAAEPCAYAAAB1MgENAAAAOXRFWHRTb2Z0d2FyZQBNYXRwbG90\n",
              "bGliIHZlcnNpb24zLjcuMSwgaHR0cHM6Ly9tYXRwbG90bGliLm9yZy/bCgiHAAAACXBIWXMAAA9h\n",
              "AAAPYQGoP6dpAAArI0lEQVR4nO3de1RVdcL/8c/hcDEmwSgdG49cFO+IB1TygiZaeemik5jWo0l5\n",
              "QavRFk2l/bo8lkZNDk5lk5iWOZNWEzw+jGUXDR01EynRUdIJ46h4y6cUMAU8sH9/uDpFAkKy2aDv\n",
              "11pnLc6+nP05e61cn757n++2GYZhCAAAAKbwsjoAAADApYyyBQAAYCLKFgAAgIkoWwAAACaibAEA\n",
              "AJiIsgUAAGAiyhYAAICJKFsAAAAmomwBAACYyNvqAA1hxowZysjI0P79+7V9+3Y5nc4L7nPixAk9\n",
              "8MAD2rZtm3x8fHTrrbfqueeeMz8sAAANwDAMud1ulZeXWx2lSbLb7fL29pbNZrvgtpdF2YqPj9cj\n",
              "jzyi2NjYWu9z7733qn///nrrrbckSUePHjUrHgAADaqsrExHjhzR6dOnrY7SpPn7++vaa6+Vr69v\n",
              "jdtdFmVr4MCBVS7ftm2bHn30URUVFam8vFyPPfaYxowZo7y8PGVnZystLc2zbevWrRsqLgAApqmo\n",
              "qFB+fr7sdrt+97vfydfXt1ajM/iJYRgqKyvT8ePHlZ+frw4dOsjLq/o7sy6LslWVkydPaurUqfrg\n",
              "gw907bXX6v/+7/8UHR2tfv36KTc3Vw6HQ9OnT1d2drauvvpqPf/884qKirI6NgAAF6WsrEwVFRVq\n",
              "27at/P39rY7TZF1xxRXy8fHR/v37VVZWpmbNmlW77WVbtj777DN98803Gj58eKXle/fuldvtVlZW\n",
              "lp599lmlpqZqzZo1uuWWW+RyueTj42NRYgAA6k9NIzGondqew8u2bBmGoW7duumzzz47b112drba\n",
              "tGmjuLg4SdLw4cNVVlam/fv3Kzw8vKGjAgCAJuyyrbX9+vVTfn6+1q5d61mWk5OjsrIy9ezZUwEB\n",
              "Adq5c6ckKSsrS4ZhqG3btlbFBQAATdRlUbYSExPlcDhUUFCgoUOHKjw8XFdddZXef/99Pfvss+rR\n",
              "o4e6du2qWbNmqaKiQjabTW+++aamTJmiyMhI3X///UpLS5Ofn5/VXwUAANOEhoaqU6dO6tGjh8LD\n",
              "wzVy5MgqrwCZ6fvvv1f//v3ldDo1b968Bj22JLlcLrVo0aJeP/OyuIyYmppa5fLo6Gh9+umnVa7r\n",
              "2bOntm7damYsAAAanXfeecczH2V6erpGjBihjz76SNddd12DHP+TTz7RlVdeqc2bNzfI8RrCZTGy\n",
              "BQAA6u7222/XtGnTNH/+fK1bt059+/ZVVFSUunXrpqVLl0qSDh8+rN/+9reV5uy666679Oqrr1b7\n",
              "ueXl5Xr44YcVERGhiIgI/eEPf1BZWZnWrl2rhx9+WJ9//rmcTmelW31+bvHixZo6daokKTc3Vzab\n",
              "TR9//LEk6emnn9bTTz8tSfr666918803q3fv3oqMjNTChQs9n7Ft2zYNHjxYvXr1UlRUlP7xj3+c\n",
              "d5yysjKNHz9eiYmJFzf5qwEAAC4bZ86cMXJzc40zZ86cty4kJMTYvn17pWXp6elGly5djO+//95w\n",
              "u92GYRjGd999ZwQHBxsHDx40DMMw7rrrLiM1NdUwDMM4evSo0bJlS6O4uLjaDH/961+N66+/3igp\n",
              "KTHOnj1rDB8+3HjuuecMwzCMN954wxg5cmSN32Hfvn1GWFiYYRiG8Ze//MXo27ev8fDDDxuGYRix\n",
              "sbHG5s2bDbfbbfTs2dP46quvDMMwjB9++MHo3r27kZWVZZw4ccJwOp3G4cOHDcMwjOPHjxtt27Y1\n",
              "CgoKjPz8fCMwMNA4ceKEERcXZ8ybN+9XncufY2QLAABUyzAMSdJ3332nMWPGKCIiQoMHD9Z3332n\n",
              "Xbt2SZJmzpypV155RZL02muv6c4779SVV15Z7WeuXbtWCQkJ8vPzk7e3t6ZMmaJPPvmk1pnatWsn\n",
              "Sfrmm2+0du1aJScn69NPP9WpU6eUm5urmJgY7d27V7t379a4cePkdDrVr18/FRcXKzc3t9L0T06n\n",
              "UzfccIOkc9M/SedGtPr376+EhAQ99thjdT9pv3DJ37P14osvaubMmVbHAACgSdq2bZsiIiI0bdo0\n",
              "jRgxQmlpabLZbIqOjlZJSYkkKSYmRv7+/srMzNTixYurvfxXnV8zg/0NN9ygNWvW6Ouvv9b1118v\n",
              "wzCUlpamvn37ytvbW4ZhKCgoSDk5Oeft+/7771c7/dOPc2rGxsbqn//8p+68886LnmPzkh/Z2r9/\n",
              "v9URAABokv73f/9Xr776qh566CGdOHFCISEhstls+te//qUdO3ZU2nbmzJm6++671aVLF3Xs2LHG\n",
              "z73hhhu0fPlylZWVye12a8mSJbrpppvqlO2GG27QCy+8oJiYGEnS4MGD9dRTT3lGqTp16qSAgAC9\n",
              "8cYbnn3y8vL0/fff1zj9k3Su/KWmpqpt27YaNWqUzpw5U6dsv3TJly0AAFB7Y8eO9Uz9sHTpUn3w\n",
              "wQe67rrr9Nxzz2nWrFlyOp16/fXXz/t1Ynx8vE6dOqUHHnjggseYOnWqoqOjFR0dLafTqdDQUD34\n",
              "4IN1yjlkyBAdOHDAU65uvPFG7d+/X0OGDJEkeXt7a/Xq1UpPT1dkZKS6deumSZMm6cyZMzVO//Rz\n",
              "KSkpio6O1ogRI3Tq1Kk65fs5m/HjxdhLVFJSklJSUqyOAQBAo1BSUqL8/HyFhYXV+Dy/usrOztZd\n",
              "d92lPXv2XDaPAqrtubzk79kCAADmmjx5sj7++GMtWbLksiladUHZAgAAF2XJkiXnLfv222+rvA/r\n",
              "xhtv1AsvvFCrz502bZo+//zz85Zv2bJFV1xxRd2DWoSyBQAA6l2rVq2q/CVgXSxatKh+wliMsT4A\n",
              "AAATUbYAAABMRNkCAAAwEWULAAA0CaGhoerUqZOcTqecTqcmT5583jaTJ09WZmamBemqxw3yAACg\n",
              "yXjnnXfkdDqrXFdeXl7lLyOtxsgWAACokWEYOn22zNTXr5ljfdmyZYqLi9Po0aPVvXt3ZWVladCg\n",
              "QVq1alX9n4SLwMgWAACo0Rn3WXX8+5OmHuM/45+Wv4/vBbcbO3asZ46tiRMnauvWrdq+fbs6depk\n",
              "ar6LwcgWAABoMt555x3l5OQoJydHV111lfr169eoi5bEyBYAALiAK7x99J/xT5t+jF/jyiuvrOck\n",
              "9c/Uka0ZM2YoNDRUNput2llkXS6XBg0apMDAwPNueKuoqFBSUpK6du2qyMhIxcXFKS8vz8zIAADg\n",
              "F2w2m/x9fE192Ww2q7+maUwtW/Hx8dq0aZNCQkKq3SYgIEBz587VihUrzluXkZGhzZs3a8eOHdq5\n",
              "c6eGDBmixx57zMzIAAAA9crUy4gDBw684DZBQUGKjY3V+vXrz1tns9lUWlqqkpISeXt7q6ioSA6H\n",
              "w4SkAACgsXO5XJXeJyQkKCEhodKyqvqE1Rr1PVu33nqrMjMz1bp1azVv3lxt2rTRhg0bqt2+tLRU\n",
              "paWllZaVl5ebHRMAAKBajfrXiNnZ2dq1a5cOHTqkw4cPa8iQIZo2bVq12ycnJyswMLDSKysrqwET\n",
              "AwAAVNaoy9by5cs1ePBgtWjRQl5eXpo4cWKNU/DPnj1bhYWFlV4xMTENmBgAAKCyRl222rVrp08/\n",
              "/VRlZWWSpNWrVysiIqLa7f38/BQQEFDpZbfbGyouAADAeUwtW4mJiXI4HCooKNDQoUMVHh4u6dxD\n",
              "IjMyMiRJp0+flsPh0JgxY5SbmyuHw6HZs2dLku6//36FhYWpR48eioyM1Lp16/Tqq6+aGRkAAKBe\n",
              "mXqDfGpqapXLf/6QSH9/fxUUFFS5nZ+fn1577TVTsgEAADSERn0ZEQAAoKmjbAEAgCYhNDRUrVq1\n",
              "0tmzZz3LMjMzZbPZ9OCDD1oX7AIa9TxbAADAeoZhyCg7beoxbL7+tXpkT3BwsDIyMjR69GhJ0tKl\n",
              "S9WrVy9Ts10syhYAAKiRUXZaeYkBph4jPLVINr/fXHC7e+65R6+//rpGjx6twsJCff7557rzzjtV\n",
              "XFys8vJyzZo1S2vWrJEkxcXF6c9//rN8fX2VkJAgPz8/5eXl6eDBg4qIiNDbb78tX19fU7+XxGVE\n",
              "AADQhPTv318ul0uHDx/WypUrNWbMGM80T4sXL9a2bdv0xRdfKCcnR/v27dOCBQs8++bk5Oif//yn\n",
              "vvrqKx07dkxpaWkNkpmRLQAAUCObr7/CU4tMP0ZtTZgwQcuWLdOqVav01ltv6a233pIkrV271jOC\n",
              "JUlTpkzRK6+8okcffVSS9Pvf/17+/ueOExMTo3379tXzt6gaZQsAANTIZrPV6hJfQ7n77rsVHR2t\n",
              "jh07qkOHDtVu98t7wJo1a+b52263y+12m5bx57iMCAAAmpTf/e53Sk5O1vPPP19p+Q033KDly5er\n",
              "rKxMbrdbS5Ys0U033WRRyp8wsgUAAJqce+6557xlU6dO1b59+xQdHS1JGjRoUKOYEsJmGIZhdQgz\n",
              "JSUlKSUlxeoYAAA0CiUlJcrPz1dYWFily2qou9qeSy4jAgAAmIiyBQAAYCLKFgAAgIkoWwAAACai\n",
              "bAEAAJiIsgUAAGAiyhYAAGgy0tPT1bNnTzmdTnXu3FmDBw9WRUVFjfv893//t0pKShoo4fmY1BQA\n",
              "ADQJR44c0dSpU/XFF18oJCREkvTll1+e91ieX5ozZ44efPBBy+YVo2wBAIAaGYahs2Xlph7Dx9d+\n",
              "wdJ07Ngx2e12BQUFeZb9OFv8H//4R23YsEFnz55VQECAXnvtNXXq1EnTpk2TJA0YMEB2u10ff/yx\n",
              "WrVqZd4XqQIzyAMAcBn5NTPIl5W69fisD03NNfe5YfL1q3kMqKKiQmPGjFFmZqauv/569evXT3fd\n",
              "dZfatGmj48ePq2XLlpKkt99+W8uWLdOHH57LbLPZdOLECbVo0aJeM9f2XDKyBQAAmgQvLy+lpaVp\n",
              "z5492rBhg9asWaN58+YpOztbWVlZevnll1VcXKyKigp9//33Vsf1oGwBAIAa+fjaNfe5YaYfo7Y6\n",
              "d+6szp07KzExUcOGDdOKFSv0l7/8Rdu2bVP79u21c+dODRw40MS0dUPZAgAANbLZbBe8xNcQDh06\n",
              "JJfLpf79+0uSTpw4ofz8fA0fPlw+Pj669tprZRiGFi5cWGm/5s2bq7CwsN4vI9aW9WcOAACgFtxu\n",
              "t55++mnl5+fL399fbrdbEydO1MyZM/XNN9+oW7duuvrqqzVq1KhK+z300EO68cYb5e/vzw3yZuAG\n",
              "eQAAfvJrbpBH1Wp7LpnUFAAAwESmlq0ZM2YoNDRUNptNOTk5VW7jcrk0aNAgBQYGyul0nrf+3//+\n",
              "twYNGqQuXbqoS5cuSk9PNzMyAABAvTK1bMXHx2vTpk2eWV6rEhAQoLlz52rFihXnrTt9+rRGjhyp\n",
              "uXPn6quvvtKuXbs0YMAAMyMDAADUK1NvkK/Nzy6DgoIUGxur9evXn7duxYoV6tOnj2JjYyVJdrvd\n",
              "M2FZVUpLS1VaWlppWXm5uTPeAgAA1KRR37OVm5srPz8/3XLLLXI6nbr77rt1/PjxardPTk5WYGBg\n",
              "pVdWVlYDJgYAAKisUZctt9uttWvXKjU1Vdu3b1ebNm00ffr0arefPXu2CgsLK71iYmIaMDEAAEBl\n",
              "jXqereDgYMXFxalNmzaSpPHjx2vo0KHVbu/n5yc/P79Ky+z22s9ICwAAUN8a9cjWHXfcoW3btqmo\n",
              "qEiS9MEHH6hHjx4WpwIAAFZJT09Xz5495XQ61blzZw0ePFgVFRVWx6qRqSNbiYmJev/993X06FEN\n",
              "HTpUzZs3V15eniZPnqzbbrtNt912m06fPq2OHTuqtLRUhYWFcjgcmjBhgpKTkxUcHKzHHntM/fr1\n",
              "k5eXl9q0aaPFixebGRkAAPyCYRgyzpw19Ri2K3xks9lq3ObIkSOaOnWqvvjiC89MB19++eUF97Oa\n",
              "qWUrNTW1yuVLlizx/O3v76+CgoJqP2PChAmaMGFCvWcDAAC1Y5w5q297vWjqMVplz5TN37fGbY4d\n",
              "Oya73a6goCDPsujoaElSaGioVq1a5Zmzs1evXpo/f74GDRqkQYMGqVevXtq6dasOHz6sG2+8UYsW\n",
              "LTLtu/xSo76MCAAA8KPIyEjFxsYqJCREv//97/XCCy/o0KFDtdp33759yszM1K5du/TRRx9py5Yt\n",
              "Jqf9SaO+QR4AAFjPdoWPWmXPNP0YF+Ll5aW0tDTt2bNHGzZs0Jo1azRv3jxlZ2dfcN+xY8fK29tb\n",
              "3t7ecjqd2rdvn/r27Vsf0S+IsgUAAGpks9kueImvIXXu3FmdO3dWYmKihg0bpoyMDHl7e1eayLyk\n",
              "pKTSPj9/ULTdbpfb7W6wvFxGBAAATcKhQ4e0efNmz/sTJ04oPz9f7du3V3h4uLZu3SpJysrK0t69\n",
              "e62KeR5GtgAAQJPgdrv19NNPKz8/X/7+/nK73Zo4caJGjhypNm3aaOLEiUpNTVXfvn3VrVs3q+N6\n",
              "ULYAAECTEBISoo8++qjKdb169dLu3burXPfL5y+/99579R2tRlxGBAAAMBFlCwAAwESULQAAABNR\n",
              "tgAAAExE2QIAADARZQsAAMBElC0AAAATUbYAAECj53Q65XQ61bVrV9ntds/7sWPHav369XI6nVZH\n",
              "rBaTmgIAgBoZhqGy8jOmHsPXfoVsNlu163NyciRJLpdLTqfT8146f9LSxoayBQAAalRWfkYz/tHF\n",
              "1GO8NOYr+Xn7/+r93W637rvvPm3evFlut1tvvvmmevXq5SlnJ0+elCSdOnVKzZs3l2EY9ZT8wriM\n",
              "CAAAmrw9e/Zo4sSJ2rFjh/7whz/o//2//2d1JA9GtgAAQI187VfopTFfmX6MixEeHq7rrrtOktS3\n",
              "b1/Nnz+/PmLVC8oWAACokc1mu6hLfA2hWbNmnr/tdrvcbrckydvbW+Xl5Z51JSUlDZ6Ny4gAAOCS\n",
              "1bp1axmGodzcXEnS8uXLGzwDZQsAAFyyvL299fLLL+uWW25R7969dfbs2QbPYDMa8nZ8CyQlJSkl\n",
              "JcXqGAAANAolJSXKz89XWFhYpUtvqLvanktGtgAAAExE2QIAADARZQsAAMBEppatGTNmKDQ0VDab\n",
              "rdK0+j/ncrk0aNAgBQYGVvtcI8MwNHjwYLVo0cK0rAAAAGYwtWzFx8dr06ZNCgkJqXabgIAAzZ07\n",
              "VytWrKh2mwULFqh9+/ZmRAQAADCVqWVr4MCBcjgcNW4TFBSk2NhY/eY3v6ly/e7du7Vq1SrNmjXr\n",
              "gscrLS1VUVFRpdfPJzIDAABoaI36nq2zZ89qypQpSk1Nld1uv+D2ycnJCgwMrPTKyspqgKQAAMBM\n",
              "TqdTTqdTXbt2ld1u97wfO3as1dEuqFE/rmfOnDm6/fbb1aVLF7lcrgtuP3v2bCUlJVVa9sQTT5iU\n",
              "DgAANJQf7/12uVxyOp3V3gveGNV5ZGvUqFG1WlYfNmzYoJdfflmhoaGKjY1VUVGRQkNDdfz48Sq3\n",
              "9/PzU0BAQKVXbUbEAABA9QzDUIX7B1Nfv3aOdZvNppMnT3reX3PNNZ4Bmq+//lo333yzevfurcjI\n",
              "SC1cuLAezkbd1Xlk68CBA+ct++abb+olzC9t3LjR8/ePTbY2I1wAAKD+GOWndWxVgKnH+O2oItm8\n",
              "q75/+9coLy/XnXfeqb///e/q3LmzTp8+rT59+ui6665T79696+04tVHrka3U1FRFRUVp7969io6O\n",
              "9rzat2+v0NDQKvdJTEyUw+FQQUGBhg4dqvDwcEnS5MmTlZGRIUk6ffq0HA6HxowZo9zcXDkcDs2e\n",
              "PfvivxkAALhs7d27V7t379a4cePkdDrVr18/FRcXex5I3ZBqPbI1bNgwderUSdOnT9eCBQs8ywMC\n",
              "AhQZGVnlPqmpqVUuX7Jkiedvf39/FRQUXPD4oaGhlYYJAQBAw7DZ/fXbUUWmH+PXsNvtlWYeKCkp\n",
              "kXTu0mdQUFCjuLer1mUrJCREISEh+uqrr8zMAwAAGhmbzVavl/jqU3h4uLZu3aoRI0YoPT1dP/zw\n",
              "gySpU6dOCggI0BtvvKF77rlHkpSXl6egoCAFBQU1aMY63yDvcrk0ffp03XTTTRo8eLDnBQAA0NAW\n",
              "LFigmTNnKjo6Wtu3b9fVV18tSfL29tbq1auVnp6uyMhIdevWTZMmTdKZM2caPKPNqOPt/zExMRoy\n",
              "ZIj69u1b6Zd+N998c72Hqw9JSUlKSUmxOgYAAI1CSUmJ8vPzFRYWpmbNmlkdp0mr7bms868RS0pK\n",
              "lJycfFHhAAAALhd1vowYERFR5fQPAAAAOF+dR7aOHz+uHj16qG/fvpWGzNLT0+s1GAAAwKWgzmVr\n",
              "/PjxGj9+vBlZAAAALjl1LlsTJ040IwcAAMAlqc5l6957761y+euvv37RYQAAAC41dS5bPXv29Pxd\n",
              "UlKitLQ0RUdH12soAACAS0Wdy9b9999f6f306dN122231VsgAACAX5ozZ44OHjzoeeTfpk2bNGDA\n",
              "AGVmZmrQoEGSpGnTpqlly5Z65plnavWZ8fHxuuWWW5SQkGBS6nPqXLZ+qVmzZrV6tiEAAGiaDMPQ\n",
              "GfdZU49xhbePbDZbtevj4uIq3cqUmZmp6667TuvXr/eUrczMTC1atMjUnL9GnctWUlKS5+/y8nJl\n",
              "Z2crIiKiXkMBAIDG44z7rDr+/UlTj/Gf8U/L38e32vV9+vTR4cOHVVBQIIfDofXr1+vJJ5/Un/70\n",
              "J0nSkSNHdODAAfXq1UtTpkzRjh07VFJSoj59+mjhwoXy9fXVnj17dO+996qwsFAdOnTQ6dOnTf1O\n",
              "P6rzpKaBgYGeV6tWrTRjxgytXLnSjGwAAACSJF9fX/Xr10+ZmZkqLS1Vfn6+RowYoYKCApWUlCgz\n",
              "M1N9+/bVQw89pAEDBigrK0s7duxQRUWFXnzxRUnShAkTNGnSJO3evVvPPPOMNmzY0CDZ6zyy9dRT\n",
              "T5mRAwAANFJXePvoP+OfNv0YFxIXF6f169crJCREMTExks6NeG3ZskXr169XXFycXn75ZW3ZssXz\n",
              "XOQzZ87IbrerqKhIOTk5nvuzunfvrtjYWNO+z8/VuWwVFxdr1qxZ+uSTTyRJN910k5KTk9W8efN6\n",
              "DwcAAKxns9lqvMTXUOLi4rR06VIFBwd77tO6/vrrlZmZqczMTC1btkwvvfSS0tLS1LFjx0r7FhUV\n",
              "nfd5Nd0jVp/qfBnxvvvuk9vt1rvvvqt//OMfqqio0H333WdGNgAAAI/evXvr22+/1VtvvVWpbL39\n",
              "9ts6cuSIYmJiNGrUKD3//PNyu92SpBMnTigvL08BAQGKiorS8uXLJUm7d+/Wpk2bGiR3nUe2du7c\n",
              "qR07dnje//Wvf1WPHj3qNRQAAMAv+fj4KDY2Vjt27FDnzp0lSR07dlRxcbFiY2Pl4+OjBQsWaNas\n",
              "WXI6nfLy8pK3t7f+9Kc/KTw8XMuXL9c999yjP//5z+rQoYMGDhzYILnrXLbKy8tVXFzsuWxYXFys\n",
              "8vLyeg8GAADwSx9++OF5y44cOeL5+8orr9TChQur3Ldz587asmWLadmq86uejdinTx+NHTtWkvTu\n",
              "u+/qnnvuqfdgAAAAl4Jal62ioiJ9//33evjhhxUREaF169ZJOncP1/jx400LCAAA0JTV+gb5Rx55\n",
              "RF988YUkafjw4Zo/f77mz5+v1q1b69FHHzUtIAAAqH8VFRVWR2jyansOaz2ylZWVVeUU+Lfffrue\n",
              "eOKJ2icDAACW8fX1lZeXlw4fPqyWLVvK19e3waZAuFQYhqGysjIdP35cXl5e8vWteVqMWpetH39C\n",
              "WRUvrzrPIAEAACzg5eWlsLAwHTlyRIcPH7Y6TpPm7++v4ODgC/agWpets2fPqqioSAEBAZWWFxYW\n",
              "6uxZcx9OCQAA6o+vr6+Cg4PldruZUeBXstvt8vb2rtWoYK3L1rhx4zRhwgQtW7ZMV111laRzE4VN\n",
              "mjRJ48aNq3KfGTNmKCMjQ/v379f27dvldDrP28blcikhIUHbt29XWFiYcnJyPOs+/fRTzZo1S6dO\n",
              "nZLNZtPNN9+s5557jpE0AAAuks1mk4+Pj3x8LvyYHFycWreWxx9/XC1atFDbtm0VFRWlqKgotW3b\n",
              "Vs2bN6/2nq34+Hht2rRJISEh1X5uQECA5s6dqxUrVpy37qqrrtLbb7+t3NxcffHFF/rss888M78C\n",
              "AAA0BbUe2bLb7XrzzTf15JNP6ssvv5QkRUdHq3379tXuU5uZWYOCghQbG6v169efty4qKsrzd7Nm\n",
              "zeR0OuVyuar9rNLSUpWWllZaxvAoAACwUp0nNW3fvn2NBcssR48e1XvvvafVq1dXu01ycrLmzJlT\n",
              "aVmfPn3MjgYAAFCtJnHzU1FRkW699VY98sgj6tWrV7XbzZ49W4WFhZVeMTExDZgUAACgsjqPbDW0\n",
              "4uJiDRs2TCNHjlRSUlKN2/r5+cnPz6/SMrvdbmY8AACAGjXqka1Tp05p2LBhGjZsmB5//HGr4wAA\n",
              "ANSZqWUrMTFRDodDBQUFGjp0qMLDwyVJkydPVkZGhiTp9OnTcjgcGjNmjHJzc+VwODR79mxJ0osv\n",
              "vqisrCylp6fL6XTK6XRq3rx5ZkYGAACoVzbDMAyrQ5gpKSlJKSkpVscAAACXqUZ9GREAAKCpo2wB\n",
              "AACYiLIFAABgIsoWAACAiShbAAAAJqJsAQAAmIiyBQAAYCLKFgAAgIkoWwAAACaibAEAAJiIsgUA\n",
              "AGAiyhYAAICJKFsAAAAmomwBAACYiLIFAABgIsoWAACAiShbAAAAJqJsAQAAmIiyBQAAYCLKFgAA\n",
              "gIkoWwAAACaibAEAAJiIsgUAAGAiyhYAAICJKFsAAAAmMrVszZgxQ6GhobLZbMrJyalyG5fLpUGD\n",
              "BikwMFBOp/O89UuXLlWHDh3Uvn17TZkyRWfPnjUzMgAAQL0ytWzFx8dr06ZNCgkJqXabgIAAzZ07\n",
              "VytWrDhvXX5+vp544glt3LhReXl5OnbsmBYvXmxmZAAAgHplatkaOHCgHA5HjdsEBQUpNjZWv/nN\n",
              "b85b99577+m2225T69atZbPZNG3aNK1cubLazyotLVVRUVGlV3l5+UV/DwAAgF+rUd+zdeDAgUqj\n",
              "YqGhoTpw4EC12ycnJyswMLDSKysrqyGiAgAAVKlRl626mj17tgoLCyu9YmJirI4FAAAuY95WB6hJ\n",
              "cHCw9u3b53nvcrkUHBxc7fZ+fn7y8/OrtMxut5uWDwAA4EIa9cjW6NGjlZGRoaNHj8owDC1atEjj\n",
              "xo2zOhYAAECtmVq2EhMT5XA4VFBQoKFDhyo8PFySNHnyZGVkZEiSTp8+LYfDoTFjxig3N1cOh0Oz\n",
              "Z8+WJLVr105z5sxR//79FR4erpYtWyoxMdHMyAAAAPXKZhiGYXUIMyUlJSklJcXqGAAA4DLVqC8j\n",
              "AgAANHWULQAAABNRtgAAAExE2QIAADARZQsAAMBElC0AAAATUbYAAABMRNkCAAAwEWULAADARJQt\n",
              "AAAAE1G2AAAATETZAgAAMBFlCwAAwESULQAAABNRtgAAAExE2QIAADARZQsAAMBElC0AAAATUbYA\n",
              "AABMRNkCAAAwEWULAADARJQtAAAAE1G2AAAATETZAgAAMBFlCwAAwESmlq0ZM2YoNDRUNptNOTk5\n",
              "1W63dOlSdejQQe3bt9eUKVN09uxZSVJFRYWSkpLUtWtXRUZGKi4uTnl5eWZGBgAAqFemlq34+Hht\n",
              "2rRJISEh1W6Tn5+vJ554Qhs3blReXp6OHTumxYsXS5IyMjK0efNm7dixQzt37tSQIUP02GOPmRkZ\n",
              "AACgXplatgYOHCiHw1HjNu+9955uu+02tW7dWjabTdOmTdPKlSslSTabTaWlpSopKZFhGCoqKrrg\n",
              "5wEAADQm3lYHOHDgQKWRr9DQUB04cECSdOuttyozM1OtW7dW8+bN1aZNG23YsKHazyotLVVpaWml\n",
              "ZeXl5eYEBwAAqIVGfYN8dna2du3apUOHDunw4cMaMmSIpk2bVu32ycnJCgwMrPTKyspqwMQAAACV\n",
              "WV62goODtX//fs97l8ul4OBgSdLy5cs1ePBgtWjRQl5eXpo4caIyMzOr/azZs2ersLCw0ismJsb0\n",
              "7wAAAFAdy8vW6NGjlZGRoaNHj8owDC1atEjjxo2TJLVr106ffvqpysrKJEmrV69WREREtZ/l5+en\n",
              "gICASi+73d4g3wMAAKAqppatxMREORwOFRQUaOjQoQoPD5ckTZ48WRkZGZLOFao5c+aof//+Cg8P\n",
              "V8uWLZWYmChJuv/++xUWFqYePXooMjJS69at06uvvmpmZAAAgHplMwzDsDqEmZKSkpSSkmJ1DAAA\n",
              "cJmy/DIiAADApYyyBQAAYCLKFgAAgIkoWwAAACaibAEAAJiIsgUAAGAiyhYAAICJKFsAAAAmomwB\n",
              "AACYiLIFAABgIsoWAACAiShbAAAAJrrkH0R9++23KzQ0tF4+q7y8XFlZWYqJiZHdbq+Xz2zKOB8/\n",
              "4VxUxvn4CeeiMs7HT8w6FyEhIZo5c2a9fR4u3iVftupTUVGRAgMDVVhYqICAAKvjWI7z8RPORWWc\n",
              "j59wLirjfPyEc3H54DIiAACAiShbAAAAJqJsAQAAmIiyVQd+fn566qmn5OfnZ3WURoHz8RPORWWc\n",
              "j59wLirjfPyEc3H54AZ5AAAAEzGyBQAAYCLKFgAAgIkoWwAAACaibNXS119/rX79+qljx47q3bu3\n",
              "du/ebXUky8yYMUOhoaGy2WzKycmxOo7lSkpKNGrUKHXs2FE9evTQjTfeqLy8PKtjWeamm25SZGSk\n",
              "nE6nBgwYoO3bt1sdyXJvvPGGbDabVq1aZXUUS4WGhqpTp05yOp1yOp165513rI5kqdLSUj3wwAPq\n",
              "0KGDunfvrvHjx1sdCSbxtjpAU5GYmKipU6cqISFB7733nhISErRt2zarY1kiPj5ejzzyiGJjY62O\n",
              "0mhMnTpVw4cPl81m08KFCzV58mStX7/e6liWePfdd9WiRQtJ0v/8z/8oISFBO3bssDaUhVwul157\n",
              "7TX16dPH6iiNwjvvvCOn02l1jEZh1qxZstls+s9//iObzaajR49aHQkmYWSrFr799ltlZ2d7/q9j\n",
              "9OjROnjw4GU7ejFw4EA5HA6rYzQazZo104gRI2Sz2SRJffr0kcvlsjaUhX4sWpJUWFjoOS+Xo4qK\n",
              "Ck2ePFkvv/wyP+9HJT/88IOWLl2qefPmef4bad26tcWpYBbKVi0cPHhQ1157rby9zw0E2mw2BQcH\n",
              "68CBAxYnQ2P04osvauTIkVbHsNTdd9+ttm3b6oknntDf/vY3q+NYJiUlRf3791fPnj2tjtJo3H33\n",
              "3erevbsmTZqk48ePWx3HMvv27VNQUJCeffZZ9erVSwMGDNC6deusjgWTULaAevTss88qLy9PycnJ\n",
              "Vkex1PLly3Xw4EHNnTtXjz76qNVxLLFr1y6lpaXp8ccftzpKo/Gvf/1LO3fu1JdffqlrrrlGEydO\n",
              "tDqSZdxut/bv36+uXbsqOztbL730ksaOHatjx45ZHQ0moGzVQtu2bXXkyBG53W5JkmEYOnDggIKD\n",
              "gy1OhsZk/vz5Sk9P15o1a+Tv7291nEZh4sSJyszM1HfffWd1lAa3ceNGuVwudejQQaGhofr88881\n",
              "depUvfrqq1ZHs8yP/2b6+PjowQcf1MaNGy1OZJ3g4GB5eXnpv/7rvyRJUVFRCgsL07///W+Lk8EM\n",
              "lK1aaNWqlaKjo/X3v/9dkpSWliaHw6Hw8HCLk6GxSElJ0cqVK/XJJ59UumfpcnPy5EkdPnzY837V\n",
              "qlW6+uqrFRQUZGEqa0yfPl1HjhyRy+WSy+VSnz59tHjxYk2fPt3qaJb44YcfdPLkSc/7lStXKioq\n",
              "yrpAFrvmmms0ZMgQffTRR5Kk/Px85efnq0uXLhYngxn4NWItpaamKiEhQc8++6wCAgL0xhtvWB3J\n",
              "MomJiXr//fd19OhRDR06VM2bN79sfywgSQUFBXrooYfUrl07xcXFSTr3zLOtW7danKzhFRYWasyY\n",
              "MTpz5oy8vLzUsmVLrV69+rK+SR7nHDt2TKNHj1Z5ebkMw1C7du20fPlyq2NZatGiRZo0aZIeffRR\n",
              "eXl5KTU1VW3atLE6FkzAsxEBAABMxGVEAAAAE1G2AAAATETZAgAAMBFlC0C1nE6niouL67xffHy8\n",
              "li1bVv+BAKAJ4teIAKrFg8YB4OIxsgWgWjabzTM3UmhoqJ588kn17dtXYWFhmjt3rme7PXv2qF+/\n",
              "furWrZtGjRqloqIiz7ri4mJNmTJFMTExioyM1NSpU1VWVqa9e/fK4XDom2++kXRuUthhw4apoqKi\n",
              "Qb8jAJiNsgWg1k6ePKktW7Zo27ZteuGFF3To0CFJ0oQJEzRp0iTt3r1bzzzzjDZs2ODZ56GHHtKA\n",
              "AQOUlZWlHTt2qKKiQi+++KI6deqkF154QXfccYfWr1+vV155RX/729/k5cU/SwAuLVxGBFBrd911\n",
              "l6Rzs1+3a9dO+fn5at68uXJycpSQkCBJ6t69u2JjYz37rFq1Slu2bFFKSook6cyZM7Lb7ZKkO++8\n",
              "U5mZmRo6dKjWrVunli1bNuwXAoAGQNkCUGvNmjXz/G232z3PC/2ln88YbxiG0tLS1LFjx/O2c7vd\n",
              "2rVrl4KCgjyjZABwqWG8HsBFCQgIUFRUlOfRK7t379amTZs860eNGqXnn3/eU8xOnDjhebzTrFmz\n",
              "1KlTJ23cuFF//OMfL+vHPgG4dFG2AFy05cuXa/HixYqIiNDjjz+ugQMHetYtWLBAV1xxhZxOpyIj\n",
              "IzVkyBC5XC6tXr1aH374oV555RWFh4crJSVFd9xxh0pKSiz8JgBQ/3g2IgAAgIkY2QIAADARZQsA\n",
              "AMBElC0AAAATUbYAAABMRNkCAAAwEWULAADARJQtAAAAE1G2AAAATETZAgAAMBFlCwAAwET/HysT\n",
              "iqK5uySsAAAAAElFTkSuQmCC\n",
              "\">\n",
              "        \n",
              "      </div>\n",
              "      <script></script>\n",
              "      <script type=\"text/javascript\">\n",
              "        (() => {\n",
              "          const chartElement = document.getElementById(\"chart-36c6ed87-97b2-4420-b6c1-0325c9da9e00\");\n",
              "          async function getCodeForChartHandler(event) {\n",
              "            const chartCodeResponse =  await google.colab.kernel.invokeFunction(\n",
              "                'getCodeForChart', [\"chart-36c6ed87-97b2-4420-b6c1-0325c9da9e00\"], {});\n",
              "            const responseJson = chartCodeResponse.data['application/json'];\n",
              "            await google.colab.notebook.addCell(responseJson.code, 'code');\n",
              "          }\n",
              "          chartElement.onclick = getCodeForChartHandler;\n",
              "        })();\n",
              "      </script>\n",
              "      <style>\n",
              "        .colab-quickchart-chart-with-code  {\n",
              "            display: block;\n",
              "            float: left;\n",
              "            border: 1px solid transparent;\n",
              "        }\n",
              "\n",
              "        .colab-quickchart-chart-with-code:hover {\n",
              "            cursor: pointer;\n",
              "            border: 1px solid #aaa;\n",
              "        }\n",
              "      </style>"
            ]
          },
          "metadata": {}
        },
        {
          "output_type": "display_data",
          "data": {
            "text/plain": [
              "import numpy as np\n",
              "from google.colab import autoviz\n",
              "\n",
              "def time_series_multiline(df, timelike_colname, value_colname, series_colname, figscale=1, mpl_palette_name='Dark2'):\n",
              "  from matplotlib import pyplot as plt\n",
              "  import seaborn as sns\n",
              "  figsize = (10 * figscale, 5.2 * figscale)\n",
              "  palette = list(sns.palettes.mpl_palette(mpl_palette_name))\n",
              "  def _plot_series(series, series_name, series_index=0):\n",
              "    if value_colname == 'count()':\n",
              "      counted = (series[timelike_colname]\n",
              "                 .value_counts()\n",
              "                 .reset_index(name='counts')\n",
              "                 .rename({'index': timelike_colname}, axis=1)\n",
              "                 .sort_values(timelike_colname, ascending=True))\n",
              "      xs = counted[timelike_colname]\n",
              "      ys = counted['counts']\n",
              "    else:\n",
              "      xs = series[timelike_colname]\n",
              "      ys = series[value_colname]\n",
              "    plt.plot(xs, ys, label=series_name, color=palette[series_index % len(palette)])\n",
              "\n",
              "  fig, ax = plt.subplots(figsize=figsize, layout='constrained')\n",
              "  df = df.sort_values(timelike_colname, ascending=True)\n",
              "  if series_colname:\n",
              "    for i, (series_name, series) in enumerate(df.groupby(series_colname)):\n",
              "      _plot_series(series, series_name, i)\n",
              "    fig.legend(title=series_colname, bbox_to_anchor=(1, 1), loc='upper left')\n",
              "  else:\n",
              "    _plot_series(df, '')\n",
              "  sns.despine(fig=fig, ax=ax)\n",
              "  plt.xlabel(timelike_colname)\n",
              "  plt.ylabel(value_colname)\n",
              "  return autoviz.MplChart.from_current_mpl_state()\n",
              "\n",
              "chart = time_series_multiline(_df_9, *['index', 'count()', 'Day_of_week'], **{})\n",
              "chart"
            ],
            "text/html": [
              "      <div class=\"colab-quickchart-chart-with-code\" id=\"chart-cefc5ac3-1687-4136-b5ff-165fc62d426e\">\n",
              "        <img src=\"data:image/png;base64,iVBORw0KGgoAAAANSUhEUgAAAlsAAAEPCAYAAAB1MgENAAAAOXRFWHRTb2Z0d2FyZQBNYXRwbG90\n",
              "bGliIHZlcnNpb24zLjcuMSwgaHR0cHM6Ly9tYXRwbG90bGliLm9yZy/bCgiHAAAACXBIWXMAAA9h\n",
              "AAAPYQGoP6dpAAAq60lEQVR4nO3deXQUZaLG4bfSWSBKWCSACiFASBACNiFECMgiKMuMLAZEGYQo\n",
              "kDBXRhQV5CqOoICOThTBkaAMDOooDslwEccNDcimASE4hkWCacISFjWEgNk6qfsHx9YIZIFUiuX3\n",
              "nNPHdNXXVW/XOXpeq6q/MkzTNAUAAABLeNkdAAAA4HJG2QIAALAQZQsAAMBClC0AAAALUbYAAAAs\n",
              "RNkCAACwEGULAADAQpQtAAAAC132ZWvu3Ll2RwAAAFcwb7sDWG3fvn12RwAA4KJjmqbcbrdKSkrs\n",
              "jnJJcjgc8vb2lmEYFY697MsWAAAoq6ioSNnZ2frpp5/sjnJJ8/f317XXXitfX99yx1G2AAC4gpSW\n",
              "liozM1MOh0PXXXedfH19K3V2Br8wTVNFRUU6duyYMjMz1bp1a3l5nfvOLMoWAABXkKKiIpWWlqpZ\n",
              "s2by9/e3O84lq3bt2vLx8dG+fftUVFSkWrVqnXPsZX+DPAAAOFN5Z2JQOZU9hhxpAAAAC1G2AAAA\n",
              "LETZAgAAkqTg4GCFhYXpxhtvVEhIiAYPHqyNGzfWaIYff/xR3bp1k9Pp1KxZs2p035LkcrlUr169\n",
              "at0mN8gDAACPZcuWyel0SpKSk5M1cOBAffTRR7rppptqZP+ffPKJrr76am3YsKFG9lcTOLMFAADO\n",
              "6o477tCECRP0wgsv6NNPP1XXrl3VsWNHtWvXTosWLZIkHTp0SI0bNy4zZ9fIkSP16quvnnO7JSUl\n",
              "evTRRxUeHq7w8HD96U9/UlFRkVavXq1HH31UX3zxhZxOp1avXn3Wzy9cuFBxcXGSpB07dsgwDH38\n",
              "8ceSpJkzZ2rmzJmSpD179uh3v/udOnfurA4dOmj+/PmebWzevFm33HKLIiMj1bFjR/3rX/86Yz9F\n",
              "RUUaNWqU4uPjL2zyV/My99BDD9kdAQCAi0Z+fr65Y8cOMz8//4x1zZs3N7dt21ZmWXJysnnDDTeY\n",
              "P/74o+l2u03TNM0ffvjBDAoKMvfv32+apmmOHDnSTExMNE3TNA8fPmwGBgaaeXl558zwt7/9zezZ\n",
              "s6dZUFBgFhcXmwMGDDCfffZZ0zRNc/HixebgwYPL/Q579+41W7RoYZqmab700ktm165dzUcffdQ0\n",
              "TdPs3r27uWHDBtPtdpudOnUyd+7caZqmaZ46dcps3769mZqaaubk5JhOp9M8dOiQaZqmeezYMbNZ\n",
              "s2bmgQMHzMzMTLNu3bpmTk6O2bt3b3PWrFnndSx/jTNbAADgnEzTlCT98MMPGj58uMLDw3XLLbfo\n",
              "hx9+0DfffCNJmjRpkl555RVJ0muvvaa7775bV1999Tm3uXr1asXGxsrPz0/e3t4aP368Pvnkk0pn\n",
              "atmypSTpu+++0+rVqzVnzhx99tlnOnnypHbs2KGoqCjt3r1b6enpuuuuu+R0OhUdHa28vDzt2LFD\n",
              "Gzdu1HfffacBAwbI6XSqb9++kqTdu3dLOn1Gq1u3boqNjdX//u//Vv2g/Qb3bAEAgHPavHmzwsPD\n",
              "NWHCBA0cOFBJSUkyDEMREREqKCiQJEVFRcnf318pKSlauHDhOS//ncv5zGDft29fffDBB9qzZ496\n",
              "9uwp0zSVlJSkrl27ytvbW6ZpqkGDBkpLSzvjs++//77atWt31pv/XS6XfHx81L17d7333nu6++67\n",
              "5ePjU+V8v8aZLQAAcFb/93//p1dffVUPP/ywcnJy1Lx5cxmGoc8//1zbt28vM3bSpEkaPXq0brjh\n",
              "BoWGhpa73b59+2rp0qUqKiqS2+3W66+/rttuu61K2fr27avnn39eUVFRkqRbbrlFf/7znz1nqcLC\n",
              "whQQEKDFixd7PpORkaEff/xR0dHRyszMLFMK09LSVFRUJOl0+UtMTFSzZs00ZMgQ5efnVynbb1G2\n",
              "AACAx4gRIzxTPyxatEj/+c9/dNNNN+nZZ5/VY489JqfTqb///e9n/Dpx2LBhOnnypCZOnFjhPuLi\n",
              "4hQREaGIiAg5nU4FBwfrwQcfrFLOPn36KCsry1Oubr31Vu3bt099+vSRJHl7e2vVqlVKTk5Whw4d\n",
              "1K5dO40dO1b5+fmqX7++3n//fc2ePVs33nij2rZtq8cee0ylpaVl9pGQkKCIiAgNHDhQJ0+erFK+\n",
              "XzPMny/GXqYmT56shIQEu2MAAHBRKCgoUGZmplq0aFHu8/yqasuWLRo5cqR27dp1xTwKqLLHknu2\n",
              "AADABRk3bpw+/vhjvf7661dM0aoKyhYAALggr7/++hnLjh49etb7sG699VY9//zzldruhAkT9MUX\n",
              "X5yxfNOmTapdu3bVg9qEsgUAAKpdo0aNzvpLwKpYsGBB9YSxGef6AAAALETZAgAAsBBlCwAAwEKU\n",
              "LQAAcEkIDg5WWFiYnE6nnE6nxo0bd8aYcePGKSUlxYZ058YN8gAA4JKxbNkyOZ3Os64rKSk56y8j\n",
              "7caZLQAAUC7TNPVTcZGlr/OZY33JkiXq3bu3YmJi1L59e6WmpqpXr15asWJF9R+EC8CZLQAAUK58\n",
              "d7FC33zS0n18O2qm/H18Kxw3YsQIzxxbY8aM0Zdffqlt27YpLCzM0nwXwtIzWw888ICCg4NlGEa5\n",
              "c20sWrRIrVu3VqtWrTR+/HgVFxeXWW+apm655RbVq1fPyrgAAOAit2zZMqWlpSktLU3169dXdHT0\n",
              "RV20JIvPbA0bNkxTpkxR9+7dzzkmMzNT06dP19atW9W4cWMNHjxYCxcu1P333+8Z8+KLL6pVq1ba\n",
              "unWrlXEBAMBZ1Pb20bejZlq+j/Nx9dVXV3OS6mdp2erRo0eFY5YvX65BgwapSZMmkk5PzT979mxP\n",
              "2UpPT9eKFSu0ePFi/etf/yp3W4WFhSosLCyzrKSk5DzTAwAASTIMo1KX+HB2tt8gn5WVpebNm3ve\n",
              "BwcHKysrS5JUXFys8ePHKzExUQ6Ho8JtzZkzR3Xr1i3zSk1NtSw7AABARWwvW+WZMWOG7rjjDt1w\n",
              "ww2VGj9t2jTl5uaWeUVFRVmcEgAA1ASXy1Vm2ofY2Ngzfnm4Zs0aDRkypEZzVcT2XyMGBQVp7969\n",
              "nvcul0tBQUGSpLVr1yorK0vz58+X2+3WiRMnFBwcrM2bNyswMPCMbfn5+cnPz6/MssqcEQMAALCK\n",
              "7We2YmJitHLlSh0+fFimaWrBggW66667JEnr1q3Tvn375HK5tH79egUEBMjlcp21aAEAAFyMLC1b\n",
              "8fHxatq0qQ4cOKB+/fopJCRE0ump9FeuXClJatmypWbMmKFu3bopJCREgYGBio+PtzIWAABAjTHM\n",
              "85my9RIyefJkJSQk2B0DAICLQkFBgTIzM9WiRQvVqlXL7jiXtMoeS9svIwIAAFzOKFsAAAAWomwB\n",
              "AABYiLIFAAAuCcHBwWrUqFGZZyinpKTIMAw9+OCD9gWrgO3zbAEAgIubaZoyi36ydB+Gr78Mw6hw\n",
              "XFBQkFauXKmYmBhJ0qJFixQZGWlptgtF2QIAAOUyi35SRnyApfsISTwhw++qCsfde++9+vvf/66Y\n",
              "mBjl5ubqiy++0N133628vDyVlJToscce0wcffCBJ6t27t/7617/K19dXsbGx8vPzU0ZGhvbv36/w\n",
              "8HC988478vW1/pmPXEYEAACXjG7dusnlcunQoUN6++23NXz4cM/TYhYuXKjNmzfrq6++Ulpamvbu\n",
              "3asXX3zR89m0tDS999572rlzp44cOaKkpKQaycyZLQAAUC7D118hiScs30dl3XPPPVqyZIlWrFih\n",
              "t956S2+99ZYkafXq1Z4zWJI0fvx4vfLKK5o6daokaejQofL3P72fqKioMo8LtBJlCwAAlMswjEpd\n",
              "4qspo0ePVkREhEJDQ9W6detzjvvtPWC/nnjU4XDI7XZblvHXuIwIAAAuKdddd53mzJmj5557rszy\n",
              "vn37aunSpSoqKpLb7dbrr7+u2267zaaUv+DMFgAAuOTce++9ZyyLi4vT3r17FRERIUnq1avXRTEl\n",
              "BM9GBADgCsKzEasPz0YEAAC4CFC2AAAALETZAgAAsBBlCwAAwEKULQAAAAtRtgAAACxE2QIAAJeM\n",
              "5ORkderUSU6nU23atNEtt9yi0tLScj/z1FNPqaCgoIYSnolJTQEAwCUhOztbcXFx+uqrr9S8eXNJ\n",
              "0tatW894LM9vzZgxQw8++KBt84pRtgAAQLlM01RxUYml+/DxdVRYmo4cOSKHw6EGDRp4lv08W/wj\n",
              "jzyitWvXqri4WAEBAXrttdcUFhamCRMmSJJuvvlmORwOffzxx2rUqJF1X+QsmEEeAIAryPnMIF9U\n",
              "6NYTj31oaa5nnu0vX7/yzwGVlpZq+PDhSklJUc+ePRUdHa2RI0fq+uuv17FjxxQYGChJeuedd7Rk\n",
              "yRJ9+OHpzIZhKCcnR/Xq1avWzJU9lpzZAgAAlwQvLy8lJSVp165dWrt2rT744APNmjVLW7ZsUWpq\n",
              "qubNm6e8vDyVlpbqxx9/tDuuB2ULAACUy8fXoWee7W/5PiqrTZs2atOmjeLj49W/f3/985//1Esv\n",
              "vaTNmzerVatW+vrrr9WjRw8L01YNZQsAAJTLMIwKL/HVhIMHD8rlcqlbt26SpJycHGVmZmrAgAHy\n",
              "8fHRtddeK9M0NX/+/DKfq1OnjnJzc6v9MmJl2X/kAAAAKsHtdmvmzJnKzMyUv7+/3G63xowZo0mT\n",
              "Jum7775Tu3btdM0112jIkCFlPvfwww/r1ltvlb+/PzfIW4Eb5AEA+MX53CCPs6vssWRSUwAAAAtR\n",
              "tgAAACxE2QIAALAQZQsAAMBClpatBx54QMHBwTIMQ2lpaecct2jRIrVu3VqtWrXS+PHjVVxcLEn6\n",
              "7LPPFBUVpbZt26pdu3aaMmVKhQ+bBAAAuJhYWraGDRum9evXex4WeTaZmZmaPn261q1bp4yMDB05\n",
              "ckQLFy6UJNWvX1/vvPOOduzYoa+++kobN27U0qVLrYwMAABQrSwtWz169FDTpk3LHbN8+XINGjRI\n",
              "TZo0kWEYmjBhgt5++21JUseOHdWyZUtJUq1ateR0OuVyuayMDAAAUK1sn9Q0KyurzJmv4OBgZWVl\n",
              "nTHu8OHDWr58uVatWnXObRUWFqqwsLDMspISa59SDgAAak5ycrJmzZqlkpISFRQU6LrrrtPq1avl\n",
              "5XXx3oZue9mqjBMnTuj222/XlClTFBkZec5xc+bM0YwZM8os69Kli9XxAAC4rJmmKTO/2NJ9GLV9\n",
              "ZBhGuWOys7MVFxenr776ynOiZuvWrRV+zm62l62goCDt3bvX897lcikoKMjzPi8vT/3799fgwYM1\n",
              "efLkcrc1bdq0M8ZMnz69egMDAHCFMfOLdTRyrqX7aLRlkgx/33LHHDlyRA6HQw0aNPAsi4iIkHT6\n",
              "ytiKFSvkdDolSZGRkXrhhRfUq1cv9erVS5GRkfryyy916NAh3XrrrVqwYIFl3+W3bD/nFhMTo5Ur\n",
              "V+rw4cMyTVMLFizQXXfdJUk6efKk+vfvr/79++uJJ56ocFt+fn4KCAgo83I4Kv8UcQAAcPHq0KGD\n",
              "unfvrubNm2vo0KF6/vnndfDgwUp9du/evUpJSdE333yjjz76SJs2bbI47S8sPbMVHx+v999/X4cP\n",
              "H1a/fv1Up04dZWRkaNy4cRo0aJAGDRqkli1basaMGZ4nePfq1Uvx8fGSpLlz5yo1NVWnTp1ScnKy\n",
              "JGn48OF6/PHHrYwNAAB+xajto0ZbJlm+j4p4eXkpKSlJu3bt0tq1a/XBBx9o1qxZ2rJlS4WfHTFi\n",
              "hLy9veXt7S2n06m9e/eqa9eu1RG9QpaWrcTExLMuf/3118u8Hz9+vMaPH3/GuMcff5xiBQCAzQzD\n",
              "qPASX01q06aN2rRpo/j4ePXv318rV66Ut7d3mR/FFRQUlPnMrx8U7XA45Ha7ayyv7ZcRAQAAKuPg\n",
              "wYPasGGD531OTo4yMzPVqlUrhYSE6Msvv5Qkpaamavfu3XbFPIPtN8gDAABUhtvt1syZM5WZmSl/\n",
              "f3+53W6NGTNGgwcP1vXXX68xY8YoMTFRXbt2Vbt27eyO60HZAgAAl4TmzZvro48+Ouu6yMhIpaen\n",
              "n3XdmjVryrxfvnx5dUcrF5cRAQAALETZAgAAsBBlCwAAwEKULQAAAAtRtgAAACxE2QIAALAQZQsA\n",
              "AMBClC0AAHDRczqdcjqdatu2rRwOh+f9iBEjtGbNGjmdTrsjnhOTmgIAgHKZpqmiknxL9+HrqC3D\n",
              "MM65Pi0tTZLkcrnkdDo976UzJy292FC2AABAuYpK8vXAv26wdB8vD98pP2//8/682+3W//zP/2jD\n",
              "hg1yu936xz/+ocjISE85O378uCTp5MmTqlOnjkzTrKbkFeMyIgAAuOTt2rVLY8aM0fbt2/WnP/1J\n",
              "jz/+uN2RPDizBQAAyuXrqK2Xh++0fB8XIiQkRDfddJMkqWvXrnrhhReqI1a1oGwBAIByGYZxQZf4\n",
              "akKtWrU8fzscDrndbkmSt7e3SkpKPOsKCgpqPBuXEQEAwGWrSZMmMk1TO3bskCQtXbq0xjOc15mt\n",
              "HTt26MCBA6pdu7bat2+vevXqVXMsAACAC+ft7a158+bp97//va655hoNGzasxjMYZiVvx8/Ly9ML\n",
              "L7yg1157Tf7+/mrcuLEKCgq0d+9eRUVFaerUqerTp4/Veats8uTJSkhIsDsGAAAXhYKCAmVmZqpF\n",
              "ixZlLr2h6ip7LCt9Zqt3794aPXq0tm3bpsaNG3uWl5aWat26dVqwYIEyMjIUHx9/YckBAAAuI5Uu\n",
              "Wxs2bJCfn98Zy728vNSzZ0/17NlThYWF1RoOAADgUlfpG+TPVrTOZwwAAMCVpNJl6/e//702btx4\n",
              "1nXHjx/XX//6VyUmJlZbMAAAgMtBpS8jzp49W9OmTdOOHTvUuXNnzw3yu3bt0sGDB3X//ffrvvvu\n",
              "szIrAADAJafSZatDhw56//33tX//fq1du1YHDhyQv7+//vCHP6h79+7y9mZ+VAAAgN+qckPKycnR\n",
              "qFGjyiz7+uuv1aFDh2oLBQAA8GtOp1OSVFRUpN27d6t9+/aSpLCwMC1btszGZBWrctmKjY3V1q1b\n",
              "K1wGAABQXdLS0iRJLpdLTqfT8/5SUOmydfToUR0+fFj5+fn673//q5/nQs3NzdWpU6csCwgAAOxl\n",
              "mqbMkp8s3Yfh8JdhGFX/nGEoJyfH8zSbhg0basuWLQoODtaePXv04IMP6ujRoyosLFRcXJwmTpxY\n",
              "zckrVumy9fbbb+ull17SoUOHNGjQIM/yunXrasqUKZaEAwAA9jNLftKRFQGW7qPxkBMyvK+qtu2V\n",
              "lJTo7rvv1ptvvqk2bdrop59+UpcuXXTTTTepc+fO1bafyqh02Zo0aZImTZqkp59+WtOnT7cyEwAA\n",
              "wAXZvXu30tPTddddd3mW5eXleWZVqElVvmdr+vTpKi0t1eHDh+V2uz3Lg4KCqjUYAAC4OBgOfzUe\n",
              "csLyfZwPh8OhkpISz/uCggJJpy99NmjQ4KK4t6vSk5r+7B//+Ifq1aun9u3bq1OnTurUqZMiIyPP\n",
              "OvaBBx5QcHCwDMMo98suWrRIrVu3VqtWrTR+/HgVFxdXah0AALCeYRjy8r7K0tf53K8lSSEhIfry\n",
              "yy8lScnJyZ77yMPCwhQQEKDFixd7xmZkZOjHH3+88ANSRVUuWzNnztTmzZv1ww8/6NixYzp27JiO\n",
              "Hj161rHDhg3T+vXr1bx583NuLzMzU9OnT9e6deuUkZGhI0eOaOHChRWuAwAAePHFFzVp0iRFRERo\n",
              "27ZtuuaaayRJ3t7eWrVqlZKTk9WhQwe1a9dOY8eOVX5+fo1nrPJlxIYNGyosLKxSY3v06FHhmOXL\n",
              "l2vQoEFq0qSJJGnChAmaPXu27r///nLXAQCAK09wcLCOHz/ueT9gwADt2bPH8/7pp5/2/N2qVSu9\n",
              "9957NRnvrKpctoYMGaKXXnpJI0eOVK1atTzLAwLO71cKWVlZZc58BQcHKysrq8J1Z1NYWKjCwsIy\n",
              "y359HRcAAKCmVfky4uOPP67JkyerSZMmql+/vurVq6f69etbka3K5syZo7p165Z5paam2h0LAABc\n",
              "wapctkpLSz2vkpISzz/PV1BQkPbt2+d573K5PL9sLG/d2UybNk25ubllXlFRUeedDQAA4EJVuWxV\n",
              "t5iYGK1cuVKHDx+WaZpasGCBZ06M8tadjZ+fnwICAsq8HA5HTX0VAACAM1S5bHl5ecnhcJzxOpv4\n",
              "+Hg1bdpUBw4cUL9+/RQSEiJJGjdunFauXClJatmypWbMmKFu3bopJCREgYGBio+Pr3AdAADApcAw\n",
              "f37IYSX9+jmI+fn5Wrp0qUpKSvToo49We7jqMHnyZCUkJNgdAwCAi0JBQYEyMzPVokWLMj90Q9VV\n",
              "9lhW+czWVVdd5Xk1bNhQkydP1vLlyy8oLAAAwOXqgu/Z2rVrl77//vvqyAIAAHBWM2bM0Lhx4zzv\n",
              "169fL8MwtGbNGs+yCRMmVOn5zcOGDdOSJUuqMeXZVXmerfr163um1P/52Yjz5s2r3lQAAOCiYZqm\n",
              "8t3WPi6vtrdPuY/s6d27t+677z7P+5SUFN10001as2aNevXq5Vm2YMECS3OejyqXrV8/49Db21tN\n",
              "mjThF38AAFzG8t3FCn3zSUv38e2omfL38T3n+i5duujQoUM6cOCAmjZtqjVr1ujJJ5/UX/7yF0lS\n",
              "dna2srKyFBkZqfHjx2v79u0qKChQly5dNH/+fPn6+mrXrl267777lJubq9atW+unn36y9Dv9rMqX\n",
              "EZs3b67AwEAdPHhQ+/btO2PGdgAAgOrm6+ur6OhopaSkqLCwUJmZmRo4cKAOHDiggoICpaSkqGvX\n",
              "rnr44Yd18803KzU1Vdu3b1dpaanmzp0rSbrnnns0duxYpaen6+mnn9batWtrJHuVz2xt3LhRMTEx\n",
              "nucVHjlyRElJSeratWu1hwMAAPar7e2jb0fNtHwfFendu7fWrFmj5s2beyYt79KlizZt2qQ1a9ao\n",
              "d+/emjdvnjZt2uSZiSA/P18Oh0MnTpxQWlqaYmNjJUnt27dX9+7dLfs+v1blsvXzrw+7desm6XT5\n",
              "euihh/TFF19UezgAAGA/wzDKvcRXU3r37q1FixYpKCjIc59Wz549lZKSopSUFC1ZskQvv/yykpKS\n",
              "FBoaWuazJ06cOGN75d0jVp2qfBkxPz/fU7QkKTo6WgUFBdUaCgAA4Lc6d+6so0eP6q233ipTtt55\n",
              "5x1lZ2crKipKQ4YM0XPPPef5EV9OTo4yMjIUEBCgjh07aunSpZKk9PR0rV+/vkZyV7lsXX311Vq9\n",
              "erXn/aeffqqrrrqqWkMBAAD8lo+Pj7p37668vDy1adNGkhQaGqq8vDx1795dPj4+evHFF1W7dm05\n",
              "nU516NBBffr0kcvlkiQtXbpUCxcuVHh4uJ544gn16NGjRnJX+TLiyy+/rDvuuMPzC8TS0lIlJydX\n",
              "ezAAAIDf+vDDD89Ylp2d7fn76quv1vz588/62TZt2mjTpk2WZTuXKpetQ4cOacuWLTpy5IgkqXHj\n",
              "xkpNTa32YAAAAJeDKl9GnD59ugIDAxUeHq7w8HA1bNiwSrO1AgAAXEku+HE9hmGopKSkOrIAAIAa\n",
              "UlpaaneES15lj2GVLyPWqVNHGzduVHR0tCRpw4YNqlOnTlU3AwAAbODr6ysvLy8dOnRIgYGB8vX1\n",
              "rbEpEC4XpmmqqKhIx44dk5eXl3x9y58Wo8pl6y9/+YuGDh3q+RXAnj179O9///v80gIAgBrl5eWl\n",
              "Fi1aKDs7W4cOHbI7ziXN399fQUFB8vIq/0JhlctW165dtXPnTs/d/NHR0apXr955hQQAADXP19dX\n",
              "QUFBcrvd3Ap0nhwOh7y9vSt1VrDKZUuS6tevr4EDB57PRwEAwEXAMAz5+PjIx6fix+TgwlzwDfIA\n",
              "AAA4N8oWAACAhShbAAAAFqJsAQAAWIiyBQAAYCHKFgAAgIUoWwAAABaibAEAAFiIsgUAAGAhyhYA\n",
              "AICFKFsAAAAWomwBAABYiLIFAABgIcoWAACAhSwtW3v27FF0dLRCQ0PVuXNnpaennzGmtLRUjzzy\n",
              "iMLDw9WmTRuNHTtWRUVFnvXPPfec2rZtK6fTqS5duig1NdXKyAAAANXK0rIVHx+vuLg4ffvtt5o6\n",
              "dapiY2PPGLNo0SJt3bpVW7du1c6dO+Xl5aW5c+dKktLS0vS3v/1NqampSktL08SJEzVx4kQrIwMA\n",
              "AFQry8rW0aNHtWXLFo0aNUqSFBMTo/379ysjI6PMuO3bt6tv377y9fWVYRgaMGCA3njjDUmSYRgq\n",
              "Li7WqVOnJEnHjx9X06ZNrYoMAABQ7byt2vD+/ft17bXXytv79C4Mw1BQUJCysrIUEhLiGdepUycl\n",
              "JiZq4sSJql27tt599125XC5J0o033qiHHnpILVq0UIMGDeTn56fPP//8nPssLCxUYWFhmWUlJSXV\n",
              "/+UAAAAqyfYb5GNjY9W/f3/17NlTPXv2VGhoqKegZWZmKjk5WRkZGTpw4IAeeughjRgx4pzbmjNn\n",
              "jurWrVvmxT1eAADATpaVrWbNmik7O1tut1uSZJqmsrKyFBQUVGacYRh66qmntG3bNm3cuFFt27ZV\n",
              "u3btJElJSUlq3769rrvuOknSvffeqw0bNpS5gf7Xpk2bptzc3DKvqKgoq74iAABAhSwrW40aNVJE\n",
              "RITefPNNSaeLU9OmTctcQpSkgoIC5eTkSJK+//57Pfvss5oyZYokqWXLltqwYYNOnjwpSVq1apVC\n",
              "Q0Pl6+t71n36+fkpICCgzMvhcFj1FQEAACpk2T1bkpSYmKjY2FjNnj1bAQEBWrx4sSRp3LhxGjRo\n",
              "kAYNGqTc3Fz16tVLXl5eKi0t1aRJk3T77bdLkoYOHarNmzcrMjJSfn5+uuqqq/TPf/7TysgAAADV\n",
              "yjBN07Q7hJUmT56shIQEu2MAAIArlO03yAMAAFzOKFsAAAAWomwBAABYiLIFAABgIcoWAACAhShb\n",
              "AAAAFqJsAQAAWIiyBQAAYCHKFgAAgIUoWwAAABaibAEAAFiIsgUAAGAhyhYAAICFKFsAAAAWomwB\n",
              "AABYiLIFAABgIcoWAACAhShbAAAAFqJsAQAAWIiyBQAAYCHKFgAAgIUoWwAAABaibAEAAFiIsgUA\n",
              "AGAhyhYAAICFKFsAAAAWomwBAABYiLIFAABgIcoWAACAhShbAAAAFqJsAQAAWMjSsrVnzx5FR0cr\n",
              "NDRUnTt3Vnp6+hljSktL9cgjjyg8PFxt2rTR2LFjVVRU5FmflZWl22+/XWFhYWrbtq3mzZtnZWQA\n",
              "AIBqZWnZio+PV1xcnL799ltNnTpVsbGxZ4xZtGiRtm7dqq1bt2rnzp3y8vLS3LlzJUmmaWro0KEa\n",
              "PXq0du/erR07dujOO++0MjIAAEC1sqxsHT16VFu2bNGoUaMkSTExMdq/f78yMjLKjNu+fbv69u0r\n",
              "X19fGYahAQMG6I033pAkffrpp/Lz89Pw4cM94xs3bmxVZAAAgGpnWdnav3+/rr32Wnl7e0uSDMNQ\n",
              "UFCQsrKyyozr1KmTVq5cqRMnTqi4uFjvvvuuXC6XJGnHjh0KDAzUXXfdpY4dO2ro0KH67rvvzrnP\n",
              "wsJCnThxosyrpKTEqq8IAABQIdtvkI+NjVX//v3Vs2dP9ezZU6GhoZ6C5na79dlnn2n69Onatm2b\n",
              "+vXrV+5lxDlz5qhu3bplXqmpqTX1VQAAAM5gWdlq1qyZsrOz5Xa7JZ2+/yorK0tBQUFlxhmGoaee\n",
              "ekrbtm3Txo0b1bZtW7Vr106SFBQUpI4dO3re33PPPdq6dauKi4vPus9p06YpNze3zCsqKsqqrwgA\n",
              "AFAhy8pWo0aNFBERoTfffFOSlJSUpKZNmyokJKTMuIKCAuXk5EiSvv/+ez377LOaMmWKJGnAgAE6\n",
              "cOCADh48KEn6z3/+oxtuuEE+Pj5n3aefn58CAgLKvBwOh1VfEQAAoELeVm48MTFRsbGxmj17tgIC\n",
              "ArR48WJJ0rhx4zRo0CANGjRIubm56tWrl7y8vFRaWqpJkybp9ttvlyRdddVVWrBggX73u9/JNE3V\n",
              "rVtX77zzjpWRAQAAqpVhmqZpdwgrTZ48WQkJCXbHAAAAVyjbb5AHAAC4nFG2AAAALETZAgAAsBBl\n",
              "CwAAwEKULQAAAAtRtgAAACxE2QIAALAQZQsAAMBClC0AAAALUbYAAAAsRNkCAACwEGULAADAQpQt\n",
              "AAAAC1G2AAAALETZAgAAsBBlCwAAwEKULQAAAAtRtgAAACxE2QIAALAQZQsAAMBClC0AAAALUbYA\n",
              "AAAsRNkCAACwEGULAADAQpQtAAAACxmmaZp2h7DSHXfcoeDg4GrZVklJiVJTUxUVFSWHw1Et27yU\n",
              "cTx+wbEoi+PxC45FWRyPX1h1LJo3b65JkyZV2/Zw4S77slWdTpw4obp16yo3N1cBAQF2x7Edx+MX\n",
              "HIuyOB6/4FiUxfH4BcfiysFlRAAAAAtRtgAAACxE2QIAALAQZasK/Pz89Oc//1l+fn52R7kocDx+\n",
              "wbEoi+PxC45FWRyPX3AsrhzcIA8AAGAhzmwBAABYiLIFAABgIcoWAACAhShblbRnzx5FR0crNDRU\n",
              "nTt3Vnp6ut2RbPPAAw8oODhYhmEoLS3N7ji2Kygo0JAhQxQaGqobb7xRt956qzIyMuyOZZvbbrtN\n",
              "HTp0kNPp1M0336xt27bZHcl2ixcvlmEYWrFihd1RbBUcHKywsDA5nU45nU4tW7bM7ki2Kiws1MSJ\n",
              "E9W6dWu1b99eo0aNsjsSLOJtd4BLRXx8vOLi4hQbG6vly5crNjZWmzdvtjuWLYYNG6YpU6aoe/fu\n",
              "dke5aMTFxWnAgAEyDEPz58/XuHHjtGbNGrtj2eLdd99VvXr1JEn//ve/FRsbq+3bt9sbykYul0uv\n",
              "vfaaunTpYneUi8KyZcvkdDrtjnFReOyxx2QYhr799lsZhqHDhw/bHQkW4cxWJRw9elRbtmzx/F9H\n",
              "TEyM9u/ff8WevejRo4eaNm1qd4yLRq1atTRw4EAZhiFJ6tKli1wul72hbPRz0ZKk3Nxcz3G5EpWW\n",
              "lmrcuHGaN28eP+9HGadOndKiRYs0a9Ysz78jTZo0sTkVrELZqoT9+/fr2muvlbf36ROBhmEoKChI\n",
              "WVlZNifDxWju3LkaPHiw3TFsNXr0aDVr1kzTp0/XG2+8YXcc2yQkJKhbt27q1KmT3VEuGqNHj1b7\n",
              "9u01duxYHTt2zO44ttm7d68aNGig2bNnKzIyUjfffLM+/fRTu2PBIpQtoBrNnj1bGRkZmjNnjt1R\n",
              "bLV06VLt379fzzzzjKZOnWp3HFt88803SkpK0hNPPGF3lIvG559/rq+//lpbt25Vw4YNNWbMGLsj\n",
              "2cbtdmvfvn1q27attmzZopdfflkjRozQkSNH7I4GC1C2KqFZs2bKzs6W2+2WJJmmqaysLAUFBdmc\n",
              "DBeTF154QcnJyfrggw/k7+9vd5yLwpgxY5SSkqIffvjB7ig1bt26dXK5XGrdurWCg4P1xRdfKC4u\n",
              "Tq+++qrd0Wzz838zfXx89OCDD2rdunU2J7JPUFCQvLy89Ic//EGS1LFjR7Vo0UL//e9/bU4GK1C2\n",
              "KqFRo0aKiIjQm2++KUlKSkpS06ZNFRISYnMyXCwSEhL09ttv65NPPilzz9KV5vjx4zp06JDn/YoV\n",
              "K3TNNdeoQYMGNqayxx//+EdlZ2fL5XLJ5XKpS5cuWrhwof74xz/aHc0Wp06d0vHjxz3v3377bXXs\n",
              "2NG+QDZr2LCh+vTpo48++kiSlJmZqczMTN1www02J4MV+DViJSUmJio2NlazZ89WQECAFi9ebHck\n",
              "28THx+v999/X4cOH1a9fP9WpU+eK/bGAJB04cEAPP/ywWrZsqd69e0s6/cyzL7/80uZkNS83N1fD\n",
              "hw9Xfn6+vLy8FBgYqFWrVl3RN8njtCNHjigmJkYlJSUyTVMtW7bU0qVL7Y5lqwULFmjs2LGaOnWq\n",
              "vLy8lJiYqOuvv97uWLAAz0YEAACwEJcRAQAALETZAgAAsBBlCwAAwEKULQDlcjqdysvLq/Lnhg0b\n",
              "piVLllR/IAC4xPBrRADl4mHjAHBhOLMFoFyGYXjmRwoODtaTTz6prl27qkWLFnrmmWc843bt2qXo\n",
              "6Gi1a9dOQ4YM0YkTJzzr8vLyNH78eEVFRalDhw6Ki4tTUVGRdu/eraZNm+q7776TdHpi2P79+6u0\n",
              "tLRGvyMAWImyBaBKjh8/rk2bNmnz5s16/vnndfDgQUnSPffco7Fjxyo9PV1PP/201q5d6/nMww8/\n",
              "rJtvvlmpqanavn27SktLNXfuXIWFhen555/XnXfeqTVr1uiVV17RG2+8IS8v/tME4PLBZUQAVTJy\n",
              "5EhJp2fAbtmypTIzM1WnTh2lpaUpNjZWktS+fXt1797d85kVK1Zo06ZNSkhIkCTl5+fL4XBIku6+\n",
              "+26lpKSoX79++vTTTxUYGFizXwgALEbZAlAltWrV8vztcDg8zwz9rV/PGm+appKSkhQaGnrGOLfb\n",
              "rW+++UYNGjTwnCUDgMsJ5+oBXLCAgAB17NjR8/iV9PR0rV+/3rN+yJAheu655zzFLCcnx/OIp8ce\n",
              "e0xhYWFat26dHnnkkSv60U8ALk+ULQDVYunSpVq4cKHCw8P1xBNPqEePHp51L774omrXri2n06kO\n",
              "HTqoT58+crlcWrVqlT788EO98sorCgkJUUJCgu68804VFBTY+E0AoHrxbEQAAAALcWYLAADAQpQt\n",
              "AAAAC1G2AAAALETZAgAAsBBlCwAAwEKULQAAAAtRtgAAACxE2QIAALAQZQsAAMBClC0AAAAL/T9b\n",
              "KJ9WEr0TiwAAAABJRU5ErkJggg==\n",
              "\">\n",
              "        \n",
              "      </div>\n",
              "      <script></script>\n",
              "      <script type=\"text/javascript\">\n",
              "        (() => {\n",
              "          const chartElement = document.getElementById(\"chart-cefc5ac3-1687-4136-b5ff-165fc62d426e\");\n",
              "          async function getCodeForChartHandler(event) {\n",
              "            const chartCodeResponse =  await google.colab.kernel.invokeFunction(\n",
              "                'getCodeForChart', [\"chart-cefc5ac3-1687-4136-b5ff-165fc62d426e\"], {});\n",
              "            const responseJson = chartCodeResponse.data['application/json'];\n",
              "            await google.colab.notebook.addCell(responseJson.code, 'code');\n",
              "          }\n",
              "          chartElement.onclick = getCodeForChartHandler;\n",
              "        })();\n",
              "      </script>\n",
              "      <style>\n",
              "        .colab-quickchart-chart-with-code  {\n",
              "            display: block;\n",
              "            float: left;\n",
              "            border: 1px solid transparent;\n",
              "        }\n",
              "\n",
              "        .colab-quickchart-chart-with-code:hover {\n",
              "            cursor: pointer;\n",
              "            border: 1px solid #aaa;\n",
              "        }\n",
              "      </style>"
            ]
          },
          "metadata": {}
        }
      ]
    },
    {
      "cell_type": "code",
      "source": [
        "cp.sort_values('Count',ascending=False).plot(kind='bar',x='Day_of_week',y='Count')\n",
        "plt.xlabel('Day of the week')\n",
        "plt.ylabel('No Of Reported Crime')\n",
        "plt.title('No of Reported crimes per day of the week')"
      ],
      "metadata": {
        "colab": {
          "base_uri": "https://localhost:8080/",
          "height": 506
        },
        "id": "m74QQ8oVBfC7",
        "outputId": "0ff7bba5-fdda-4592-bd6f-1886d9092881"
      },
      "execution_count": null,
      "outputs": [
        {
          "output_type": "execute_result",
          "data": {
            "text/plain": [
              "Text(0.5, 1.0, 'No of Reported crimes per day of the week')"
            ]
          },
          "metadata": {},
          "execution_count": 101
        },
        {
          "output_type": "display_data",
          "data": {
            "text/plain": [
              "<Figure size 640x480 with 1 Axes>"
            ],
            "image/png": "[encoded data removed]"
          },
          "metadata": {}
        }
      ]
    },
    {
      "cell_type": "markdown",
      "source": [
        "#RDDs"
      ],
      "metadata": {
        "id": "YlSaj-oTD24s"
      }
    },
    {
      "cell_type": "code",
      "source": [
        "psrdd=sc.textFile('police-station.csv')\n",
        "psrdd.first()"
      ],
      "metadata": {
        "colab": {
          "base_uri": "https://localhost:8080/",
          "height": 35
        },
        "id": "k8vovPUXB0dj",
        "outputId": "596d5260-1f79-44a1-f618-5ffff5d858ea"
      },
      "execution_count": null,
      "outputs": [
        {
          "output_type": "execute_result",
          "data": {
            "text/plain": [
              "'DISTRICT,DISTRICT NAME,ADDRESS,CITY,STATE,ZIP,WEBSITE,PHONE,FAX,TTY,X COORDINATE,Y COORDINATE,LATITUDE,LONGITUDE,LOCATION'"
            ],
            "application/vnd.google.colaboratory.intrinsic+json": {
              "type": "string"
            }
          },
          "metadata": {},
          "execution_count": 103
        }
      ]
    },
    {
      "cell_type": "code",
      "source": [
        "ps_header=psrdd.first()"
      ],
      "metadata": {
        "id": "_4qh_IcgEMXM"
      },
      "execution_count": null,
      "outputs": []
    },
    {
      "cell_type": "code",
      "source": [
        "ps_rest=psrdd.filter(lambda line: line!=ps_header)"
      ],
      "metadata": {
        "id": "VIOTtMlEEUlm"
      },
      "execution_count": null,
      "outputs": []
    },
    {
      "cell_type": "code",
      "source": [
        "ps_rest.first()"
      ],
      "metadata": {
        "colab": {
          "base_uri": "https://localhost:8080/",
          "height": 53
        },
        "id": "9SQ3JIgpEoFC",
        "outputId": "1f8aede5-6e31-4436-ea48-ab762cbf21f2"
      },
      "execution_count": null,
      "outputs": [
        {
          "output_type": "execute_result",
          "data": {
            "text/plain": [
              "'Headquarters,Headquarters,3510 S Michigan Ave,Chicago,IL,60653,http://home.chicagopolice.org,,,,1177731.401,1881697.404,41.83070169,-87.62339535,\"(41.8307016873, -87.6233953459)\"'"
            ],
            "application/vnd.google.colaboratory.intrinsic+json": {
              "type": "string"
            }
          },
          "metadata": {},
          "execution_count": 106
        }
      ]
    },
    {
      "cell_type": "markdown",
      "source": [
        "How many police Station are there"
      ],
      "metadata": {
        "id": "1atTLCbaEr0j"
      }
    },
    {
      "cell_type": "code",
      "source": [
        "ps_rest.map(lambda line:line.split(',')).count()"
      ],
      "metadata": {
        "colab": {
          "base_uri": "https://localhost:8080/"
        },
        "id": "BBQqaRVEEp3a",
        "outputId": "ec21a34b-5eb5-46a1-c693-bdd977c1bcfb"
      },
      "execution_count": null,
      "outputs": [
        {
          "output_type": "execute_result",
          "data": {
            "text/plain": [
              "24"
            ]
          },
          "metadata": {},
          "execution_count": 109
        }
      ]
    },
    {
      "cell_type": "code",
      "source": [
        "ps_rest.filter(lambda line:line.split(',')[0]=='7').map(lambda line: (line.split(',')[0],\n",
        "                  line.split(',')[1],\n",
        "                  line.split(',')[2],\n",
        "                  line.split(',')[5],\n",
        "\n",
        "                  )).collect()"
      ],
      "metadata": {
        "colab": {
          "base_uri": "https://localhost:8080/"
        },
        "id": "eREOoxuLE0W_",
        "outputId": "a414685e-f8e7-47ec-efc8-e61a56726b4b"
      },
      "execution_count": null,
      "outputs": [
        {
          "output_type": "execute_result",
          "data": {
            "text/plain": [
              "[('7', 'Englewood', '1438 W 63rd St', '60636')]"
            ]
          },
          "metadata": {},
          "execution_count": 112
        }
      ]
    },
    {
      "cell_type": "markdown",
      "source": [
        "Display district id, district name address and zip code, for station 10 and 11"
      ],
      "metadata": {
        "id": "NV0SrhdvHkCR"
      }
    },
    {
      "cell_type": "code",
      "source": [
        "(ps_rest.filter(lambda line: line.split(',')[0] in ['10','11']).\n",
        "map(lambda line: (line.split(',')[1],\n",
        "                  line.split(',')[2],\n",
        "                   line.split(',')[5]\n",
        "\n",
        "                  )).collect())"
      ],
      "metadata": {
        "colab": {
          "base_uri": "https://localhost:8080/"
        },
        "id": "uXC1NJoQHY9A",
        "outputId": "6a3e7b86-a60a-4bed-d434-1c91af93e4c3"
      },
      "execution_count": null,
      "outputs": [
        {
          "output_type": "execute_result",
          "data": {
            "text/plain": [
              "[('Ogden', '3315 W Ogden Ave', '60623'),\n",
              " ('Harrison', '3151 W Harrison St', '60612')]"
            ]
          },
          "metadata": {},
          "execution_count": 114
        }
      ]
    },
    {
      "cell_type": "code",
      "source": [],
      "metadata": {
        "id": "-_Uk9BZiIMUH"
      },
      "execution_count": null,
      "outputs": []
    }
  ]
}